{
 "cells": [
  {
   "cell_type": "code",
   "execution_count": 31,
   "metadata": {
    "ExecuteTime": {
     "end_time": "2018-08-24T01:57:33.816933Z",
     "start_time": "2018-08-24T01:57:33.793272Z"
    }
   },
   "outputs": [],
   "source": [
    "import pandas as pd\n",
    "import random\n",
    "from time import sleep\n",
    "import warnings\n",
    "warnings.filterwarnings(\"ignore\",category=DeprecationWarning)\n",
    "import numpy as np\n",
    "import nltk\n",
    "import os\n",
    "from sklearn import datasets\n",
    "import pickle\n",
    "from nltk.tokenize import word_tokenize\n",
    "from sklearn.decomposition import NMF, TruncatedSVD\n",
    "import matplotlib.pyplot as plt\n",
    "import seaborn as sns\n",
    "from sklearn.decomposition import LatentDirichletAllocation\n",
    "from sklearn.neighbors import NearestNeighbors\n",
    "from sklearn.cross_validation import train_test_split, cross_val_score\n",
    "from sklearn.linear_model import RidgeCV\n",
    "from sklearn.pipeline import make_pipeline, Pipeline\n",
    "from sklearn.preprocessing import PolynomialFeatures, StandardScaler\n",
    "from sklearn.neighbors import KNeighborsClassifier\n",
    "from sklearn.linear_model import LogisticRegression\n",
    "from sklearn.metrics import accuracy_score, recall_score, precision_score, f1_score, roc_auc_score, roc_curve, auc, fbeta_score\n",
    "from sklearn.model_selection import learning_curve, KFold, GridSearchCV, cross_val_score\n",
    "from sklearn.naive_bayes import GaussianNB, MultinomialNB\n",
    "from sklearn.svm import SVC\n",
    "from sklearn.tree import DecisionTreeClassifier\n",
    "from sklearn.ensemble import RandomForestClassifier, GradientBoostingClassifier\n",
    "from sklearn.dummy import DummyClassifier\n",
    "from collections import Counter\n",
    "from sklearn.feature_extraction.text import TfidfTransformer, CountVectorizer, TfidfVectorizer\n",
    "from sklearn.feature_extraction import text\n",
    "from sklearn.preprocessing import normalize\n",
    "import re\n",
    "from unidecode import unidecode\n",
    "\n",
    "import matplotlib.style as style\n",
    "%matplotlib inline\n",
    "plt.style.use('ggplot')"
   ]
  },
  {
   "cell_type": "code",
   "execution_count": 32,
   "metadata": {
    "ExecuteTime": {
     "end_time": "2018-08-24T01:57:33.835404Z",
     "start_time": "2018-08-24T01:57:33.818688Z"
    }
   },
   "outputs": [],
   "source": [
    "with open('data/cleaned_df.pkl', 'rb') as picklefile:\n",
    "    df = pickle.load(picklefile)"
   ]
  },
  {
   "cell_type": "code",
   "execution_count": 33,
   "metadata": {
    "ExecuteTime": {
     "end_time": "2018-08-24T01:57:33.848000Z",
     "start_time": "2018-08-24T01:57:33.837215Z"
    }
   },
   "outputs": [
    {
     "data": {
      "text/html": [
       "<div>\n",
       "<style scoped>\n",
       "    .dataframe tbody tr th:only-of-type {\n",
       "        vertical-align: middle;\n",
       "    }\n",
       "\n",
       "    .dataframe tbody tr th {\n",
       "        vertical-align: top;\n",
       "    }\n",
       "\n",
       "    .dataframe thead th {\n",
       "        text-align: right;\n",
       "    }\n",
       "</style>\n",
       "<table border=\"1\" class=\"dataframe\">\n",
       "  <thead>\n",
       "    <tr style=\"text-align: right;\">\n",
       "      <th></th>\n",
       "      <th>song_owner</th>\n",
       "      <th>song_title</th>\n",
       "      <th>song_element</th>\n",
       "      <th>verse</th>\n",
       "      <th>artist</th>\n",
       "    </tr>\n",
       "  </thead>\n",
       "  <tbody>\n",
       "    <tr>\n",
       "      <th>0</th>\n",
       "      <td>Childish Gambino</td>\n",
       "      <td>This Is America</td>\n",
       "      <td>[Bridge: Childish Gambino &amp; Young Thug]</td>\n",
       "      <td>We just wanna party, Party just for you, We ju...</td>\n",
       "      <td>Childish Gambino</td>\n",
       "    </tr>\n",
       "    <tr>\n",
       "      <th>1</th>\n",
       "      <td>Childish Gambino</td>\n",
       "      <td>This Is America</td>\n",
       "      <td>[Chorus: Childish Gambino]</td>\n",
       "      <td>This is America, Don't catch you slippin' now,...</td>\n",
       "      <td>Childish Gambino</td>\n",
       "    </tr>\n",
       "    <tr>\n",
       "      <th>2</th>\n",
       "      <td>Childish Gambino</td>\n",
       "      <td>This Is America</td>\n",
       "      <td>[Verse 1: Childish Gambino, Blocboy JB, Slim J...</td>\n",
       "      <td>This is America (skrrt, skrrt, woo), Don't cat...</td>\n",
       "      <td>Childish Gambino</td>\n",
       "    </tr>\n",
       "    <tr>\n",
       "      <th>3</th>\n",
       "      <td>Childish Gambino</td>\n",
       "      <td>This Is America</td>\n",
       "      <td>[Refrain: Choir &amp; Childish Gambino]</td>\n",
       "      <td>Ooh-ooh-ooh-ooh-ooh, tell somebody, You go tel...</td>\n",
       "      <td>Childish Gambino</td>\n",
       "    </tr>\n",
       "    <tr>\n",
       "      <th>4</th>\n",
       "      <td>Childish Gambino</td>\n",
       "      <td>This Is America</td>\n",
       "      <td>[Chorus: Childish Gambino, Slim Jxmmi &amp; Young ...</td>\n",
       "      <td>This is America (woo, ayy), Don't catch you sl...</td>\n",
       "      <td>Childish Gambino</td>\n",
       "    </tr>\n",
       "  </tbody>\n",
       "</table>\n",
       "</div>"
      ],
      "text/plain": [
       "         song_owner       song_title  \\\n",
       "0  Childish Gambino  This Is America   \n",
       "1  Childish Gambino  This Is America   \n",
       "2  Childish Gambino  This Is America   \n",
       "3  Childish Gambino  This Is America   \n",
       "4  Childish Gambino  This Is America   \n",
       "\n",
       "                                        song_element  \\\n",
       "0            [Bridge: Childish Gambino & Young Thug]   \n",
       "1                         [Chorus: Childish Gambino]   \n",
       "2  [Verse 1: Childish Gambino, Blocboy JB, Slim J...   \n",
       "3                [Refrain: Choir & Childish Gambino]   \n",
       "4  [Chorus: Childish Gambino, Slim Jxmmi & Young ...   \n",
       "\n",
       "                                               verse            artist  \n",
       "0  We just wanna party, Party just for you, We ju...  Childish Gambino  \n",
       "1  This is America, Don't catch you slippin' now,...  Childish Gambino  \n",
       "2  This is America (skrrt, skrrt, woo), Don't cat...  Childish Gambino  \n",
       "3  Ooh-ooh-ooh-ooh-ooh, tell somebody, You go tel...  Childish Gambino  \n",
       "4  This is America (woo, ayy), Don't catch you sl...  Childish Gambino  "
      ]
     },
     "execution_count": 33,
     "metadata": {},
     "output_type": "execute_result"
    }
   ],
   "source": [
    "df.head()"
   ]
  },
  {
   "cell_type": "code",
   "execution_count": 34,
   "metadata": {
    "ExecuteTime": {
     "end_time": "2018-08-24T01:57:33.856270Z",
     "start_time": "2018-08-24T01:57:33.850226Z"
    }
   },
   "outputs": [],
   "source": [
    "model_df = df.copy()\n",
    "\n",
    "model_df = model_df[model_df['artist'] == 'Childish Gambino']"
   ]
  },
  {
   "cell_type": "code",
   "execution_count": 35,
   "metadata": {
    "ExecuteTime": {
     "end_time": "2018-08-24T01:57:34.103834Z",
     "start_time": "2018-08-24T01:57:33.858288Z"
    }
   },
   "outputs": [],
   "source": [
    "model_df['verse_words'] = model_df['verse'].copy()\n",
    "model_df['verse_words'] = model_df['verse_words'].str.lower()\n",
    "model_df['verse_words'] = model_df['verse_words'].apply(lambda x: x.replace(',',''))\n",
    "model_df['verse_words'] = model_df['verse_words'].apply(lambda x: x.split(' '))"
   ]
  },
  {
   "cell_type": "code",
   "execution_count": 36,
   "metadata": {
    "ExecuteTime": {
     "end_time": "2018-08-24T01:57:34.122027Z",
     "start_time": "2018-08-24T01:57:34.105378Z"
    }
   },
   "outputs": [
    {
     "data": {
      "text/html": [
       "<div>\n",
       "<style scoped>\n",
       "    .dataframe tbody tr th:only-of-type {\n",
       "        vertical-align: middle;\n",
       "    }\n",
       "\n",
       "    .dataframe tbody tr th {\n",
       "        vertical-align: top;\n",
       "    }\n",
       "\n",
       "    .dataframe thead th {\n",
       "        text-align: right;\n",
       "    }\n",
       "</style>\n",
       "<table border=\"1\" class=\"dataframe\">\n",
       "  <thead>\n",
       "    <tr style=\"text-align: right;\">\n",
       "      <th></th>\n",
       "      <th>song_owner</th>\n",
       "      <th>song_title</th>\n",
       "      <th>song_element</th>\n",
       "      <th>verse</th>\n",
       "      <th>artist</th>\n",
       "      <th>verse_words</th>\n",
       "    </tr>\n",
       "  </thead>\n",
       "  <tbody>\n",
       "    <tr>\n",
       "      <th>0</th>\n",
       "      <td>Childish Gambino</td>\n",
       "      <td>This Is America</td>\n",
       "      <td>[Bridge: Childish Gambino &amp; Young Thug]</td>\n",
       "      <td>We just wanna party, Party just for you, We ju...</td>\n",
       "      <td>Childish Gambino</td>\n",
       "      <td>[we, just, wanna, party, party, just, for, you...</td>\n",
       "    </tr>\n",
       "    <tr>\n",
       "      <th>1</th>\n",
       "      <td>Childish Gambino</td>\n",
       "      <td>This Is America</td>\n",
       "      <td>[Chorus: Childish Gambino]</td>\n",
       "      <td>This is America, Don't catch you slippin' now,...</td>\n",
       "      <td>Childish Gambino</td>\n",
       "      <td>[this, is, america, don't, catch, you, slippin...</td>\n",
       "    </tr>\n",
       "    <tr>\n",
       "      <th>2</th>\n",
       "      <td>Childish Gambino</td>\n",
       "      <td>This Is America</td>\n",
       "      <td>[Verse 1: Childish Gambino, Blocboy JB, Slim J...</td>\n",
       "      <td>This is America (skrrt, skrrt, woo), Don't cat...</td>\n",
       "      <td>Childish Gambino</td>\n",
       "      <td>[this, is, america, (skrrt, skrrt, woo), don't...</td>\n",
       "    </tr>\n",
       "    <tr>\n",
       "      <th>3</th>\n",
       "      <td>Childish Gambino</td>\n",
       "      <td>This Is America</td>\n",
       "      <td>[Refrain: Choir &amp; Childish Gambino]</td>\n",
       "      <td>Ooh-ooh-ooh-ooh-ooh, tell somebody, You go tel...</td>\n",
       "      <td>Childish Gambino</td>\n",
       "      <td>[ooh-ooh-ooh-ooh-ooh, tell, somebody, you, go,...</td>\n",
       "    </tr>\n",
       "    <tr>\n",
       "      <th>4</th>\n",
       "      <td>Childish Gambino</td>\n",
       "      <td>This Is America</td>\n",
       "      <td>[Chorus: Childish Gambino, Slim Jxmmi &amp; Young ...</td>\n",
       "      <td>This is America (woo, ayy), Don't catch you sl...</td>\n",
       "      <td>Childish Gambino</td>\n",
       "      <td>[this, is, america, (woo, ayy), don't, catch, ...</td>\n",
       "    </tr>\n",
       "  </tbody>\n",
       "</table>\n",
       "</div>"
      ],
      "text/plain": [
       "         song_owner       song_title  \\\n",
       "0  Childish Gambino  This Is America   \n",
       "1  Childish Gambino  This Is America   \n",
       "2  Childish Gambino  This Is America   \n",
       "3  Childish Gambino  This Is America   \n",
       "4  Childish Gambino  This Is America   \n",
       "\n",
       "                                        song_element  \\\n",
       "0            [Bridge: Childish Gambino & Young Thug]   \n",
       "1                         [Chorus: Childish Gambino]   \n",
       "2  [Verse 1: Childish Gambino, Blocboy JB, Slim J...   \n",
       "3                [Refrain: Choir & Childish Gambino]   \n",
       "4  [Chorus: Childish Gambino, Slim Jxmmi & Young ...   \n",
       "\n",
       "                                               verse            artist  \\\n",
       "0  We just wanna party, Party just for you, We ju...  Childish Gambino   \n",
       "1  This is America, Don't catch you slippin' now,...  Childish Gambino   \n",
       "2  This is America (skrrt, skrrt, woo), Don't cat...  Childish Gambino   \n",
       "3  Ooh-ooh-ooh-ooh-ooh, tell somebody, You go tel...  Childish Gambino   \n",
       "4  This is America (woo, ayy), Don't catch you sl...  Childish Gambino   \n",
       "\n",
       "                                         verse_words  \n",
       "0  [we, just, wanna, party, party, just, for, you...  \n",
       "1  [this, is, america, don't, catch, you, slippin...  \n",
       "2  [this, is, america, (skrrt, skrrt, woo), don't...  \n",
       "3  [ooh-ooh-ooh-ooh-ooh, tell, somebody, you, go,...  \n",
       "4  [this, is, america, (woo, ayy), don't, catch, ...  "
      ]
     },
     "execution_count": 36,
     "metadata": {},
     "output_type": "execute_result"
    }
   ],
   "source": [
    "model_df.head()"
   ]
  },
  {
   "cell_type": "code",
   "execution_count": 37,
   "metadata": {
    "ExecuteTime": {
     "end_time": "2018-08-24T01:57:34.534318Z",
     "start_time": "2018-08-24T01:57:34.123838Z"
    }
   },
   "outputs": [],
   "source": [
    "from nltk.tokenize import word_tokenize\n",
    "model_df['tokenize_verse'] = model_df['verse'].copy()\n",
    "model_df['tokenize_verse'] = model_df['tokenize_verse'].str.lower()\n",
    "model_df['tokenize_verse'] = model_df['tokenize_verse'].apply(lambda x: word_tokenize(x))"
   ]
  },
  {
   "cell_type": "code",
   "execution_count": 38,
   "metadata": {
    "ExecuteTime": {
     "end_time": "2018-08-24T01:57:34.590983Z",
     "start_time": "2018-08-24T01:57:34.536223Z"
    }
   },
   "outputs": [],
   "source": [
    "model_df['verse'] = model_df['verse'].str.lower()\n",
    "model_df['verse'] = model_df['verse'].apply(lambda x: x.replace(\"'\",''))\n",
    "model_df['verse'] = model_df['verse'].apply(lambda x: \"\".join([c if c.isalnum() else \" \" for c in x ]))\n",
    "model_df['verse'] = model_df['verse'].apply(lambda x: x.replace('  ',' '))"
   ]
  },
  {
   "cell_type": "code",
   "execution_count": 39,
   "metadata": {
    "ExecuteTime": {
     "end_time": "2018-08-24T01:57:34.737670Z",
     "start_time": "2018-08-24T01:57:34.592817Z"
    }
   },
   "outputs": [
    {
     "data": {
      "text/plain": [
       "0    we just wanna party party just for you we just...\n",
       "1    this is america dont catch you slippin now don...\n",
       "2    this is america dont catch you slippin now loo...\n",
       "3    tell somebody you go tell somebody grandma tol...\n",
       "4    this is america dont catch you slippin now don...\n",
       "Name: verse, dtype: object"
      ]
     },
     "execution_count": 39,
     "metadata": {},
     "output_type": "execute_result"
    }
   ],
   "source": [
    "stopwords = [\"yeah\", \"uh\", \"huh\", \"aw\", \"oh\", \"la\", \"ayy\",\n",
    "            \"na\", \"ha\", \"ay\", \"skrrt\",\n",
    "            \"em\", \"bla\", \"woo\", \"wu\", \"ya\", \"wala\", \"woop\", \"wrarrr\", \"ooh\",\n",
    "            \"ba\", \"duh\", \"du\", \"1\", \"2\", \"3\", \"4\" ,\"5\" ,\"6\", \"7\", \"8\", \"9\", \"0\"]\n",
    "\n",
    "for index, row in model_df.iterrows():\n",
    "    querywords = row['verse'].split()\n",
    "\n",
    "    resultwords  = [word for word in querywords if word.lower() not in stopwords]\n",
    "    row['verse'] = ' '.join(resultwords)\n",
    "\n",
    "model_df.verse[:5]"
   ]
  },
  {
   "cell_type": "code",
   "execution_count": 40,
   "metadata": {
    "ExecuteTime": {
     "end_time": "2018-08-24T01:57:34.742938Z",
     "start_time": "2018-08-24T01:57:34.739861Z"
    }
   },
   "outputs": [],
   "source": [
    "verses = list(model_df.verse.values)"
   ]
  },
  {
   "cell_type": "code",
   "execution_count": 41,
   "metadata": {
    "ExecuteTime": {
     "end_time": "2018-08-24T01:57:34.752030Z",
     "start_time": "2018-08-24T01:57:34.744661Z"
    }
   },
   "outputs": [
    {
     "data": {
      "text/plain": [
       "['we just wanna party party just for you we just want the money money just for you i know you wanna party party just for free girl you got me dancin girl you got me dancin dance and shake the frame we just wanna party party just for you we just want the money money just for you you i know you wanna party party just for free girl you got me dancin girl you got me dancin dance and shake the frame',\n",
       " 'this is america dont catch you slippin now dont catch you slippin now look what im whippin now this is america dont catch you slippin now dont catch you slippin now look what im whippin now',\n",
       " 'this is america dont catch you slippin now look how im livin now police be trippin now this is america guns in my area word my area i got the strap i gotta carry ima go into this ugh this is guerilla ima go get the bag or ima get the pad im so cold like im so dope like we gon blow like straight up',\n",
       " 'tell somebody you go tell somebody grandma told me get your money black man get your black man get your money black man get your black man get your money black man get your black man get your money black man get your black man black man',\n",
       " 'this is america dont catch you slippin now dont catch you slippin now dont catch you slippin now woah look what im whippin now slime this is america dont catch you slippin now woah dont catch you slippin now look what im whippin now',\n",
       " 'look how im geekin out hey im so fitted im so fitted im on gucci im on gucci im so pretty im gon get it im gon get it watch me move blaow this a celly thats a tool on my kodak black know that know that hold on get it get it get it work it 21 hunnid bands hunnid bands hunnid bands hunnid bands contraband contraband contraband contraband i got the plug in oaxaca woah they gonna find you like blocka blaow',\n",
       " 'tell somebody america i just checked my following list and you go tell somebody you mothafuckas owe me grandma told me get your money black man black man get your money black man black man get your money black man get your black man get your money black man get your black man black man get down tell somebody you go tell somebody grandma told me get your money get your money black man black man get your money black man black man get your money black man black man get your money black man black man black man',\n",
       " 'daylight i wake up feeling like you wont play right i used to know but now that shit dont feel right it made me put away my pride so long you made a nigga wait for some so long you make it hard for boy like that to go on im wishing i could make this mine',\n",
       " 'if you want it you can have it if you need it we can make it if you want it you can have it',\n",
       " 'but stay woke niggas creepin they gon find you gon catch you sleepin now stay woke niggas creepin now dont you close your eyes']"
      ]
     },
     "execution_count": 41,
     "metadata": {},
     "output_type": "execute_result"
    }
   ],
   "source": [
    "verses[:10]"
   ]
  },
  {
   "cell_type": "code",
   "execution_count": 42,
   "metadata": {
    "ExecuteTime": {
     "end_time": "2018-08-24T01:57:34.758716Z",
     "start_time": "2018-08-24T01:57:34.754027Z"
    }
   },
   "outputs": [
    {
     "data": {
      "text/plain": [
       "'we just wanna party party just for you we just want the money money just for you i know you wanna pa'"
      ]
     },
     "execution_count": 42,
     "metadata": {},
     "output_type": "execute_result"
    }
   ],
   "source": [
    "all_verses_all_rappers = ','.join(verses)\n",
    "\n",
    "all_verses_all_rappers[:100]"
   ]
  },
  {
   "cell_type": "code",
   "execution_count": 43,
   "metadata": {
    "ExecuteTime": {
     "end_time": "2018-08-24T01:57:34.762237Z",
     "start_time": "2018-08-24T01:57:34.760111Z"
    }
   },
   "outputs": [],
   "source": [
    "file = all_verses_all_rappers"
   ]
  },
  {
   "cell_type": "code",
   "execution_count": 44,
   "metadata": {
    "ExecuteTime": {
     "end_time": "2018-08-24T01:57:34.769353Z",
     "start_time": "2018-08-24T01:57:34.764230Z"
    }
   },
   "outputs": [
    {
     "name": "stdout",
     "output_type": "stream",
     "text": [
      "file_len = 360644\n"
     ]
    }
   ],
   "source": [
    "# Read in text and change unicode characters to ASCII\n",
    "import unidecode\n",
    "import string\n",
    "import random\n",
    "import re\n",
    "\n",
    "all_characters = string.printable\n",
    "n_characters = len(all_characters)\n",
    "\n",
    "file_len = len(file)\n",
    "print(f'file_len = {file_len}')"
   ]
  },
  {
   "cell_type": "code",
   "execution_count": 45,
   "metadata": {
    "ExecuteTime": {
     "end_time": "2018-08-24T01:57:34.776282Z",
     "start_time": "2018-08-24T01:57:34.772358Z"
    }
   },
   "outputs": [
    {
     "name": "stdout",
     "output_type": "stream",
     "text": [
      " me tears are gonna fall rolling in the deep youre gonna wish you never had met me tears are gonna fall rolling in the deep,the scars of your love remind me of us they keep me thinking that we almost had it all the scars of your love they leave me breathless i cant help feeling we couldve had it,swag you think that i keep fucking other girls you know im not come back to me like hipsters to blogspot\n"
     ]
    }
   ],
   "source": [
    "chunk_len = 400\n",
    "\n",
    "def random_chunk():\n",
    "    start_index = random.randint(0, file_len - chunk_len)\n",
    "    end_index = start_index + chunk_len + 1\n",
    "    return file[start_index:end_index]\n",
    "\n",
    "print(random_chunk())"
   ]
  },
  {
   "cell_type": "code",
   "execution_count": 46,
   "metadata": {
    "ExecuteTime": {
     "end_time": "2018-08-24T01:57:34.792556Z",
     "start_time": "2018-08-24T01:57:34.778120Z"
    }
   },
   "outputs": [],
   "source": [
    "import torch\n",
    "import torch.nn as nn\n",
    "from torch.autograd import Variable\n",
    "import torch.nn.functional as F\n",
    "\n",
    "class RNN(nn.Module):\n",
    "    def __init__(self, input_size, hidden_size, output_size, n_layers=1):\n",
    "        super(RNN, self).__init__()\n",
    "        self.input_size = input_size\n",
    "        self.hidden_size = hidden_size\n",
    "        self.output_size = output_size\n",
    "        self.n_layers = n_layers\n",
    "        \n",
    "        self.encoder = nn.Embedding(input_size, hidden_size)\n",
    "        self.gru = nn.GRU(hidden_size, hidden_size, n_layers)\n",
    "        self.decoder = nn.Linear(hidden_size, output_size)\n",
    "        \n",
    "    def forward(self, input, hidden):\n",
    "        output = self.encoder(input.view(1, -1))\n",
    "        output, hidden = self.gru(output.view(1, 1, -1), hidden)\n",
    "        output = self.decoder(output.view(1, -1))\n",
    "        \n",
    "        return output, hidden\n",
    "    \n",
    "    def init_hidden(self):\n",
    "        return Variable(torch.randn(self.n_layers, 1, self.hidden_size))"
   ]
  },
  {
   "cell_type": "code",
   "execution_count": 47,
   "metadata": {
    "ExecuteTime": {
     "end_time": "2018-08-24T01:57:34.801444Z",
     "start_time": "2018-08-24T01:57:34.794686Z"
    }
   },
   "outputs": [
    {
     "name": "stdout",
     "output_type": "stream",
     "text": [
      "tensor([48, 14, 29, 18, 28,  0,  1,  2,  3, 10, 11, 12, 35, 36, 37, 38])\n"
     ]
    }
   ],
   "source": [
    "def char2tensor(string):\n",
    "    tensor = torch.zeros(len(string)).long()\n",
    "    for char in range(len(string)):\n",
    "        if string[char] in all_characters:\n",
    "            tensor[char] = all_characters.index(string[char])\n",
    "        else:\n",
    "            tensor[char] = 94 #predict space if character unknown\n",
    "        \n",
    "    return Variable(tensor)\n",
    "\n",
    "# Let's see it in action.\n",
    "print(char2tensor('Metis0123abczABC'))"
   ]
  },
  {
   "cell_type": "code",
   "execution_count": 48,
   "metadata": {
    "ExecuteTime": {
     "end_time": "2018-08-24T01:57:34.807189Z",
     "start_time": "2018-08-24T01:57:34.803700Z"
    }
   },
   "outputs": [],
   "source": [
    "def random_training_set():\n",
    "    chunk = random_chunk()\n",
    "    inp = char2tensor(chunk[:-1])\n",
    "    target = char2tensor(chunk[1:])\n",
    "    return inp, target"
   ]
  },
  {
   "cell_type": "code",
   "execution_count": 49,
   "metadata": {
    "ExecuteTime": {
     "end_time": "2018-08-24T01:57:34.820109Z",
     "start_time": "2018-08-24T01:57:34.809191Z"
    }
   },
   "outputs": [],
   "source": [
    "def evaluate(model, prime_str='A', predict_len=100, temperature=0.8):\n",
    "    \n",
    "    hidden = model.init_hidden()\n",
    "    prime_input = char2tensor(prime_str)\n",
    "    predicted = prime_str\n",
    "    \n",
    "    # use priming string to build up hidden state\n",
    "    \n",
    "    for p in range(len(prime_str) - 1):\n",
    "        _, hidden = model(prime_input[p], hidden)\n",
    "    inp = prime_input[-1]\n",
    "    \n",
    "    for p in range(predict_len):\n",
    "        output, hidden = model(inp, hidden)\n",
    "        \n",
    "        # Sample from the network as a multinomial distribution\n",
    "        output_dist = output.data.view(-1).div(temperature).exp()\n",
    "        top_i = torch.multinomial(output_dist, 1)[0]\n",
    "        \n",
    "        # Add predicted character to string and use as next input\n",
    "        predicted_char = all_characters[top_i]\n",
    "        predicted += predicted_char\n",
    "        inp = char2tensor(predicted_char)\n",
    "        \n",
    "    return predicted"
   ]
  },
  {
   "cell_type": "code",
   "execution_count": 50,
   "metadata": {
    "ExecuteTime": {
     "end_time": "2018-08-24T01:57:34.826387Z",
     "start_time": "2018-08-24T01:57:34.821912Z"
    }
   },
   "outputs": [],
   "source": [
    "# helper function\n",
    "import time, math\n",
    "\n",
    "def time_since(since):\n",
    "    s = time.time() - since\n",
    "    m = math.floor(s/60)\n",
    "    s -= m*60\n",
    "    return '%dm %ds' % (m, s)"
   ]
  },
  {
   "cell_type": "code",
   "execution_count": 51,
   "metadata": {
    "ExecuteTime": {
     "end_time": "2018-08-24T01:57:34.833914Z",
     "start_time": "2018-08-24T01:57:34.828522Z"
    }
   },
   "outputs": [],
   "source": [
    "# The actual training part\n",
    "def train(inp, target):\n",
    "    hidden = model.init_hidden()\n",
    "    model.zero_grad()\n",
    "    loss = 0\n",
    "\n",
    "    for char in range(chunk_len):\n",
    "        output, hidden = model(inp[char], hidden)\n",
    "        loss += criterion(output, target[char].unsqueeze(0))\n",
    "\n",
    "    loss.backward()\n",
    "    model_optimizer.step()\n",
    "\n",
    "    return loss.data.item() / chunk_len"
   ]
  },
  {
   "cell_type": "code",
   "execution_count": 52,
   "metadata": {
    "ExecuteTime": {
     "end_time": "2018-08-24T01:57:34.840698Z",
     "start_time": "2018-08-24T01:57:34.836749Z"
    }
   },
   "outputs": [],
   "source": [
    "# parameters\n",
    "# n_epochs = 1000\n",
    "# print_every = 100\n",
    "# plot_every = 10\n",
    "# hidden_size = 256\n",
    "# n_layers = 2\n",
    "# learning_rate = 0.001\n",
    "\n",
    "# # model declaration\n",
    "# model = RNN(n_characters, hidden_size, n_characters, n_layers)\n",
    "# model_optimizer = torch.optim.Adam(model.parameters(), lr=learning_rate)\n",
    "# criterion = nn.CrossEntropyLoss()\n",
    "\n",
    "# start = time.time()\n",
    "# all_losses = []\n",
    "# loss_avg = 0\n",
    "\n",
    "# for epoch in range(1, n_epochs + 1):\n",
    "#     loss = train(*random_training_set())       \n",
    "#     loss_avg += loss\n",
    "\n",
    "#     if epoch % print_every == 0:\n",
    "#         print('[%s (%d %d%%) %.4f]' % (time_since(start), epoch, epoch / n_epochs * 100, loss))\n",
    "#         print(evaluate(model, 'A ', 100), '\\n')\n",
    "\n",
    "#     if epoch % plot_every == 0:\n",
    "#         all_losses.append(loss_avg / plot_every)\n",
    "#         loss_avg = 0"
   ]
  },
  {
   "cell_type": "code",
   "execution_count": 53,
   "metadata": {
    "ExecuteTime": {
     "end_time": "2018-08-24T01:57:34.845584Z",
     "start_time": "2018-08-24T01:57:34.842584Z"
    }
   },
   "outputs": [],
   "source": [
    "# import matplotlib.pyplot as plt\n",
    "# import matplotlib.ticker as ticker\n",
    "# %matplotlib inline\n",
    "\n",
    "# plt.figure()\n",
    "# plt.plot(all_losses)"
   ]
  },
  {
   "cell_type": "code",
   "execution_count": 54,
   "metadata": {
    "ExecuteTime": {
     "end_time": "2018-08-24T01:57:34.849347Z",
     "start_time": "2018-08-24T01:57:34.847263Z"
    }
   },
   "outputs": [],
   "source": [
    "# with open('models/childish_rnn_generator.pkl', 'wb') as picklefile:\n",
    "#     pickle.dump(model, picklefile)"
   ]
  },
  {
   "cell_type": "code",
   "execution_count": 55,
   "metadata": {
    "ExecuteTime": {
     "end_time": "2018-08-24T01:57:34.978361Z",
     "start_time": "2018-08-24T01:57:34.851591Z"
    }
   },
   "outputs": [
    {
     "name": "stdout",
     "output_type": "stream",
     "text": [
      "To be or not to be: one great a hand i she like a can some and i m do but in paint and my man but i so matter and that say and my stand me and that show i stay baby i some im now it like got that the brown i got a mack l\n"
     ]
    }
   ],
   "source": [
    "# Evaluate model from this notebook\n",
    "print(evaluate(model, 'To be or not to be: ', predict_len=200, temperature=0.5))"
   ]
  },
  {
   "cell_type": "code",
   "execution_count": 56,
   "metadata": {
    "ExecuteTime": {
     "end_time": "2018-08-24T01:57:35.101904Z",
     "start_time": "2018-08-24T01:57:34.980314Z"
    }
   },
   "outputs": [
    {
     "name": "stdout",
     "output_type": "stream",
     "text": [
      "I miss you girl come back my dont and shine tryin the rapper unda stund the part not the part be in my have a got that so time something and i am i love im ablanger baby man i be time i dont man momin rapper money some and i d\n"
     ]
    }
   ],
   "source": [
    "# Evaluate model from this notebook\n",
    "print(evaluate(model, 'I miss you girl come back ', predict_len=200, temperature=0.5))"
   ]
  },
  {
   "cell_type": "code",
   "execution_count": 57,
   "metadata": {
    "ExecuteTime": {
     "end_time": "2018-08-24T01:57:35.232092Z",
     "start_time": "2018-08-24T01:57:35.103967Z"
    }
   },
   "outputs": [
    {
     "name": "stdout",
     "output_type": "stream",
     "text": [
      "Started from the bottom i could it on the back but i dont she around but in a like i m like a back you dont she baby the want a man i dont wanna be like a than the fuck i love i got the fuck me the shit i got a same in the \n"
     ]
    }
   ],
   "source": [
    "# Evaluate model from this notebook\n",
    "print(evaluate(model, \"Started from the bottom\", predict_len=200, temperature=0.4))"
   ]
  },
  {
   "cell_type": "code",
   "execution_count": 58,
   "metadata": {
    "ExecuteTime": {
     "end_time": "2018-08-24T01:57:35.361379Z",
     "start_time": "2018-08-24T01:57:35.234246Z"
    }
   },
   "outputs": [
    {
     "name": "stdout",
     "output_type": "stream",
     "text": [
      "I'm the realest rapper alive i m and i m now im girl you can sunda all i am on the best and me so when you can let me man that can be the rap and i dont was some this so me and the fatch a say you take it for you man got a rappe\n"
     ]
    }
   ],
   "source": [
    "# Evaluate model from this notebook\n",
    "print(evaluate(model, \"I'm the realest rapper alive\", predict_len=200, temperature=0.4))"
   ]
  },
  {
   "cell_type": "code",
   "execution_count": 59,
   "metadata": {
    "ExecuteTime": {
     "end_time": "2018-08-24T01:57:35.527943Z",
     "start_time": "2018-08-24T01:57:35.363713Z"
    }
   },
   "outputs": [
    {
     "name": "stdout",
     "output_type": "stream",
     "text": [
      "Smoke a lot of weed a fuck i am nigga money inside i dont got a stay i got a fly from that should i am burnen black some it so the bank i make it man she life cause my girl you baby money potter cause her and i am somet\n"
     ]
    }
   ],
   "source": [
    "# Evaluate model from this notebook\n",
    "print(evaluate(model, \"Smoke a lot of weed\", predict_len=200, temperature=0.4))"
   ]
  },
  {
   "cell_type": "code",
   "execution_count": 60,
   "metadata": {
    "ExecuteTime": {
     "end_time": "2018-08-24T01:57:35.665301Z",
     "start_time": "2018-08-24T01:57:35.530511Z"
    }
   },
   "outputs": [
    {
     "name": "stdout",
     "output_type": "stream",
     "text": [
      "Baby come the baby in my man what you start me be im but i dont man i so in my part and i m dont got a be never bigger but i do man but me man was some and it jerve feel me and im say man so my fly sick man ba\n"
     ]
    }
   ],
   "source": [
    "# Evaluate model from this notebook\n",
    "print(evaluate(model, \"Baby come\", predict_len=200, temperature=0.4))"
   ]
  },
  {
   "cell_type": "code",
   "execution_count": 61,
   "metadata": {
    "ExecuteTime": {
     "end_time": "2018-08-24T01:57:38.384938Z",
     "start_time": "2018-08-24T01:57:35.667954Z"
    }
   },
   "outputs": [
    {
     "data": {
      "text/plain": [
       "['I miss you girl come back im sinning i some love my girls man me baby you hand a name me and money fart you and man and and my sick its and budning i am im money baby im not the part nigga cause the late game you wanna man but',\n",
       " 'To be or not to be: im mind i want a need make i got me make i aint that beat your man me your rap you and man baby girl you take i so money game girl the to sunshine i dont let my this can balling i man and i am in the ',\n",
       " 'Started from the bottom and im so call i kand i so im bean the fuck you me but i got the fuck that cause i can me a same me rapper the belothes say the same i am spinning you mind go a girl a nigga sick and i dont me no i d',\n",
       " \"I'm the realest rapper alive and want rapper than man be got that girl porder aman i sad me cause the punting it back and i mean a need man the beat get you got the fuck a nigga im said im so the fart the life a lot a party do i\",\n",
       " 'Smoke a lot of weed your fly like and i fade more a want a can my man money shit i dont baby you fuck the beat and that im a but the summin cause i dont me i fuck my clease that stay with you and i stay im so im bout me',\n",
       " 'Baby come like you wanna be same move you say the game ever fuck the last got a rapple us the prome but my the back a fuck man my sunshine that so man be this im dont got the can a fuck that me i say and make ',\n",
       " 'Date a scientist gotta had god a can make it house dont got the same mind in something i m me momin that get in my fuck im same it get my scrap man man my but i say i say im hand it be cause you in the summer im hate',\n",
       " 'Butter my biscuit so it your find you got the fuck the flow s made i want real a lot me i dont can can be the fuck money be and start got a run i stay so so the fuck the said the shit your be a want the some but a pro',\n",
       " 'Scramble my mind and around i do like a like a fly you can be but i got that shit i fuck im something i got the baby im said nigga man i m and i got cas i am song what i wanna say and i m mind a crup perfeen me i',\n",
       " 'I sleep this i m in the baby i dont not as and the cant and it and i man be got was got a fuck that my fuck the fuck and so me me hate face same courd i make the fuck im and it aman is talk piece man like the',\n",
       " 'Green eggs and im playin the brassed was say you can man baby im podent say to be in something on me to me nigga stay if you want perfect im dont got me to the sand shit shought a cant now i me and i see a stay thes',\n",
       " 'Rollin in my money was so man black some all the some cause your but im some inshine so god a fuck i say and a mana man i stand i dont starlen that in a like you dont be them put you know the really man i dont ge',\n",
       " 'Drop top comin i man a nigga make it my man i am but i can the baby baby with your so im swanna man man songs be money same and the same summer a fuck your see man me cause s comin the can some that get i don',\n",
       " 'Math is funny baby day i man be be the shit talk a moblanta got be that talk i say turn im stays and and i dand in the like a prother i can be and im the sweed girl you man and but i got a same burn you dont so ',\n",
       " 'Sentences i grand and i was say and i want a fuck you can be on than a nigga some im back a never back something im sick fake make a mind but i was a lot clear dick that a be a fly face it man you dont game ma',\n",
       " 'Coffee in the fuck can last and i man a be and i m and on that be me comphine but it see my strap in i mind and in me man so all the she get my fly money grand im song that your friends and i can the better a unde',\n",
       " 'Table that i got cant get a cake i am in the rapper so make i got me this way your back a got a man i m stand me to me in the baby from this cause its she need than that so my get is the bouse i dont and and wa',\n",
       " 'Homies really man but i m as on my man i got that i said i a but the same in me these nigga man but yes is but the same that she man so track in you dont say you so fly baby them needed a fuck and get in th',\n",
       " 'From the streets can you know that a not my this be just so my man and i dont say it we aint so like somethin the back something i be man the man something make cause i fly girl a rappy the fuck the rock shit i can b',\n",
       " 'Maseratin the summer bout you know the something and it get a face get i m shit my like me will you want the want rapper i love i dont a rappers and is this baby im drunk a got the same the see i got the same',\n",
       " 'Air force one spinning up now i say you no it me raybas make i dont stay me can be a got mind the berned of me man i m can be but it i start and i dont can got a nigga me and i got a have it but i speak baby me be',\n",
       " 'President in a light and im so fly girl your be side i m man be back we s and i dont be a man but im and im sunshine and i side im cause you am nigga some was and i dont im so and i man i fuck i dude like some',\n",
       " 'Trump i nigga but be and girl your like i ever so make i m got i wanna got a rap in a run a romine in like me god i dont got rap and my shit i real the this fake a cause i man it ass got a fuck that really']"
      ]
     },
     "execution_count": 61,
     "metadata": {},
     "output_type": "execute_result"
    }
   ],
   "source": [
    "prompts = ['I miss you girl come back ', 'To be or not to be: ', \"Started from the bottom\", \"I'm the realest rapper alive\",\n",
    "           \"Smoke a lot of weed\", \"Baby come\", 'Date a scientist', 'Butter my biscuit', 'Scramble my ', 'I sleep ',\n",
    "           'Green eggs and ', 'Rollin in my', 'Drop top', 'Math is fun', 'Sentences', 'Coffee in the', 'Table that',\n",
    "           'Homies', 'From the streets', 'Maserati', 'Air force one', 'President', 'Trump']\n",
    "\n",
    "childish_rnn_verses = []\n",
    "\n",
    "for i in range(len(prompts)):\n",
    "    childish_rnn_verses.append(evaluate(model, prompts[i], predict_len=200, temperature=0.5))\n",
    "    \n",
    "    \n",
    "childish_rnn_verses"
   ]
  },
  {
   "cell_type": "code",
   "execution_count": 62,
   "metadata": {
    "ExecuteTime": {
     "end_time": "2018-08-24T02:04:46.105656Z",
     "start_time": "2018-08-24T02:04:46.102009Z"
    }
   },
   "outputs": [],
   "source": [
    "columns = ['generated_verses']\n",
    "\n",
    "childish_generated_df = pd.DataFrame(childish_rnn_verses, columns=columns)"
   ]
  },
  {
   "cell_type": "code",
   "execution_count": 63,
   "metadata": {
    "ExecuteTime": {
     "end_time": "2018-08-24T02:04:46.418814Z",
     "start_time": "2018-08-24T02:04:46.407841Z"
    }
   },
   "outputs": [
    {
     "data": {
      "text/html": [
       "<div>\n",
       "<style scoped>\n",
       "    .dataframe tbody tr th:only-of-type {\n",
       "        vertical-align: middle;\n",
       "    }\n",
       "\n",
       "    .dataframe tbody tr th {\n",
       "        vertical-align: top;\n",
       "    }\n",
       "\n",
       "    .dataframe thead th {\n",
       "        text-align: right;\n",
       "    }\n",
       "</style>\n",
       "<table border=\"1\" class=\"dataframe\">\n",
       "  <thead>\n",
       "    <tr style=\"text-align: right;\">\n",
       "      <th></th>\n",
       "      <th>generated_verses</th>\n",
       "      <th>artist</th>\n",
       "    </tr>\n",
       "  </thead>\n",
       "  <tbody>\n",
       "    <tr>\n",
       "      <th>0</th>\n",
       "      <td>I miss you girl come back im sinning i some lo...</td>\n",
       "      <td>Childish Gambino</td>\n",
       "    </tr>\n",
       "    <tr>\n",
       "      <th>1</th>\n",
       "      <td>To be or not to be: im mind i want a need make...</td>\n",
       "      <td>Childish Gambino</td>\n",
       "    </tr>\n",
       "    <tr>\n",
       "      <th>2</th>\n",
       "      <td>Started from the bottom and im so call i kand ...</td>\n",
       "      <td>Childish Gambino</td>\n",
       "    </tr>\n",
       "    <tr>\n",
       "      <th>3</th>\n",
       "      <td>I'm the realest rapper alive and want rapper t...</td>\n",
       "      <td>Childish Gambino</td>\n",
       "    </tr>\n",
       "    <tr>\n",
       "      <th>4</th>\n",
       "      <td>Smoke a lot of weed your fly like and i fade m...</td>\n",
       "      <td>Childish Gambino</td>\n",
       "    </tr>\n",
       "    <tr>\n",
       "      <th>5</th>\n",
       "      <td>Baby come like you wanna be same move you say ...</td>\n",
       "      <td>Childish Gambino</td>\n",
       "    </tr>\n",
       "    <tr>\n",
       "      <th>6</th>\n",
       "      <td>Date a scientist gotta had god a can make it h...</td>\n",
       "      <td>Childish Gambino</td>\n",
       "    </tr>\n",
       "    <tr>\n",
       "      <th>7</th>\n",
       "      <td>Butter my biscuit so it your find you got the ...</td>\n",
       "      <td>Childish Gambino</td>\n",
       "    </tr>\n",
       "    <tr>\n",
       "      <th>8</th>\n",
       "      <td>Scramble my mind and around i do like a like a...</td>\n",
       "      <td>Childish Gambino</td>\n",
       "    </tr>\n",
       "    <tr>\n",
       "      <th>9</th>\n",
       "      <td>I sleep this i m in the baby i dont not as and...</td>\n",
       "      <td>Childish Gambino</td>\n",
       "    </tr>\n",
       "    <tr>\n",
       "      <th>10</th>\n",
       "      <td>Green eggs and im playin the brassed was say y...</td>\n",
       "      <td>Childish Gambino</td>\n",
       "    </tr>\n",
       "    <tr>\n",
       "      <th>11</th>\n",
       "      <td>Rollin in my money was so man black some all t...</td>\n",
       "      <td>Childish Gambino</td>\n",
       "    </tr>\n",
       "    <tr>\n",
       "      <th>12</th>\n",
       "      <td>Drop top comin i man a nigga make it my man i ...</td>\n",
       "      <td>Childish Gambino</td>\n",
       "    </tr>\n",
       "    <tr>\n",
       "      <th>13</th>\n",
       "      <td>Math is funny baby day i man be be the shit ta...</td>\n",
       "      <td>Childish Gambino</td>\n",
       "    </tr>\n",
       "    <tr>\n",
       "      <th>14</th>\n",
       "      <td>Sentences i grand and i was say and i want a f...</td>\n",
       "      <td>Childish Gambino</td>\n",
       "    </tr>\n",
       "    <tr>\n",
       "      <th>15</th>\n",
       "      <td>Coffee in the fuck can last and i man a be and...</td>\n",
       "      <td>Childish Gambino</td>\n",
       "    </tr>\n",
       "    <tr>\n",
       "      <th>16</th>\n",
       "      <td>Table that i got cant get a cake i am in the r...</td>\n",
       "      <td>Childish Gambino</td>\n",
       "    </tr>\n",
       "    <tr>\n",
       "      <th>17</th>\n",
       "      <td>Homies really man but i m as on my man i got t...</td>\n",
       "      <td>Childish Gambino</td>\n",
       "    </tr>\n",
       "    <tr>\n",
       "      <th>18</th>\n",
       "      <td>From the streets can you know that a not my th...</td>\n",
       "      <td>Childish Gambino</td>\n",
       "    </tr>\n",
       "    <tr>\n",
       "      <th>19</th>\n",
       "      <td>Maseratin the summer bout you know the somethi...</td>\n",
       "      <td>Childish Gambino</td>\n",
       "    </tr>\n",
       "    <tr>\n",
       "      <th>20</th>\n",
       "      <td>Air force one spinning up now i say you no it ...</td>\n",
       "      <td>Childish Gambino</td>\n",
       "    </tr>\n",
       "    <tr>\n",
       "      <th>21</th>\n",
       "      <td>President in a light and im so fly girl your b...</td>\n",
       "      <td>Childish Gambino</td>\n",
       "    </tr>\n",
       "    <tr>\n",
       "      <th>22</th>\n",
       "      <td>Trump i nigga but be and girl your like i ever...</td>\n",
       "      <td>Childish Gambino</td>\n",
       "    </tr>\n",
       "  </tbody>\n",
       "</table>\n",
       "</div>"
      ],
      "text/plain": [
       "                                     generated_verses            artist\n",
       "0   I miss you girl come back im sinning i some lo...  Childish Gambino\n",
       "1   To be or not to be: im mind i want a need make...  Childish Gambino\n",
       "2   Started from the bottom and im so call i kand ...  Childish Gambino\n",
       "3   I'm the realest rapper alive and want rapper t...  Childish Gambino\n",
       "4   Smoke a lot of weed your fly like and i fade m...  Childish Gambino\n",
       "5   Baby come like you wanna be same move you say ...  Childish Gambino\n",
       "6   Date a scientist gotta had god a can make it h...  Childish Gambino\n",
       "7   Butter my biscuit so it your find you got the ...  Childish Gambino\n",
       "8   Scramble my mind and around i do like a like a...  Childish Gambino\n",
       "9   I sleep this i m in the baby i dont not as and...  Childish Gambino\n",
       "10  Green eggs and im playin the brassed was say y...  Childish Gambino\n",
       "11  Rollin in my money was so man black some all t...  Childish Gambino\n",
       "12  Drop top comin i man a nigga make it my man i ...  Childish Gambino\n",
       "13  Math is funny baby day i man be be the shit ta...  Childish Gambino\n",
       "14  Sentences i grand and i was say and i want a f...  Childish Gambino\n",
       "15  Coffee in the fuck can last and i man a be and...  Childish Gambino\n",
       "16  Table that i got cant get a cake i am in the r...  Childish Gambino\n",
       "17  Homies really man but i m as on my man i got t...  Childish Gambino\n",
       "18  From the streets can you know that a not my th...  Childish Gambino\n",
       "19  Maseratin the summer bout you know the somethi...  Childish Gambino\n",
       "20  Air force one spinning up now i say you no it ...  Childish Gambino\n",
       "21  President in a light and im so fly girl your b...  Childish Gambino\n",
       "22  Trump i nigga but be and girl your like i ever...  Childish Gambino"
      ]
     },
     "execution_count": 63,
     "metadata": {},
     "output_type": "execute_result"
    }
   ],
   "source": [
    "childish_generated_df['artist'] = 'Childish Gambino'\n",
    "\n",
    "childish_generated_df"
   ]
  },
  {
   "cell_type": "code",
   "execution_count": 64,
   "metadata": {
    "ExecuteTime": {
     "end_time": "2018-08-24T02:07:42.996125Z",
     "start_time": "2018-08-24T02:07:42.992493Z"
    }
   },
   "outputs": [],
   "source": [
    "with open('data/childish_generated_raps.pkl', 'wb') as picklefile:\n",
    "    pickle.dump(childish_generated_df, picklefile)"
   ]
  },
  {
   "cell_type": "code",
   "execution_count": null,
   "metadata": {},
   "outputs": [],
   "source": []
  }
 ],
 "metadata": {
  "kernelspec": {
   "display_name": "Python 3",
   "language": "python",
   "name": "python3"
  },
  "language_info": {
   "codemirror_mode": {
    "name": "ipython",
    "version": 3
   },
   "file_extension": ".py",
   "mimetype": "text/x-python",
   "name": "python",
   "nbconvert_exporter": "python",
   "pygments_lexer": "ipython3",
   "version": "3.6.6"
  },
  "varInspector": {
   "cols": {
    "lenName": 16,
    "lenType": 16,
    "lenVar": 40
   },
   "kernels_config": {
    "python": {
     "delete_cmd_postfix": "",
     "delete_cmd_prefix": "del ",
     "library": "var_list.py",
     "varRefreshCmd": "print(var_dic_list())"
    },
    "r": {
     "delete_cmd_postfix": ") ",
     "delete_cmd_prefix": "rm(",
     "library": "var_list.r",
     "varRefreshCmd": "cat(var_dic_list()) "
    }
   },
   "types_to_exclude": [
    "module",
    "function",
    "builtin_function_or_method",
    "instance",
    "_Feature"
   ],
   "window_display": false
  }
 },
 "nbformat": 4,
 "nbformat_minor": 2
}
