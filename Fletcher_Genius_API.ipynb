{
 "cells": [
  {
   "cell_type": "code",
   "execution_count": 1,
   "metadata": {
    "ExecuteTime": {
     "end_time": "2018-08-16T00:50:21.657410Z",
     "start_time": "2018-08-16T00:50:20.556615Z"
    }
   },
   "outputs": [],
   "source": [
    "import pandas as pd\n",
    "import requests\n",
    "from bs4 import BeautifulSoup\n",
    "import random\n",
    "from time import sleep\n",
    "import warnings\n",
    "warnings.filterwarnings(\"ignore\",category=DeprecationWarning)\n",
    "import numpy as np\n",
    "import nltk\n",
    "import os\n",
    "from sklearn import datasets"
   ]
  },
  {
   "cell_type": "code",
   "execution_count": 2,
   "metadata": {
    "ExecuteTime": {
     "end_time": "2018-08-16T00:50:21.764155Z",
     "start_time": "2018-08-16T00:50:21.702676Z"
    }
   },
   "outputs": [],
   "source": [
    "# This is needed to authenticate us to\n",
    "import os\n",
    "%load_ext dotenv\n",
    "%dotenv\n",
    "try:\n",
    "    from requests_oauthlib import OAuth2\n",
    "except ModuleNotFoundError:\n",
    "    import sys\n",
    "    import os\n",
    "\n",
    "    # I need this because requests_oauth gets installed in a weird place on my system\n",
    "    sys.path.append('/usr/local/lib/python3.6/site-packages')\n",
    "    from requests_oauthlib import OAuth2"
   ]
  },
  {
   "cell_type": "code",
   "execution_count": 3,
   "metadata": {
    "ExecuteTime": {
     "end_time": "2018-08-16T00:50:21.824536Z",
     "start_time": "2018-08-16T00:50:21.810931Z"
    }
   },
   "outputs": [
    {
     "data": {
      "text/plain": [
       "requests_oauthlib.oauth2_auth.OAuth2"
      ]
     },
     "execution_count": 3,
     "metadata": {},
     "output_type": "execute_result"
    }
   ],
   "source": [
    "OAuth2"
   ]
  },
  {
   "cell_type": "code",
   "execution_count": 4,
   "metadata": {
    "ExecuteTime": {
     "end_time": "2018-08-16T00:50:21.872574Z",
     "start_time": "2018-08-16T00:50:21.868205Z"
    }
   },
   "outputs": [
    {
     "data": {
      "text/plain": [
       "('mBnDnHyEI_KGNyYv39-7efdwjJXc5cWq77fg_eDlsO8RDkYS8uu0YvOiMPS0e-FX',\n",
       " '2oVQqSrDutfqBf4b1Vv_v7EsXOURvV4zInrTcYkH1o3Ih2zJL7ibUy3DnjG08L_egKNqJnlgxgjZwwR9AOLwDw',\n",
       " 'tg16sSXJ--cefig_zx6WGTiAizP7C2gCxP3ss_51lY5IiK_tOs_yhYlGT6jh5XvX')"
      ]
     },
     "execution_count": 4,
     "metadata": {},
     "output_type": "execute_result"
    }
   ],
   "source": [
    "os.getenv(\"CLIENT_ACCESS_TOKEN\"), os.getenv(\"CLIENT_SECRET\"), os.getenv(\"CLIENT_ID\")"
   ]
  },
  {
   "cell_type": "code",
   "execution_count": 5,
   "metadata": {
    "ExecuteTime": {
     "end_time": "2018-08-16T00:50:22.104219Z",
     "start_time": "2018-08-16T00:50:22.099153Z"
    }
   },
   "outputs": [],
   "source": [
    "# %load ~/anaconda3/lib/python3.6/site-packages/requests_oauthlib/oauth2_auth.py\n",
    "from __future__ import unicode_literals\n",
    "from oauthlib.oauth2 import WebApplicationClient, InsecureTransportError\n",
    "from oauthlib.oauth2 import is_secure_transport\n",
    "from requests.auth import AuthBase\n",
    "\n",
    "\n",
    "class OAuth2(AuthBase):\n",
    "    \"\"\"Adds proof of authorization (OAuth2 token) to the request.\"\"\"\n",
    "\n",
    "    def __init__(self, client_id=None, client=None, token=None):\n",
    "        \"\"\"Construct a new OAuth 2 authorization object.\n",
    "\n",
    "        :param client_id: Client id obtained during registration\n",
    "        :param client: :class:`oauthlib.oauth2.Client` to be used. Default is\n",
    "                       WebApplicationClient which is useful for any\n",
    "                       hosted application but not mobile or desktop.\n",
    "        :param token: Token dictionary, must include access_token\n",
    "                      and token_type.\n",
    "        \"\"\"\n",
    "        self._client = client or WebApplicationClient(client_id, token=token)\n",
    "        if token:\n",
    "            for k, v in token.items():\n",
    "                setattr(self._client, k, v)\n",
    "\n",
    "    def __call__(self, r):\n",
    "        \"\"\"Append an OAuth 2 token to the request.\n",
    "\n",
    "        Note that currently HTTPS is required for all requests. There may be\n",
    "        a token type that allows for plain HTTP in the future and then this\n",
    "        should be updated to allow plain HTTP on a white list basis.\n",
    "        \"\"\"\n",
    "        if not is_secure_transport(r.url):\n",
    "            raise InsecureTransportError()\n",
    "        r.url, r.headers, r.body = self._client.add_token(r.url,\n",
    "                http_method=r.method, body=r.body, headers=r.headers)\n",
    "        return r\n"
   ]
  },
  {
   "cell_type": "code",
   "execution_count": 6,
   "metadata": {
    "ExecuteTime": {
     "end_time": "2018-08-16T00:50:22.849045Z",
     "start_time": "2018-08-16T00:50:22.846327Z"
    }
   },
   "outputs": [],
   "source": [
    "#%load_ext dotenv\n",
    "#%dotenv\n",
    "import os\n",
    "\n",
    "token = {\n",
    "    'access_token': os.getenv(\"CLIENT_ACCESS_TOKEN\"),\n",
    "    'token_type': 'Bearer'\n",
    "}\n",
    "\n",
    "oauth = OAuth2(os.getenv(\"CLIENT_ID\"),\n",
    "               None,token)"
   ]
  },
  {
   "cell_type": "code",
   "execution_count": 7,
   "metadata": {
    "ExecuteTime": {
     "end_time": "2018-08-16T00:50:23.318455Z",
     "start_time": "2018-08-16T00:50:23.314310Z"
    }
   },
   "outputs": [
    {
     "data": {
      "text/plain": [
       "{'access_token': 'mBnDnHyEI_KGNyYv39-7efdwjJXc5cWq77fg_eDlsO8RDkYS8uu0YvOiMPS0e-FX',\n",
       " 'token_type': 'Bearer'}"
      ]
     },
     "execution_count": 7,
     "metadata": {},
     "output_type": "execute_result"
    }
   ],
   "source": [
    "token"
   ]
  },
  {
   "cell_type": "code",
   "execution_count": 8,
   "metadata": {
    "ExecuteTime": {
     "end_time": "2018-08-16T00:50:23.828452Z",
     "start_time": "2018-08-16T00:50:23.749156Z"
    }
   },
   "outputs": [],
   "source": [
    "from pymongo import MongoClient\n",
    "import requests\n",
    "\n",
    "client = MongoClient()"
   ]
  },
  {
   "cell_type": "code",
   "execution_count": 9,
   "metadata": {
    "ExecuteTime": {
     "end_time": "2018-08-16T00:50:26.141121Z",
     "start_time": "2018-08-16T00:50:26.135402Z"
    }
   },
   "outputs": [
    {
     "data": {
      "text/plain": [
       "['admin',\n",
       " 'books',\n",
       " 'catalog',\n",
       " 'config',\n",
       " 'events',\n",
       " 'gambino',\n",
       " 'legistlation',\n",
       " 'local']"
      ]
     },
     "execution_count": 9,
     "metadata": {},
     "output_type": "execute_result"
    }
   ],
   "source": [
    "client.database_names()"
   ]
  },
  {
   "cell_type": "code",
   "execution_count": 10,
   "metadata": {
    "ExecuteTime": {
     "end_time": "2018-08-16T00:50:28.587918Z",
     "start_time": "2018-08-16T00:50:28.585266Z"
    }
   },
   "outputs": [],
   "source": [
    "db = client.gambino\n",
    "songs = db.songs"
   ]
  },
  {
   "cell_type": "code",
   "execution_count": null,
   "metadata": {
    "ExecuteTime": {
     "end_time": "2018-08-15T06:57:22.614454Z",
     "start_time": "2018-08-15T06:57:22.611009Z"
    }
   },
   "outputs": [],
   "source": [
    "def childish_api_to_mongo(pages):\n",
    "    for i in range(1, pages+1):\n",
    "        response = requests.get((\"https://api.genius.com/artists/1745/songs?sort=popularity&per_page=50&page=\" + str(i)),\n",
    "                        auth=oauth)\n",
    "        songs_json = response.json()\n",
    "        songs = songs_json['response']['songs']\n",
    "        db.songs.insert_many(songs)\n",
    "        print('Page ' + str(i) + ' complete!')"
   ]
  },
  {
   "cell_type": "code",
   "execution_count": 11,
   "metadata": {
    "ExecuteTime": {
     "end_time": "2018-08-16T00:50:41.513253Z",
     "start_time": "2018-08-16T00:50:41.508704Z"
    }
   },
   "outputs": [
    {
     "data": {
      "text/plain": [
       "3904"
      ]
     },
     "execution_count": 11,
     "metadata": {},
     "output_type": "execute_result"
    }
   ],
   "source": [
    "\n",
    "db.songs.count()"
   ]
  },
  {
   "cell_type": "code",
   "execution_count": null,
   "metadata": {
    "ExecuteTime": {
     "end_time": "2018-08-15T06:57:51.514685Z",
     "start_time": "2018-08-15T06:57:38.705147Z"
    }
   },
   "outputs": [],
   "source": [
    "childish_api_to_mongo(9)"
   ]
  },
  {
   "cell_type": "code",
   "execution_count": null,
   "metadata": {
    "ExecuteTime": {
     "end_time": "2018-08-15T05:46:17.900066Z",
     "start_time": "2018-08-15T05:46:17.071038Z"
    }
   },
   "outputs": [],
   "source": [
    "# This \"user_timeline\" url tells the API to get the tweets of the user associated with the app.\n",
    "response = requests.get(\"https://api.genius.com/artists/1745/songs?sort=popularity\",\n",
    "                        auth=oauth)\n",
    "\n",
    "# Note that we're using the \"requests\" library\n",
    "cg_songs = response.json()"
   ]
  },
  {
   "cell_type": "code",
   "execution_count": null,
   "metadata": {
    "ExecuteTime": {
     "end_time": "2018-08-15T05:46:17.907425Z",
     "start_time": "2018-08-15T05:46:17.902781Z"
    }
   },
   "outputs": [],
   "source": [
    "## \"https://api.genius.com/artists/1745\"\n",
    "\n",
    "len(cg_songs)"
   ]
  },
  {
   "cell_type": "code",
   "execution_count": null,
   "metadata": {
    "ExecuteTime": {
     "end_time": "2018-08-15T05:46:17.927158Z",
     "start_time": "2018-08-15T05:46:17.909565Z"
    }
   },
   "outputs": [],
   "source": [
    "cg_songs"
   ]
  },
  {
   "cell_type": "code",
   "execution_count": null,
   "metadata": {
    "ExecuteTime": {
     "end_time": "2018-08-15T05:46:17.948850Z",
     "start_time": "2018-08-15T05:46:17.930192Z"
    }
   },
   "outputs": [],
   "source": [
    "first_songs = cg_songs['response']['songs']\n",
    "\n",
    "first_songs"
   ]
  },
  {
   "cell_type": "code",
   "execution_count": null,
   "metadata": {
    "ExecuteTime": {
     "end_time": "2018-08-15T05:46:17.956989Z",
     "start_time": "2018-08-15T05:46:17.951851Z"
    }
   },
   "outputs": [],
   "source": [
    "len(first_songs)"
   ]
  },
  {
   "cell_type": "code",
   "execution_count": null,
   "metadata": {
    "ExecuteTime": {
     "end_time": "2018-08-15T06:12:14.612931Z",
     "start_time": "2018-08-15T06:12:13.723095Z"
    }
   },
   "outputs": [],
   "source": [
    "# This \"user_timeline\" url tells the API to get the tweets of the user associated with the app.\n",
    "response = requests.get(\"https://api.genius.com/artists/1745/songs?sort=popularity&per_page=20&page=2\",\n",
    "                        auth=oauth)\n",
    "\n",
    "# Note that we're using the \"requests\" library\n",
    "cg_songs2 = response.json()"
   ]
  },
  {
   "cell_type": "code",
   "execution_count": null,
   "metadata": {
    "ExecuteTime": {
     "end_time": "2018-08-15T06:12:33.634182Z",
     "start_time": "2018-08-15T06:12:33.629649Z"
    }
   },
   "outputs": [],
   "source": [
    "len(cg_songs2)"
   ]
  },
  {
   "cell_type": "code",
   "execution_count": null,
   "metadata": {
    "ExecuteTime": {
     "end_time": "2018-08-15T06:17:00.534672Z",
     "start_time": "2018-08-15T06:17:00.518673Z"
    }
   },
   "outputs": [],
   "source": [
    "second_songs = cg_songs2['response']['songs']\n",
    "\n",
    "print(len(second_songs))\n",
    "second_songs"
   ]
  },
  {
   "cell_type": "code",
   "execution_count": null,
   "metadata": {
    "ExecuteTime": {
     "end_time": "2018-08-15T06:46:41.583013Z",
     "start_time": "2018-08-15T06:46:40.726085Z"
    }
   },
   "outputs": [],
   "source": [
    "# This \"user_timeline\" url tells the API to get the tweets of the user associated with the app.\n",
    "response = requests.get(\"https://api.genius.com/artists/1745/songs?sort=popularity&per_page=20&page=3\",\n",
    "                        auth=oauth)\n",
    "\n",
    "# Note that we're using the \"requests\" library\n",
    "cg_songs3 = response.json()"
   ]
  },
  {
   "cell_type": "code",
   "execution_count": null,
   "metadata": {
    "ExecuteTime": {
     "end_time": "2018-08-15T06:46:41.992929Z",
     "start_time": "2018-08-15T06:46:41.976339Z"
    }
   },
   "outputs": [],
   "source": [
    "third_songs = cg_songs3['response']['songs']\n",
    "\n",
    "print(len(third_songs))\n",
    "third_songs"
   ]
  },
  {
   "cell_type": "code",
   "execution_count": null,
   "metadata": {},
   "outputs": [],
   "source": []
  },
  {
   "cell_type": "code",
   "execution_count": null,
   "metadata": {},
   "outputs": [],
   "source": []
  },
  {
   "cell_type": "code",
   "execution_count": null,
   "metadata": {
    "ExecuteTime": {
     "end_time": "2018-08-15T06:46:59.287930Z",
     "start_time": "2018-08-15T06:46:59.282106Z"
    }
   },
   "outputs": [],
   "source": [
    "# ONLY RUN THIS WHEN NEW SONGS ARE ADDED\n",
    "# db.songs.insert_many(first_songs)\n",
    "# db.songs.insert_many(second_songs)\n",
    "# db.songs.insert_many(third_songs)"
   ]
  },
  {
   "cell_type": "code",
   "execution_count": null,
   "metadata": {
    "ExecuteTime": {
     "end_time": "2018-08-15T06:58:04.086257Z",
     "start_time": "2018-08-15T06:58:04.081284Z"
    }
   },
   "outputs": [],
   "source": [
    "db.songs.count()"
   ]
  },
  {
   "cell_type": "code",
   "execution_count": null,
   "metadata": {
    "ExecuteTime": {
     "end_time": "2018-08-15T05:28:54.518999Z",
     "start_time": "2018-08-15T05:28:54.460702Z"
    }
   },
   "outputs": [],
   "source": []
  },
  {
   "cell_type": "code",
   "execution_count": null,
   "metadata": {
    "ExecuteTime": {
     "end_time": "2018-08-15T05:28:59.279277Z",
     "start_time": "2018-08-15T05:28:59.267395Z"
    }
   },
   "outputs": [],
   "source": []
  },
  {
   "cell_type": "code",
   "execution_count": null,
   "metadata": {
    "ExecuteTime": {
     "end_time": "2018-08-15T05:32:02.963111Z",
     "start_time": "2018-08-15T05:32:02.952342Z"
    }
   },
   "outputs": [],
   "source": []
  },
  {
   "cell_type": "code",
   "execution_count": null,
   "metadata": {
    "ExecuteTime": {
     "end_time": "2018-08-15T06:58:30.274848Z",
     "start_time": "2018-08-15T06:58:30.226010Z"
    }
   },
   "outputs": [],
   "source": [
    "song_list = []\n",
    "\n",
    "for item in db.songs.find():\n",
    "    item = (item['primary_artist']['name'])\n",
    "    print(item)"
   ]
  },
  {
   "cell_type": "code",
   "execution_count": null,
   "metadata": {
    "ExecuteTime": {
     "end_time": "2018-08-15T06:59:01.061732Z",
     "start_time": "2018-08-15T06:59:01.013040Z"
    }
   },
   "outputs": [],
   "source": [
    "artist = [item['primary_artist']['name'] for item in db.songs.find()]\n",
    "songs = [item['title'] for item in db.songs.find()]\n",
    "urls = [item['url'] for item in db.songs.find()]\n",
    "\n",
    "result = zip(artist, songs, urls)\n",
    "track_list = list(result)\n",
    "track_list"
   ]
  },
  {
   "cell_type": "code",
   "execution_count": null,
   "metadata": {
    "ExecuteTime": {
     "end_time": "2018-08-15T06:59:01.311482Z",
     "start_time": "2018-08-15T06:59:01.297714Z"
    }
   },
   "outputs": [],
   "source": [
    "for track in track_list:\n",
    "    if track[0] == 'Childish Gambino':\n",
    "        artist = track[0]\n",
    "        url = track[2]\n",
    "        print(list([artist, url]))"
   ]
  },
  {
   "cell_type": "code",
   "execution_count": null,
   "metadata": {
    "ExecuteTime": {
     "end_time": "2018-08-15T05:46:20.373133Z",
     "start_time": "2018-08-15T05:46:18.022867Z"
    }
   },
   "outputs": [],
   "source": []
  },
  {
   "cell_type": "code",
   "execution_count": null,
   "metadata": {
    "ExecuteTime": {
     "end_time": "2018-08-15T05:46:20.380021Z",
     "start_time": "2018-08-15T05:46:20.375116Z"
    }
   },
   "outputs": [],
   "source": []
  },
  {
   "cell_type": "code",
   "execution_count": null,
   "metadata": {
    "ExecuteTime": {
     "end_time": "2018-08-15T05:46:20.385847Z",
     "start_time": "2018-08-15T05:46:20.382334Z"
    }
   },
   "outputs": [],
   "source": []
  },
  {
   "cell_type": "code",
   "execution_count": null,
   "metadata": {
    "ExecuteTime": {
     "end_time": "2018-08-15T06:40:39.722777Z",
     "start_time": "2018-08-15T06:40:39.718473Z"
    }
   },
   "outputs": [],
   "source": [
    "lyrics"
   ]
  },
  {
   "cell_type": "code",
   "execution_count": null,
   "metadata": {
    "ExecuteTime": {
     "end_time": "2018-08-15T06:40:30.850406Z",
     "start_time": "2018-08-15T06:40:30.846319Z"
    }
   },
   "outputs": [],
   "source": []
  },
  {
   "cell_type": "code",
   "execution_count": null,
   "metadata": {
    "ExecuteTime": {
     "end_time": "2018-08-15T06:40:32.043974Z",
     "start_time": "2018-08-15T06:40:32.039044Z"
    }
   },
   "outputs": [],
   "source": []
  },
  {
   "cell_type": "code",
   "execution_count": null,
   "metadata": {
    "ExecuteTime": {
     "end_time": "2018-08-15T05:49:36.073778Z",
     "start_time": "2018-08-15T05:49:36.071064Z"
    }
   },
   "outputs": [],
   "source": [
    "trial_list = [('Childish Gambino', 'https://genius.com/Childish-gambino-redbone-lyrics'),\n",
    "              ('Childish Gambino', 'https://genius.com/Childish-gambino-v-3005-lyrics')]"
   ]
  },
  {
   "cell_type": "code",
   "execution_count": 12,
   "metadata": {
    "ExecuteTime": {
     "end_time": "2018-08-16T00:50:52.646968Z",
     "start_time": "2018-08-16T00:50:52.643070Z"
    }
   },
   "outputs": [],
   "source": [
    "def track_info():\n",
    "    artist = [item['primary_artist']['name'] for item in db.songs.find()]\n",
    "    songs = [item['title'] for item in db.songs.find()]\n",
    "    urls = [item['url'] for item in db.songs.find()]\n",
    "\n",
    "    result = zip(artist, songs, urls)\n",
    "    track_list = list(result)\n",
    "    return track_list"
   ]
  },
  {
   "cell_type": "code",
   "execution_count": 18,
   "metadata": {
    "ExecuteTime": {
     "end_time": "2018-08-16T00:51:44.816888Z",
     "start_time": "2018-08-16T00:51:44.582106Z"
    }
   },
   "outputs": [],
   "source": [
    "track_list = track_info()"
   ]
  },
  {
   "cell_type": "code",
   "execution_count": null,
   "metadata": {
    "ExecuteTime": {
     "end_time": "2018-08-15T06:59:47.359925Z",
     "start_time": "2018-08-15T06:59:47.332142Z"
    }
   },
   "outputs": [],
   "source": [
    "print(len(set(track_list)))\n",
    "track_list"
   ]
  },
  {
   "cell_type": "code",
   "execution_count": 13,
   "metadata": {
    "ExecuteTime": {
     "end_time": "2018-08-16T00:50:54.893646Z",
     "start_time": "2018-08-16T00:50:54.890156Z"
    }
   },
   "outputs": [],
   "source": [
    "def artist_tracks(artist_name, track_list):\n",
    "    tracks = []\n",
    "    for track in track_list:\n",
    "        if track[0] == artist_name:\n",
    "            artist = track[0]\n",
    "            song_name = track[1]\n",
    "            url = track[2]\n",
    "            tracks.append([artist, song_name, url])\n",
    "    return tracks"
   ]
  },
  {
   "cell_type": "code",
   "execution_count": null,
   "metadata": {
    "ExecuteTime": {
     "end_time": "2018-08-15T18:06:15.587371Z",
     "start_time": "2018-08-15T18:06:15.584910Z"
    }
   },
   "outputs": [],
   "source": [
    "childish_tracks = artist_tracks('Childish Gambino', track_list)"
   ]
  },
  {
   "cell_type": "code",
   "execution_count": null,
   "metadata": {
    "ExecuteTime": {
     "end_time": "2018-08-15T18:06:16.082630Z",
     "start_time": "2018-08-15T18:06:16.078772Z"
    }
   },
   "outputs": [],
   "source": [
    "len(childish_tracks)"
   ]
  },
  {
   "cell_type": "code",
   "execution_count": null,
   "metadata": {
    "ExecuteTime": {
     "end_time": "2018-08-15T18:06:16.678192Z",
     "start_time": "2018-08-15T18:06:16.657890Z"
    }
   },
   "outputs": [],
   "source": [
    "childish_tracks"
   ]
  },
  {
   "cell_type": "code",
   "execution_count": 14,
   "metadata": {
    "ExecuteTime": {
     "end_time": "2018-08-16T00:50:58.300887Z",
     "start_time": "2018-08-16T00:50:58.294431Z"
    }
   },
   "outputs": [],
   "source": [
    "def get_lyrics(track_list):\n",
    "    all_song_lyrics = []\n",
    "    artist = []\n",
    "    for track in track_list:\n",
    "        artist = track[0]\n",
    "        url = track[1]\n",
    "        source_code = requests.get(url)\n",
    "        soup = BeautifulSoup(source_code.text, 'html5lib')\n",
    "        lyrics = soup.find('div', class_='lyrics').text.strip()\n",
    "        lyrics = lyrics.split('\\n\\n\\n')\n",
    "        lyrics = lyrics.split('\\n\\n')\n",
    "        sleep(random.uniform(2.1, 7.5))\n",
    "\n",
    "        for i in lyrics:\n",
    "            if i[:2] != '\\n':\n",
    "                verse = i.split('\\n')\n",
    "                if verse == '':\n",
    "                    song_element = ''\n",
    "                    lyrics = ''\n",
    "                else:\n",
    "                    if verse[0][0] == '[':\n",
    "                        song_element = verse[0]\n",
    "                        lyrics = verse[1:]\n",
    "                    else:\n",
    "                        song_element = ''\n",
    "                        lyrics = verse\n",
    "            else:\n",
    "                song_element = ''\n",
    "                lyrics = ''\n",
    "            all_song_lyrics.append([artist,song_element,lyrics])\n",
    "            \n",
    "    return all_song_lyrics"
   ]
  },
  {
   "cell_type": "code",
   "execution_count": 21,
   "metadata": {
    "ExecuteTime": {
     "end_time": "2018-08-16T01:10:22.940654Z",
     "start_time": "2018-08-16T01:10:22.932711Z"
    }
   },
   "outputs": [],
   "source": [
    "def scrape_lyrics(track_list):\n",
    "    all_song_lyrics = []\n",
    "    artist = []\n",
    "    for track in track_list:\n",
    "        artist = track[0]\n",
    "        song_name = track[1]\n",
    "        url = track[2]\n",
    "        try:\n",
    "            source_code = requests.get(url)\n",
    "            soup = BeautifulSoup(source_code.text, 'html5lib')\n",
    "            lyrics = soup.find('div', class_='lyrics').text.strip()\n",
    "        except:\n",
    "            lyrics =''\n",
    "        all_song_lyrics.append([artist,song_name,lyrics])\n",
    "        sleep(random.uniform(0.1, 1.5))\n",
    "        \n",
    "    return all_song_lyrics\n",
    "        \n",
    "def split_lyrics(lyrics):\n",
    "    all_song_elements = []\n",
    "    for i in lyrics:\n",
    "        artist = i[0]\n",
    "        song_name = i[1]\n",
    "        all_lyrics = i[2]\n",
    "        split_lyrics = all_lyrics.split('\\n\\n\\n')\n",
    "        split_lyrics = all_lyrics.split('\\n\\n')\n",
    "\n",
    "        for i in split_lyrics:\n",
    "            if i[:2] != '\\n':\n",
    "                verse = i.split('\\n')\n",
    "                if verse == '':\n",
    "                    song_element = ''\n",
    "                    only_lyrics = ''\n",
    "                else:\n",
    "                    if verse[0][0] == '[':\n",
    "                        song_element = verse[0]\n",
    "                        only_lyrics = verse[1:]\n",
    "                    else:\n",
    "                        song_element = ''\n",
    "                        only_lyrics = verse\n",
    "            else:\n",
    "                song_element = ''\n",
    "                only_lyrics = ''\n",
    "            all_song_elements.append([artist,song_name,song_element,only_lyrics])\n",
    "\n",
    "    return all_song_elements"
   ]
  },
  {
   "cell_type": "code",
   "execution_count": null,
   "metadata": {
    "ExecuteTime": {
     "end_time": "2018-08-15T07:41:07.437452Z",
     "start_time": "2018-08-15T07:41:06.443964Z"
    }
   },
   "outputs": [],
   "source": [
    "source_code = requests.get('https://genius.com/Childish-gambino-ii-shadows-lyrics')\n",
    "soup = BeautifulSoup(source_code.text, 'html5lib')\n",
    "lyrics = soup.find('div', class_='lyrics').text.strip()\n",
    "lyrics = lyrics.split('\\n\\n')\n",
    "\n",
    "lyrics"
   ]
  },
  {
   "cell_type": "code",
   "execution_count": null,
   "metadata": {
    "ExecuteTime": {
     "end_time": "2018-08-15T07:41:10.005693Z",
     "start_time": "2018-08-15T07:41:09.992094Z"
    }
   },
   "outputs": [],
   "source": [
    "all_song_lyrics = []\n",
    "\n",
    "for i in lyrics:\n",
    "    if i[:2] != '\\n':\n",
    "        verse = i.split('\\n')\n",
    "        if verse == '':\n",
    "            song_element = ''\n",
    "            lyrics = ''\n",
    "        else:\n",
    "            if verse[0][0] == '[':\n",
    "                song_element = verse[0]\n",
    "                lyrics = verse[1:]\n",
    "            else:\n",
    "                song_element = ''\n",
    "                lyrics = verse\n",
    "    else:\n",
    "        song_element = ''\n",
    "        lyrics = ''\n",
    "    print(song_element, lyrics)"
   ]
  },
  {
   "cell_type": "code",
   "execution_count": null,
   "metadata": {},
   "outputs": [],
   "source": []
  },
  {
   "cell_type": "code",
   "execution_count": null,
   "metadata": {
    "ExecuteTime": {
     "end_time": "2018-08-15T07:38:02.411472Z",
     "start_time": "2018-08-15T07:38:01.957914Z"
    }
   },
   "outputs": [],
   "source": []
  },
  {
   "cell_type": "code",
   "execution_count": null,
   "metadata": {
    "ExecuteTime": {
     "end_time": "2018-08-15T07:38:02.606965Z",
     "start_time": "2018-08-15T07:38:02.602480Z"
    }
   },
   "outputs": [],
   "source": [
    "lyrics"
   ]
  },
  {
   "cell_type": "code",
   "execution_count": null,
   "metadata": {
    "ExecuteTime": {
     "end_time": "2018-08-15T18:09:17.053146Z",
     "start_time": "2018-08-15T18:08:32.277715Z"
    }
   },
   "outputs": [],
   "source": [
    "childish_lyrics_first5 = scrape_lyrics(childish_tracks[:5])"
   ]
  },
  {
   "cell_type": "code",
   "execution_count": null,
   "metadata": {
    "ExecuteTime": {
     "end_time": "2018-08-15T18:09:17.487239Z",
     "start_time": "2018-08-15T18:09:17.481387Z"
    }
   },
   "outputs": [],
   "source": [
    "print(len(childish_lyrics_first5))\n",
    "childish_lyrics_first5"
   ]
  },
  {
   "cell_type": "code",
   "execution_count": null,
   "metadata": {
    "ExecuteTime": {
     "end_time": "2018-08-15T18:12:39.766033Z",
     "start_time": "2018-08-15T18:12:39.755690Z"
    }
   },
   "outputs": [],
   "source": [
    "childish_first5 = split_lyrics(childish_lyrics_first5)\n",
    "\n",
    "childish_first5"
   ]
  },
  {
   "cell_type": "code",
   "execution_count": null,
   "metadata": {
    "ExecuteTime": {
     "end_time": "2018-08-15T18:13:07.750070Z",
     "start_time": "2018-08-15T18:13:07.726287Z"
    }
   },
   "outputs": [],
   "source": [
    "df = pd.DataFrame(childish_first5)\n",
    "\n",
    "df"
   ]
  },
  {
   "cell_type": "code",
   "execution_count": null,
   "metadata": {
    "ExecuteTime": {
     "end_time": "2018-08-15T18:13:08.661805Z",
     "start_time": "2018-08-15T18:13:08.658805Z"
    }
   },
   "outputs": [],
   "source": [
    "df[3] = df[3].apply(', '.join)"
   ]
  },
  {
   "cell_type": "code",
   "execution_count": null,
   "metadata": {
    "ExecuteTime": {
     "end_time": "2018-08-15T18:13:09.740740Z",
     "start_time": "2018-08-15T18:13:09.735361Z"
    }
   },
   "outputs": [],
   "source": [
    "df[3]"
   ]
  },
  {
   "cell_type": "code",
   "execution_count": null,
   "metadata": {
    "ExecuteTime": {
     "end_time": "2018-08-15T18:13:11.373695Z",
     "start_time": "2018-08-15T18:13:11.358878Z"
    }
   },
   "outputs": [],
   "source": [
    "df"
   ]
  },
  {
   "cell_type": "code",
   "execution_count": null,
   "metadata": {
    "ExecuteTime": {
     "end_time": "2018-08-15T18:46:32.724876Z",
     "start_time": "2018-08-15T18:13:29.747796Z"
    }
   },
   "outputs": [],
   "source": [
    "# childish_lyrics = scrape_lyrics(childish_tracks)"
   ]
  },
  {
   "cell_type": "code",
   "execution_count": null,
   "metadata": {
    "ExecuteTime": {
     "end_time": "2018-08-15T18:46:33.124109Z",
     "start_time": "2018-08-15T18:46:33.117465Z"
    }
   },
   "outputs": [],
   "source": [
    "print(len(childish_lyrics))\n",
    "childish_lyrics[:10]"
   ]
  },
  {
   "cell_type": "code",
   "execution_count": null,
   "metadata": {
    "ExecuteTime": {
     "end_time": "2018-08-15T18:46:33.907293Z",
     "start_time": "2018-08-15T18:46:33.901148Z"
    }
   },
   "outputs": [],
   "source": [
    "import pickle\n",
    "\n",
    "with open('childish_gambino_real.pkl', 'wb') as picklefile:\n",
    "    pickle.dump(childish_lyrics, picklefile)"
   ]
  },
  {
   "cell_type": "code",
   "execution_count": null,
   "metadata": {
    "ExecuteTime": {
     "end_time": "2018-08-15T18:46:33.517774Z",
     "start_time": "2018-08-15T18:46:33.514826Z"
    }
   },
   "outputs": [],
   "source": [
    "## fix split_lyrics function and split all of the pkl files"
   ]
  },
  {
   "cell_type": "code",
   "execution_count": null,
   "metadata": {},
   "outputs": [],
   "source": []
  },
  {
   "cell_type": "code",
   "execution_count": null,
   "metadata": {},
   "outputs": [],
   "source": []
  },
  {
   "cell_type": "code",
   "execution_count": null,
   "metadata": {
    "ExecuteTime": {
     "end_time": "2018-08-15T19:21:02.714728Z",
     "start_time": "2018-08-15T19:21:02.710510Z"
    }
   },
   "outputs": [],
   "source": [
    "def chance_api_to_mongo(pages):\n",
    "    for i in range(1, pages+1):\n",
    "        response = requests.get((\"https://api.genius.com/artists/16751/songs?sort=popularity&per_page=50&page=\" + str(i)),\n",
    "                        auth=oauth)\n",
    "        songs_json = response.json()\n",
    "        songs = songs_json['response']['songs']\n",
    "        db.songs.insert_many(songs)\n",
    "        print('Page ' + str(i) + ' complete!')"
   ]
  },
  {
   "cell_type": "code",
   "execution_count": null,
   "metadata": {
    "ExecuteTime": {
     "end_time": "2018-08-15T19:22:38.458193Z",
     "start_time": "2018-08-15T19:22:26.545902Z"
    }
   },
   "outputs": [],
   "source": [
    "# chance_api_to_mongo(8)"
   ]
  },
  {
   "cell_type": "code",
   "execution_count": null,
   "metadata": {
    "ExecuteTime": {
     "end_time": "2018-08-15T19:22:38.851379Z",
     "start_time": "2018-08-15T19:22:38.845843Z"
    }
   },
   "outputs": [],
   "source": [
    "db.songs.count()"
   ]
  },
  {
   "cell_type": "code",
   "execution_count": 16,
   "metadata": {
    "ExecuteTime": {
     "end_time": "2018-08-16T00:51:11.370599Z",
     "start_time": "2018-08-16T00:51:11.366815Z"
    }
   },
   "outputs": [],
   "source": [
    "def kdot_api_to_mongo(pages):\n",
    "    for i in range(1, pages+1):\n",
    "        response = requests.get((\"https://api.genius.com/artists/1421/songs?sort=popularity&per_page=50&page=\" + str(i)),\n",
    "                        auth=oauth)\n",
    "        songs_json = response.json()\n",
    "        songs = songs_json['response']['songs']\n",
    "        db.songs.insert_many(songs)\n",
    "        print('Page ' + str(i) + ' complete!')"
   ]
  },
  {
   "cell_type": "code",
   "execution_count": null,
   "metadata": {
    "ExecuteTime": {
     "end_time": "2018-08-15T19:30:25.739639Z",
     "start_time": "2018-08-15T19:29:44.016224Z"
    }
   },
   "outputs": [],
   "source": [
    "# kdot_api_to_mongo(16)"
   ]
  },
  {
   "cell_type": "code",
   "execution_count": null,
   "metadata": {
    "ExecuteTime": {
     "end_time": "2018-08-15T19:30:26.136704Z",
     "start_time": "2018-08-15T19:30:26.130843Z"
    }
   },
   "outputs": [],
   "source": [
    "db.songs.count()"
   ]
  },
  {
   "cell_type": "code",
   "execution_count": null,
   "metadata": {
    "ExecuteTime": {
     "end_time": "2018-08-15T19:31:58.289190Z",
     "start_time": "2018-08-15T19:31:58.285550Z"
    }
   },
   "outputs": [],
   "source": [
    "def drake_api_to_mongo(pages):\n",
    "    for i in range(1, pages+1):\n",
    "        response = requests.get((\"https://api.genius.com/artists/130/songs?sort=popularity&per_page=50&page=\" + str(i)),\n",
    "                        auth=oauth)\n",
    "        songs_json = response.json()\n",
    "        songs = songs_json['response']['songs']\n",
    "        db.songs.insert_many(songs)\n",
    "        print('Page ' + str(i) + ' complete!')"
   ]
  },
  {
   "cell_type": "code",
   "execution_count": null,
   "metadata": {
    "ExecuteTime": {
     "end_time": "2018-08-15T19:32:59.111689Z",
     "start_time": "2018-08-15T19:32:09.908552Z"
    }
   },
   "outputs": [],
   "source": [
    "# drake_api_to_mongo(23)"
   ]
  },
  {
   "cell_type": "code",
   "execution_count": null,
   "metadata": {
    "ExecuteTime": {
     "end_time": "2018-08-15T19:32:59.512028Z",
     "start_time": "2018-08-15T19:32:59.506302Z"
    }
   },
   "outputs": [],
   "source": [
    "db.songs.count()"
   ]
  },
  {
   "cell_type": "code",
   "execution_count": null,
   "metadata": {
    "ExecuteTime": {
     "end_time": "2018-08-15T19:42:24.564358Z",
     "start_time": "2018-08-15T19:42:24.561386Z"
    }
   },
   "outputs": [],
   "source": [
    "def kanye_api_to_mongo(pages):\n",
    "    for i in range(1, pages+1):\n",
    "        response = requests.get((\"https://api.genius.com/artists/72/songs?sort=popularity&per_page=50&page=\" + str(i)),\n",
    "                        auth=oauth)\n",
    "        songs_json = response.json()\n",
    "        songs = songs_json['response']['songs']\n",
    "        db.songs.insert_many(songs)\n",
    "        print('Page ' + str(i) + ' complete!')"
   ]
  },
  {
   "cell_type": "code",
   "execution_count": null,
   "metadata": {
    "ExecuteTime": {
     "end_time": "2018-08-15T19:44:00.542165Z",
     "start_time": "2018-08-15T19:42:39.884988Z"
    }
   },
   "outputs": [],
   "source": [
    "# kanye_api_to_mongo(28)"
   ]
  },
  {
   "cell_type": "code",
   "execution_count": null,
   "metadata": {
    "ExecuteTime": {
     "end_time": "2018-08-15T19:44:00.941579Z",
     "start_time": "2018-08-15T19:44:00.936060Z"
    }
   },
   "outputs": [],
   "source": [
    "db.songs.count()"
   ]
  },
  {
   "cell_type": "code",
   "execution_count": null,
   "metadata": {
    "ExecuteTime": {
     "end_time": "2018-08-15T19:44:01.542987Z",
     "start_time": "2018-08-15T19:44:01.338594Z"
    }
   },
   "outputs": [],
   "source": [
    "track_list = track_info()"
   ]
  },
  {
   "cell_type": "code",
   "execution_count": null,
   "metadata": {
    "ExecuteTime": {
     "end_time": "2018-08-15T19:44:15.664155Z",
     "start_time": "2018-08-15T19:44:15.659518Z"
    }
   },
   "outputs": [],
   "source": [
    "print(len(set(track_list)))"
   ]
  },
  {
   "cell_type": "code",
   "execution_count": null,
   "metadata": {
    "ExecuteTime": {
     "end_time": "2018-08-15T19:45:44.879838Z",
     "start_time": "2018-08-15T19:45:44.872801Z"
    }
   },
   "outputs": [],
   "source": [
    "chance_tracks = artist_tracks('Chance The Rapper', track_list)\n",
    "\n",
    "print(len(chance_tracks))\n",
    "chance_tracks[:5]"
   ]
  },
  {
   "cell_type": "code",
   "execution_count": 19,
   "metadata": {
    "ExecuteTime": {
     "end_time": "2018-08-16T00:51:56.431222Z",
     "start_time": "2018-08-16T00:51:56.407869Z"
    }
   },
   "outputs": [
    {
     "name": "stdout",
     "output_type": "stream",
     "text": [
      "351\n"
     ]
    },
    {
     "data": {
      "text/plain": [
       "[['Kendrick Lamar',\n",
       "  'Look Out For Detox',\n",
       "  'https://genius.com/Kendrick-lamar-look-out-for-detox-lyrics'],\n",
       " ['Kendrick Lamar',\n",
       "  'HUMBLE.',\n",
       "  'https://genius.com/Kendrick-lamar-humble-lyrics'],\n",
       " ['Kendrick Lamar',\n",
       "  '\\u200bm.A.A.d city',\n",
       "  'https://genius.com/Kendrick-lamar-maad-city-lyrics'],\n",
       " ['Kendrick Lamar',\n",
       "  'Swimming Pools (Drank)',\n",
       "  'https://genius.com/Kendrick-lamar-swimming-pools-drank-lyrics'],\n",
       " ['Kendrick Lamar', 'DNA.', 'https://genius.com/Kendrick-lamar-dna-lyrics'],\n",
       " ['Kendrick Lamar',\n",
       "  'Money Trees',\n",
       "  'https://genius.com/Kendrick-lamar-money-trees-lyrics'],\n",
       " ['Kendrick Lamar',\n",
       "  \"Bitch, Don't Kill My Vibe\",\n",
       "  'https://genius.com/Kendrick-lamar-bitch-dont-kill-my-vibe-lyrics'],\n",
       " ['Kendrick Lamar', 'XXX.', 'https://genius.com/Kendrick-lamar-xxx-lyrics'],\n",
       " ['Kendrick Lamar',\n",
       "  'Poetic Justice',\n",
       "  'https://genius.com/Kendrick-lamar-poetic-justice-lyrics'],\n",
       " ['Kendrick Lamar',\n",
       "  'King Kunta',\n",
       "  'https://genius.com/Kendrick-lamar-king-kunta-lyrics'],\n",
       " ['Kendrick Lamar', 'LOVE.', 'https://genius.com/Kendrick-lamar-love-lyrics'],\n",
       " ['Kendrick Lamar',\n",
       "  'Backseat Freestyle',\n",
       "  'https://genius.com/Kendrick-lamar-backseat-freestyle-lyrics'],\n",
       " ['Kendrick Lamar',\n",
       "  'Alright',\n",
       "  'https://genius.com/Kendrick-lamar-alright-lyrics'],\n",
       " ['Kendrick Lamar',\n",
       "  'The Blacker the Berry',\n",
       "  'https://genius.com/Kendrick-lamar-the-blacker-the-berry-lyrics'],\n",
       " ['Kendrick Lamar',\n",
       "  'LOYALTY.',\n",
       "  'https://genius.com/Kendrick-lamar-loyalty-lyrics'],\n",
       " ['Kendrick Lamar',\n",
       "  'ELEMENT.',\n",
       "  'https://genius.com/Kendrick-lamar-element-lyrics'],\n",
       " ['Kendrick Lamar',\n",
       "  \"Sing About Me, I'm Dying of Thirst\",\n",
       "  'https://genius.com/Kendrick-lamar-sing-about-me-im-dying-of-thirst-lyrics'],\n",
       " ['Kendrick Lamar',\n",
       "  '\\u200bi (Album Version)',\n",
       "  'https://genius.com/Kendrick-lamar-i-album-version-lyrics'],\n",
       " ['Kendrick Lamar',\n",
       "  'A.D.H.D',\n",
       "  'https://genius.com/Kendrick-lamar-adhd-lyrics'],\n",
       " ['Kendrick Lamar',\n",
       "  'The Heart Part 4',\n",
       "  'https://genius.com/Kendrick-lamar-the-heart-part-4-lyrics'],\n",
       " ['Kendrick Lamar', 'FEAR.', 'https://genius.com/Kendrick-lamar-fear-lyrics'],\n",
       " ['Kendrick Lamar',\n",
       "  'Mortal Man',\n",
       "  'https://genius.com/Kendrick-lamar-mortal-man-lyrics'],\n",
       " ['Kendrick Lamar',\n",
       "  'The Art of Peer Pressure',\n",
       "  'https://genius.com/Kendrick-lamar-the-art-of-peer-pressure-lyrics'],\n",
       " ['Kendrick Lamar',\n",
       "  'HiiiPoWeR',\n",
       "  'https://genius.com/Kendrick-lamar-hiiipower-lyrics'],\n",
       " ['Kendrick Lamar',\n",
       "  \"Wesley's Theory\",\n",
       "  'https://genius.com/Kendrick-lamar-wesleys-theory-lyrics'],\n",
       " ['Kendrick Lamar',\n",
       "  'Rigamortus',\n",
       "  'https://genius.com/Kendrick-lamar-rigamortus-lyrics'],\n",
       " ['Kendrick Lamar', '\\u200bu', 'https://genius.com/Kendrick-lamar-u-lyrics'],\n",
       " ['Kendrick Lamar',\n",
       "  'PRIDE.',\n",
       "  'https://genius.com/Kendrick-lamar-pride-lyrics'],\n",
       " ['Kendrick Lamar',\n",
       "  'Black Friday',\n",
       "  'https://genius.com/Kendrick-lamar-black-friday-lyrics'],\n",
       " ['Kendrick Lamar',\n",
       "  'DUCKWORTH.',\n",
       "  'https://genius.com/Kendrick-lamar-duckworth-lyrics'],\n",
       " ['Kendrick Lamar',\n",
       "  'The Recipe',\n",
       "  'https://genius.com/Kendrick-lamar-the-recipe-lyrics'],\n",
       " ['Kendrick Lamar',\n",
       "  'How Much a Dollar Cost',\n",
       "  'https://genius.com/Kendrick-lamar-how-much-a-dollar-cost-lyrics'],\n",
       " ['Kendrick Lamar',\n",
       "  'These Walls',\n",
       "  'https://genius.com/Kendrick-lamar-these-walls-lyrics'],\n",
       " ['Kendrick Lamar',\n",
       "  \"Sherane a.k.a Master Splinter's Daughter\",\n",
       "  'https://genius.com/Kendrick-lamar-sherane-aka-master-splinters-daughter-lyrics'],\n",
       " ['Kendrick Lamar',\n",
       "  'Hood Politics',\n",
       "  'https://genius.com/Kendrick-lamar-hood-politics-lyrics'],\n",
       " ['Kendrick Lamar', 'LUST.', 'https://genius.com/Kendrick-lamar-lust-lyrics'],\n",
       " ['Kendrick Lamar',\n",
       "  \"Bitch, Don't Kill My Vibe (Remix)\",\n",
       "  'https://genius.com/Kendrick-lamar-bitch-dont-kill-my-vibe-remix-lyrics'],\n",
       " ['Kendrick Lamar', 'FEEL.', 'https://genius.com/Kendrick-lamar-feel-lyrics'],\n",
       " ['Kendrick Lamar',\n",
       "  '\\u200buntitled 02 | 06.23.2014.',\n",
       "  'https://genius.com/Kendrick-lamar-untitled-02-06232014-lyrics'],\n",
       " ['Kendrick Lamar', 'YAH.', 'https://genius.com/Kendrick-lamar-yah-lyrics'],\n",
       " ['Kendrick Lamar',\n",
       "  'Cartoon & Cereal',\n",
       "  'https://genius.com/Kendrick-lamar-cartoon-and-cereal-lyrics'],\n",
       " ['Kendrick Lamar', 'GOD.', 'https://genius.com/Kendrick-lamar-god-lyrics'],\n",
       " ['Kendrick Lamar', 'Real', 'https://genius.com/Kendrick-lamar-real-lyrics'],\n",
       " ['Kendrick Lamar',\n",
       "  'BLOOD.',\n",
       "  'https://genius.com/Kendrick-lamar-blood-lyrics'],\n",
       " ['Kendrick Lamar',\n",
       "  'For Free? (Interlude)',\n",
       "  'https://genius.com/Kendrick-lamar-for-free-interlude-lyrics'],\n",
       " ['Kendrick Lamar',\n",
       "  'Institutionalized',\n",
       "  'https://genius.com/Kendrick-lamar-institutionalized-lyrics'],\n",
       " ['Kendrick Lamar',\n",
       "  '\\u200bgood kid',\n",
       "  'https://genius.com/Kendrick-lamar-good-kid-lyrics'],\n",
       " ['Kendrick Lamar',\n",
       "  '\\u200buntitled 07 | 2014-2016',\n",
       "  'https://genius.com/Kendrick-lamar-untitled-07-2014-2016-lyrics'],\n",
       " ['Kendrick Lamar',\n",
       "  'To Pimp a Butterfly [Tracklist + Album Art]',\n",
       "  'https://genius.com/Kendrick-lamar-to-pimp-a-butterfly-tracklist-album-art-annotated'],\n",
       " ['Kendrick Lamar', 'Momma', 'https://genius.com/Kendrick-lamar-momma-lyrics'],\n",
       " ['Kendrick Lamar',\n",
       "  'For Sale? (Interlude)',\n",
       "  'https://genius.com/Kendrick-lamar-for-sale-interlude-lyrics'],\n",
       " ['Kendrick Lamar',\n",
       "  'Look Out For Detox',\n",
       "  'https://genius.com/Kendrick-lamar-look-out-for-detox-lyrics'],\n",
       " ['Kendrick Lamar',\n",
       "  'Ronald Reagan Era (His Evils)',\n",
       "  'https://genius.com/Kendrick-lamar-ronald-reagan-era-his-evils-lyrics'],\n",
       " ['Kendrick Lamar',\n",
       "  'Blow My High (Members Only)',\n",
       "  'https://genius.com/Kendrick-lamar-blow-my-high-members-only-lyrics'],\n",
       " ['Kendrick Lamar',\n",
       "  'Complexion (A Zulu Love)',\n",
       "  'https://genius.com/Kendrick-lamar-complexion-a-zulu-love-lyrics'],\n",
       " ['Kendrick Lamar',\n",
       "  'The Spiteful Chant',\n",
       "  'https://genius.com/Kendrick-lamar-the-spiteful-chant-lyrics'],\n",
       " ['Kendrick Lamar',\n",
       "  '\\u200buntitled 03 | 05.28.2013.',\n",
       "  'https://genius.com/Kendrick-lamar-untitled-03-05282013-lyrics'],\n",
       " ['Kendrick Lamar',\n",
       "  \"Keisha's Song (Her Pain)\",\n",
       "  'https://genius.com/Kendrick-lamar-keishas-song-her-pain-lyrics'],\n",
       " ['Kendrick Lamar',\n",
       "  \"Hol' Up\",\n",
       "  'https://genius.com/Kendrick-lamar-hol-up-lyrics'],\n",
       " ['Kendrick Lamar',\n",
       "  'Fuck Your Ethnicity',\n",
       "  'https://genius.com/Kendrick-lamar-fuck-your-ethnicity-lyrics'],\n",
       " ['Kendrick Lamar',\n",
       "  'Compton',\n",
       "  'https://genius.com/Kendrick-lamar-compton-lyrics'],\n",
       " ['Kendrick Lamar',\n",
       "  'Cut You Off (To Grow Closer)',\n",
       "  'https://genius.com/Kendrick-lamar-cut-you-off-to-grow-closer-lyrics'],\n",
       " ['Kendrick Lamar',\n",
       "  \"You Ain't Gotta Lie (Momma Said)\",\n",
       "  'https://genius.com/Kendrick-lamar-you-aint-gotta-lie-momma-said-lyrics'],\n",
       " ['Kendrick Lamar',\n",
       "  'Black Boy Fly',\n",
       "  'https://genius.com/Kendrick-lamar-black-boy-fly-lyrics'],\n",
       " ['Kendrick Lamar',\n",
       "  'Opposites Attract (Tomorrow W/O Her)',\n",
       "  'https://genius.com/Kendrick-lamar-opposites-attract-tomorrow-w-o-her-lyrics'],\n",
       " ['Kendrick Lamar',\n",
       "  \"The Jig Is Up (Dump'n)\",\n",
       "  'https://genius.com/Kendrick-lamar-the-jig-is-up-dumpn-lyrics'],\n",
       " ['Kendrick Lamar',\n",
       "  'The Heart Pt. 2',\n",
       "  'https://genius.com/Kendrick-lamar-the-heart-pt-2-lyrics'],\n",
       " ['Kendrick Lamar',\n",
       "  \"Poe Man's Dreams (His Vice)\",\n",
       "  'https://genius.com/Kendrick-lamar-poe-mans-dreams-his-vice-lyrics'],\n",
       " ['Kendrick Lamar',\n",
       "  'Ignorance is Bliss',\n",
       "  'https://genius.com/Kendrick-lamar-ignorance-is-bliss-lyrics'],\n",
       " ['Kendrick Lamar',\n",
       "  'Now or Never',\n",
       "  'https://genius.com/Kendrick-lamar-now-or-never-lyrics'],\n",
       " ['Kendrick Lamar',\n",
       "  '\\u200buntitled 05 | 09.21.2014.',\n",
       "  'https://genius.com/Kendrick-lamar-untitled-05-09212014-lyrics'],\n",
       " ['Kendrick Lamar',\n",
       "  'No Makeup (Her Vice)',\n",
       "  'https://genius.com/Kendrick-lamar-no-makeup-her-vice-lyrics'],\n",
       " ['Kendrick Lamar',\n",
       "  'DAMN. [Tracklist + Album Art]',\n",
       "  'https://genius.com/Kendrick-lamar-damn-tracklist-album-art-annotated'],\n",
       " ['Kendrick Lamar',\n",
       "  'Untitled 8 (Blue Faces)',\n",
       "  'https://genius.com/Kendrick-lamar-untitled-8-blue-faces-lyrics'],\n",
       " ['Kendrick Lamar',\n",
       "  '\\u200bi (Single Version)',\n",
       "  'https://genius.com/Kendrick-lamar-i-single-version-lyrics'],\n",
       " ['Kendrick Lamar',\n",
       "  \"Ab-Soul's Outro\",\n",
       "  'https://genius.com/Kendrick-lamar-ab-souls-outro-lyrics'],\n",
       " ['Kendrick Lamar',\n",
       "  'Westside, Right on Time',\n",
       "  'https://genius.com/Kendrick-lamar-westside-right-on-time-lyrics'],\n",
       " ['Kendrick Lamar',\n",
       "  'Kush & Corinthians (His Pain)',\n",
       "  'https://genius.com/Kendrick-lamar-kush-and-corinthians-his-pain-lyrics'],\n",
       " ['Kendrick Lamar',\n",
       "  'Growing Apart (To Get Closer)',\n",
       "  'https://genius.com/Kendrick-lamar-growing-apart-to-get-closer-lyrics'],\n",
       " ['Kendrick Lamar',\n",
       "  'Black Panther',\n",
       "  'https://genius.com/Kendrick-lamar-black-panther-lyrics'],\n",
       " ['Kendrick Lamar',\n",
       "  '\\u200buntitled 01 | 08.19.2014.',\n",
       "  'https://genius.com/Kendrick-lamar-untitled-01-08192014-lyrics'],\n",
       " ['Kendrick Lamar',\n",
       "  \"Tammy's Song (Her Evils)\",\n",
       "  'https://genius.com/Kendrick-lamar-tammys-song-her-evils-lyrics'],\n",
       " ['Kendrick Lamar', 'H.O.C.', 'https://genius.com/Kendrick-lamar-hoc-lyrics'],\n",
       " ['Kendrick Lamar',\n",
       "  '\\u200buntitled 08 | 09.06.2014.',\n",
       "  'https://genius.com/Kendrick-lamar-untitled-08-09062014-lyrics'],\n",
       " ['Kendrick Lamar',\n",
       "  'Collect Calls',\n",
       "  'https://genius.com/Kendrick-lamar-collect-calls-lyrics'],\n",
       " ['Kendrick Lamar',\n",
       "  '\\u200buntitled 06 | 06.30.2014.',\n",
       "  'https://genius.com/Kendrick-lamar-untitled-06-06302014-lyrics'],\n",
       " ['Kendrick Lamar',\n",
       "  'The Heart Pt. 3 (Will You Let it Die?)',\n",
       "  'https://genius.com/Kendrick-lamar-the-heart-pt-3-will-you-let-it-die-lyrics'],\n",
       " ['Kendrick Lamar',\n",
       "  '\\u200buntitled unmastered. [Tracklist + Album Art]',\n",
       "  'https://genius.com/Kendrick-lamar-untitled-unmastered-tracklist-album-art-annotated'],\n",
       " ['Kendrick Lamar',\n",
       "  '\\u200buntitled 04 | 08.14.2014.',\n",
       "  'https://genius.com/Kendrick-lamar-untitled-04-08142014-lyrics'],\n",
       " ['Kendrick Lamar',\n",
       "  'Monster Freestyle',\n",
       "  'https://genius.com/Kendrick-lamar-monster-freestyle-lyrics'],\n",
       " ['Kendrick Lamar',\n",
       "  'Michael Jordan',\n",
       "  'https://genius.com/Kendrick-lamar-michael-jordan-lyrics'],\n",
       " ['Kendrick Lamar', 'Faith', 'https://genius.com/Kendrick-lamar-faith-lyrics'],\n",
       " ['Kendrick Lamar',\n",
       "  'Average Joe',\n",
       "  'https://genius.com/Kendrick-lamar-average-joe-lyrics'],\n",
       " ['Kendrick Lamar',\n",
       "  'Swimming Pools (Black Hippy Remix)',\n",
       "  'https://genius.com/Kendrick-lamar-swimming-pools-black-hippy-remix-lyrics'],\n",
       " ['Kendrick Lamar',\n",
       "  'County Building Blues',\n",
       "  'https://genius.com/Kendrick-lamar-county-building-blues-lyrics'],\n",
       " ['Kendrick Lamar',\n",
       "  'P&P 1.5',\n",
       "  'https://genius.com/Kendrick-lamar-p-p-15-lyrics'],\n",
       " ['Kendrick Lamar',\n",
       "  'Chapter Six',\n",
       "  'https://genius.com/Kendrick-lamar-chapter-six-lyrics'],\n",
       " ['Kendrick Lamar',\n",
       "  'She Needs Me',\n",
       "  'https://genius.com/Kendrick-lamar-she-needs-me-lyrics'],\n",
       " ['Kendrick Lamar', 'P&P', 'https://genius.com/Kendrick-lamar-p-p-lyrics'],\n",
       " ['Kendrick Lamar',\n",
       "  'Untitled 3 (Grammy Performance)',\n",
       "  'https://genius.com/Kendrick-lamar-untitled-3-grammy-performance-lyrics'],\n",
       " ['Kendrick Lamar',\n",
       "  'The Heart Pt. 1',\n",
       "  'https://genius.com/Kendrick-lamar-the-heart-pt-1-lyrics'],\n",
       " ['Kendrick Lamar',\n",
       "  'Alien Girl (Today With Her)',\n",
       "  'https://genius.com/Kendrick-lamar-alien-girl-today-with-her-lyrics'],\n",
       " ['Kendrick Lamar',\n",
       "  'Beyoncé',\n",
       "  'https://genius.com/Kendrick-lamar-beyonce-lyrics'],\n",
       " ['Kendrick Lamar',\n",
       "  'Cloud 10',\n",
       "  'https://genius.com/Kendrick-lamar-cloud-10-lyrics'],\n",
       " ['Kendrick Lamar',\n",
       "  'I Hate You',\n",
       "  'https://genius.com/Kendrick-lamar-i-hate-you-lyrics'],\n",
       " ['Kendrick Lamar',\n",
       "  '6 Foot 7 Foot (Freestyle)',\n",
       "  'https://genius.com/Kendrick-lamar-6-foot-7-foot-freestyle-lyrics'],\n",
       " ['Kendrick Lamar',\n",
       "  'Beats By Dre Commercial - Dre/Kendrick',\n",
       "  'https://genius.com/Kendrick-lamar-beats-by-dre-commercial-dre-kendrick-lyrics'],\n",
       " ['Kendrick Lamar',\n",
       "  'She Needs Me (Remix)',\n",
       "  'https://genius.com/Kendrick-lamar-she-needs-me-remix-lyrics'],\n",
       " ['Kendrick Lamar',\n",
       "  'Barbed Wire',\n",
       "  'https://genius.com/Kendrick-lamar-barbed-wire-lyrics'],\n",
       " ['Kendrick Lamar',\n",
       "  'Chapter Ten',\n",
       "  'https://genius.com/Kendrick-lamar-chapter-ten-lyrics'],\n",
       " ['Kendrick Lamar',\n",
       "  'Dreams',\n",
       "  'https://genius.com/Kendrick-lamar-dreams-lyrics'],\n",
       " ['Kendrick Lamar',\n",
       "  'Best Rapper Under 25',\n",
       "  'https://genius.com/Kendrick-lamar-best-rapper-under-25-lyrics'],\n",
       " ['Kendrick Lamar',\n",
       "  'Let Me Be Me',\n",
       "  'https://genius.com/Kendrick-lamar-let-me-be-me-lyrics'],\n",
       " ['Kendrick Lamar',\n",
       "  'Is It Love?',\n",
       "  'https://genius.com/Kendrick-lamar-is-it-love-lyrics'],\n",
       " ['Kendrick Lamar',\n",
       "  'R.O.T.C (Interlude)',\n",
       "  'https://genius.com/Kendrick-lamar-rotc-interlude-lyrics'],\n",
       " ['Kendrick Lamar',\n",
       "  'Heaven and Hell',\n",
       "  'https://genius.com/Kendrick-lamar-heaven-and-hell-lyrics'],\n",
       " ['Kendrick Lamar',\n",
       "  '\\u200bgood kid, m.A.A.d city [Credits]',\n",
       "  'https://genius.com/Kendrick-lamar-good-kid-maad-city-credits-annotated'],\n",
       " ['Kendrick Lamar',\n",
       "  'Vanity Slaves',\n",
       "  'https://genius.com/Kendrick-lamar-vanity-slaves-lyrics'],\n",
       " ['Kendrick Lamar',\n",
       "  'Another Nigga  (To Pimp a Butterfly)',\n",
       "  'https://genius.com/Kendrick-lamar-another-nigga-to-pimp-a-butterfly-annotated'],\n",
       " ['Kendrick Lamar',\n",
       "  'War Is My Love',\n",
       "  'https://genius.com/Kendrick-lamar-war-is-my-love-lyrics'],\n",
       " ['Kendrick Lamar',\n",
       "  'Backwards',\n",
       "  'https://genius.com/Kendrick-lamar-backwards-lyrics'],\n",
       " ['Kendrick Lamar',\n",
       "  'Kendrick Lamar',\n",
       "  'https://genius.com/Kendrick-lamar-kendrick-lamar-lyrics'],\n",
       " ['Kendrick Lamar',\n",
       "  'Last Real Nigga Alive',\n",
       "  'https://genius.com/Kendrick-lamar-last-real-nigga-alive-lyrics'],\n",
       " ['Kendrick Lamar',\n",
       "  'To Pimp a Butterfly [Credits]',\n",
       "  'https://genius.com/Kendrick-lamar-to-pimp-a-butterfly-credits-lyrics'],\n",
       " ['Kendrick Lamar',\n",
       "  'Night of The Living Junkies',\n",
       "  'https://genius.com/Kendrick-lamar-night-of-the-living-junkies-lyrics'],\n",
       " ['Kendrick Lamar',\n",
       "  'I Do This',\n",
       "  'https://genius.com/Kendrick-lamar-i-do-this-lyrics'],\n",
       " ['Kendrick Lamar',\n",
       "  'A Little Appalled',\n",
       "  'https://genius.com/Kendrick-lamar-a-little-appalled-lyrics'],\n",
       " ['Kendrick Lamar',\n",
       "  'Wanna Be Heard',\n",
       "  'https://genius.com/Kendrick-lamar-wanna-be-heard-lyrics'],\n",
       " ['Kendrick Lamar',\n",
       "  'A Milli (Freestyle)',\n",
       "  'https://genius.com/Kendrick-lamar-a-milli-freestyle-lyrics'],\n",
       " ['Kendrick Lamar',\n",
       "  'The Relevant',\n",
       "  'https://genius.com/Kendrick-lamar-the-relevant-lyrics'],\n",
       " ['Kendrick Lamar',\n",
       "  'Celebration',\n",
       "  'https://genius.com/Kendrick-lamar-celebration-lyrics'],\n",
       " ['Kendrick Lamar',\n",
       "  'I Am (Interlude)',\n",
       "  'https://genius.com/Kendrick-lamar-i-am-interlude-lyrics'],\n",
       " ['Kendrick Lamar',\n",
       "  'Kendrick Lamar\\'s \"i\" Lyric Video',\n",
       "  'https://genius.com/Kendrick-lamar-kendrick-lamars-i-lyric-video-annotated'],\n",
       " ['Kendrick Lamar',\n",
       "  'Funkmaster Flex Freestyle',\n",
       "  'https://genius.com/Kendrick-lamar-funkmaster-flex-freestyle-lyrics'],\n",
       " ['Kendrick Lamar',\n",
       "  'Compton State of Mind',\n",
       "  'https://genius.com/Kendrick-lamar-compton-state-of-mind-lyrics'],\n",
       " ['Kendrick Lamar',\n",
       "  'Alright (Music Video)',\n",
       "  'https://genius.com/Kendrick-lamar-alright-music-video-lyrics'],\n",
       " ['Kendrick Lamar',\n",
       "  'DAMN. [Booklet]',\n",
       "  'https://genius.com/Kendrick-lamar-damn-booklet-annotated'],\n",
       " ['Kendrick Lamar',\n",
       "  '2018 Grammys Performance',\n",
       "  'https://genius.com/Kendrick-lamar-2018-grammys-performance-lyrics'],\n",
       " ['Kendrick Lamar',\n",
       "  'Rigamortus Remix',\n",
       "  'https://genius.com/Kendrick-lamar-rigamortus-remix-lyrics'],\n",
       " ['Kendrick Lamar',\n",
       "  'Determined',\n",
       "  'https://genius.com/Kendrick-lamar-determined-lyrics'],\n",
       " ['Kendrick Lamar',\n",
       "  '\\u200buntitled 07 | Levitate',\n",
       "  'https://genius.com/Kendrick-lamar-untitled-07-levitate-lyrics'],\n",
       " ['Kendrick Lamar',\n",
       "  'I Do This (Remix)',\n",
       "  'https://genius.com/Kendrick-lamar-i-do-this-remix-lyrics'],\n",
       " ['Kendrick Lamar',\n",
       "  'Good kid, m.A.A.d city Track List',\n",
       "  'https://genius.com/Kendrick-lamar-good-kid-maad-city-track-list-annotated'],\n",
       " ['Kendrick Lamar',\n",
       "  'GQ Man of The Year 2013 Freestyle',\n",
       "  'https://genius.com/Kendrick-lamar-gq-man-of-the-year-2013-freestyle-lyrics'],\n",
       " ['Kendrick Lamar',\n",
       "  \"Bitch, Don't Kill My Vibe (International Remix)\",\n",
       "  'https://genius.com/Kendrick-lamar-bitch-dont-kill-my-vibe-international-remix-lyrics'],\n",
       " ['Kendrick Lamar', 'Today', 'https://genius.com/Kendrick-lamar-today-lyrics'],\n",
       " ['Kendrick Lamar',\n",
       "  'Tim Westwood Freestyle',\n",
       "  'https://genius.com/Kendrick-lamar-tim-westwood-freestyle-lyrics'],\n",
       " ['Kendrick Lamar',\n",
       "  'West Coast Wu-Tang',\n",
       "  'https://genius.com/Kendrick-lamar-west-coast-wu-tang-lyrics'],\n",
       " ['Kendrick Lamar',\n",
       "  'Vanity Slaves Part II',\n",
       "  'https://genius.com/Kendrick-lamar-vanity-slaves-part-ii-lyrics'],\n",
       " ['Kendrick Lamar',\n",
       "  'His Pain',\n",
       "  'https://genius.com/Kendrick-lamar-his-pain-lyrics'],\n",
       " ['Kendrick Lamar',\n",
       "  'For The Girlfriends',\n",
       "  'https://genius.com/Kendrick-lamar-for-the-girlfriends-lyrics'],\n",
       " ['Kendrick Lamar',\n",
       "  'Section.80 [Artwork]',\n",
       "  'https://genius.com/Kendrick-lamar-section80-artwork-annotated'],\n",
       " ['Kendrick Lamar',\n",
       "  'Sex With Society',\n",
       "  'https://genius.com/Kendrick-lamar-sex-with-society-lyrics'],\n",
       " ['Kendrick Lamar',\n",
       "  '\"i\" (Live Performance on SNL)',\n",
       "  'https://genius.com/Kendrick-lamar-i-live-performance-on-snl-lyrics'],\n",
       " ['Kendrick Lamar',\n",
       "  'World Negatives',\n",
       "  'https://genius.com/Kendrick-lamar-world-negatives-lyrics'],\n",
       " ['Kendrick Lamar',\n",
       "  'Far From Here',\n",
       "  'https://genius.com/Kendrick-lamar-far-from-here-lyrics'],\n",
       " ['Kendrick Lamar',\n",
       "  'Young & Black',\n",
       "  'https://genius.com/Kendrick-lamar-young-and-black-lyrics'],\n",
       " ['Kendrick Lamar',\n",
       "  'Thanksgiving',\n",
       "  'https://genius.com/Kendrick-lamar-thanksgiving-lyrics'],\n",
       " ['Kendrick Lamar',\n",
       "  'Compton Chemistry',\n",
       "  'https://genius.com/Kendrick-lamar-compton-chemistry-lyrics'],\n",
       " ['Kendrick Lamar',\n",
       "  'God Is Gangsta',\n",
       "  'https://genius.com/Kendrick-lamar-god-is-gangsta-lyrics'],\n",
       " ['Kendrick Lamar',\n",
       "  'Mr. Carter',\n",
       "  'https://genius.com/Kendrick-lamar-mr-carter-lyrics'],\n",
       " ['Kendrick Lamar',\n",
       "  'Phone Home',\n",
       "  'https://genius.com/Kendrick-lamar-phone-home-lyrics'],\n",
       " ['Kendrick Lamar',\n",
       "  \"Bitch, Don't Kill My Vibe (Original Version)\",\n",
       "  'https://genius.com/Kendrick-lamar-bitch-dont-kill-my-vibe-original-version-lyrics'],\n",
       " ['Kendrick Lamar',\n",
       "  'Kendrick Lamar: Rapper of the Year - GQ',\n",
       "  'https://genius.com/Kendrick-lamar-kendrick-lamar-rapper-of-the-year-gq-annotated'],\n",
       " ['Kendrick Lamar',\n",
       "  'Dumb It Down',\n",
       "  'https://genius.com/Kendrick-lamar-dumb-it-down-lyrics'],\n",
       " ['Kendrick Lamar',\n",
       "  'Overly Dedicated [Album Art + Tracklist]',\n",
       "  'https://genius.com/Kendrick-lamar-overly-dedicated-album-art-tracklist-annotated'],\n",
       " ['Kendrick Lamar',\n",
       "  'Kurupted',\n",
       "  'https://genius.com/Kendrick-lamar-kurupted-lyrics'],\n",
       " ['Kendrick Lamar',\n",
       "  \"Don't Understand\",\n",
       "  'https://genius.com/Kendrick-lamar-dont-understand-lyrics'],\n",
       " ['Kendrick Lamar',\n",
       "  'Alright (BET Version)',\n",
       "  'https://genius.com/Kendrick-lamar-alright-bet-version-lyrics'],\n",
       " ['Kendrick Lamar',\n",
       "  \"Bitch I'm In The Club\",\n",
       "  'https://genius.com/Kendrick-lamar-bitch-im-in-the-club-lyrics'],\n",
       " ['Kendrick Lamar',\n",
       "  'K104 Halloween Freestyle',\n",
       "  'https://genius.com/Kendrick-lamar-k104-halloween-freestyle-lyrics'],\n",
       " ['Kendrick Lamar',\n",
       "  'Play with Fire',\n",
       "  'https://genius.com/Kendrick-lamar-play-with-fire-lyrics'],\n",
       " ['Kendrick Lamar',\n",
       "  'For The Homie',\n",
       "  'https://genius.com/Kendrick-lamar-for-the-homie-lyrics'],\n",
       " ['Kendrick Lamar',\n",
       "  'Real 92.3 Freestyle',\n",
       "  'https://genius.com/Kendrick-lamar-real-923-freestyle-lyrics'],\n",
       " ['Kendrick Lamar',\n",
       "  'Kendrick Lamar - Humble (Clean Lyrics)',\n",
       "  'https://genius.com/Kendrick-lamar-kendrick-lamar-humble-clean-lyrics-lyrics'],\n",
       " ['Kendrick Lamar', 'Trip', 'https://genius.com/Kendrick-lamar-trip-lyrics'],\n",
       " ['Kendrick Lamar',\n",
       "  'Misunderstood',\n",
       "  'https://genius.com/Kendrick-lamar-misunderstood-lyrics'],\n",
       " ['Kendrick Lamar',\n",
       "  'Uncle Bobby & Jason Keaton',\n",
       "  'https://genius.com/Kendrick-lamar-uncle-bobby-and-jason-keaton-lyrics'],\n",
       " ['Kendrick Lamar',\n",
       "  'Intro (HOVA Song Freestyle)',\n",
       "  'https://genius.com/Kendrick-lamar-intro-hova-song-freestyle-lyrics'],\n",
       " ['Kendrick Lamar',\n",
       "  'To Pimp a Butterfly [Booklet]',\n",
       "  'https://genius.com/Kendrick-lamar-to-pimp-a-butterfly-booklet-annotated'],\n",
       " ['Kendrick Lamar',\n",
       "  'My People',\n",
       "  'https://genius.com/Kendrick-lamar-my-people-lyrics'],\n",
       " ['Kendrick Lamar',\n",
       "  'BET BackRoom Freestyle',\n",
       "  'https://genius.com/Kendrick-lamar-bet-backroom-freestyle-lyrics'],\n",
       " ['Kendrick Lamar',\n",
       "  'Blame God',\n",
       "  'https://genius.com/Kendrick-lamar-blame-god-lyrics'],\n",
       " ['Kendrick Lamar',\n",
       "  'The Best Rapper Alive',\n",
       "  'https://genius.com/Kendrick-lamar-the-best-rapper-alive-lyrics'],\n",
       " ['Kendrick Lamar',\n",
       "  'Good kid, m.A.A.d city [Artwork]',\n",
       "  'https://genius.com/Kendrick-lamar-good-kid-maad-city-artwork-annotated'],\n",
       " ['Kendrick Lamar',\n",
       "  'Imagine',\n",
       "  'https://genius.com/Kendrick-lamar-imagine-lyrics'],\n",
       " ['Kendrick Lamar',\n",
       "  'Outrageous',\n",
       "  'https://genius.com/Kendrick-lamar-outrageous-lyrics'],\n",
       " ['Kendrick Lamar',\n",
       "  'XXL Freshmen Freestyle',\n",
       "  'https://genius.com/Kendrick-lamar-xxl-freshmen-freestyle-lyrics'],\n",
       " ['Kendrick Lamar',\n",
       "  'My Mind Drifts',\n",
       "  'https://genius.com/Kendrick-lamar-my-mind-drifts-lyrics'],\n",
       " ['Kendrick Lamar',\n",
       "  'Skill Still Appeal',\n",
       "  'https://genius.com/Kendrick-lamar-skill-still-appeal-lyrics'],\n",
       " ['Kendrick Lamar',\n",
       "  \"Hub City's Wild Side\",\n",
       "  'https://genius.com/Kendrick-lamar-hub-citys-wild-side-lyrics'],\n",
       " ['Kendrick Lamar',\n",
       "  'Blood Sport (Freestyle)',\n",
       "  'https://genius.com/Kendrick-lamar-blood-sport-freestyle-lyrics'],\n",
       " ['Kendrick Lamar',\n",
       "  'G Code',\n",
       "  'https://genius.com/Kendrick-lamar-g-code-lyrics'],\n",
       " ['Kendrick Lamar',\n",
       "  'SUPER...',\n",
       "  'https://genius.com/Kendrick-lamar-super-lyrics'],\n",
       " ['Kendrick Lamar',\n",
       "  'Sing That Shit (20syl Juicy Remix)',\n",
       "  'https://genius.com/Kendrick-lamar-sing-that-shit-20syl-juicy-remix-lyrics'],\n",
       " ['Kendrick Lamar',\n",
       "  'Hot 97 Interview on \"Control\"',\n",
       "  'https://genius.com/Kendrick-lamar-hot-97-interview-on-control-annotated'],\n",
       " ['Kendrick Lamar',\n",
       "  'Friend of Mine',\n",
       "  'https://genius.com/Kendrick-lamar-friend-of-mine-lyrics'],\n",
       " ['Kendrick Lamar',\n",
       "  \"Fuckin' Problems (Lost Verse)\",\n",
       "  'https://genius.com/Kendrick-lamar-fuckin-problems-lost-verse-lyrics'],\n",
       " ['Kendrick Lamar',\n",
       "  'Facebook Q&A 1/31/14',\n",
       "  'https://genius.com/Kendrick-lamar-facebook-q-a-1-31-14-annotated'],\n",
       " ['Kendrick Lamar',\n",
       "  'Fade to Black',\n",
       "  'https://genius.com/Kendrick-lamar-fade-to-black-annotated'],\n",
       " ['Kendrick Lamar',\n",
       "  'Untitled 2015 Leak',\n",
       "  'https://genius.com/Kendrick-lamar-untitled-2015-leak-lyrics'],\n",
       " ['Kendrick Lamar',\n",
       "  'Take Off Your Pants',\n",
       "  'https://genius.com/Kendrick-lamar-take-off-your-pants-lyrics'],\n",
       " ['Kendrick Lamar',\n",
       "  'Biggie',\n",
       "  'https://genius.com/Kendrick-lamar-biggie-lyrics'],\n",
       " ['Kendrick Lamar',\n",
       "  'Shot Down',\n",
       "  'https://genius.com/Kendrick-lamar-shot-down-lyrics'],\n",
       " ['Kendrick Lamar',\n",
       "  'Little Johnny',\n",
       "  'https://genius.com/Kendrick-lamar-little-johnny-lyrics'],\n",
       " ['Kendrick Lamar',\n",
       "  'C4 [Tracklist + Artwork]',\n",
       "  'https://genius.com/Kendrick-lamar-c4-tracklist-artwork-annotated'],\n",
       " ['Kendrick Lamar',\n",
       "  'Shake It Off (Freestyle)',\n",
       "  'https://genius.com/Kendrick-lamar-shake-it-off-freestyle-lyrics'],\n",
       " ['Kendrick Lamar', 'Vegas', 'https://genius.com/Kendrick-lamar-vegas-lyrics'],\n",
       " ['Kendrick Lamar',\n",
       "  'Warning Shot',\n",
       "  'https://genius.com/Kendrick-lamar-warning-shot-lyrics'],\n",
       " ['Kendrick Lamar',\n",
       "  'One Shot Kill',\n",
       "  'https://genius.com/Kendrick-lamar-one-shot-kill-lyrics'],\n",
       " ['Kendrick Lamar',\n",
       "  \"Picture Me Rollin' (Remix)\",\n",
       "  'https://genius.com/Kendrick-lamar-picture-me-rollin-remix-lyrics'],\n",
       " ['Kendrick Lamar',\n",
       "  'Rare Breed',\n",
       "  'https://genius.com/Kendrick-lamar-rare-breed-lyrics'],\n",
       " ['Kendrick Lamar',\n",
       "  '3 Minutes of Watts',\n",
       "  'https://genius.com/Kendrick-lamar-3-minutes-of-watts-lyrics'],\n",
       " ['Kendrick Lamar',\n",
       "  'Writer At War: Kendrick Lamar’s XXL Cover Story',\n",
       "  'https://genius.com/Kendrick-lamar-writer-at-war-kendrick-lamars-xxl-cover-story-annotated'],\n",
       " ['Kendrick Lamar',\n",
       "  'Bring The Pain Freestyle (On Cosmic Kev Show)',\n",
       "  'https://genius.com/Kendrick-lamar-bring-the-pain-freestyle-on-cosmic-kev-show-lyrics'],\n",
       " ['Kendrick Lamar',\n",
       "  'Illuminati Proper',\n",
       "  'https://genius.com/Kendrick-lamar-illuminati-proper-lyrics'],\n",
       " ['Kendrick Lamar',\n",
       "  'Pumped Up Kicks (Remix)',\n",
       "  'https://genius.com/Kendrick-lamar-pumped-up-kicks-remix-lyrics'],\n",
       " ['Kendrick Lamar', 'LMAO', 'https://genius.com/Kendrick-lamar-lmao-lyrics'],\n",
       " ['Kendrick Lamar',\n",
       "  'Drop The Vibe Freestyle',\n",
       "  'https://genius.com/Kendrick-lamar-drop-the-vibe-freestyle-lyrics'],\n",
       " ['Kendrick Lamar',\n",
       "  '\"i\" merchandise',\n",
       "  'https://genius.com/Kendrick-lamar-i-merchandise-annotated'],\n",
       " ['Kendrick Lamar',\n",
       "  'What the Deal',\n",
       "  'https://genius.com/Kendrick-lamar-what-the-deal-lyrics'],\n",
       " ['Kendrick Lamar',\n",
       "  '\\u200bgood kid, m.A.A.d city [Booklet]',\n",
       "  'https://genius.com/Kendrick-lamar-good-kid-maad-city-booklet-annotated'],\n",
       " ['Kendrick Lamar',\n",
       "  'Good Morning America',\n",
       "  'https://genius.com/Kendrick-lamar-good-morning-america-lyrics'],\n",
       " ['Kendrick Lamar',\n",
       "  'Grammy 2016 performance',\n",
       "  'https://genius.com/Kendrick-lamar-grammy-2016-performance-lyrics'],\n",
       " ['Kendrick Lamar',\n",
       "  \"Big Boy's Neighborhood Freestyle 2014\",\n",
       "  'https://genius.com/Kendrick-lamar-big-boys-neighborhood-freestyle-2014-lyrics'],\n",
       " ['Kendrick Lamar',\n",
       "  'The DAMN. Tour [Setlist]',\n",
       "  'https://genius.com/Kendrick-lamar-the-damn-tour-setlist-lyrics'],\n",
       " ['Kendrick Lamar', 'Go DJ', 'https://genius.com/Kendrick-lamar-go-dj-lyrics'],\n",
       " ['Kendrick Lamar',\n",
       "  'Yung Boys World',\n",
       "  'https://genius.com/Kendrick-lamar-yung-boys-world-lyrics'],\n",
       " ['Kendrick Lamar',\n",
       "  'Before I Commit Suicide',\n",
       "  'https://genius.com/Kendrick-lamar-before-i-commit-suicide-lyrics'],\n",
       " ['Kendrick Lamar',\n",
       "  'Famous Pipe Game',\n",
       "  'https://genius.com/Kendrick-lamar-famous-pipe-game-lyrics'],\n",
       " ['Kendrick Lamar',\n",
       "  'Comments on 2014 Grammys',\n",
       "  'https://genius.com/Kendrick-lamar-comments-on-2014-grammys-annotated'],\n",
       " ['Kendrick Lamar',\n",
       "  'Compton Life',\n",
       "  'https://genius.com/Kendrick-lamar-compton-life-lyrics'],\n",
       " ['Kendrick Lamar',\n",
       "  'Who Shot Ya (Freestyle)',\n",
       "  'https://genius.com/Kendrick-lamar-who-shot-ya-freestyle-lyrics'],\n",
       " ['Kendrick Lamar',\n",
       "  'Cruel Freestyle',\n",
       "  'https://genius.com/Kendrick-lamar-cruel-freestyle-lyrics'],\n",
       " ['Kendrick Lamar',\n",
       "  \"Drop It Like It's Hot (Freestyle)\",\n",
       "  'https://genius.com/Kendrick-lamar-drop-it-like-its-hot-freestyle-lyrics'],\n",
       " ['Kendrick Lamar',\n",
       "  'Elbows',\n",
       "  'https://genius.com/Kendrick-lamar-elbows-lyrics'],\n",
       " ['Kendrick Lamar',\n",
       "  '\\u200buntitled unmastered. [Credits]',\n",
       "  'https://genius.com/Kendrick-lamar-untitled-unmastered-credits-lyrics'],\n",
       " ['Kendrick Lamar',\n",
       "  'Blow Them Horns',\n",
       "  'https://genius.com/Kendrick-lamar-blow-them-horns-lyrics'],\n",
       " ['Kendrick Lamar',\n",
       "  'Sway In The Morning (Freestyle)',\n",
       "  'https://genius.com/Kendrick-lamar-sway-in-the-morning-freestyle-lyrics'],\n",
       " ['Kendrick Lamar',\n",
       "  'Grammy Family (Freestyle)',\n",
       "  'https://genius.com/Kendrick-lamar-grammy-family-freestyle-lyrics'],\n",
       " ['Kendrick Lamar',\n",
       "  'Track 10',\n",
       "  'https://genius.com/Kendrick-lamar-track-10-lyrics'],\n",
       " ['Kendrick Lamar',\n",
       "  'Partynauseous (Remix)',\n",
       "  'https://genius.com/Kendrick-lamar-partynauseous-remix-lyrics'],\n",
       " ['Kendrick Lamar',\n",
       "  'Memories Back Then',\n",
       "  'https://genius.com/Kendrick-lamar-memories-back-then-lyrics'],\n",
       " ['Kendrick Lamar',\n",
       "  'What Lies Beneath',\n",
       "  'https://genius.com/Kendrick-lamar-what-lies-beneath-lyrics'],\n",
       " ['Kendrick Lamar',\n",
       "  'Ride Up',\n",
       "  'https://genius.com/Kendrick-lamar-ride-up-lyrics'],\n",
       " ['Kendrick Lamar',\n",
       "  '2DopeBoyz Freestyle',\n",
       "  'https://genius.com/Kendrick-lamar-2dopeboyz-freestyle-lyrics'],\n",
       " ['Kendrick Lamar',\n",
       "  \"Big Boy's Neigborhood Freestyle\",\n",
       "  'https://genius.com/Kendrick-lamar-big-boys-neigborhood-freestyle-lyrics'],\n",
       " ['Kendrick Lamar',\n",
       "  'On Da Spot Freestyle',\n",
       "  'https://genius.com/Kendrick-lamar-on-da-spot-freestyle-lyrics'],\n",
       " ['Kendrick Lamar',\n",
       "  'Violin Freestyle',\n",
       "  'https://genius.com/Kendrick-lamar-violin-freestyle-lyrics'],\n",
       " ['Kendrick Lamar',\n",
       "  \"I'm Da Man\",\n",
       "  'https://genius.com/Kendrick-lamar-im-da-man-lyrics'],\n",
       " ['Kendrick Lamar',\n",
       "  'Daydreaming',\n",
       "  'https://genius.com/Kendrick-lamar-daydreaming-lyrics'],\n",
       " ['Kendrick Lamar',\n",
       "  'To Pimp A Butterfly Medley (The Late Show with Stephen Colbert)',\n",
       "  'https://genius.com/Kendrick-lamar-to-pimp-a-butterfly-medley-the-late-show-with-stephen-colbert-annotated'],\n",
       " ['Kendrick Lamar',\n",
       "  'Never Die',\n",
       "  'https://genius.com/Kendrick-lamar-never-die-lyrics'],\n",
       " ['Kendrick Lamar',\n",
       "  'The Jig Is Up',\n",
       "  'https://genius.com/Kendrick-lamar-the-jig-is-up-lyrics'],\n",
       " ['Kendrick Lamar',\n",
       "  'Intro (Wayne Co-Sign)',\n",
       "  'https://genius.com/Kendrick-lamar-intro-wayne-co-sign-lyrics'],\n",
       " ['Kendrick Lamar',\n",
       "  'These Walls (Live on Ellen)',\n",
       "  'https://genius.com/Kendrick-lamar-these-walls-live-on-ellen-lyrics'],\n",
       " ['Kendrick Lamar',\n",
       "  'Kendrick Lamar [Tracklist + Album Art]',\n",
       "  'https://genius.com/Kendrick-lamar-kendrick-lamar-tracklist-album-art-annotated'],\n",
       " ['Kendrick Lamar',\n",
       "  'Track 13',\n",
       "  'https://genius.com/Kendrick-lamar-track-13-lyrics'],\n",
       " ['Kendrick Lamar',\n",
       "  'A Song For Buffy (Freestyle)',\n",
       "  'https://genius.com/Kendrick-lamar-a-song-for-buffy-freestyle-lyrics'],\n",
       " ['Kendrick Lamar',\n",
       "  'Section.80 [Credits]',\n",
       "  'https://genius.com/Kendrick-lamar-section80-credits-lyrics'],\n",
       " ['Kendrick Lamar',\n",
       "  'Hater Love',\n",
       "  'https://genius.com/Kendrick-lamar-hater-love-lyrics'],\n",
       " ['Kendrick Lamar',\n",
       "  'Respect The Classic',\n",
       "  'https://genius.com/Kendrick-lamar-respect-the-classic-lyrics'],\n",
       " ['Kendrick Lamar',\n",
       "  'Before He Was Famous Freestyle (Nickerson Gardens Cypha)',\n",
       "  'https://genius.com/Kendrick-lamar-before-he-was-famous-freestyle-nickerson-gardens-cypha-lyrics'],\n",
       " ['Kendrick Lamar',\n",
       "  'Basquet',\n",
       "  'https://genius.com/Kendrick-lamar-basquet-lyrics'],\n",
       " ['Kendrick Lamar',\n",
       "  'Higher Ground Freestyle',\n",
       "  'https://genius.com/Kendrick-lamar-higher-ground-freestyle-lyrics'],\n",
       " ['Kendrick Lamar',\n",
       "  'A1 Everything',\n",
       "  'https://genius.com/Kendrick-lamar-a1-everything-lyrics'],\n",
       " ['Kendrick Lamar',\n",
       "  'Hard Body',\n",
       "  'https://genius.com/Kendrick-lamar-hard-body-lyrics'],\n",
       " ['Kendrick Lamar',\n",
       "  'The Recipe (Black Hippy Remix) - Bonus Track',\n",
       "  'https://genius.com/Kendrick-lamar-the-recipe-black-hippy-remix-bonus-track-lyrics'],\n",
       " ['Kendrick Lamar',\n",
       "  'Alright (BET Performance)',\n",
       "  'https://genius.com/Kendrick-lamar-alright-bet-performance-lyrics'],\n",
       " ['Kendrick Lamar',\n",
       "  'Put That on Something',\n",
       "  'https://genius.com/Kendrick-lamar-put-that-on-something-lyrics'],\n",
       " ['Kendrick Lamar', 'D', 'https://genius.com/Kendrick-lamar-d-lyrics'],\n",
       " ['Kendrick Lamar',\n",
       "  'Thank You',\n",
       "  'https://genius.com/Kendrick-lamar-thank-you-lyrics'],\n",
       " ['Kendrick Lamar',\n",
       "  'I Feel It (Freestyle)',\n",
       "  'https://genius.com/Kendrick-lamar-i-feel-it-freestyle-lyrics'],\n",
       " ['Kendrick Lamar',\n",
       "  'Track 12',\n",
       "  'https://genius.com/Kendrick-lamar-track-12-lyrics'],\n",
       " ['Kendrick Lamar',\n",
       "  'Rip (Remix)',\n",
       "  'https://genius.com/Kendrick-lamar-rip-remix-lyrics'],\n",
       " ['Kendrick Lamar',\n",
       "  'Hpnotiq',\n",
       "  'https://genius.com/Kendrick-lamar-hpnotiq-lyrics'],\n",
       " ['Kendrick Lamar',\n",
       "  'J. Dilla (Freestyle)',\n",
       "  'https://genius.com/Kendrick-lamar-j-dilla-freestyle-lyrics'],\n",
       " ['Kendrick Lamar',\n",
       "  'Regulate (Freestyle)',\n",
       "  'https://genius.com/Kendrick-lamar-regulate-freestyle-lyrics'],\n",
       " ['Kendrick Lamar',\n",
       "  'Gz and Hustlas',\n",
       "  'https://genius.com/Kendrick-lamar-gz-and-hustlas-lyrics'],\n",
       " ['Kendrick Lamar',\n",
       "  'Jesus saves',\n",
       "  'https://genius.com/Kendrick-lamar-jesus-saves-lyrics'],\n",
       " ['Kendrick Lamar',\n",
       "  \"Still Hustlin'\",\n",
       "  'https://genius.com/Kendrick-lamar-still-hustlin-lyrics'],\n",
       " ['Kendrick Lamar',\n",
       "  'Freestyle vs Fan (On Rigamortis Beat)',\n",
       "  'https://genius.com/Kendrick-lamar-freestyle-vs-fan-on-rigamortis-beat-lyrics'],\n",
       " ['Kendrick Lamar',\n",
       "  'Lunch Table (L.A. Leakers Freestyle)',\n",
       "  'https://genius.com/Kendrick-lamar-lunch-table-la-leakers-freestyle-lyrics'],\n",
       " ['Kendrick Lamar',\n",
       "  'Training Day [Album Cover + Tracklist]',\n",
       "  'https://genius.com/Kendrick-lamar-training-day-album-cover-tracklist-annotated'],\n",
       " ['Kendrick Lamar',\n",
       "  'Vice City (Freestyle)',\n",
       "  'https://genius.com/Kendrick-lamar-vice-city-freestyle-lyrics'],\n",
       " ['Kendrick Lamar',\n",
       "  'Sway in the Morning (Freestyle) Part 2',\n",
       "  'https://genius.com/Kendrick-lamar-sway-in-the-morning-freestyle-part-2-lyrics'],\n",
       " ['Kendrick Lamar',\n",
       "  'I (Alternate Version)',\n",
       "  'https://genius.com/Kendrick-lamar-i-alternate-version-lyrics'],\n",
       " ['Kendrick Lamar',\n",
       "  'Imma G',\n",
       "  'https://genius.com/Kendrick-lamar-imma-g-lyrics'],\n",
       " ['Kendrick Lamar',\n",
       "  'Too Cool',\n",
       "  'https://genius.com/Kendrick-lamar-too-cool-lyrics'],\n",
       " ['Kendrick Lamar',\n",
       "  'Prototype',\n",
       "  'https://genius.com/Kendrick-lamar-prototype-lyrics'],\n",
       " ['Kendrick Lamar',\n",
       "  'Swimming Pools (Demo)',\n",
       "  'https://genius.com/Kendrick-lamar-swimming-pools-demo-lyrics'],\n",
       " ['Kendrick Lamar',\n",
       "  'The Classic',\n",
       "  'https://genius.com/Kendrick-lamar-the-classic-lyrics'],\n",
       " ['Kendrick Lamar',\n",
       "  'Man of the Hour',\n",
       "  'https://genius.com/Kendrick-lamar-man-of-the-hour-lyrics'],\n",
       " ['Kendrick Lamar',\n",
       "  'Lyrics Contest Answers (untitled unmastered.)',\n",
       "  'https://genius.com/Kendrick-lamar-lyrics-contest-answers-untitled-unmastered-annotated'],\n",
       " ['Kendrick Lamar',\n",
       "  'Get Throwed',\n",
       "  'https://genius.com/Kendrick-lamar-get-throwed-lyrics'],\n",
       " ['Kendrick Lamar',\n",
       "  'Reebok Presents: I Am',\n",
       "  'https://genius.com/Kendrick-lamar-reebok-presents-i-am-lyrics'],\n",
       " ['Kendrick Lamar',\n",
       "  'Do It Again',\n",
       "  'https://genius.com/Kendrick-lamar-do-it-again-lyrics'],\n",
       " ['Kendrick Lamar',\n",
       "  \"Sett Trippin'\",\n",
       "  'https://genius.com/Kendrick-lamar-sett-trippin-lyrics'],\n",
       " ['Kendrick Lamar',\n",
       "  'On My Momma',\n",
       "  'https://genius.com/Kendrick-lamar-on-my-momma-lyrics'],\n",
       " ['Kendrick Lamar',\n",
       "  'Lyrical G',\n",
       "  'https://genius.com/Kendrick-lamar-lyrical-g-lyrics'],\n",
       " ['Kendrick Lamar',\n",
       "  'How Many Drinks',\n",
       "  'https://genius.com/Kendrick-lamar-how-many-drinks-lyrics'],\n",
       " ['Kendrick Lamar',\n",
       "  'Untitled 8 (The Tonight Show)',\n",
       "  'https://genius.com/Kendrick-lamar-untitled-8-the-tonight-show-lyrics'],\n",
       " ['Kendrick Lamar',\n",
       "  'Whatcha Know About It',\n",
       "  'https://genius.com/Kendrick-lamar-whatcha-know-about-it-lyrics'],\n",
       " ['Kendrick Lamar',\n",
       "  'Fuck A Hook',\n",
       "  'https://genius.com/Kendrick-lamar-fuck-a-hook-lyrics'],\n",
       " ['Kendrick Lamar',\n",
       "  'Big Shot (Remix)',\n",
       "  'https://genius.com/Kendrick-lamar-big-shot-remix-lyrics'],\n",
       " ['Kendrick Lamar', 'DISS', 'https://genius.com/Kendrick-lamar-diss-lyrics'],\n",
       " ['Kendrick Lamar',\n",
       "  'Hot 107.9 Freestyle, Pt. 2',\n",
       "  'https://genius.com/Kendrick-lamar-hot-1079-freestyle-pt-2-lyrics'],\n",
       " ['Kendrick Lamar',\n",
       "  'Loved Ones*',\n",
       "  'https://genius.com/Kendrick-lamar-loved-ones-lyrics'],\n",
       " ['Kendrick Lamar',\n",
       "  \"Where I'm From\",\n",
       "  'https://genius.com/Kendrick-lamar-where-im-from-lyrics'],\n",
       " ['Kendrick Lamar',\n",
       "  'Hovi Baby',\n",
       "  'https://genius.com/Kendrick-lamar-hovi-baby-lyrics'],\n",
       " ['Kendrick Lamar',\n",
       "  'How We Do',\n",
       "  'https://genius.com/Kendrick-lamar-how-we-do-lyrics'],\n",
       " ['Kendrick Lamar',\n",
       "  \"Spittin' in the Whip\",\n",
       "  'https://genius.com/Kendrick-lamar-spittin-in-the-whip-lyrics'],\n",
       " ['Kendrick Lamar',\n",
       "  'Kendrick Lamar GQ Man of the Year Photo Shoot',\n",
       "  'https://genius.com/Kendrick-lamar-kendrick-lamar-gq-man-of-the-year-photo-shoot-annotated'],\n",
       " ['Kendrick Lamar',\n",
       "  'Tribute Letter to Tupac Shakur',\n",
       "  'https://genius.com/Kendrick-lamar-tribute-letter-to-tupac-shakur-lyrics'],\n",
       " ['Kendrick Lamar',\n",
       "  'Behind the Walls: A Black Comedy',\n",
       "  'https://genius.com/Kendrick-lamar-behind-the-walls-a-black-comedy-annotated'],\n",
       " ['Kendrick Lamar',\n",
       "  'Look Over Your Shoulders*',\n",
       "  'https://genius.com/Kendrick-lamar-look-over-your-shoulders-lyrics'],\n",
       " ['Kendrick Lamar',\n",
       "  'Industry Niggas (Skit)',\n",
       "  'https://genius.com/Kendrick-lamar-industry-niggas-skit-lyrics'],\n",
       " ['Kendrick Lamar',\n",
       "  'DNA (NBA Finals Edition, On-air montage snippet)',\n",
       "  'https://genius.com/Kendrick-lamar-dna-nba-finals-edition-on-air-montage-snippet-lyrics'],\n",
       " ['Kendrick Lamar',\n",
       "  'Gangsta party - freestyle',\n",
       "  'https://genius.com/Kendrick-lamar-gangsta-party-freestyle-lyrics'],\n",
       " ['Kendrick Lamar',\n",
       "  'Nickerson Gardens Freestyle',\n",
       "  'https://genius.com/Kendrick-lamar-nickerson-gardens-freestyle-lyrics'],\n",
       " ['Kendrick Lamar',\n",
       "  \"Introductory Speech (Kunta's Groove Sessions)\",\n",
       "  'https://genius.com/Kendrick-lamar-introductory-speech-kuntas-groove-sessions-lyrics'],\n",
       " ['Kendrick Lamar',\n",
       "  'Your Honor',\n",
       "  'https://genius.com/Kendrick-lamar-your-honor-lyrics'],\n",
       " ['Kendrick Lamar',\n",
       "  'Best Rap Album Acceptance Speech 2018 Grammys',\n",
       "  'https://genius.com/Kendrick-lamar-best-rap-album-acceptance-speech-2018-grammys-annotated'],\n",
       " ['Kendrick Lamar',\n",
       "  'Hot 107.9 Freestyle, Pt. 1',\n",
       "  'https://genius.com/Kendrick-lamar-hot-1079-freestyle-pt-1-lyrics'],\n",
       " ['Kendrick Lamar',\n",
       "  'Heat Stroke',\n",
       "  'https://genius.com/Kendrick-lamar-heat-stroke-lyrics'],\n",
       " ['Kendrick Lamar',\n",
       "  \"Hol' Up Türkçe Çeviri\",\n",
       "  'https://genius.com/Kendrick-lamar-hol-up-turkce-ceviri-lyrics'],\n",
       " ['Kendrick Lamar',\n",
       "  'Manchester Freestyle Cypher Verses (2016)',\n",
       "  'https://genius.com/Kendrick-lamar-manchester-freestyle-cypher-verses-2016-lyrics'],\n",
       " ['Kendrick Lamar',\n",
       "  'Lack of Better Words*',\n",
       "  'https://genius.com/Kendrick-lamar-lack-of-better-words-lyrics'],\n",
       " ['Kendrick Lamar',\n",
       "  'Off the Top',\n",
       "  'https://genius.com/Kendrick-lamar-off-the-top-lyrics'],\n",
       " ['Kendrick Lamar',\n",
       "  'Year Of The Fire Sheep',\n",
       "  'https://genius.com/Kendrick-lamar-year-of-the-fire-sheep-lyrics'],\n",
       " ['Kendrick Lamar',\n",
       "  'Poetic Justic(Live Version)',\n",
       "  'https://genius.com/Kendrick-lamar-poetic-justiclive-version-lyrics'],\n",
       " ['Kendrick Lamar',\n",
       "  'Interview with DJ Dave Part 5',\n",
       "  'https://genius.com/Kendrick-lamar-interview-with-dj-dave-part-5-lyrics'],\n",
       " ['Kendrick Lamar',\n",
       "  'Chapter Six Türkçe Çeviri',\n",
       "  'https://genius.com/Kendrick-lamar-chapter-six-turkce-ceviri-lyrics'],\n",
       " ['Kendrick Lamar',\n",
       "  'Collect Calls (Tradução)',\n",
       "  'https://genius.com/Kendrick-lamar-collect-calls-traducao-lyrics'],\n",
       " ['Kendrick Lamar',\n",
       "  'HUMBLE., but every verse is overly verbal',\n",
       "  'https://genius.com/Kendrick-lamar-humble-but-every-verse-is-overly-verbal-lyrics'],\n",
       " ['Kendrick Lamar',\n",
       "  'Interview with DJ Dave Part 1',\n",
       "  'https://genius.com/Kendrick-lamar-interview-with-dj-dave-part-1-lyrics'],\n",
       " ['Kendrick Lamar',\n",
       "  'Talk To Me*',\n",
       "  'https://genius.com/Kendrick-lamar-talk-to-me-lyrics'],\n",
       " ['Kendrick Lamar',\n",
       "  'Pay It Forward',\n",
       "  'https://genius.com/Kendrick-lamar-pay-it-forward-annotated'],\n",
       " ['Kendrick Lamar',\n",
       "  'Interview with DJ Dave Part 2',\n",
       "  'https://genius.com/Kendrick-lamar-interview-with-dj-dave-part-2-lyrics'],\n",
       " ['Kendrick Lamar',\n",
       "  'Interview with DJ Dave Part 3',\n",
       "  'https://genius.com/Kendrick-lamar-interview-with-dj-dave-part-3-lyrics'],\n",
       " ['Kendrick Lamar',\n",
       "  'Protocol',\n",
       "  'https://genius.com/Kendrick-lamar-protocol-lyrics'],\n",
       " ['Kendrick Lamar',\n",
       "  'DNA. (Tots-Kray Remix) I made the remix up so its not like the real song',\n",
       "  'https://genius.com/Kendrick-lamar-dna-tots-kray-remix-i-made-the-remix-up-so-its-not-like-the-real-song-lyrics'],\n",
       " ['Kendrick Lamar',\n",
       "  'Interview with DJ Dave Part 4',\n",
       "  'https://genius.com/Kendrick-lamar-interview-with-dj-dave-part-4-lyrics'],\n",
       " ['Kendrick Lamar',\n",
       "  'Kendrick Lamar - For Free? (Tradução)',\n",
       "  'https://genius.com/Kendrick-lamar-kendrick-lamar-for-free-traducao-lyrics'],\n",
       " ['Kendrick Lamar',\n",
       "  'ฏ๎๎๎๎๎๎๎๎๎๎๎๎๎๎๎๎๎๎๎๎๎๎๎๎๎๎๎๎๎๎๎๎๎๎๎๎๎๎๎๎๎๎๎๎๎๎๎๎๎๎๎๎๎๎๎๎๎๎๎๎๎๎๎๎๎๎๎๎๎๎๎๎๎๎๎๎๎๎๎๎๎๎๎๎๎๎๎ํํํํํํํํํํํํํํํํํํํํํํํํํํ ̅̅̃̄̅̂̂̈̄̀̀̀̀̆̄̂́́̀̄̀̂̂̂̈̈̃́̂̆̂̀̆̀̃́̆̀̂̀̀̈̆́̀̀̂̄̃́̂̂̀̋̀̂̃̂̇̃̌̊̆̃Ỏ͖͈̞̩͎̻̫̫̜͉̠̫͕̭̭̫̫̹̗̹͈̼̠̖͍͚̥͈̮̼͕̠̤̯̻̥̬̗̼̳̤̳̬̪̹͚̞̼̠͕̼̠̦͚̫͔̯̹͉͉̘͎͕̼̣̝͙̱̟̹̩̟̳̦̭',\n",
       "  'https://genius.com/Kendrick-lamar-o-lyrics'],\n",
       " ['Kendrick Lamar',\n",
       "  'Poetic Justice',\n",
       "  'https://genius.com/Kendrick-lamar-poetic-justice-lyrics'],\n",
       " ['Kendrick Lamar',\n",
       "  \"Fuckin' Problems (Lost Verse)\",\n",
       "  'https://genius.com/Kendrick-lamar-fuckin-problems-lost-verse-lyrics'],\n",
       " ['Kendrick Lamar',\n",
       "  'Monster Freestyle',\n",
       "  'https://genius.com/Kendrick-lamar-monster-freestyle-lyrics'],\n",
       " ['Kendrick Lamar',\n",
       "  'A Little Appalled',\n",
       "  'https://genius.com/Kendrick-lamar-a-little-appalled-lyrics'],\n",
       " ['Kendrick Lamar',\n",
       "  'G Code',\n",
       "  'https://genius.com/Kendrick-lamar-g-code-lyrics'],\n",
       " ['Kendrick Lamar',\n",
       "  'Grammy Family (Freestyle)',\n",
       "  'https://genius.com/Kendrick-lamar-grammy-family-freestyle-lyrics']]"
      ]
     },
     "execution_count": 19,
     "metadata": {},
     "output_type": "execute_result"
    }
   ],
   "source": [
    "kdot_tracks = artist_tracks('Kendrick Lamar', track_list)\n",
    "\n",
    "print(len(kdot_tracks))\n",
    "kdot_tracks"
   ]
  },
  {
   "cell_type": "code",
   "execution_count": null,
   "metadata": {
    "ExecuteTime": {
     "end_time": "2018-08-15T19:47:53.380637Z",
     "start_time": "2018-08-15T19:47:53.374475Z"
    }
   },
   "outputs": [],
   "source": [
    "drake_tracks = artist_tracks('Drake', track_list)\n",
    "\n",
    "print(len(drake_tracks))\n",
    "drake_tracks[:5]"
   ]
  },
  {
   "cell_type": "code",
   "execution_count": null,
   "metadata": {
    "ExecuteTime": {
     "end_time": "2018-08-15T19:47:54.007070Z",
     "start_time": "2018-08-15T19:47:54.001001Z"
    }
   },
   "outputs": [],
   "source": [
    "kanye_tracks = artist_tracks('Kanye West', track_list)\n",
    "\n",
    "print(len(kanye_tracks))\n",
    "kanye_tracks[:5]"
   ]
  },
  {
   "cell_type": "code",
   "execution_count": null,
   "metadata": {
    "ExecuteTime": {
     "end_time": "2018-08-15T20:04:26.215588Z",
     "start_time": "2018-08-15T19:48:57.073839Z"
    }
   },
   "outputs": [],
   "source": [
    "# chance_lyrics = scrape_lyrics(chance_tracks)"
   ]
  },
  {
   "cell_type": "code",
   "execution_count": null,
   "metadata": {
    "ExecuteTime": {
     "end_time": "2018-08-15T20:04:26.723684Z",
     "start_time": "2018-08-15T20:04:26.717843Z"
    }
   },
   "outputs": [],
   "source": [
    "print(len(chance_lyrics))\n",
    "chance_lyrics[:10]"
   ]
  },
  {
   "cell_type": "code",
   "execution_count": null,
   "metadata": {
    "ExecuteTime": {
     "end_time": "2018-08-15T20:04:27.228147Z",
     "start_time": "2018-08-15T20:04:27.223393Z"
    }
   },
   "outputs": [],
   "source": [
    "with open('chance_the_rapper.pkl', 'wb') as picklefile:\n",
    "    pickle.dump(chance_lyrics, picklefile)"
   ]
  },
  {
   "cell_type": "code",
   "execution_count": 22,
   "metadata": {
    "ExecuteTime": {
     "end_time": "2018-08-16T01:23:12.113392Z",
     "start_time": "2018-08-16T01:10:28.250885Z"
    }
   },
   "outputs": [],
   "source": [
    "kdot_lyrics = scrape_lyrics(kdot_tracks)"
   ]
  },
  {
   "cell_type": "code",
   "execution_count": 23,
   "metadata": {
    "ExecuteTime": {
     "end_time": "2018-08-16T01:23:12.358769Z",
     "start_time": "2018-08-16T01:23:12.352153Z"
    }
   },
   "outputs": [
    {
     "name": "stdout",
     "output_type": "stream",
     "text": [
      "351\n"
     ]
    },
    {
     "data": {
      "text/plain": [
       "[['Kendrick Lamar',\n",
       "  'Look Out For Detox',\n",
       "  \"[Intro]\\nUh, shoutout to ScHoolboy Q\\nHe uglier than a motherfucker (laughs)\\n\\n[Verse]\\nTire marks, tire marks\\nFinish line with the tire marks\\nWhen the relay starts I’m a runaway slave\\nUgh, walking on water and running on waves\\nGod MC Oh my God you gotta see\\nThere’s never no I's in me\\nOf an Odyssey, I’m a block away\\nFire marshal's moving in\\nMarshmallows inside my pen\\nSweet sixteens\\nGot a sweet sixteen and they deadlier than sin\\nI’m so appalled\\nWith the prototype with a godly protocol\\nYou an amateur, they wanna pro to call\\nI damage ya on camera, in Compton, in Canada\\nI don’t care where ya are\\nJust blink twice and I’m there where you are\\nLike a shadow in the dark, you a paddle in the boat\\nIn an ocean full of sharks bout to come up short\\nWater in the pot, flow crack rock like Bam Bam nigga\\nHave two grams nigga pay up or blam blam nigga\\nHad a black Camry, bumpin' Dipset, Killa Cam nigga\\nI had been around niggas, killas, pimps\\nYou ain’t been around shit but your momma and your bitch\\nShoved off the porch when I was like six\\nUncle Bobby got the house raided back in 9-6\\nKick in the door\\nK9s all in the kitchen way before I even heard of Mike Vick\\nMomma in the bathroom poppa at work\\nHappened on Sunday we shoulda went to Church\\nLook at my shirt, Polo on it\\nIt’s gon' sell if my logo on it\\nI fear no opponent\\nA demon come near and I might throw a spear at the omen\\nYou looking at the 2010 Romans\\nEmpire, Hiiipower HP, in ya face like HD\\nAnd I spit like a HK\\nI’mma shot like a H3, H-U-B-C-I-T-Y, A-B and Y-G\\nProblem and Hootie nigga\\nTell the government come shoot me, nigga\\nCause I’m going out with a fist raised\\nAnd a fist full of money give it to a fifth grade\\nDrink a fifth of Hennessy and then take another fade\\nWith a democratic politician from CA\\nThey don’t wanna see a B-L-A-C-K\\nMaking some scratch like a hall of fame DJ\\nGive us some free J’s put us in PJs\\nNow we in the county jail calling for a three-way\\nGod-Damn, y'all cold\\nMark of the beast wear your god damn bar-code\\nStuck in the street where it's dark like Harpo\\nBlack man tell me where your God-Damn heart go\\nAlthough I’m in the land of milk and honey\\nNobody never gave me shit, when I got my first chain\\nAll the niggas tried to take it from me\\nI had to fight back and shit\\nGet it back and shit\\nAnd you rap niggas looking funny tryna talk back and shit\\nLike he back that shit\\nActing like you real or something\\nNigga ain't popped no steel, ain't popped no collar\\nGo pop some pills or something\\nYou trying real hard to appeal to someone\\nI’m being myself, my BFF is a BM-dub\\nWith your BM in it and your stash box glove\\nAnd the medicine a doctor gave a nigga won't help\\nI’m at the limit where I be amazing myself\\nI bet I finish on a level with a Black belt\\nI bet I hit it where every rapper get killed, like\\nBla bla bla bla where the knife at?\\nCut cut cut where your life at?\\nYour careers over, he’s slumped over\\nAnd if I'm off beat know I’m un-sober\\nThat's a new flow\\nPl-, Plus Q gave me some Kush and some Nuvo\\nNew dough for the new year and I sumo on a rap peer\\nNot a rapper, I’m a raptor\\nThat's a T-Rex in a V-neck for the rapture\\nI’m a factor and your facial\\nI will fracture to a fraction\\nNo one-half and I hate math\\nPastor’s like Eddie long, fucking maricon\\nTook me mighty long to get here\\nNigga, Fuck!\"],\n",
       " ['Kendrick Lamar',\n",
       "  'HUMBLE.',\n",
       "  \"[Intro]\\nNobody pray for me\\nIt's been that day for me\\nWaaaaay (yeah, yeah!)\\n\\n[Verse 1]\\nAyy, I remember syrup sandwiches and crime allowances\\nFinesse a nigga with some counterfeits, but now I’m countin' this\\nParmesan where my accountant lives, in fact I'm downin’ this\\nD'USSÉ with my boo bae tastes like Kool-Aid for the analysts\\nGirl, I can buy yo' ass the world with my paystub\\nOoh, that pussy good, won't you sit it on my taste bloods?\\nI get way too petty once you let me do the extras\\nPull up on your block, then break it down: we playin' Tetris\\nA.M. to the P.M., P.M. to the A.M., funk\\nPiss out your per diem, you just gotta hate 'em, funk\\nIf I quit your BM, I still ride Mercedes, funk\\nIf I quit this season, I still be the greatest, funk\\nMy left stroke just went viral\\nRight stroke put lil' baby in a spiral\\nSoprano C, we like to keep it on a high note\\nIt's levels to it, you and I know\\n\\n[Chorus]\\nBitch, be humble (hol’ up, bitch)\\nSit down (hol’ up, lil', hol’ up, lil' bitch)\\nBe humble (hol' up, bitch)\\nSit down (hol' up, sit down, lil’, sit down, lil' bitch)\\nBe humble (hol' up, hol' up)\\nBitch, sit down (hol' up, hol' up, lil' bitch)\\nBe humble (lil' bitch, hol' up, bitch)\\nSit down (hol' up, hol' up, hol' up, hol' up)\\nBe humble (hol' up, hol' up)\\nSit down (hol' up, hol' up, lil', hol' up, lil' bitch)\\nBe humble (hol' up, bitch)\\nSit down (hol' up, sit down, lil', sit down, lil' bitch)\\nBe humble (hol' up, hol' up)\\nBitch, sit down (hol' up, hol' up, lil' bitch)\\nBe humble (lil' bitch, hol' up, bitch)\\nSit down (hol' up, hol' up, hol' up, hol' up)\\n\\n[Verse 2]\\nWho dat nigga thinkin' that he frontin' on Man-Man? (Man-Man)\\nGet the fuck off my stage, I'm the Sandman (Sandman)\\nGet the fuck off my dick, that ain't right\\nI make a play fucking up your whole life\\nI'm so fuckin' sick and tired of the Photoshop\\nShow me somethin' natural like afro on Richard Pryor\\nShow me somethin' natural like ass with some stretch marks\\nStill will take you down right on your mama's couch in Polo socks\\nAyy, this shit way too crazy, ayy, you do not amaze me, ayy\\nI blew cool from AC, ayy, Obama just paged me, ayy\\nI don't fabricate it, ayy, most of y'all be fakin', ayy\\nI stay modest 'bout it, ayy, she elaborate it, ayy\\nThis that Grey Poupon, that Evian, that TED Talk, ayy\\nWatch my soul speak, you let the meds talk, ayy\\nIf I kill a nigga, it won't be the alcohol, ayy\\nI'm the realest nigga after all\\n\\n[Chorus]\\nBitch, be humble (hol' up, bitch)\\nSit down (hol' up, lil', hol' up, lil' bitch)\\nBe humble (hol' up, bitch)\\nSit down (hol' up, sit down, lil', sit down, lil' bitch)\\nBe humble (hol' up, hol' up)\\nBitch, sit down (hol' up, hol' up, lil' bitch)\\nBe humble (lil' bitch, hol' up, bitch)\\nSit down (hol' up, hol' up, hol' up, hol' up)\\nBe humble (hol' up, hol' up)\\nSit down (hol' up, hol' up, lil', hol' up, lil' bitch)\\nBe humble (hol' up, bitch)\\nSit down (hol' up, sit down, lil', sit down, lil' bitch)\\nBe humble (hol' up, hol' up)\\nBitch, sit down (hol' up, hol' up, lil' bitch)\\nBe humble (lil' bitch, hol' up, bitch)\\nSit down (hol' up, hol' up, hol' up, hol' up)\"],\n",
       " ['Kendrick Lamar',\n",
       "  '\\u200bm.A.A.d city',\n",
       "  '[Part I: Produced by Sounwave]\\n\\n[Intro: Kendrick Lamar & ScHoolboy Q]\\nIf Pirus and Crips all got along\\nThey\\'d probably gun me down by the end of this song\\nSeem like the whole city go against me\\nEvery time I\\'m in the street, I hear—\\nYAWK! YAWK! YAWK! YAWK!\\n\\n[Chorus]\\n\"Man down, where you from, nigga?\"\\n\"Fuck who you know! Where you from, my nigga?\"\\n\"Where your grandma stay, huh, my nigga?\"\\n\"This m.A.A.d city I run, my nigga\"\\n\\n[Verse 1: Kendrick Lamar]\\nBrace yourself, I\\'ll take you on a trip down memory lane\\nThis is not a rap on how I\\'m slingin\\' crack or move cocaine\\nThis is cul-de-sac and plenty Cognac and major pain\\nNot the drill sergeant, but the stress that weighin\\' on your brain\\nIt was me, L Boog, and Yan Yan, YG Lucky ride down Rosecrans\\nIt got ugly, wavin\\' yo\\' hand out the window – check yourself!\\nUh, Warriors and Conans, hope euphoria can slow dance\\nWith society, the driver seat the first one to get killed\\nSeen a light-skinned nigga with his brains blown out\\nAt the same burger stand where *beep* hang out\\nNow this is not a tape recorder sayin\\' that he did it\\nBut ever since that day, I was lookin\\' at him different\\nThat was back when I was nine, Joey packed the nine\\nPakistan on every porch is fine, we adapt to crime\\nPack a van with four guns at a time\\nWith the sliding door, fuck is up?\\nFuck you shootin\\' for if you ain\\'t walkin\\' up, you fuckin\\' punk?\\nPickin\\' up the fuckin\\' pump, pickin\\' off you suckers\\nSuck a dick or die or sucker punch\\nA wall of bullets comin\\' from AK\\'s, AR\\'s, \"Aye, y\\'all—duck!\"\\nThat\\'s what Momma said when we was eatin\\' that free lunch\\nAw man, goddamn, all hell broke loose\\nYou killed my cousin back in \\'94, fuck yo\\' truce!\\nNow crawl your head in that noose\\nYou wind up dead on the news\\nAin\\'t no peace treaty, just piecin\\' BGs up to pre-approve\\nBodies on top of bodies, IVs on top of IVs\\nObviously the coroner between the sheets like the Isleys\\nWhen you hop on that trolley, make sure your colors correct\\nMake sure you\\'re corporate or they\\'ll be callin\\' your mother collect\\nThey say the governor collect all of our taxes, except\\nWhen we in traffic and tragic happens, that shit ain\\'t no threat\\nYou movin\\' backwards if you suggest that you sleep with a TEC\\nGo buy a chopper and have a doctor on speed dial, I guess\\nM.A.A.d city\\n\\n[Chorus]\\n\"Man down, where you from, nigga?\"\\n\"Fuck who you know! Where you from, my nigga?\"\\n\"Where your grandma stay, huh, my nigga?\"\\n\"This m.A.A.d city I run, my nigga\"\\n\\n[Bridge: Kendrick Lamar & ScHoolboy Q]\\nIf Pirus and Crips all got along\\nThey\\'d probably gun me down by the end of this song\\nSeem like the whole city go against me\\nEvery time I\\'m in the street, I hear—\\nYAWK! YAWK! YAWK!—\\n\\n[Part II: Produced by Terrace Martin]\\n\\n[Intro: MC Eiht]\\nWake yo\\' punk-ass up!\\nIt ain\\'t nothin\\' but a Compton thang\\nG-yeah, real simple and plain\\nLet me teach you some lessons about the street\\n(Smoke somethin\\', nigga!)\\nHood (\\'Sup, Cuz?)\\nIt ain\\'t nothin\\' but a Compton thang\\nG-yeah, how we do\\n\\n[Verse 2: Kendrick Lamar]\\nFresh outta school \\'cause I was a high school grad\\'\\nSleepin\\' in the living room of my momma\\'s pad\\nReality struck, I seen the white car crash\\nHit the light pole, two niggas hopped out on foot and dashed\\nMy pops said I needed a job, I thought I believed him\\nSecurity guard for a month and ended up leavin\\'\\nIn fact, I got fired, \\'cause I was inspired by all of my friends\\nTo stage a robbery the third Saturday I clocked in\\nProjects tore up, gang signs get thrown up\\nCocaine laced in marijuana\\nAnd they wonder why I rarely smoke now\\nImagine if your first blunt had you foamin\\' at the mouth\\nI was straight tweakin\\', the next weekend we broke even\\nI made allegiance that made a promise to see you bleedin\\'\\nYou know the reasons but still will never know my life\\nKendrick a.k.a. \"Compton\\'s Human Sacrifice\"\\n\\n[Interlude: MC Eiht]\\nG-yeah, cocaine, weed\\nNiggas been mixin\\' shit since the \\'80s, loc\\nSherm sticks, butt-nakeds\\nDip, make a nigga flip\\nCluck heads all up and down the block and shit\\nOne time\\'s crooked and shit\\nBlock a nigga in\\nAlondra, Rosecrans, Bullis, it\\'s Compton\\n\\n[Verse 3: MC Eiht]\\nI\\'m still in the hood, loc, yeah that\\'s cool\\nShit, the hood took me under, so I follow the rules\\nBut yeah, that\\'s like me, I grew up in the hood where they bang\\nAnd niggas that rep colors is doin\\' the same thang\\nPass it to the left so I can smoke on me\\nA couple drive-by\\'s in the hood lately, shit\\nCouple of IV\\'s with the fuckin\\' spray-can\\nShots in the crowd, then everybody ran\\nCrew I\\'m finna slay, the street life I crave\\nShots hit the enemy, hearts turn brave\\nMount up, regulators in the whip\\nDown the boulevard with the pistol grip, yeah\\nTrip, we in the hood still\\nSo, loc, grab a strap \\'cause yeah, it\\'s so real, yeah\\nDeal with the outcome, a strap in the hand\\nAnd a bird and ten grand\\'s where a mothafucka stand\\n\\n[Verse 4: Kendrick Lamar]\\nIf I told you I killed a nigga at sixteen, would you believe me?\\nOr see me to be innocent Kendrick you seen in the street\\nWith a basketball and some Now and Laters to eat?\\nIf I mentioned all of my skeletons, would you jump in the seat?\\nWould you say my intelligence now is great relief?\\nAnd it\\'s safe to say that our next generation maybe can sleep\\nWith dreams of bein\\' a lawyer or doctor\\nInstead of boy with a chopper that hold the cul-de-sac hostage\\nKill \\'em all if they gossip\\nThe Children of the Corn, they vandalizin\\' the option\\nOf livin\\' a lie, drown their body with toxins\\nConstantly drinkin\\' and drive\\nHit the powder, then watch this flame that arrive in his eye\\nListen, coward, the concept is aim and then bang it and slide\\nOut that bitch with deposit, a price on his head, the tithes\\nProbably go to the projects, I\\nLive inside the belly of the rough, Compton, USA\\nMade me an Angel on Angel Dust - what?\\n\\n[Scratches]\\nM.A.A.d city\\nCompton\\n\\n[Outro]\\nNigga, pass Dot the bottle, damn!\\nYou ain\\'t the one that got fucked up\\nWhat you holdin\\' it for?\\nNiggas always actin\\' unsensitive and shit\\nNigga, that ain\\'t no word\\nNigga, shut up!\\nHey, Dot, you good, my nigga?\\nDon\\'t even trip\\nJust lay back and drink that'],\n",
       " ['Kendrick Lamar',\n",
       "  'Swimming Pools (Drank)',\n",
       "  \"[Produced by T-Minus]\\n\\n[Bridge]\\nPour up (drank), head shot (drank)\\nSit down (drank), stand up (drank)\\nPass out (drank), wake up (drank)\\nFaded (drank), faded (drank)\\n\\n[Verse 1]\\nNow I done grew up 'round some people livin' their life in bottles\\nGranddaddy had the golden flask\\nBackstroke every day in Chicago\\nSome people like the way it feels\\nSome people wanna kill their sorrows\\nSome people wanna fit in with the popular, that was my problem\\nI was in a dark room, loud tunes\\nLookin' to make a vow soon\\nThat I'ma get fucked up, fillin' up my cup I see the crowd mood\\nChangin' by the minute and the record on repeat\\nTook a sip, then another sip, then somebody said to me\\n\\n[Hook]\\nNigga, why you babysittin' only two or three shots?\\nI'ma show you how to turn it up a notch\\nFirst you get a swimming pool full of liquor, then you dive in it\\nPool full of liquor, then you dive in it\\nI wave a few bottles, then I watch 'em all flock\\nAll the girls wanna play Baywatch\\nI got a swimming pool full of liquor and they dive in it\\nPool full of liquor, I'ma dive in it\\n\\n[Bridge]\\nPour up (drank), head shot (drank)\\nSit down (drank), stand up (drank)\\nPass out (drank), wake up (drank)\\nFaded (drank), faded (drank)\\n\\n[Verse 2: Kendrick & his conscience]\\nOkay, now open your mind up and listen me, Kendrick\\nI am your conscience, if you do not hear me\\nThen you will be history, Kendrick\\nI know that you're nauseous right now\\nAnd I'm hopin' to lead you to victory, Kendrick\\nIf I take another one down\\nI'ma drown in some poison, abusin' my limit\\nI think that I'm feelin' the vibe, I see the love in her eyes\\nI see the feelin', the freedom is granted\\nAs soon as the damage of vodka arrived\\nThis how you capitalize, this is parental advice\\nThen apparently, I'm over-influenced by what you are doin'\\nI thought I was doin' the most 'til someone said to me\\n\\n[Hook]\\nNigga, why you babysittin' only two or three shots?\\nI'ma show you how to turn it up a notch\\nFirst you get a swimming pool full of liquor, then you dive in it\\nPool full of liquor, then you dive in it\\nI wave a few bottles, then I watch 'em all flock\\nAll the girls wanna play Baywatch\\nI got a swimming pool full of liquor and they dive in it\\nPool full of liquor, I'ma dive in it\\n\\n[Bridge]\\nPour up (drank), head shot (drank)\\nSit down (drank), stand up (drank)\\nPass out (drank), wake up (drank)\\nFaded (drank), faded (drank)\\n\\n[Break]\\nI ride, you ride, bang\\nOne chopper, one hundred shots, bang\\nHop out, do you bang?\\nTwo chopper, two hundred shots, bang\\nI ride, you ride, bang\\nOne chopper, one hundred shots, bang\\nHop out, do you bang?\\nTwo chopper, two hundred shots, bang\\n\\n[Hook]\\nNigga, why you babysittin' only two or three shots?\\nI'ma show you how to turn it up a notch\\nFirst you get a swimming pool full of liquor, then you dive in it\\nPool full of liquor, then you dive in it\\nI wave a few bottles, then I watch 'em all flock\\nAll the girls wanna play Baywatch\\nI got a swimming pool full of liquor and they dive in it\\nPool full of liquor, I'ma dive in it\\n\\n[Bridge]\\nPour up (drank), head shot (drank)\\nSit down (drank), stand up (drank)\\nPass out (drank), wake up (drank)\\nFaded (drank), faded (drank)\\n\\n[Interlude: (Sherane)]\\nAw man… where is she takin' me?\\nWhere is she takin' me?\\n\\n[Verse 3]\\nAll I have in life is my new appetite for failure\\nAnd I got hunger pain that grow insane\\nTell me, do that sound familiar?\\nIf it do, then you're like me\\nMakin' excuse that your relief\\nIs in the bottom of the bottle and the greenest indo leaf\\nAs the window open I release\\nEverything that corrode inside of me\\nI see you jokin', why you laugh?\\nDon't you feel bad? I probably sleep\\nAnd never ever wake up\\nNever ever wake up, never ever wake up\\nIn God I trust, but just when I thought I had enough\\n\\n[Skit/Outro]\\nThey stomped the homie out over a bitch?\\nK-dot, you good, blood?\\nNow we can drop, ye we can drop you back off\\nThat nigga's straight, man, that nigga ain't trippin'\\nWe gon' do the same ol' shit\\nI'ma pop a few shots, they gon' run, they gon' run opposite ways\\nFall right in ----'s lap\\nAnd he gon' tear they ass up, simple as that\\nAnd I hope that bitch that set him up out there\\nWe gon' pop that bitch too\\nWait hold up, ayy, I see somebody\\n[Car door opens and gunshots are fired]\\nAha! Got them niggas, K-dot, you good?\\nL----, you good?\\nYeah, blood, I'm good – Dave, you good?\\nDave? Dave, say somethin' – Dave?\\nThese bitch-ass niggas killed my brother!\"],\n",
       " ['Kendrick Lamar',\n",
       "  'DNA.',\n",
       "  \"[Verse 1]\\nI got, I got, I got, I got—\\nLoyalty, got royalty inside my DNA\\nCocaine quarter piece, got war and peace inside my DNA\\nI got power, poison, pain and joy inside my DNA\\nI got hustle though, ambition flow inside my DNA\\nI was born like this, since one like this, immaculate conception\\nI transform like this, perform like this, was Yeshua new weapon\\nI don't contemplate, I meditate, then off your fucking head\\nThis that put-the-kids-to-bed\\nThis that I got, I got, I got, I got—\\nRealness, I just kill shit ’cause it's in my DNA\\nI got millions, I got riches buildin' in my DNA\\nI got dark, I got evil, that rot inside my DNA\\nI got off, I got troublesome heart inside my DNA\\nI just win again, then win again like Wimbledon, I serve\\nYeah, that’s him again, the sound that engine in is like a bird\\nYou see fireworks and Corvette tire skrrt the boulevard\\nI know how you work, I know just who you are\\nSee, you's a, you's a, you's a—\\nBitch, your hormones prolly switch inside your DNA\\nProblem is, all that sucker shit inside your DNA\\nDaddy prolly snitched, heritage inside your DNA\\nBackbone don't exist, born outside a jellyfish, I gauge\\nSee, my pedigree most definitely don't tolerate the front\\nShit I've been through prolly offend you, this is Paula's oldest son\\nI know murder, conviction\\nBurners, boosters, burglars, ballers, dead, redemption\\nScholars, fathers dead with kids and\\nI wish I was fed forgiveness\\nYeah, yeah, yeah, yeah, soldier’s DNA (soldier’s DNA)\\nBorn inside the beast, my expertise checked out in second grade\\nWhen I was 9, on cell, motel, we didn't have nowhere to stay\\nAt 29, I’ve done so well, hit cartwheel in my estate\\nAnd I'm gon' shine like I'm supposed to, antisocial extrovert\\nAnd excellent mean the extra work\\nAnd absentness what the fuck you heard\\nAnd pessimists never struck my nerve\\nAnd that’s a riff, gon' plead his case\\nThe reason my power's here on earth\\nSalute the truth, when the prophet say\\n\\n[Bridge: Kendrick Lamar & Geraldo Rivera]\\nI got loyalty, got royalty inside my DNA\\nThis is why I say that hip hop has done more damage to young African Americans than racism in recent years\\nI got loyalty, got royalty inside my DNA\\nI live a better life, I'm rollin' several dice, fuck your life\\nI got loyalty, got royalty inside my DNA\\nI live a be-, fuck your life\\n5, 4, 3, 2, 1\\nThis is my heritage, all I'm inheritin'\\nMoney and power, the maker of marriages\\n\\n[Verse 2]\\nTell me somethin'\\nYou mothafuckas can't tell me nothin'\\nI'd rather die than to listen to you\\nMy DNA not for imitation\\nYour DNA an abomination\\nThis how it is when you in the Matrix\\nDodgin' bullets, reapin' what you sow\\nAnd stackin' up the footage, livin' on the go\\nAnd sleepin' in a villa\\nSippin' from a Grammy, walkin' in the buildin'\\nDiamond in the ceilin', marble on the floors\\nBeach inside the window, peekin' out the window\\nBaby in the pool, godfather goals\\nOnly Lord knows I've been goin' hammer\\nDodgin' paparazzi, freakin' through the cameras\\nEat at Four Daughters, Brock wearin' sandals\\nYoga on a Monday, stretchin' to Nirvana\\nWatchin' all the snakes, curvin' all the fakes\\nPhone never on, I don't conversate\\nI don't compromise, I just penetrate\\nSex, money, murder—these are the breaks\\nThese are the times, level number 9\\nLook up in the sky, 10 is on the way\\nSentence on the way, killings on the way\\nMotherfucker, I got winners on the way\\nYou ain't shit without a body on your belt\\nYou ain't shit without a ticket on your plate\\nYou ain't sick enough to pull it on yourself\\nYou ain't rich enough to hit the lot and skate\\nTell me when destruction gonna be my fate\\nGonna be your fate, gonna be our faith\\nPeace to the world, let it rotate\\nSex, money, murder—our DNA\\n\\n[Video Outro]\"],\n",
       " ['Kendrick Lamar',\n",
       "  'Money Trees',\n",
       "  '[Produced by DJ Dahi]\\n\\n[Verse 1: Kendrick Lamar]\\nMe and my niggas tryna get it, ya bish\\nHit the house lick: tell me, is you wit\\' it, ya bish?\\nHome invasion was persuasive\\nFrom nine to five I know it\\'s vacant, ya bish\\nDreams of livin\\' life like rappers do\\nBack when condom wrappers wasn\\'t cool\\nI fucked Sherane and went to tell my bros\\nThen Usher Raymond \"Let It Burn\" came on\\nHot sauce all in our Top Ramen, ya bish\\nPark the car, then we start rhymin\\', ya bish\\nThe only thing we had to free our mind\\nThen freeze that verse when we see dollar signs\\nYou lookin\\' like a easy come-up, ya bish\\nA silver spoon I know you come from, ya bish\\nAnd that\\'s a lifestyle that we never knew\\nGo at a reverend for the revenue\\n\\n[Hook: Kendrick Lamar]\\nIt go Halle Berry or hallelujah\\nPick your poison, tell me what you doin\\'\\nEverybody gon\\' respect the shooter\\nBut the one in front of the gun lives forever\\n(The one in front of the gun, forever)\\nAnd I been hustlin\\' all day\\nThis-a-way, that-a-way\\nThrough canals and alleyways, just to say\\nMoney trees is the perfect place for shade\\nAnd that\\'s just how I feel, nah, nah\\nA dollar might just fuck your main bitch\\nThat\\'s just how I feel, nah\\nA dollar might say fuck them niggas that you came with\\nThat\\'s just how I feel, nah, nah\\nA dollar might just make that lane switch\\nThat\\'s just how I feel, nah\\nA dollar might turn to a million and we all rich\\nThat\\'s just how I feel\\n\\n[Verse 2: Kendrick Lamar]\\nDreams of livin\\' life like rappers do\\nBump that new E-40 after school\\nYou know, “Big Ballin\\' With My Homies”\\nEarl Stevens had us thinkin\\' rational\\nBack to reality, we poor, ya bish\\nAnother casualty at war, ya bish\\nTwo bullets in my Uncle Tony head\\nHe said one day I\\'ll be on tour, ya bish\\nThat Louis Burger never be the same\\nA Louis belt will never ease that pain\\nBut I\\'ma purchase when that day is jerkin\\'\\nPull off at Church\\'s, with Pirellis skirtin\\'\\nGang signs out the window, ya bish\\nHopin\\' all of \\'em offend you, ya bish\\nThey say your hood is a pot of gold\\nAnd we gon\\' crash it when nobody\\'s home\\n\\n[Hook: Kendrick Lamar]\\nIt go Halle Berry or hallelujah\\nPick your poison, tell me what you doin\\'\\nEverybody gon\\' respect the shooter\\nBut the one in front of the gun lives forever\\n(The one in front of the gun, forever)\\nAnd I been hustlin\\' all day\\nThis-a-way, that-a-way\\nThrough canals and alleyways, just to say\\nMoney trees is the perfect place for shade\\nAnd that\\'s just how I feel, nah, nah\\nA dollar might just fuck your main bitch\\nThat\\'s just how I feel, nah\\nA dollar might say fuck them niggas that you came with\\nThat\\'s just how I feel, nah, nah\\nA dollar might just make that lane switch\\nThat\\'s just how I feel, nah\\nA dollar might turn to a million and we all rich\\nThat\\'s just how I feel\\n\\n[Bridge: Anna Wise]\\nBe the last one out to get this dough? No way!\\nLove one of you bucket-headed hoes? No way!\\nHit the streets, then we break the code? No way!\\nHit the brakes when they on patrol? No way!\\nBe the last one out to get this dough? No way!\\nLove one of you bucket-headed hoes? No way!\\nHit the streets, then we break the code? No way!\\nHit the brakes when they on patrol? No way!\\n\\n[Verse 3: Jay Rock]\\nImagine Rock up in them projects\\nWhere them niggas pick your pockets\\nSanta Claus don\\'t miss them stockings\\nLiquors spillin\\', pistols poppin\\'\\nBakin\\' soda YOLA whippin\\'\\nAin\\'t no turkey on Thanksgivin\\'\\nMy homeboy just dome\\'d a nigga\\nI just hope the Lord forgive him\\nPots with cocaine residue\\nEvery day I\\'m hustlin\\'\\nWhat else is a thug to do\\nWhen you eatin\\' cheese from the government?\\nGotta provide for my daughter n\\'em\\nGet the fuck up out my way, bish\\nGot that drum and I got them bands\\nJust like a parade, bish\\nDrop that work up in the bushes\\nHope them boys don\\'t see my stash\\nIf they do, tell the truth\\nThis the last time you might see my ass\\nFrom the gardens where the grass ain\\'t cut\\nThem serpents lurkin\\', Blood\\nBitches sellin\\' pussy, niggas sellin\\' drugs\\nBut it\\'s all good\\nBroken promises, steal your watch\\nAnd tell you what time it is\\nTake your J\\'s and tell you to kick it where a FootLocker is\\nIn the streets with a heater under my Dungarees\\nDreams of me gettin\\' shaded under a money tree\\n\\n[Hook: Kendrick Lamar]\\nIt go Halle Berry or hallelujah\\nPick your poison, tell me what you doin\\'\\nEverybody gon\\' respect the shooter\\nBut the one in front of the gun lives forever\\n(The one in front of the gun, forever)\\nAnd I been hustlin\\' all day\\nThis-a-way, that-a-way\\nThrough canals and alleyways, just to say\\nMoney trees is the perfect place for shade\\nAnd that\\'s just how I feel\\n\\n[Outro]\\nK’s Mom: Kendrick, just bring my car back, man. I called in for another appointment. I figured you weren’t gonna be back here on time anyways. Look, shit, shit, I just wanna get out the house, man. This man, on one, he feelin\\' good as a motherfucker. Shit, I’m tryna get my thing goin\\', too. Just bring my car back. Shit, he faded. He feelin\\' good. Look, listen to him!\\nK’s Dad: Girl, girl, I want your body, I want your body, \\'cause of that big ol’ fat ass. Girl, girl, I want your body, I want your body, \\'cause of that big ol’ fat ass.\\nK’s Mom: See, he high as hell. Shit, and he ain’t even trippin\\' off them damn dominoes anymore. Just bring the car back!\\nK’s Dad: Did somebody say dominoes?'],\n",
       " ['Kendrick Lamar',\n",
       "  \"Bitch, Don't Kill My Vibe\",\n",
       "  \"[Produced by Sounwave]\\n\\n[Hook]\\nI am a sinner who's probably gonna sin again\\nLord, forgive me! Lord, forgive me!\\nThings I don't understand\\nSometimes I need to be alone\\nBitch, don't kill my vibe!\\nBitch, don't kill my vibe!\\nI can feel your energy from two planets away\\nI got my drink, I got my music\\nI would share it, but today I'm yelling\\nBitch, don't kill my vibe! Bitch, don't kill my vibe!\\nBitch, don't kill my vibe! Bitch, don't kill my vibe!\\n\\n[Verse 1]\\nLook inside of my soul\\nAnd you can find gold and maybe get rich\\nLook inside of your soul and you can find out it never exist\\nI can feel the changes\\nI can feel a new life, I always knew life can be dangerous\\nI can say that I like a challenge and you tell me it's painless\\nYou don't know what pain is\\nHow can I paint this picture\\nWhen the color blind is hangin' with you?\\nFell on my face and awoke with a scar\\nAnother mistake livin' deep in my heart\\nWear it on top of my sleeve in a flick\\nI can admit that it did look like yours\\nWhy you resent every making of this?\\nTell me your purpose is petty again\\nBut even a small lighter can burn a bridge\\nEven a small lighter can burn a bridge\\n\\n[Bridge]\\nI can feel the changes\\nI can feel the new people around me just want to be famous\\nYou can see that my city found me\\nThen put me on stages, to me that's amazin'\\nTo you that's a quick check\\nWith all disrespect, let me say this\\n\\n[Hook]\\nI am a sinner who's probably gonna sin again\\nLord, forgive me! Lord, forgive me!\\nThings I don't understand\\nSometimes I need to be alone\\nBitch, don't kill my vibe! Bitch, don't kill my vibe!\\nI can feel your energy from two planets away\\nI got my drink, I got my music\\nI would share it, but today I'm yelling\\nBitch, don't kill my vibe! Bitch, don't kill my vibe!\\nBitch, don't kill my vibe! Bitch, don't kill my vibe!\\n\\n[Verse 2]\\nI'm tryin' to keep it alive\\nAnd not compromise the feeling we love\\nYou're tryin' to keep it deprived\\nAnd only co-sign what radio does\\nAnd I'm lookin' right past you\\nWe live in a world, we live in a world on two different axles\\nYou live in a world, you livin' behind the mirror\\nI know what you scared of\\nThe feeling of feeling emotions inferior\\nThis shit is vital, I know you had to\\nThis shit is vital, I know you had to\\nTo die in a pitiful vain, tell me a watch and a chain\\nIs way more believable, give me a feasible gain\\nRather a seasonal name\\nI'll let the people know this is somethin' you can blame\\nOn yourselves, you can remain stuck in a box\\nI'ma break out and then hide every lock\\nI'ma break out and then hide every lock\\n\\n[Bridge]\\nI can feel the changes\\nI can feel the new people around me just want to be famous\\nYou can see that my city found me\\nThen put me on stages, to me that's amazin'\\nTo you that's a quick check\\nWith all disrespect, let me say this\\n\\n[Hook]\\nI am a sinner who's probably gonna sin again\\nLord, forgive me! Lord, forgive me!\\nThings I don't understand\\nSometimes I need to be alone\\nBitch, don't kill my vibe! Bitch, don't kill my vibe!\\nI can feel your energy from two planets away\\nI got my drink, I got my music\\nI would share it, but today I'm yelling\\nBitch, don't kill my vibe! Bitch, don't kill my vibe!\\nBitch, don't kill my vibe! Bitch, don't kill my vibe!\\n\\n[Outro]\\nBitch, don't kill my vibe!\\nYou ain't heard the Coast like this in a long time\\nDon't you see that long line?\\nAnd they waiting on Kendrick like the first and the fifteenth\\nThrees in the air, I can see you are in sync\\nHide your feelings, hide your feelings\\nNow what you better do\\nI'll take your girlfriend and put that pussy on a pedestal\\nBitch, don't kill my vibe! Bitch, don't kill my vibe!\\nWalk out the door and they scream it's alive\\nMy New Year's resolution is to stop all the pollution\\nTalk too motherfuckin' much, I got my drink, I got my music\\nI say bitch, don't kill my vibe! Bitch, don't kill my vibe!\\nBitch, don't kill my vibe! Bitch, don't kill my vibe!\\n\\n[Death to Molly]\\n\\n[Skit/Outro]\\nAyy, K-Dot, get in the car, nigga!\\nCome on, we finna roll out!\\nNigga, I got a pack of blacks and a beat CD\\nGet yo' freestyles ready!\"],\n",
       " ['Kendrick Lamar',\n",
       "  'XXX.',\n",
       "  '[Intro: Bēkon & Kid Capri]\\nAmerica, God bless you if it\\'s good to you\\nAmerica, please take my hand\\nCan you help me underst—\\nNew Kung Fu Kenny\\n\\n[Verse 1: Kendrick Lamar]\\nThrow a steak off the ark\\nTo a pool full of sharks, he\\'ll take it\\nLeave him in the wilderness\\nWith a sworn nemesis, he\\'ll make it\\nTake the gratitude from him\\nI bet he\\'ll show you somethin\\', whoa\\nI\\'ll chip a nigga little bit of nothin\\'\\nI\\'ll chip a nigga little bit of nothin\\'\\nI\\'ll chip a nigga little bit of nothin\\'\\nI\\'ll chip a nigga, then throw the blower in his lap\\nWalk myself to the court like, \"Bitch, I did that!\"\\nX-rated\\nJohnny don\\'t wanna go to school no mo\\', no mo\\'\\nJohnny said books ain\\'t cool no mo\\' (no mo\\')\\nJohnny wanna be a rapper like his big cousin\\nJohnny caught a body yesterday out hustlin\\'\\nGod bless America, you know we all love him\\n\\n[Verse 2: Kendrick Lamar]\\nYesterday I got a call like from my dog like 101\\nSaid they killed his only son because of insufficient funds\\nHe was sobbin\\', he was mobbin\\', way belligerent and drunk\\nTalkin\\' out his head, philosophin\\' on what the Lord had done\\nHe said: \"K-Dot, can you pray for me?\\nIt been a fucked up day for me\\nI know that you anointed, show me how to overcome.\"\\nHe was lookin\\' for some closure\\nHopin\\' I could bring him closer\\nTo the spiritual, my spirit do no better, but I told him\\n\"I can\\'t sugarcoat the answer for you, this is how I feel:\\nIf somebody kill my son, that mean somebody gettin\\' killed.\"\\nTell me what you do for love, loyalty, and passion of\\nAll the memories collected, moments you could never touch\\nI\\'ll wait in front a nigga\\'s spot and watch him hit his block\\nI\\'ll catch a nigga leavin\\' service if that\\'s all I got\\nI\\'ll chip a nigga, then throw the blower in his lap\\nWalk myself to the court like, \"Bitch, I did that!\"\\nAin\\'t no Black Power when your baby killed by a coward\\nI can\\'t even keep the peace, don\\'t you fuck with one of ours\\nIt be murder in the street, it be bodies in the hour\\nGhetto bird be on the street, paramedics on the dial\\nLet somebody touch my momma\\nTouch my sister, touch my woman\\nTouch my daddy, touch my niece\\nTouch my nephew, touch my brother\\nYou should chip a nigga, then throw the blower in his lap\\nMatter fact, I\\'m \\'bout to speak at this convention\\nCall you back—\\n\\n[Break: Kendrick Lamar]\\nAlright, kids, we\\'re gonna talk about gun control\\n(Pray for me) Damn!\\n\\n[Chorus: Bono]\\nIt\\'s not a place\\nThis country is to me a sound\\nOf drum and bass\\nYou close your eyes to look around\\n\\n[Verse 3: Kendrick Lamar]\\nHail Mary, Jesus and Joseph\\nThe great American flag is wrapped in drag with explosives\\nCompulsive disorder, sons and daughters\\nBarricaded blocks and borders\\nLook what you taught us!\\nIt\\'s murder on my street, your street, back streets\\nWall Street, corporate offices\\nBanks, employees, and bosses with\\nHomicidal thoughts; Donald Trump\\'s in office\\nWe lost Barack and promised to never doubt him again\\nBut is America honest, or do we bask in sin?\\nPass the gin, I mix it with American blood\\nThen bash him in, you Crippin\\' or you married to Blood?\\nI\\'ll ask again — oops, accident\\nIt\\'s nasty when you set us up\\nThen roll the dice, then bet us up\\nYou overnight the big rifles, then tell Fox to be scared of us\\nGang members or terrorists, et cetera, et cetera\\nAmerica\\'s reflections of me, that\\'s what a mirror does\\n\\n[Chorus: Bono]\\nIt\\'s not a place\\nThis country is to me a sound\\nOf drum and bass\\nYou close your eyes to look ar—'],\n",
       " ['Kendrick Lamar',\n",
       "  'Poetic Justice',\n",
       "  '[Produced by Scoop DeVille & Sounwave]\\n\\n[Intro: Kendrick Lamar]\\nEvery second, every minute\\nMan, I swear that she can get it\\nSay if you a bad bitch, put your hands up high\\nHands up high, hands up high\\nTell \\'em dim the lights down right now\\nPut me in the mood\\nI\\'m talkin\\' about dark room, perfume, go, go\\n\\n[Verse 1: Kendrick Lamar]\\nI recognize your fragrance\\nHold up, you ain\\'t never gotta say shit\\nUh, and I know your taste is\\nA little bit, hmm, high maintenance\\nUh, everybody else basic\\nYou live life on an everyday basis\\nWith poetic justice, poetic justice\\nIf I told you that a flower bloomed in a dark room\\nWould you trust it?\\nI mean, I write poems in these songs dedicated to you when\\nYou\\'re in the mood for empathy, there\\'s blood in my pen\\nBetter yet, where your friends and \\'em?\\nI really wanna know you all\\nI really wanna show you off\\nFuck that, pour up plenty of champagne\\nCold nights when you curse this name\\nYou called up your girlfriends\\nAnd y\\'all curled in that little bitty Range\\nI heard that she wanna go and party, she wanna go and party\\nNigga, don\\'t approach her with that Atari\\nNigga, that ain\\'t good game, homie, sorry\\nThey say conversation rule a nation, I can tell\\nBut I could never right my wrongs\\n\\'Less I write it down for real, P.S.\\n\\n[Hook: Kendrick Lamar]\\nYou can get it, you can get it\\nYou can get it, you can get it\\nAnd I know just, know just, know just\\nKnow just, know just what you want\\nPoetic justice, put it in a song, alright\\nYou can get it, you can get it\\nYou can get it, you can get it\\nAnd I know just, know just, know just\\nKnow just, know just what you want\\nPoetic justice, put it in a song, alright\\n\\n[Verse 2: Drake]\\nI really hope you play this, \\'cause ol\\' girl, you test my patience\\nWith all these seductive photographs\\nAnd all these one-off vacations you\\'ve been takin\\'\\nClearly a lot for me to take in, it don\\'t make sense\\nYoung East African girl, you too busy fuckin\\' with your other man\\nI was tryna put you on game, put you on a plane\\nTake you and your momma to the motherland\\nI could do it, maybe one day\\nWhen you figure out you\\'re gonna need someone\\nWhen you figure out it\\'s alright here in the city\\nAnd you don\\'t run from where we come from\\nThat sound like poetic justice, poetic justice\\nYou were so new to this life, but goddamn, you got adjusted\\nI mean, I write poems in these songs, dedicated to the fun sex\\nYour natural hair and your soft skin\\nAnd your big ass in that sundress, ooh\\nGood God, what you doin\\' that walk for?\\nWhen I see that thing move\\nI just wish we would fight less and we would talk more\\nThey say communication save relations, I can tell\\nBut I can never right my wrongs\\nUnless I write \\'em down for real, P.S.\\n\\n[Hook: Kendrick Lamar]\\nYou can get it, you can get it\\nYou can get it, you can get it\\nAnd I know just, know just, know just\\nKnow just, know just what you want\\nPoetic justice, put it in a song, alright\\nYou can get it, you can get it\\nYou can get it, you can get it\\nAnd I know just, know just, know just\\nKnow just, know just what you want\\nPoetic justice, put it in a song, alright\\n\\n[Verse 3: Kendrick Lamar]\\nEvery time I write these words they become a taboo\\nMakin\\' sure my punctuation curve, every letter here\\'s true\\nLivin\\' my life in the margin and that metaphor was proof\\nI\\'m talkin\\' poetic justice, poetic justice\\nIf I told you that a flower bloomed in a dark room\\nWould you trust it? I mean, you need to hear this\\nLove is not just a verb, it\\'s you lookin\\' in the mirror\\nLove is not just a verb, it\\'s you lookin\\' for it, maybe\\nCall me crazy, we can both be insane\\nA fatal attraction is common, and what we have common is pain\\nI mean, you need to hear this, love is not just a verb\\nAnd I can see power steerin\\', sex drive when you swerve\\nI want that interference, it\\'s coherent, I can hear it\\nUh-huh, that\\'s your heartbeat\\nIt either caught me or it called me, uh-huh\\nRead slow and you\\'ll find gold mines in these lines\\nSincerely, yours truly, and right before you go blind, P.S.\\n\\n[Hook: Kendrick Lamar]\\nYou can get it, you can get it\\nYou can get it, you can get it\\nAnd I know just, know just, know just\\nKnow just, know just what you want\\nPoetic justice, put it in a song, alright\\nYou can get it, you can get it\\nYou can get it, you can get it\\nAnd I know just, know just, know just\\nKnow just, know just what you want\\nPoetic justice, put it in a song, alright\\n\\n[Outro Skit]\\n\"I\\'m gon\\' ask you one more time, homie\\nWhere is you from? Or it is a problem.\"\\n\"Ayy, you over here for Sherane, homie?\"\\n\"Yo, I don\\'t care who this nigga over here for.\\nIf he don\\'t tell me where he from, it\\'s a wrap! I\\'m sorry.\"\\n\"Hol\\' up, hol\\' up, hol\\' up, we gon\\' do it like this, okay?\\nI\\'ma tell you where I\\'m from, okay?\\nYou gon\\' tell me where you from, okay?\\nOr where your grandma stay, where your mama stay, or where your daddy stay, okay?\"\\n\"Enough with all this talkin\\'.\"\\n\"Matter of fact, get out the van, homie! Get out the car before I snatch you out that motherfucker, homie!\"'],\n",
       " ['Kendrick Lamar',\n",
       "  'King Kunta',\n",
       "  '[Produced by Sounwave; Additional production by Terrace Martin]\\n\\n[Intro]\\nI got a bone to pick\\nI don\\'t want you monkey-mouth motherfuckers\\nSittin\\' in my throne again\\nAyy, ayy, nigga what\\'s happenin\\'?\\nK-Dot back in the hood, nigga!\\nI\\'m mad (He mad!), but I ain\\'t stressin\\'\\nTrue friends, one question\\n\\n[Chorus 1]\\nBitch, where you when I was walkin\\'?\\nNow I run the game, got the whole world talkin\\'\\nKing Kunta, everybody wanna cut the legs off him\\nKunta, black man taking no losses, oh yeah\\nBitch, where you when I was walkin\\'?\\nNow I run the game, got the whole world talkin\\'\\nKing Kunta, everybody wanna cut the legs off him\\nWhen you got the yams—(What\\'s the yams?)\\n\\n[Verse 1]\\nThe yam is the power that be\\nYou can smell it when I\\'m walkin\\' down the street\\n(Oh yes, we can, oh yes, we can)\\nI can dig rappin\\', but a rapper with a ghost writer?\\nWhat the fuck happened? (Oh no!)\\nI swore I wouldn\\'t tell, but most of y\\'all sharing bars\\nLike you got the bottom bunk in a two-man cell (A two-man cell)\\nSomething\\'s in the water (Something\\'s in the water)\\nAnd if I gotta brown-nose for some gold\\nThen I\\'d rather be a bum than a motherfuckin\\' baller\\n\\n[Chorus 1]\\nBitch, where you when I was walkin\\'?\\nNow I run the game, got the whole world talkin\\'\\nKing Kunta, everybody wanna cut the legs off him\\nKing Kunta, black man taking no losses, oh yeah\\nBitch, where you when I was walkin\\'?\\nNow I run the game, got the whole world talkin\\'\\nKing Kunta, everybody wanna cut the legs off him\\nWhen you got the yams—(What\\'s the yams?)\\n\\n[Verse 2]\\nThe yam brought it out of Richard Pryor\\nManipulated Bill Clinton with desires\\n24/7, 365 days times two\\nI was contemplatin\\' gettin\\' on stage\\nJust to go back to the hood, see my enemy, and say… (Oh yeah)\\n\\n[Chorus 1]\\nBitch, where you when I was walkin\\'?\\nNow I run the game, got the whole world talkin\\'\\nKing Kunta, everybody wanna cut the legs off him\\nKing Kunta, black man taking no losses, oh yeah\\nBitch, where you when I was walkin\\'?\\nNow I run the game, got the whole world talkin\\'\\nKing Kunta, everybody wanna cut the legs off him\\n\\n[Verse 3]\\nYou goat-mouth mammyfucker\\nI was gonna kill a couple rappers, but they did it to themselves\\nEverybody\\'s suicidal, they ain\\'t even need my help\\nThis shit is elementary, I\\'ll probably go to jail\\nIf I shoot at your identity and bounce to the left\\nStuck a flag in my city, everybody\\'s screamin\\' \"Compton!\"\\nI should probably run for mayor when I\\'m done, to be honest\\nAnd I put that on my momma and my baby boo too\\nTwenty million walkin\\' out the court buildin\\', woo woo!\\nAw yeah, fuck the judge, I made it past twenty-five, and there I was\\nA little nappy-headed nigga with the world behind him\\nLife ain\\'t shit but a fat vagina\\nScreamin\\' \"Annie, are you okay? Annie, are you okay?\"\\nLimo tinted with the gold plates\\nStraight from the bottom, this the belly of the beast\\nFrom a peasant to a prince to a motherfuckin\\' king (oh yeah)\\n\\n[Chorus 2]\\nBitch, where was you when I was walkin\\'—{Gunshot}\\nBy the time you hear the next pop\\nThe funk shall be within you—{Gunshot}\\nNow I run the game, got the whole world talkin\\'\\nKing Kunta, everybody wanna cut the legs off him\\nKing Kunta, black man taking no losses, oh yeah\\nBitch, where was you when I was walkin\\'?\\nNow I run the game, got the whole world talkin\\'\\nKing Kunta, everybody wanna cut the legs off him\\n\\n[Outro]\\n(Fall, fall, fall, fall, fall, fall, fall, fall, fall, fall, fall)\\nWe want the funk\\nWe want the funk\\n(Now if I give you the funk, you gon\\' take it?)\\nWe want the funk\\n(Now if I give you the funk, you gon\\' take it?)\\nWe want the funk\\n(Now if I give you the funk, you gon\\' take it?)\\nWe want the funk\\n(Do you want the funk?)\\nWe want the funk\\n(Do you want the funk?)\\nWe want the funk\\n(Now if I give you the funk, you gon\\' take it?)\\nWe want the funk\\n\\n[Poem]\\nI remember you was conflicted, misusing your influence']]"
      ]
     },
     "execution_count": 23,
     "metadata": {},
     "output_type": "execute_result"
    }
   ],
   "source": [
    "print(len(kdot_lyrics))\n",
    "kdot_lyrics[:10]"
   ]
  },
  {
   "cell_type": "code",
   "execution_count": 25,
   "metadata": {
    "ExecuteTime": {
     "end_time": "2018-08-16T01:23:54.178670Z",
     "start_time": "2018-08-16T01:23:54.170764Z"
    }
   },
   "outputs": [],
   "source": [
    "import pickle\n",
    "\n",
    "with open('kendrick.pkl', 'wb') as picklefile:\n",
    "    pickle.dump(kdot_lyrics, picklefile)"
   ]
  },
  {
   "cell_type": "code",
   "execution_count": null,
   "metadata": {
    "ExecuteTime": {
     "end_time": "2018-08-15T21:23:38.864769Z",
     "start_time": "2018-08-15T20:20:38.893787Z"
    }
   },
   "outputs": [],
   "source": [
    "# drake_lyrics = scrape_lyrics(drake_tracks)"
   ]
  },
  {
   "cell_type": "code",
   "execution_count": null,
   "metadata": {
    "ExecuteTime": {
     "end_time": "2018-08-15T21:23:39.534651Z",
     "start_time": "2018-08-15T21:23:39.528037Z"
    }
   },
   "outputs": [],
   "source": [
    "print(len(drake_lyrics))\n",
    "drake_lyrics[:10]"
   ]
  },
  {
   "cell_type": "code",
   "execution_count": null,
   "metadata": {
    "ExecuteTime": {
     "end_time": "2018-08-15T21:23:40.189241Z",
     "start_time": "2018-08-15T21:23:40.177790Z"
    }
   },
   "outputs": [],
   "source": [
    "with open('drake.pkl', 'wb') as picklefile:\n",
    "    pickle.dump(drake_lyrics, picklefile)"
   ]
  },
  {
   "cell_type": "code",
   "execution_count": null,
   "metadata": {
    "ExecuteTime": {
     "end_time": "2018-08-15T22:27:18.092816Z",
     "start_time": "2018-08-15T21:23:40.852080Z"
    }
   },
   "outputs": [],
   "source": [
    "# kanye_lyrics = scrape_lyrics(kanye_tracks)"
   ]
  },
  {
   "cell_type": "code",
   "execution_count": null,
   "metadata": {
    "ExecuteTime": {
     "end_time": "2018-08-15T22:27:18.983944Z",
     "start_time": "2018-08-15T22:27:18.977435Z"
    }
   },
   "outputs": [],
   "source": [
    "print(len(kanye_lyrics))\n",
    "kanye_lyrics[:10]"
   ]
  },
  {
   "cell_type": "code",
   "execution_count": null,
   "metadata": {
    "ExecuteTime": {
     "end_time": "2018-08-15T22:27:19.881719Z",
     "start_time": "2018-08-15T22:27:19.866577Z"
    }
   },
   "outputs": [],
   "source": [
    "with open('kanye.pkl', 'wb') as picklefile:\n",
    "    pickle.dump(kanye_lyrics, picklefile)"
   ]
  },
  {
   "cell_type": "code",
   "execution_count": null,
   "metadata": {},
   "outputs": [],
   "source": []
  }
 ],
 "metadata": {
  "kernelspec": {
   "display_name": "Python 3",
   "language": "python",
   "name": "python3"
  },
  "language_info": {
   "codemirror_mode": {
    "name": "ipython",
    "version": 3
   },
   "file_extension": ".py",
   "mimetype": "text/x-python",
   "name": "python",
   "nbconvert_exporter": "python",
   "pygments_lexer": "ipython3",
   "version": "3.6.6"
  },
  "varInspector": {
   "cols": {
    "lenName": 16,
    "lenType": 16,
    "lenVar": 40
   },
   "kernels_config": {
    "python": {
     "delete_cmd_postfix": "",
     "delete_cmd_prefix": "del ",
     "library": "var_list.py",
     "varRefreshCmd": "print(var_dic_list())"
    },
    "r": {
     "delete_cmd_postfix": ") ",
     "delete_cmd_prefix": "rm(",
     "library": "var_list.r",
     "varRefreshCmd": "cat(var_dic_list()) "
    }
   },
   "types_to_exclude": [
    "module",
    "function",
    "builtin_function_or_method",
    "instance",
    "_Feature"
   ],
   "window_display": false
  }
 },
 "nbformat": 4,
 "nbformat_minor": 2
}
