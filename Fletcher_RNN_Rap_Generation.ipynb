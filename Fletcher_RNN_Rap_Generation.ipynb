{
 "cells": [
  {
   "cell_type": "code",
   "execution_count": 13,
   "metadata": {
    "ExecuteTime": {
     "end_time": "2018-08-23T18:23:44.480583Z",
     "start_time": "2018-08-23T18:23:44.451847Z"
    }
   },
   "outputs": [],
   "source": [
    "import pandas as pd\n",
    "import random\n",
    "from time import sleep\n",
    "import warnings\n",
    "warnings.filterwarnings(\"ignore\",category=DeprecationWarning)\n",
    "import numpy as np\n",
    "import nltk\n",
    "import os\n",
    "from sklearn import datasets\n",
    "import pickle\n",
    "from nltk.tokenize import word_tokenize\n",
    "from sklearn.decomposition import NMF, TruncatedSVD\n",
    "import matplotlib.pyplot as plt\n",
    "import seaborn as sns\n",
    "from sklearn.decomposition import LatentDirichletAllocation\n",
    "from sklearn.neighbors import NearestNeighbors\n",
    "from sklearn.cross_validation import train_test_split, cross_val_score\n",
    "from sklearn.linear_model import RidgeCV\n",
    "from sklearn.pipeline import make_pipeline, Pipeline\n",
    "from sklearn.preprocessing import PolynomialFeatures, StandardScaler\n",
    "from sklearn.neighbors import KNeighborsClassifier\n",
    "from sklearn.linear_model import LogisticRegression\n",
    "from sklearn.metrics import accuracy_score, recall_score, precision_score, f1_score, roc_auc_score, roc_curve, auc, fbeta_score\n",
    "from sklearn.model_selection import learning_curve, KFold, GridSearchCV, cross_val_score\n",
    "from sklearn.naive_bayes import GaussianNB, MultinomialNB\n",
    "from sklearn.svm import SVC\n",
    "from sklearn.tree import DecisionTreeClassifier\n",
    "from sklearn.ensemble import RandomForestClassifier, GradientBoostingClassifier\n",
    "from sklearn.dummy import DummyClassifier\n",
    "from collections import Counter\n",
    "from sklearn.feature_extraction.text import TfidfTransformer, CountVectorizer, TfidfVectorizer\n",
    "from sklearn.feature_extraction import text\n",
    "from sklearn.preprocessing import normalize\n",
    "import re\n",
    "from unidecode import unidecode\n",
    "\n",
    "import matplotlib.style as style\n",
    "%matplotlib inline\n",
    "plt.style.use('ggplot')"
   ]
  },
  {
   "cell_type": "code",
   "execution_count": 14,
   "metadata": {
    "ExecuteTime": {
     "end_time": "2018-08-23T18:23:44.495042Z",
     "start_time": "2018-08-23T18:23:44.482978Z"
    }
   },
   "outputs": [],
   "source": [
    "with open('data/cleaned_df.pkl', 'rb') as picklefile:\n",
    "    df = pickle.load(picklefile)"
   ]
  },
  {
   "cell_type": "code",
   "execution_count": 15,
   "metadata": {
    "ExecuteTime": {
     "end_time": "2018-08-23T18:23:44.509248Z",
     "start_time": "2018-08-23T18:23:44.497449Z"
    }
   },
   "outputs": [
    {
     "data": {
      "text/html": [
       "<div>\n",
       "<style scoped>\n",
       "    .dataframe tbody tr th:only-of-type {\n",
       "        vertical-align: middle;\n",
       "    }\n",
       "\n",
       "    .dataframe tbody tr th {\n",
       "        vertical-align: top;\n",
       "    }\n",
       "\n",
       "    .dataframe thead th {\n",
       "        text-align: right;\n",
       "    }\n",
       "</style>\n",
       "<table border=\"1\" class=\"dataframe\">\n",
       "  <thead>\n",
       "    <tr style=\"text-align: right;\">\n",
       "      <th></th>\n",
       "      <th>song_owner</th>\n",
       "      <th>song_title</th>\n",
       "      <th>song_element</th>\n",
       "      <th>verse</th>\n",
       "      <th>artist</th>\n",
       "    </tr>\n",
       "  </thead>\n",
       "  <tbody>\n",
       "    <tr>\n",
       "      <th>0</th>\n",
       "      <td>Childish Gambino</td>\n",
       "      <td>This Is America</td>\n",
       "      <td>[Bridge: Childish Gambino &amp; Young Thug]</td>\n",
       "      <td>We just wanna party, Party just for you, We ju...</td>\n",
       "      <td>Childish Gambino</td>\n",
       "    </tr>\n",
       "    <tr>\n",
       "      <th>1</th>\n",
       "      <td>Childish Gambino</td>\n",
       "      <td>This Is America</td>\n",
       "      <td>[Chorus: Childish Gambino]</td>\n",
       "      <td>This is America, Don't catch you slippin' now,...</td>\n",
       "      <td>Childish Gambino</td>\n",
       "    </tr>\n",
       "    <tr>\n",
       "      <th>2</th>\n",
       "      <td>Childish Gambino</td>\n",
       "      <td>This Is America</td>\n",
       "      <td>[Verse 1: Childish Gambino, Blocboy JB, Slim J...</td>\n",
       "      <td>This is America (skrrt, skrrt, woo), Don't cat...</td>\n",
       "      <td>Childish Gambino</td>\n",
       "    </tr>\n",
       "    <tr>\n",
       "      <th>3</th>\n",
       "      <td>Childish Gambino</td>\n",
       "      <td>This Is America</td>\n",
       "      <td>[Refrain: Choir &amp; Childish Gambino]</td>\n",
       "      <td>Ooh-ooh-ooh-ooh-ooh, tell somebody, You go tel...</td>\n",
       "      <td>Childish Gambino</td>\n",
       "    </tr>\n",
       "    <tr>\n",
       "      <th>4</th>\n",
       "      <td>Childish Gambino</td>\n",
       "      <td>This Is America</td>\n",
       "      <td>[Chorus: Childish Gambino, Slim Jxmmi &amp; Young ...</td>\n",
       "      <td>This is America (woo, ayy), Don't catch you sl...</td>\n",
       "      <td>Childish Gambino</td>\n",
       "    </tr>\n",
       "  </tbody>\n",
       "</table>\n",
       "</div>"
      ],
      "text/plain": [
       "         song_owner       song_title  \\\n",
       "0  Childish Gambino  This Is America   \n",
       "1  Childish Gambino  This Is America   \n",
       "2  Childish Gambino  This Is America   \n",
       "3  Childish Gambino  This Is America   \n",
       "4  Childish Gambino  This Is America   \n",
       "\n",
       "                                        song_element  \\\n",
       "0            [Bridge: Childish Gambino & Young Thug]   \n",
       "1                         [Chorus: Childish Gambino]   \n",
       "2  [Verse 1: Childish Gambino, Blocboy JB, Slim J...   \n",
       "3                [Refrain: Choir & Childish Gambino]   \n",
       "4  [Chorus: Childish Gambino, Slim Jxmmi & Young ...   \n",
       "\n",
       "                                               verse            artist  \n",
       "0  We just wanna party, Party just for you, We ju...  Childish Gambino  \n",
       "1  This is America, Don't catch you slippin' now,...  Childish Gambino  \n",
       "2  This is America (skrrt, skrrt, woo), Don't cat...  Childish Gambino  \n",
       "3  Ooh-ooh-ooh-ooh-ooh, tell somebody, You go tel...  Childish Gambino  \n",
       "4  This is America (woo, ayy), Don't catch you sl...  Childish Gambino  "
      ]
     },
     "execution_count": 15,
     "metadata": {},
     "output_type": "execute_result"
    }
   ],
   "source": [
    "df.head()"
   ]
  },
  {
   "cell_type": "code",
   "execution_count": 16,
   "metadata": {
    "ExecuteTime": {
     "end_time": "2018-08-23T18:23:44.516871Z",
     "start_time": "2018-08-23T18:23:44.512098Z"
    }
   },
   "outputs": [],
   "source": [
    "model_df = df.copy()"
   ]
  },
  {
   "cell_type": "code",
   "execution_count": 17,
   "metadata": {
    "ExecuteTime": {
     "end_time": "2018-08-23T18:23:44.639638Z",
     "start_time": "2018-08-23T18:23:44.519723Z"
    }
   },
   "outputs": [],
   "source": [
    "model_df['verse_words'] = model_df['verse'].copy()\n",
    "model_df['verse_words'] = model_df['verse_words'].str.lower()\n",
    "model_df['verse_words'] = model_df['verse_words'].apply(lambda x: x.replace(',',''))\n",
    "model_df['verse_words'] = model_df['verse_words'].apply(lambda x: x.split(' '))"
   ]
  },
  {
   "cell_type": "code",
   "execution_count": 18,
   "metadata": {
    "ExecuteTime": {
     "end_time": "2018-08-23T18:23:44.665506Z",
     "start_time": "2018-08-23T18:23:44.642456Z"
    }
   },
   "outputs": [
    {
     "data": {
      "text/html": [
       "<div>\n",
       "<style scoped>\n",
       "    .dataframe tbody tr th:only-of-type {\n",
       "        vertical-align: middle;\n",
       "    }\n",
       "\n",
       "    .dataframe tbody tr th {\n",
       "        vertical-align: top;\n",
       "    }\n",
       "\n",
       "    .dataframe thead th {\n",
       "        text-align: right;\n",
       "    }\n",
       "</style>\n",
       "<table border=\"1\" class=\"dataframe\">\n",
       "  <thead>\n",
       "    <tr style=\"text-align: right;\">\n",
       "      <th></th>\n",
       "      <th>song_owner</th>\n",
       "      <th>song_title</th>\n",
       "      <th>song_element</th>\n",
       "      <th>verse</th>\n",
       "      <th>artist</th>\n",
       "      <th>verse_words</th>\n",
       "    </tr>\n",
       "  </thead>\n",
       "  <tbody>\n",
       "    <tr>\n",
       "      <th>0</th>\n",
       "      <td>Childish Gambino</td>\n",
       "      <td>This Is America</td>\n",
       "      <td>[Bridge: Childish Gambino &amp; Young Thug]</td>\n",
       "      <td>We just wanna party, Party just for you, We ju...</td>\n",
       "      <td>Childish Gambino</td>\n",
       "      <td>[we, just, wanna, party, party, just, for, you...</td>\n",
       "    </tr>\n",
       "    <tr>\n",
       "      <th>1</th>\n",
       "      <td>Childish Gambino</td>\n",
       "      <td>This Is America</td>\n",
       "      <td>[Chorus: Childish Gambino]</td>\n",
       "      <td>This is America, Don't catch you slippin' now,...</td>\n",
       "      <td>Childish Gambino</td>\n",
       "      <td>[this, is, america, don't, catch, you, slippin...</td>\n",
       "    </tr>\n",
       "    <tr>\n",
       "      <th>2</th>\n",
       "      <td>Childish Gambino</td>\n",
       "      <td>This Is America</td>\n",
       "      <td>[Verse 1: Childish Gambino, Blocboy JB, Slim J...</td>\n",
       "      <td>This is America (skrrt, skrrt, woo), Don't cat...</td>\n",
       "      <td>Childish Gambino</td>\n",
       "      <td>[this, is, america, (skrrt, skrrt, woo), don't...</td>\n",
       "    </tr>\n",
       "    <tr>\n",
       "      <th>3</th>\n",
       "      <td>Childish Gambino</td>\n",
       "      <td>This Is America</td>\n",
       "      <td>[Refrain: Choir &amp; Childish Gambino]</td>\n",
       "      <td>Ooh-ooh-ooh-ooh-ooh, tell somebody, You go tel...</td>\n",
       "      <td>Childish Gambino</td>\n",
       "      <td>[ooh-ooh-ooh-ooh-ooh, tell, somebody, you, go,...</td>\n",
       "    </tr>\n",
       "    <tr>\n",
       "      <th>4</th>\n",
       "      <td>Childish Gambino</td>\n",
       "      <td>This Is America</td>\n",
       "      <td>[Chorus: Childish Gambino, Slim Jxmmi &amp; Young ...</td>\n",
       "      <td>This is America (woo, ayy), Don't catch you sl...</td>\n",
       "      <td>Childish Gambino</td>\n",
       "      <td>[this, is, america, (woo, ayy), don't, catch, ...</td>\n",
       "    </tr>\n",
       "  </tbody>\n",
       "</table>\n",
       "</div>"
      ],
      "text/plain": [
       "         song_owner       song_title  \\\n",
       "0  Childish Gambino  This Is America   \n",
       "1  Childish Gambino  This Is America   \n",
       "2  Childish Gambino  This Is America   \n",
       "3  Childish Gambino  This Is America   \n",
       "4  Childish Gambino  This Is America   \n",
       "\n",
       "                                        song_element  \\\n",
       "0            [Bridge: Childish Gambino & Young Thug]   \n",
       "1                         [Chorus: Childish Gambino]   \n",
       "2  [Verse 1: Childish Gambino, Blocboy JB, Slim J...   \n",
       "3                [Refrain: Choir & Childish Gambino]   \n",
       "4  [Chorus: Childish Gambino, Slim Jxmmi & Young ...   \n",
       "\n",
       "                                               verse            artist  \\\n",
       "0  We just wanna party, Party just for you, We ju...  Childish Gambino   \n",
       "1  This is America, Don't catch you slippin' now,...  Childish Gambino   \n",
       "2  This is America (skrrt, skrrt, woo), Don't cat...  Childish Gambino   \n",
       "3  Ooh-ooh-ooh-ooh-ooh, tell somebody, You go tel...  Childish Gambino   \n",
       "4  This is America (woo, ayy), Don't catch you sl...  Childish Gambino   \n",
       "\n",
       "                                         verse_words  \n",
       "0  [we, just, wanna, party, party, just, for, you...  \n",
       "1  [this, is, america, don't, catch, you, slippin...  \n",
       "2  [this, is, america, (skrrt, skrrt, woo), don't...  \n",
       "3  [ooh-ooh-ooh-ooh-ooh, tell, somebody, you, go,...  \n",
       "4  [this, is, america, (woo, ayy), don't, catch, ...  "
      ]
     },
     "execution_count": 18,
     "metadata": {},
     "output_type": "execute_result"
    }
   ],
   "source": [
    "model_df.head()"
   ]
  },
  {
   "cell_type": "code",
   "execution_count": 19,
   "metadata": {
    "ExecuteTime": {
     "end_time": "2018-08-23T18:23:48.093519Z",
     "start_time": "2018-08-23T18:23:44.668314Z"
    }
   },
   "outputs": [],
   "source": [
    "from nltk.tokenize import word_tokenize\n",
    "model_df['tokenize_verse'] = model_df['verse'].copy()\n",
    "model_df['tokenize_verse'] = model_df['tokenize_verse'].str.lower()\n",
    "model_df['tokenize_verse'] = model_df['tokenize_verse'].apply(lambda x: word_tokenize(x))"
   ]
  },
  {
   "cell_type": "code",
   "execution_count": 20,
   "metadata": {
    "ExecuteTime": {
     "end_time": "2018-08-23T18:23:48.451656Z",
     "start_time": "2018-08-23T18:23:48.095253Z"
    }
   },
   "outputs": [],
   "source": [
    "model_df['verse'] = model_df['verse'].str.lower()\n",
    "model_df['verse'] = model_df['verse'].apply(lambda x: x.replace(\"'\",''))\n",
    "model_df['verse'] = model_df['verse'].apply(lambda x: \"\".join([c if c.isalnum() else \" \" for c in x ]))\n",
    "model_df['verse'] = model_df['verse'].apply(lambda x: x.replace('  ',' '))"
   ]
  },
  {
   "cell_type": "code",
   "execution_count": 21,
   "metadata": {
    "ExecuteTime": {
     "end_time": "2018-08-23T18:23:49.505354Z",
     "start_time": "2018-08-23T18:23:48.453870Z"
    }
   },
   "outputs": [
    {
     "data": {
      "text/plain": [
       "0    we just wanna party party just for you we just...\n",
       "1    this is america dont catch you slippin now don...\n",
       "2    this is america dont catch you slippin now loo...\n",
       "3    tell somebody you go tell somebody grandma tol...\n",
       "4    this is america dont catch you slippin now don...\n",
       "Name: verse, dtype: object"
      ]
     },
     "execution_count": 21,
     "metadata": {},
     "output_type": "execute_result"
    }
   ],
   "source": [
    "stopwords = [\"yeah\", \"uh\", \"huh\", \"aw\", \"oh\", \"la\", \"ayy\",\n",
    "            \"na\", \"ha\", \"ay\", \"skrrt\",\n",
    "            \"em\", \"bla\", \"woo\", \"wu\", \"ya\", \"wala\", \"woop\", \"wrarrr\", \"ooh\",\n",
    "            \"ba\", \"duh\", \"du\", \"1\", \"2\", \"3\", \"4\" ,\"5\" ,\"6\", \"7\", \"8\", \"9\", \"0\"]\n",
    "\n",
    "for index, row in model_df.iterrows():\n",
    "    querywords = row['verse'].split()\n",
    "\n",
    "    resultwords  = [word for word in querywords if word.lower() not in stopwords]\n",
    "    row['verse'] = ' '.join(resultwords)\n",
    "\n",
    "model_df.verse[:5]"
   ]
  },
  {
   "cell_type": "code",
   "execution_count": 22,
   "metadata": {
    "ExecuteTime": {
     "end_time": "2018-08-23T18:23:49.511327Z",
     "start_time": "2018-08-23T18:23:49.507833Z"
    }
   },
   "outputs": [],
   "source": [
    "verses = list(model_df.verse.values)"
   ]
  },
  {
   "cell_type": "code",
   "execution_count": 23,
   "metadata": {
    "ExecuteTime": {
     "end_time": "2018-08-23T18:23:49.518419Z",
     "start_time": "2018-08-23T18:23:49.513548Z"
    }
   },
   "outputs": [
    {
     "data": {
      "text/plain": [
       "['we just wanna party party just for you we just want the money money just for you i know you wanna party party just for free girl you got me dancin girl you got me dancin dance and shake the frame we just wanna party party just for you we just want the money money just for you you i know you wanna party party just for free girl you got me dancin girl you got me dancin dance and shake the frame',\n",
       " 'this is america dont catch you slippin now dont catch you slippin now look what im whippin now this is america dont catch you slippin now dont catch you slippin now look what im whippin now',\n",
       " 'this is america dont catch you slippin now look how im livin now police be trippin now this is america guns in my area word my area i got the strap i gotta carry ima go into this ugh this is guerilla ima go get the bag or ima get the pad im so cold like im so dope like we gon blow like straight up',\n",
       " 'tell somebody you go tell somebody grandma told me get your money black man get your black man get your money black man get your black man get your money black man get your black man get your money black man get your black man black man',\n",
       " 'this is america dont catch you slippin now dont catch you slippin now dont catch you slippin now woah look what im whippin now slime this is america dont catch you slippin now woah dont catch you slippin now look what im whippin now',\n",
       " 'look how im geekin out hey im so fitted im so fitted im on gucci im on gucci im so pretty im gon get it im gon get it watch me move blaow this a celly thats a tool on my kodak black know that know that hold on get it get it get it work it 21 hunnid bands hunnid bands hunnid bands hunnid bands contraband contraband contraband contraband i got the plug in oaxaca woah they gonna find you like blocka blaow',\n",
       " 'tell somebody america i just checked my following list and you go tell somebody you mothafuckas owe me grandma told me get your money black man black man get your money black man black man get your money black man get your black man get your money black man get your black man black man get down tell somebody you go tell somebody grandma told me get your money get your money black man black man get your money black man black man get your money black man black man get your money black man black man black man',\n",
       " 'daylight i wake up feeling like you wont play right i used to know but now that shit dont feel right it made me put away my pride so long you made a nigga wait for some so long you make it hard for boy like that to go on im wishing i could make this mine',\n",
       " 'if you want it you can have it if you need it we can make it if you want it you can have it',\n",
       " 'but stay woke niggas creepin they gon find you gon catch you sleepin now stay woke niggas creepin now dont you close your eyes']"
      ]
     },
     "execution_count": 23,
     "metadata": {},
     "output_type": "execute_result"
    }
   ],
   "source": [
    "verses[:10]"
   ]
  },
  {
   "cell_type": "code",
   "execution_count": 26,
   "metadata": {
    "ExecuteTime": {
     "end_time": "2018-08-23T18:24:08.268181Z",
     "start_time": "2018-08-23T18:24:08.260563Z"
    }
   },
   "outputs": [
    {
     "data": {
      "text/plain": [
       "'we just wanna party party just for you we just want the money money just for you i know you wanna pa'"
      ]
     },
     "execution_count": 26,
     "metadata": {},
     "output_type": "execute_result"
    }
   ],
   "source": [
    "all_verses_all_rappers = ','.join(verses)\n",
    "\n",
    "all_verses_all_rappers[:100]"
   ]
  },
  {
   "cell_type": "code",
   "execution_count": 28,
   "metadata": {
    "ExecuteTime": {
     "end_time": "2018-08-23T18:24:13.701894Z",
     "start_time": "2018-08-23T18:24:13.699265Z"
    }
   },
   "outputs": [],
   "source": [
    "file = all_verses_all_rappers"
   ]
  },
  {
   "cell_type": "code",
   "execution_count": 29,
   "metadata": {
    "ExecuteTime": {
     "end_time": "2018-08-23T18:24:13.713990Z",
     "start_time": "2018-08-23T18:24:13.704298Z"
    }
   },
   "outputs": [
    {
     "name": "stdout",
     "output_type": "stream",
     "text": [
      "file_len = 2670560\n"
     ]
    }
   ],
   "source": [
    "# Read in text and change unicode characters to ASCII\n",
    "import unidecode\n",
    "import string\n",
    "import random\n",
    "import re\n",
    "\n",
    "all_characters = string.printable\n",
    "n_characters = len(all_characters)\n",
    "\n",
    "file_len = len(file)\n",
    "print(f'file_len = {file_len}')"
   ]
  },
  {
   "cell_type": "code",
   "execution_count": 30,
   "metadata": {
    "ExecuteTime": {
     "end_time": "2018-08-23T18:24:13.720788Z",
     "start_time": "2018-08-23T18:24:13.716026Z"
    }
   },
   "outputs": [
    {
     "name": "stdout",
     "output_type": "stream",
     "text": [
      "the land where niggas praise yukons and getting paid its gonna take a lot more than coupons to get us saved like it take a lot more than doo rags to get you waves nothing sad as that day my girls father passed away so i promised to mr rainey im gonna marry your daughter and you know i gotta thank you for the way that she was brought up and i know that you were smiling when you see the car i bought \n"
     ]
    }
   ],
   "source": [
    "chunk_len = 400\n",
    "\n",
    "def random_chunk():\n",
    "    start_index = random.randint(0, file_len - chunk_len)\n",
    "    end_index = start_index + chunk_len + 1\n",
    "    return file[start_index:end_index]\n",
    "\n",
    "print(random_chunk())"
   ]
  },
  {
   "cell_type": "code",
   "execution_count": 31,
   "metadata": {
    "ExecuteTime": {
     "end_time": "2018-08-23T18:24:13.922886Z",
     "start_time": "2018-08-23T18:24:13.723788Z"
    }
   },
   "outputs": [],
   "source": [
    "import torch\n",
    "import torch.nn as nn\n",
    "from torch.autograd import Variable\n",
    "import torch.nn.functional as F\n",
    "\n",
    "class RNN(nn.Module):\n",
    "    def __init__(self, input_size, hidden_size, output_size, n_layers=1):\n",
    "        super(RNN, self).__init__()\n",
    "        self.input_size = input_size\n",
    "        self.hidden_size = hidden_size\n",
    "        self.output_size = output_size\n",
    "        self.n_layers = n_layers\n",
    "        \n",
    "        self.encoder = nn.Embedding(input_size, hidden_size)\n",
    "        self.gru = nn.GRU(hidden_size, hidden_size, n_layers)\n",
    "        self.decoder = nn.Linear(hidden_size, output_size)\n",
    "        \n",
    "    def forward(self, input, hidden):\n",
    "        output = self.encoder(input.view(1, -1))\n",
    "        output, hidden = self.gru(output.view(1, 1, -1), hidden)\n",
    "        output = self.decoder(output.view(1, -1))\n",
    "        \n",
    "        return output, hidden\n",
    "    \n",
    "    def init_hidden(self):\n",
    "        return Variable(torch.randn(self.n_layers, 1, self.hidden_size))"
   ]
  },
  {
   "cell_type": "code",
   "execution_count": 32,
   "metadata": {
    "ExecuteTime": {
     "end_time": "2018-08-23T18:24:13.934479Z",
     "start_time": "2018-08-23T18:24:13.925872Z"
    }
   },
   "outputs": [
    {
     "name": "stdout",
     "output_type": "stream",
     "text": [
      "tensor([48, 14, 29, 18, 28,  0,  1,  2,  3, 10, 11, 12, 35, 36, 37, 38])\n"
     ]
    }
   ],
   "source": [
    "def char2tensor(string):\n",
    "    tensor = torch.zeros(len(string)).long()\n",
    "    for char in range(len(string)):\n",
    "        if string[char] in all_characters:\n",
    "            tensor[char] = all_characters.index(string[char])\n",
    "        else:\n",
    "            tensor[char] = 94 #predict space if character unknown\n",
    "        \n",
    "    return Variable(tensor)\n",
    "\n",
    "# Let's see it in action.\n",
    "print(char2tensor('Metis0123abczABC'))"
   ]
  },
  {
   "cell_type": "code",
   "execution_count": 33,
   "metadata": {
    "ExecuteTime": {
     "end_time": "2018-08-23T18:24:13.939735Z",
     "start_time": "2018-08-23T18:24:13.936641Z"
    }
   },
   "outputs": [],
   "source": [
    "def random_training_set():\n",
    "    chunk = random_chunk()\n",
    "    inp = char2tensor(chunk[:-1])\n",
    "    target = char2tensor(chunk[1:])\n",
    "    return inp, target"
   ]
  },
  {
   "cell_type": "code",
   "execution_count": 34,
   "metadata": {
    "ExecuteTime": {
     "end_time": "2018-08-23T18:24:13.955612Z",
     "start_time": "2018-08-23T18:24:13.942539Z"
    }
   },
   "outputs": [],
   "source": [
    "def evaluate(model, prime_str='A', predict_len=100, temperature=0.8):\n",
    "    \n",
    "    hidden = model.init_hidden()\n",
    "    prime_input = char2tensor(prime_str)\n",
    "    predicted = prime_str\n",
    "    \n",
    "    # use priming string to build up hidden state\n",
    "    \n",
    "    for p in range(len(prime_str) - 1):\n",
    "        _, hidden = model(prime_input[p], hidden)\n",
    "    inp = prime_input[-1]\n",
    "    \n",
    "    for p in range(predict_len):\n",
    "        output, hidden = model(inp, hidden)\n",
    "        \n",
    "        # Sample from the network as a multinomial distribution\n",
    "        output_dist = output.data.view(-1).div(temperature).exp()\n",
    "        top_i = torch.multinomial(output_dist, 1)[0]\n",
    "        \n",
    "        # Add predicted character to string and use as next input\n",
    "        predicted_char = all_characters[top_i]\n",
    "        predicted += predicted_char\n",
    "        inp = char2tensor(predicted_char)\n",
    "        \n",
    "    return predicted"
   ]
  },
  {
   "cell_type": "code",
   "execution_count": 35,
   "metadata": {
    "ExecuteTime": {
     "end_time": "2018-08-23T18:24:13.962446Z",
     "start_time": "2018-08-23T18:24:13.958359Z"
    }
   },
   "outputs": [],
   "source": [
    "# helper function\n",
    "import time, math\n",
    "\n",
    "def time_since(since):\n",
    "    s = time.time() - since\n",
    "    m = math.floor(s/60)\n",
    "    s -= m*60\n",
    "    return '%dm %ds' % (m, s)"
   ]
  },
  {
   "cell_type": "code",
   "execution_count": 36,
   "metadata": {
    "ExecuteTime": {
     "end_time": "2018-08-23T18:24:13.970829Z",
     "start_time": "2018-08-23T18:24:13.964716Z"
    }
   },
   "outputs": [],
   "source": [
    "# The actual training part\n",
    "def train(inp, target):\n",
    "    hidden = model.init_hidden()\n",
    "    model.zero_grad()\n",
    "    loss = 0\n",
    "\n",
    "    for char in range(chunk_len):\n",
    "        output, hidden = model(inp[char], hidden)\n",
    "        loss += criterion(output, target[char].unsqueeze(0))\n",
    "\n",
    "    loss.backward()\n",
    "    model_optimizer.step()\n",
    "\n",
    "    return loss.data.item() / chunk_len"
   ]
  },
  {
   "cell_type": "code",
   "execution_count": 37,
   "metadata": {
    "ExecuteTime": {
     "end_time": "2018-08-23T18:41:38.526991Z",
     "start_time": "2018-08-23T18:24:13.973193Z"
    }
   },
   "outputs": [
    {
     "name": "stdout",
     "output_type": "stream",
     "text": [
      "[1m 14s (100 10%) 2.2332]\n",
      "A bows soh ive wel deny wat alo ald ant eot an ty the the ilr ant bistt te nam any mdenpiths nhat eur  \n",
      "\n",
      "[2m 39s (200 20%) 1.8642]\n",
      "A they ling thins got you weed stes eest ing you kswe and thit they nea got the do it mepeld e can sho \n",
      "\n",
      "[4m 27s (300 30%) 1.8754]\n",
      "A i so drack i cauve it bout what it trap i wak up jupp i sear monf the preecaomaint be you pace cold  \n",
      "\n",
      "[6m 19s (400 40%) 1.7655]\n",
      "A his but like to bo anothe nigggan the reor fues so say dran he i cluck sop righat not right ired fil \n",
      "\n",
      "[8m 10s (500 50%) 1.7297]\n",
      "A all arany this do,et resper for on bdomen we me to be boy so do off nwo get t lever the gove this hi \n",
      "\n",
      "[10m 1s (600 60%) 1.5962]\n",
      "A billed i come it now a that we my hople penways blow call the his the now fourshin so the that i fig \n",
      "\n",
      "[11m 52s (700 70%) 1.6954]\n",
      "A im she waint she can she nigga told the she needed to summe ant go done was some you got all she gai \n",
      "\n",
      "[13m 43s (800 80%) 1.5274]\n",
      "A cluse them min it jarned worrine scity too and like the femt i girl like my it people dive you so th \n",
      "\n",
      "[15m 33s (900 90%) 1.7381]\n",
      "A hood man i get when missilong niggas sound we based but me no gold on ill bout and yours i dons to g \n",
      "\n",
      "[17m 24s (1000 100%) 1.6065]\n",
      "A head t i m beone to at think so the time and of than needed keep side in the mown your think bitch a \n",
      "\n"
     ]
    }
   ],
   "source": [
    "# parameters\n",
    "n_epochs = 1000\n",
    "print_every = 100\n",
    "plot_every = 10\n",
    "hidden_size = 256\n",
    "n_layers = 2\n",
    "learning_rate = 0.001\n",
    "\n",
    "# model declaration\n",
    "model = RNN(n_characters, hidden_size, n_characters, n_layers)\n",
    "model_optimizer = torch.optim.Adam(model.parameters(), lr=learning_rate)\n",
    "criterion = nn.CrossEntropyLoss()\n",
    "\n",
    "start = time.time()\n",
    "all_losses = []\n",
    "loss_avg = 0\n",
    "\n",
    "for epoch in range(1, n_epochs + 1):\n",
    "    loss = train(*random_training_set())       \n",
    "    loss_avg += loss\n",
    "\n",
    "    if epoch % print_every == 0:\n",
    "        print('[%s (%d %d%%) %.4f]' % (time_since(start), epoch, epoch / n_epochs * 100, loss))\n",
    "        print(evaluate(model, 'A ', 100), '\\n')\n",
    "\n",
    "    if epoch % plot_every == 0:\n",
    "        all_losses.append(loss_avg / plot_every)\n",
    "        loss_avg = 0"
   ]
  },
  {
   "cell_type": "code",
   "execution_count": 38,
   "metadata": {
    "ExecuteTime": {
     "end_time": "2018-08-23T18:41:38.730785Z",
     "start_time": "2018-08-23T18:41:38.529724Z"
    }
   },
   "outputs": [
    {
     "data": {
      "text/plain": [
       "[<matplotlib.lines.Line2D at 0x1a205a9f28>]"
      ]
     },
     "execution_count": 38,
     "metadata": {},
     "output_type": "execute_result"
    },
    {
     "data": {
      "image/png": "[encoded data removed]",
      "text/plain": [
       "<Figure size 432x288 with 1 Axes>"
      ]
     },
     "metadata": {},
     "output_type": "display_data"
    }
   ],
   "source": [
    "import matplotlib.pyplot as plt\n",
    "import matplotlib.ticker as ticker\n",
    "%matplotlib inline\n",
    "\n",
    "plt.figure()\n",
    "plt.plot(all_losses)"
   ]
  },
  {
   "cell_type": "code",
   "execution_count": 52,
   "metadata": {
    "ExecuteTime": {
     "end_time": "2018-08-23T19:02:40.794870Z",
     "start_time": "2018-08-23T19:02:40.620789Z"
    }
   },
   "outputs": [
    {
     "name": "stdout",
     "output_type": "stream",
     "text": [
      "To be or not to been you know the way fuck the back you can the said to the more why in to me of thing you can the rocker to the nigga all be be this bitch the so i needed love a dont got the man a smon the holling the\n"
     ]
    }
   ],
   "source": [
    "# Evaluate model from this notebook\n",
    "print(evaluate(model, 'To be or not to be', predict_len=200, temperature=0.5))"
   ]
  },
  {
   "cell_type": "code",
   "execution_count": 53,
   "metadata": {
    "ExecuteTime": {
     "end_time": "2018-08-23T19:02:56.947474Z",
     "start_time": "2018-08-23T19:02:56.789721Z"
    }
   },
   "outputs": [
    {
     "name": "stdout",
     "output_type": "stream",
     "text": [
      "I miss you girl come back down the whole for the feeling on the way was than needer she fame to be she got me rock a love i got the hand so think your said that been not to me all me think the rocks my niggas i m the show the \n"
     ]
    }
   ],
   "source": [
    "# Evaluate model from this notebook\n",
    "print(evaluate(model, 'I miss you girl come back ', predict_len=200, temperature=0.5))"
   ]
  },
  {
   "cell_type": "code",
   "execution_count": 54,
   "metadata": {
    "ExecuteTime": {
     "end_time": "2018-08-23T19:03:18.587217Z",
     "start_time": "2018-08-23T19:03:18.425065Z"
    }
   },
   "outputs": [
    {
     "name": "stdout",
     "output_type": "stream",
     "text": [
      "I'm the realest rapper alive in the right some the still some i love i way to the was throw your name see your down to now you know you know the for the bad and now a niggas i got the real you know the what you the bast of to th\n"
     ]
    }
   ],
   "source": [
    "# Evaluate model from this notebook\n",
    "print(evaluate(model, \"I'm the realest rapper alive\", predict_len=200, temperature=0.5))"
   ]
  },
  {
   "cell_type": "code",
   "execution_count": 49,
   "metadata": {
    "ExecuteTime": {
     "end_time": "2018-08-23T18:50:55.693754Z",
     "start_time": "2018-08-23T18:50:55.538109Z"
    }
   },
   "outputs": [
    {
     "name": "stdout",
     "output_type": "stream",
     "text": [
      "Smoke a lot of weed the rock you know i can the back a real for my money i do it say the love for the show to the down i have down the bad my king comple be some the all for to can shit the place me and we real me for t\n"
     ]
    }
   ],
   "source": [
    "# Evaluate model from this notebook\n",
    "print(evaluate(model, \"Smoke a lot of weed\", predict_len=200, temperature=0.4))"
   ]
  },
  {
   "cell_type": "code",
   "execution_count": null,
   "metadata": {
    "ExecuteTime": {
     "end_time": "2018-08-23T19:05:36.478646Z",
     "start_time": "2018-08-23T19:05:36.351654Z"
    }
   },
   "outputs": [],
   "source": []
  },
  {
   "cell_type": "code",
   "execution_count": null,
   "metadata": {},
   "outputs": [],
   "source": []
  }
 ],
 "metadata": {
  "kernelspec": {
   "display_name": "Python 3",
   "language": "python",
   "name": "python3"
  },
  "language_info": {
   "codemirror_mode": {
    "name": "ipython",
    "version": 3
   },
   "file_extension": ".py",
   "mimetype": "text/x-python",
   "name": "python",
   "nbconvert_exporter": "python",
   "pygments_lexer": "ipython3",
   "version": "3.6.6"
  },
  "varInspector": {
   "cols": {
    "lenName": 16,
    "lenType": 16,
    "lenVar": 40
   },
   "kernels_config": {
    "python": {
     "delete_cmd_postfix": "",
     "delete_cmd_prefix": "del ",
     "library": "var_list.py",
     "varRefreshCmd": "print(var_dic_list())"
    },
    "r": {
     "delete_cmd_postfix": ") ",
     "delete_cmd_prefix": "rm(",
     "library": "var_list.r",
     "varRefreshCmd": "cat(var_dic_list()) "
    }
   },
   "types_to_exclude": [
    "module",
    "function",
    "builtin_function_or_method",
    "instance",
    "_Feature"
   ],
   "window_display": false
  }
 },
 "nbformat": 4,
 "nbformat_minor": 2
}
