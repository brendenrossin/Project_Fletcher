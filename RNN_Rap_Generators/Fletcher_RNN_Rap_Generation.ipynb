{
 "cells": [
  {
   "cell_type": "code",
   "execution_count": 30,
   "metadata": {
    "ExecuteTime": {
     "end_time": "2018-08-24T01:56:44.233237Z",
     "start_time": "2018-08-24T01:56:44.201429Z"
    }
   },
   "outputs": [],
   "source": [
    "import pandas as pd\n",
    "import random\n",
    "from time import sleep\n",
    "import warnings\n",
    "warnings.filterwarnings(\"ignore\",category=DeprecationWarning)\n",
    "import numpy as np\n",
    "import nltk\n",
    "import os\n",
    "from sklearn import datasets\n",
    "import pickle\n",
    "from nltk.tokenize import word_tokenize\n",
    "from sklearn.decomposition import NMF, TruncatedSVD\n",
    "import matplotlib.pyplot as plt\n",
    "import seaborn as sns\n",
    "from sklearn.decomposition import LatentDirichletAllocation\n",
    "from sklearn.neighbors import NearestNeighbors\n",
    "from sklearn.cross_validation import train_test_split, cross_val_score\n",
    "from sklearn.linear_model import RidgeCV\n",
    "from sklearn.pipeline import make_pipeline, Pipeline\n",
    "from sklearn.preprocessing import PolynomialFeatures, StandardScaler\n",
    "from sklearn.neighbors import KNeighborsClassifier\n",
    "from sklearn.linear_model import LogisticRegression\n",
    "from sklearn.metrics import accuracy_score, recall_score, precision_score, f1_score, roc_auc_score, roc_curve, auc, fbeta_score\n",
    "from sklearn.model_selection import learning_curve, KFold, GridSearchCV, cross_val_score\n",
    "from sklearn.naive_bayes import GaussianNB, MultinomialNB\n",
    "from sklearn.svm import SVC\n",
    "from sklearn.tree import DecisionTreeClassifier\n",
    "from sklearn.ensemble import RandomForestClassifier, GradientBoostingClassifier\n",
    "from sklearn.dummy import DummyClassifier\n",
    "from collections import Counter\n",
    "from sklearn.feature_extraction.text import TfidfTransformer, CountVectorizer, TfidfVectorizer\n",
    "from sklearn.feature_extraction import text\n",
    "from sklearn.preprocessing import normalize\n",
    "import re\n",
    "from unidecode import unidecode\n",
    "\n",
    "import matplotlib.style as style\n",
    "%matplotlib inline\n",
    "plt.style.use('ggplot')"
   ]
  },
  {
   "cell_type": "code",
   "execution_count": 31,
   "metadata": {
    "ExecuteTime": {
     "end_time": "2018-08-24T01:56:44.254292Z",
     "start_time": "2018-08-24T01:56:44.235985Z"
    }
   },
   "outputs": [],
   "source": [
    "with open('data/cleaned_df.pkl', 'rb') as picklefile:\n",
    "    df = pickle.load(picklefile)"
   ]
  },
  {
   "cell_type": "code",
   "execution_count": 32,
   "metadata": {
    "ExecuteTime": {
     "end_time": "2018-08-24T01:56:44.270793Z",
     "start_time": "2018-08-24T01:56:44.257141Z"
    }
   },
   "outputs": [
    {
     "data": {
      "text/html": [
       "<div>\n",
       "<style scoped>\n",
       "    .dataframe tbody tr th:only-of-type {\n",
       "        vertical-align: middle;\n",
       "    }\n",
       "\n",
       "    .dataframe tbody tr th {\n",
       "        vertical-align: top;\n",
       "    }\n",
       "\n",
       "    .dataframe thead th {\n",
       "        text-align: right;\n",
       "    }\n",
       "</style>\n",
       "<table border=\"1\" class=\"dataframe\">\n",
       "  <thead>\n",
       "    <tr style=\"text-align: right;\">\n",
       "      <th></th>\n",
       "      <th>song_owner</th>\n",
       "      <th>song_title</th>\n",
       "      <th>song_element</th>\n",
       "      <th>verse</th>\n",
       "      <th>artist</th>\n",
       "    </tr>\n",
       "  </thead>\n",
       "  <tbody>\n",
       "    <tr>\n",
       "      <th>0</th>\n",
       "      <td>Childish Gambino</td>\n",
       "      <td>This Is America</td>\n",
       "      <td>[Bridge: Childish Gambino &amp; Young Thug]</td>\n",
       "      <td>We just wanna party, Party just for you, We ju...</td>\n",
       "      <td>Childish Gambino</td>\n",
       "    </tr>\n",
       "    <tr>\n",
       "      <th>1</th>\n",
       "      <td>Childish Gambino</td>\n",
       "      <td>This Is America</td>\n",
       "      <td>[Chorus: Childish Gambino]</td>\n",
       "      <td>This is America, Don't catch you slippin' now,...</td>\n",
       "      <td>Childish Gambino</td>\n",
       "    </tr>\n",
       "    <tr>\n",
       "      <th>2</th>\n",
       "      <td>Childish Gambino</td>\n",
       "      <td>This Is America</td>\n",
       "      <td>[Verse 1: Childish Gambino, Blocboy JB, Slim J...</td>\n",
       "      <td>This is America (skrrt, skrrt, woo), Don't cat...</td>\n",
       "      <td>Childish Gambino</td>\n",
       "    </tr>\n",
       "    <tr>\n",
       "      <th>3</th>\n",
       "      <td>Childish Gambino</td>\n",
       "      <td>This Is America</td>\n",
       "      <td>[Refrain: Choir &amp; Childish Gambino]</td>\n",
       "      <td>Ooh-ooh-ooh-ooh-ooh, tell somebody, You go tel...</td>\n",
       "      <td>Childish Gambino</td>\n",
       "    </tr>\n",
       "    <tr>\n",
       "      <th>4</th>\n",
       "      <td>Childish Gambino</td>\n",
       "      <td>This Is America</td>\n",
       "      <td>[Chorus: Childish Gambino, Slim Jxmmi &amp; Young ...</td>\n",
       "      <td>This is America (woo, ayy), Don't catch you sl...</td>\n",
       "      <td>Childish Gambino</td>\n",
       "    </tr>\n",
       "  </tbody>\n",
       "</table>\n",
       "</div>"
      ],
      "text/plain": [
       "         song_owner       song_title  \\\n",
       "0  Childish Gambino  This Is America   \n",
       "1  Childish Gambino  This Is America   \n",
       "2  Childish Gambino  This Is America   \n",
       "3  Childish Gambino  This Is America   \n",
       "4  Childish Gambino  This Is America   \n",
       "\n",
       "                                        song_element  \\\n",
       "0            [Bridge: Childish Gambino & Young Thug]   \n",
       "1                         [Chorus: Childish Gambino]   \n",
       "2  [Verse 1: Childish Gambino, Blocboy JB, Slim J...   \n",
       "3                [Refrain: Choir & Childish Gambino]   \n",
       "4  [Chorus: Childish Gambino, Slim Jxmmi & Young ...   \n",
       "\n",
       "                                               verse            artist  \n",
       "0  We just wanna party, Party just for you, We ju...  Childish Gambino  \n",
       "1  This is America, Don't catch you slippin' now,...  Childish Gambino  \n",
       "2  This is America (skrrt, skrrt, woo), Don't cat...  Childish Gambino  \n",
       "3  Ooh-ooh-ooh-ooh-ooh, tell somebody, You go tel...  Childish Gambino  \n",
       "4  This is America (woo, ayy), Don't catch you sl...  Childish Gambino  "
      ]
     },
     "execution_count": 32,
     "metadata": {},
     "output_type": "execute_result"
    }
   ],
   "source": [
    "df.head()"
   ]
  },
  {
   "cell_type": "code",
   "execution_count": 33,
   "metadata": {
    "ExecuteTime": {
     "end_time": "2018-08-24T01:56:44.279277Z",
     "start_time": "2018-08-24T01:56:44.273827Z"
    }
   },
   "outputs": [],
   "source": [
    "model_df = df.copy()"
   ]
  },
  {
   "cell_type": "code",
   "execution_count": 34,
   "metadata": {
    "ExecuteTime": {
     "end_time": "2018-08-24T01:56:44.396232Z",
     "start_time": "2018-08-24T01:56:44.282378Z"
    }
   },
   "outputs": [],
   "source": [
    "model_df['verse_words'] = model_df['verse'].copy()\n",
    "model_df['verse_words'] = model_df['verse_words'].str.lower()\n",
    "model_df['verse_words'] = model_df['verse_words'].apply(lambda x: x.replace(',',''))\n",
    "model_df['verse_words'] = model_df['verse_words'].apply(lambda x: x.split(' '))"
   ]
  },
  {
   "cell_type": "code",
   "execution_count": 35,
   "metadata": {
    "ExecuteTime": {
     "end_time": "2018-08-24T01:56:44.422589Z",
     "start_time": "2018-08-24T01:56:44.399149Z"
    }
   },
   "outputs": [
    {
     "data": {
      "text/html": [
       "<div>\n",
       "<style scoped>\n",
       "    .dataframe tbody tr th:only-of-type {\n",
       "        vertical-align: middle;\n",
       "    }\n",
       "\n",
       "    .dataframe tbody tr th {\n",
       "        vertical-align: top;\n",
       "    }\n",
       "\n",
       "    .dataframe thead th {\n",
       "        text-align: right;\n",
       "    }\n",
       "</style>\n",
       "<table border=\"1\" class=\"dataframe\">\n",
       "  <thead>\n",
       "    <tr style=\"text-align: right;\">\n",
       "      <th></th>\n",
       "      <th>song_owner</th>\n",
       "      <th>song_title</th>\n",
       "      <th>song_element</th>\n",
       "      <th>verse</th>\n",
       "      <th>artist</th>\n",
       "      <th>verse_words</th>\n",
       "    </tr>\n",
       "  </thead>\n",
       "  <tbody>\n",
       "    <tr>\n",
       "      <th>0</th>\n",
       "      <td>Childish Gambino</td>\n",
       "      <td>This Is America</td>\n",
       "      <td>[Bridge: Childish Gambino &amp; Young Thug]</td>\n",
       "      <td>We just wanna party, Party just for you, We ju...</td>\n",
       "      <td>Childish Gambino</td>\n",
       "      <td>[we, just, wanna, party, party, just, for, you...</td>\n",
       "    </tr>\n",
       "    <tr>\n",
       "      <th>1</th>\n",
       "      <td>Childish Gambino</td>\n",
       "      <td>This Is America</td>\n",
       "      <td>[Chorus: Childish Gambino]</td>\n",
       "      <td>This is America, Don't catch you slippin' now,...</td>\n",
       "      <td>Childish Gambino</td>\n",
       "      <td>[this, is, america, don't, catch, you, slippin...</td>\n",
       "    </tr>\n",
       "    <tr>\n",
       "      <th>2</th>\n",
       "      <td>Childish Gambino</td>\n",
       "      <td>This Is America</td>\n",
       "      <td>[Verse 1: Childish Gambino, Blocboy JB, Slim J...</td>\n",
       "      <td>This is America (skrrt, skrrt, woo), Don't cat...</td>\n",
       "      <td>Childish Gambino</td>\n",
       "      <td>[this, is, america, (skrrt, skrrt, woo), don't...</td>\n",
       "    </tr>\n",
       "    <tr>\n",
       "      <th>3</th>\n",
       "      <td>Childish Gambino</td>\n",
       "      <td>This Is America</td>\n",
       "      <td>[Refrain: Choir &amp; Childish Gambino]</td>\n",
       "      <td>Ooh-ooh-ooh-ooh-ooh, tell somebody, You go tel...</td>\n",
       "      <td>Childish Gambino</td>\n",
       "      <td>[ooh-ooh-ooh-ooh-ooh, tell, somebody, you, go,...</td>\n",
       "    </tr>\n",
       "    <tr>\n",
       "      <th>4</th>\n",
       "      <td>Childish Gambino</td>\n",
       "      <td>This Is America</td>\n",
       "      <td>[Chorus: Childish Gambino, Slim Jxmmi &amp; Young ...</td>\n",
       "      <td>This is America (woo, ayy), Don't catch you sl...</td>\n",
       "      <td>Childish Gambino</td>\n",
       "      <td>[this, is, america, (woo, ayy), don't, catch, ...</td>\n",
       "    </tr>\n",
       "  </tbody>\n",
       "</table>\n",
       "</div>"
      ],
      "text/plain": [
       "         song_owner       song_title  \\\n",
       "0  Childish Gambino  This Is America   \n",
       "1  Childish Gambino  This Is America   \n",
       "2  Childish Gambino  This Is America   \n",
       "3  Childish Gambino  This Is America   \n",
       "4  Childish Gambino  This Is America   \n",
       "\n",
       "                                        song_element  \\\n",
       "0            [Bridge: Childish Gambino & Young Thug]   \n",
       "1                         [Chorus: Childish Gambino]   \n",
       "2  [Verse 1: Childish Gambino, Blocboy JB, Slim J...   \n",
       "3                [Refrain: Choir & Childish Gambino]   \n",
       "4  [Chorus: Childish Gambino, Slim Jxmmi & Young ...   \n",
       "\n",
       "                                               verse            artist  \\\n",
       "0  We just wanna party, Party just for you, We ju...  Childish Gambino   \n",
       "1  This is America, Don't catch you slippin' now,...  Childish Gambino   \n",
       "2  This is America (skrrt, skrrt, woo), Don't cat...  Childish Gambino   \n",
       "3  Ooh-ooh-ooh-ooh-ooh, tell somebody, You go tel...  Childish Gambino   \n",
       "4  This is America (woo, ayy), Don't catch you sl...  Childish Gambino   \n",
       "\n",
       "                                         verse_words  \n",
       "0  [we, just, wanna, party, party, just, for, you...  \n",
       "1  [this, is, america, don't, catch, you, slippin...  \n",
       "2  [this, is, america, (skrrt, skrrt, woo), don't...  \n",
       "3  [ooh-ooh-ooh-ooh-ooh, tell, somebody, you, go,...  \n",
       "4  [this, is, america, (woo, ayy), don't, catch, ...  "
      ]
     },
     "execution_count": 35,
     "metadata": {},
     "output_type": "execute_result"
    }
   ],
   "source": [
    "model_df.head()"
   ]
  },
  {
   "cell_type": "code",
   "execution_count": 36,
   "metadata": {
    "ExecuteTime": {
     "end_time": "2018-08-24T01:56:47.730217Z",
     "start_time": "2018-08-24T01:56:44.424752Z"
    }
   },
   "outputs": [],
   "source": [
    "from nltk.tokenize import word_tokenize\n",
    "model_df['tokenize_verse'] = model_df['verse'].copy()\n",
    "model_df['tokenize_verse'] = model_df['tokenize_verse'].str.lower()\n",
    "model_df['tokenize_verse'] = model_df['tokenize_verse'].apply(lambda x: word_tokenize(x))"
   ]
  },
  {
   "cell_type": "code",
   "execution_count": 37,
   "metadata": {
    "ExecuteTime": {
     "end_time": "2018-08-24T01:56:48.118899Z",
     "start_time": "2018-08-24T01:56:47.731895Z"
    }
   },
   "outputs": [],
   "source": [
    "model_df['verse'] = model_df['verse'].str.lower()\n",
    "model_df['verse'] = model_df['verse'].apply(lambda x: x.replace(\"'\",''))\n",
    "model_df['verse'] = model_df['verse'].apply(lambda x: \"\".join([c if c.isalnum() else \" \" for c in x ]))\n",
    "model_df['verse'] = model_df['verse'].apply(lambda x: x.replace('  ',' '))"
   ]
  },
  {
   "cell_type": "code",
   "execution_count": 38,
   "metadata": {
    "ExecuteTime": {
     "end_time": "2018-08-24T01:56:49.071181Z",
     "start_time": "2018-08-24T01:56:48.121477Z"
    }
   },
   "outputs": [
    {
     "data": {
      "text/plain": [
       "0    we just wanna party party just for you we just...\n",
       "1    this is america dont catch you slippin now don...\n",
       "2    this is america dont catch you slippin now loo...\n",
       "3    tell somebody you go tell somebody grandma tol...\n",
       "4    this is america dont catch you slippin now don...\n",
       "Name: verse, dtype: object"
      ]
     },
     "execution_count": 38,
     "metadata": {},
     "output_type": "execute_result"
    }
   ],
   "source": [
    "stopwords = [\"yeah\", \"uh\", \"huh\", \"aw\", \"oh\", \"la\", \"ayy\",\n",
    "            \"na\", \"ha\", \"ay\", \"skrrt\",\n",
    "            \"em\", \"bla\", \"woo\", \"wu\", \"ya\", \"wala\", \"woop\", \"wrarrr\", \"ooh\",\n",
    "            \"ba\", \"duh\", \"du\", \"1\", \"2\", \"3\", \"4\" ,\"5\" ,\"6\", \"7\", \"8\", \"9\", \"0\"]\n",
    "\n",
    "for index, row in model_df.iterrows():\n",
    "    querywords = row['verse'].split()\n",
    "\n",
    "    resultwords  = [word for word in querywords if word.lower() not in stopwords]\n",
    "    row['verse'] = ' '.join(resultwords)\n",
    "\n",
    "model_df.verse[:5]"
   ]
  },
  {
   "cell_type": "code",
   "execution_count": 39,
   "metadata": {
    "ExecuteTime": {
     "end_time": "2018-08-24T01:56:49.077236Z",
     "start_time": "2018-08-24T01:56:49.073141Z"
    }
   },
   "outputs": [],
   "source": [
    "verses = list(model_df.verse.values)"
   ]
  },
  {
   "cell_type": "code",
   "execution_count": 40,
   "metadata": {
    "ExecuteTime": {
     "end_time": "2018-08-24T01:56:49.086438Z",
     "start_time": "2018-08-24T01:56:49.079114Z"
    }
   },
   "outputs": [
    {
     "data": {
      "text/plain": [
       "['we just wanna party party just for you we just want the money money just for you i know you wanna party party just for free girl you got me dancin girl you got me dancin dance and shake the frame we just wanna party party just for you we just want the money money just for you you i know you wanna party party just for free girl you got me dancin girl you got me dancin dance and shake the frame',\n",
       " 'this is america dont catch you slippin now dont catch you slippin now look what im whippin now this is america dont catch you slippin now dont catch you slippin now look what im whippin now',\n",
       " 'this is america dont catch you slippin now look how im livin now police be trippin now this is america guns in my area word my area i got the strap i gotta carry ima go into this ugh this is guerilla ima go get the bag or ima get the pad im so cold like im so dope like we gon blow like straight up',\n",
       " 'tell somebody you go tell somebody grandma told me get your money black man get your black man get your money black man get your black man get your money black man get your black man get your money black man get your black man black man',\n",
       " 'this is america dont catch you slippin now dont catch you slippin now dont catch you slippin now woah look what im whippin now slime this is america dont catch you slippin now woah dont catch you slippin now look what im whippin now',\n",
       " 'look how im geekin out hey im so fitted im so fitted im on gucci im on gucci im so pretty im gon get it im gon get it watch me move blaow this a celly thats a tool on my kodak black know that know that hold on get it get it get it work it 21 hunnid bands hunnid bands hunnid bands hunnid bands contraband contraband contraband contraband i got the plug in oaxaca woah they gonna find you like blocka blaow',\n",
       " 'tell somebody america i just checked my following list and you go tell somebody you mothafuckas owe me grandma told me get your money black man black man get your money black man black man get your money black man get your black man get your money black man get your black man black man get down tell somebody you go tell somebody grandma told me get your money get your money black man black man get your money black man black man get your money black man black man get your money black man black man black man',\n",
       " 'daylight i wake up feeling like you wont play right i used to know but now that shit dont feel right it made me put away my pride so long you made a nigga wait for some so long you make it hard for boy like that to go on im wishing i could make this mine',\n",
       " 'if you want it you can have it if you need it we can make it if you want it you can have it',\n",
       " 'but stay woke niggas creepin they gon find you gon catch you sleepin now stay woke niggas creepin now dont you close your eyes']"
      ]
     },
     "execution_count": 40,
     "metadata": {},
     "output_type": "execute_result"
    }
   ],
   "source": [
    "verses[:10]"
   ]
  },
  {
   "cell_type": "code",
   "execution_count": 41,
   "metadata": {
    "ExecuteTime": {
     "end_time": "2018-08-24T01:56:49.095836Z",
     "start_time": "2018-08-24T01:56:49.088746Z"
    }
   },
   "outputs": [
    {
     "data": {
      "text/plain": [
       "'we just wanna party party just for you we just want the money money just for you i know you wanna pa'"
      ]
     },
     "execution_count": 41,
     "metadata": {},
     "output_type": "execute_result"
    }
   ],
   "source": [
    "all_verses_all_rappers = ','.join(verses)\n",
    "\n",
    "all_verses_all_rappers[:100]"
   ]
  },
  {
   "cell_type": "code",
   "execution_count": 42,
   "metadata": {
    "ExecuteTime": {
     "end_time": "2018-08-24T01:56:49.101076Z",
     "start_time": "2018-08-24T01:56:49.098467Z"
    }
   },
   "outputs": [],
   "source": [
    "file = all_verses_all_rappers"
   ]
  },
  {
   "cell_type": "code",
   "execution_count": 43,
   "metadata": {
    "ExecuteTime": {
     "end_time": "2018-08-24T01:56:49.109018Z",
     "start_time": "2018-08-24T01:56:49.103485Z"
    }
   },
   "outputs": [
    {
     "name": "stdout",
     "output_type": "stream",
     "text": [
      "file_len = 2670560\n"
     ]
    }
   ],
   "source": [
    "# Read in text and change unicode characters to ASCII\n",
    "import unidecode\n",
    "import string\n",
    "import random\n",
    "import re\n",
    "\n",
    "all_characters = string.printable\n",
    "n_characters = len(all_characters)\n",
    "\n",
    "file_len = len(file)\n",
    "print(f'file_len = {file_len}')"
   ]
  },
  {
   "cell_type": "code",
   "execution_count": 44,
   "metadata": {
    "ExecuteTime": {
     "end_time": "2018-08-24T01:56:49.116559Z",
     "start_time": "2018-08-24T01:56:49.111552Z"
    }
   },
   "outputs": [
    {
     "name": "stdout",
     "output_type": "stream",
     "text": [
      "lamor who dress like sarah jessica and live like princess diana so often they have addictions and im the one thatll feed it but truly youre bad enough that you dont even really need it you can show up at the party on dirty public transit and i guarantee the cameraman will still be snappin candids of you and your posse partying drinking watch you get handed with your virgin island tans all lookin li\n"
     ]
    }
   ],
   "source": [
    "chunk_len = 400\n",
    "\n",
    "def random_chunk():\n",
    "    start_index = random.randint(0, file_len - chunk_len)\n",
    "    end_index = start_index + chunk_len + 1\n",
    "    return file[start_index:end_index]\n",
    "\n",
    "print(random_chunk())"
   ]
  },
  {
   "cell_type": "code",
   "execution_count": 45,
   "metadata": {
    "ExecuteTime": {
     "end_time": "2018-08-24T01:56:49.136705Z",
     "start_time": "2018-08-24T01:56:49.118878Z"
    }
   },
   "outputs": [],
   "source": [
    "import torch\n",
    "import torch.nn as nn\n",
    "from torch.autograd import Variable\n",
    "import torch.nn.functional as F\n",
    "\n",
    "class RNN(nn.Module):\n",
    "    def __init__(self, input_size, hidden_size, output_size, n_layers=1):\n",
    "        super(RNN, self).__init__()\n",
    "        self.input_size = input_size\n",
    "        self.hidden_size = hidden_size\n",
    "        self.output_size = output_size\n",
    "        self.n_layers = n_layers\n",
    "        \n",
    "        self.encoder = nn.Embedding(input_size, hidden_size)\n",
    "        self.gru = nn.GRU(hidden_size, hidden_size, n_layers)\n",
    "        self.decoder = nn.Linear(hidden_size, output_size)\n",
    "        \n",
    "    def forward(self, input, hidden):\n",
    "        output = self.encoder(input.view(1, -1))\n",
    "        output, hidden = self.gru(output.view(1, 1, -1), hidden)\n",
    "        output = self.decoder(output.view(1, -1))\n",
    "        \n",
    "        return output, hidden\n",
    "    \n",
    "    def init_hidden(self):\n",
    "        return Variable(torch.randn(self.n_layers, 1, self.hidden_size))"
   ]
  },
  {
   "cell_type": "code",
   "execution_count": 46,
   "metadata": {
    "ExecuteTime": {
     "end_time": "2018-08-24T01:56:49.145832Z",
     "start_time": "2018-08-24T01:56:49.138958Z"
    }
   },
   "outputs": [
    {
     "name": "stdout",
     "output_type": "stream",
     "text": [
      "tensor([48, 14, 29, 18, 28,  0,  1,  2,  3, 10, 11, 12, 35, 36, 37, 38])\n"
     ]
    }
   ],
   "source": [
    "def char2tensor(string):\n",
    "    tensor = torch.zeros(len(string)).long()\n",
    "    for char in range(len(string)):\n",
    "        if string[char] in all_characters:\n",
    "            tensor[char] = all_characters.index(string[char])\n",
    "        else:\n",
    "            tensor[char] = 94 #predict space if character unknown\n",
    "        \n",
    "    return Variable(tensor)\n",
    "\n",
    "# Let's see it in action.\n",
    "print(char2tensor('Metis0123abczABC'))"
   ]
  },
  {
   "cell_type": "code",
   "execution_count": 47,
   "metadata": {
    "ExecuteTime": {
     "end_time": "2018-08-24T01:56:49.152526Z",
     "start_time": "2018-08-24T01:56:49.148772Z"
    }
   },
   "outputs": [],
   "source": [
    "def random_training_set():\n",
    "    chunk = random_chunk()\n",
    "    inp = char2tensor(chunk[:-1])\n",
    "    target = char2tensor(chunk[1:])\n",
    "    return inp, target"
   ]
  },
  {
   "cell_type": "code",
   "execution_count": 48,
   "metadata": {
    "ExecuteTime": {
     "end_time": "2018-08-24T01:56:49.174031Z",
     "start_time": "2018-08-24T01:56:49.156255Z"
    }
   },
   "outputs": [],
   "source": [
    "def evaluate(model, prime_str='A', predict_len=100, temperature=0.8):\n",
    "    \n",
    "    hidden = model.init_hidden()\n",
    "    prime_input = char2tensor(prime_str)\n",
    "    predicted = prime_str\n",
    "    \n",
    "    # use priming string to build up hidden state\n",
    "    \n",
    "    for p in range(len(prime_str) - 1):\n",
    "        _, hidden = model(prime_input[p], hidden)\n",
    "    inp = prime_input[-1]\n",
    "    \n",
    "    for p in range(predict_len):\n",
    "        output, hidden = model(inp, hidden)\n",
    "        \n",
    "        # Sample from the network as a multinomial distribution\n",
    "        output_dist = output.data.view(-1).div(temperature).exp()\n",
    "        top_i = torch.multinomial(output_dist, 1)[0]\n",
    "        \n",
    "        # Add predicted character to string and use as next input\n",
    "        predicted_char = all_characters[top_i]\n",
    "        predicted += predicted_char\n",
    "        inp = char2tensor(predicted_char)\n",
    "        \n",
    "    return predicted"
   ]
  },
  {
   "cell_type": "code",
   "execution_count": 49,
   "metadata": {
    "ExecuteTime": {
     "end_time": "2018-08-24T01:56:49.181569Z",
     "start_time": "2018-08-24T01:56:49.177206Z"
    }
   },
   "outputs": [],
   "source": [
    "# helper function\n",
    "import time, math\n",
    "\n",
    "def time_since(since):\n",
    "    s = time.time() - since\n",
    "    m = math.floor(s/60)\n",
    "    s -= m*60\n",
    "    return '%dm %ds' % (m, s)"
   ]
  },
  {
   "cell_type": "code",
   "execution_count": 50,
   "metadata": {
    "ExecuteTime": {
     "end_time": "2018-08-24T01:56:49.192771Z",
     "start_time": "2018-08-24T01:56:49.185594Z"
    }
   },
   "outputs": [],
   "source": [
    "# The actual training part\n",
    "def train(inp, target):\n",
    "    hidden = model.init_hidden()\n",
    "    model.zero_grad()\n",
    "    loss = 0\n",
    "\n",
    "    for char in range(chunk_len):\n",
    "        output, hidden = model(inp[char], hidden)\n",
    "        loss += criterion(output, target[char].unsqueeze(0))\n",
    "\n",
    "    loss.backward()\n",
    "    model_optimizer.step()\n",
    "\n",
    "    return loss.data.item() / chunk_len"
   ]
  },
  {
   "cell_type": "code",
   "execution_count": 51,
   "metadata": {
    "ExecuteTime": {
     "end_time": "2018-08-24T01:56:49.200207Z",
     "start_time": "2018-08-24T01:56:49.195143Z"
    }
   },
   "outputs": [],
   "source": [
    "# # parameters\n",
    "# n_epochs = 1000\n",
    "# print_every = 100\n",
    "# plot_every = 10\n",
    "# hidden_size = 256\n",
    "# n_layers = 2\n",
    "# learning_rate = 0.001\n",
    "\n",
    "# # model declaration\n",
    "# model = RNN(n_characters, hidden_size, n_characters, n_layers)\n",
    "# model_optimizer = torch.optim.Adam(model.parameters(), lr=learning_rate)\n",
    "# criterion = nn.CrossEntropyLoss()\n",
    "\n",
    "# start = time.time()\n",
    "# all_losses = []\n",
    "# loss_avg = 0\n",
    "\n",
    "# for epoch in range(1, n_epochs + 1):\n",
    "#     loss = train(*random_training_set())       \n",
    "#     loss_avg += loss\n",
    "\n",
    "#     if epoch % print_every == 0:\n",
    "#         print('[%s (%d %d%%) %.4f]' % (time_since(start), epoch, epoch / n_epochs * 100, loss))\n",
    "#         print(evaluate(model, 'A ', 100), '\\n')\n",
    "\n",
    "#     if epoch % plot_every == 0:\n",
    "#         all_losses.append(loss_avg / plot_every)\n",
    "#         loss_avg = 0"
   ]
  },
  {
   "cell_type": "code",
   "execution_count": 52,
   "metadata": {
    "ExecuteTime": {
     "end_time": "2018-08-24T01:56:49.206650Z",
     "start_time": "2018-08-24T01:56:49.203034Z"
    }
   },
   "outputs": [],
   "source": [
    "# import matplotlib.pyplot as plt\n",
    "# import matplotlib.ticker as ticker\n",
    "# %matplotlib inline\n",
    "\n",
    "# plt.figure()\n",
    "# plt.plot(all_losses)"
   ]
  },
  {
   "cell_type": "code",
   "execution_count": 53,
   "metadata": {
    "ExecuteTime": {
     "end_time": "2018-08-24T01:56:49.212882Z",
     "start_time": "2018-08-24T01:56:49.209747Z"
    }
   },
   "outputs": [],
   "source": [
    "# with open('models/all_rappers_rnn_generator.pkl', 'wb') as picklefile:\n",
    "#     pickle.dump(model, picklefile)"
   ]
  },
  {
   "cell_type": "code",
   "execution_count": 54,
   "metadata": {
    "ExecuteTime": {
     "end_time": "2018-08-24T01:56:49.448507Z",
     "start_time": "2018-08-24T01:56:49.215780Z"
    }
   },
   "outputs": [
    {
     "name": "stdout",
     "output_type": "stream",
     "text": [
      "To be or not to be you and the rapper i fucking and a bad the cride and i need some my hold a fuckin for me not a nigga never chass you here the come should all a man and nothing im started a new where the whole nigga \n"
     ]
    }
   ],
   "source": [
    "# Evaluate model from this notebook\n",
    "print(evaluate(model, 'To be or not to be', predict_len=200, temperature=0.5))"
   ]
  },
  {
   "cell_type": "code",
   "execution_count": 55,
   "metadata": {
    "ExecuteTime": {
     "end_time": "2018-08-24T01:56:49.678313Z",
     "start_time": "2018-08-24T01:56:49.451470Z"
    }
   },
   "outputs": [
    {
     "name": "stdout",
     "output_type": "stream",
     "text": [
      "I miss you girl come back the ome you let the real the hallers me it someal who time ballere should nigga word ball the was a livin the shit me shit fam and she new in the on the bottom boottas when the sested im the all bitch\n"
     ]
    }
   ],
   "source": [
    "# Evaluate model from this notebook\n",
    "print(evaluate(model, 'I miss you girl come back ', predict_len=200, temperature=0.5))"
   ]
  },
  {
   "cell_type": "code",
   "execution_count": 56,
   "metadata": {
    "ExecuteTime": {
     "end_time": "2018-08-24T01:56:49.941800Z",
     "start_time": "2018-08-24T01:56:49.681193Z"
    }
   },
   "outputs": [
    {
     "name": "stdout",
     "output_type": "stream",
     "text": [
      "I'm the realest rapper alive nigga what im on on the say the money back in the best and you the real here the wild on change right and and i wanna the never she real for the for a real i dont wai new to in the bad i fake running\n"
     ]
    }
   ],
   "source": [
    "# Evaluate model from this notebook\n",
    "print(evaluate(model, \"I'm the realest rapper alive\", predict_len=200, temperature=0.5))"
   ]
  },
  {
   "cell_type": "code",
   "execution_count": 57,
   "metadata": {
    "ExecuteTime": {
     "end_time": "2018-08-24T01:56:50.108233Z",
     "start_time": "2018-08-24T01:56:49.944865Z"
    }
   },
   "outputs": [
    {
     "name": "stdout",
     "output_type": "stream",
     "text": [
      "Smoke a lot of weed and show and its so so my niggas in the straight so she be and and im and im a new some the started the fam and i wanna see the freened the was the word a partin the seast i aint be same and somebody\n"
     ]
    }
   ],
   "source": [
    "# Evaluate model from this notebook\n",
    "print(evaluate(model, \"Smoke a lot of weed\", predict_len=200, temperature=0.4))"
   ]
  },
  {
   "cell_type": "code",
   "execution_count": 58,
   "metadata": {
    "ExecuteTime": {
     "end_time": "2018-08-24T01:56:53.838185Z",
     "start_time": "2018-08-24T01:56:50.110884Z"
    }
   },
   "outputs": [
    {
     "data": {
      "text/plain": [
       "['I miss you girl come back like the teal here are now im so with me all me to do me the rolling back of the nigga and should shot a real sall good life now the math i aint for a hold im and hell im for from the fuck the nigga i',\n",
       " 'To be or not to be: in the can some what that need for the shit i said starting of the with a like a startin the right i wanna baby no im we girl a the better now now i aint and me and the started we love i on you was wh',\n",
       " 'Started from the bottom a fall nigga never side nigga bitch like a see no my got thas now it nother see the bottom back and im bad a not or i am and it me a like in for the back now on shit everybody some and inters from th',\n",
       " \"I'm the realest rapper alive and she and hold i way the see i got and you need you can she got for and a fuck of me shat we wanna change of she killin the started girl for a nigga hell me shit now and the like a man my talking i\",\n",
       " 'Smoke a lot of weed of for the wrove that fall the stop you like me car the real on the cartin my back bootin the nigga the shit i wanna frame this i feel blast a show i was the back now you say in but hold i new and it',\n",
       " 'Baby come it though a like i dont the come that she and it aint cam when you all im a say i got the even be say it heart face the rap me in a she like a better the real to started if i we got seas the still ne',\n",
       " 'Date a scientisten some real and of misters man new nigga i wanna see my sick and she and here own at me a fucking say now i dont something when it the last all my niggas somethin bring should and me a bit the best t',\n",
       " 'Butter my biscuit to the rap im in a money the aint we she wanna started and first you got a back a from now my wanna sell the crazy and i money balled that in when you the see im some and it to do what that from cars',\n",
       " 'Scramble my real from the way the weard for i livin for my niggas and i wanna see in the real from nother shit the stay the more a live here i we face the say bit call to talking when you aint some me him the sti',\n",
       " 'I sleep west be could the wanna fall in the she good a real me so i back me the said but your fasten i wan suck on the real and and that she seate a niggas you be and nigga say home i got dont so for we gotta',\n",
       " 'Green eggs and i said i said that got a on the money the one the whole some a rolled right now a started the fucking in the hold the so man i got a contron the something fucking on now in the clus my starting it som',\n",
       " 'Rollin in my what now she went real in the can we real i live the way her the every talking life you never say send holler from now the still i need shit nothing a best cart of for the come the should now you can',\n",
       " 'Drop top it all that shit wanna boy here a people and fuck the real should everything a bottom my hot a could when you waking like a wear shit the fucking with but the game that she had for a bottom a fitter ',\n",
       " 'Math is funnin in the world and the fuck i dont the what i feel my danking cam been the right now i got we way started the bit a nigga and he say me my niggas the told for my aint a rip she like i be we was me t',\n",
       " 'Sentences i how i never the resed for heart here in the new and now in my still from the should like a stay i real a started it all i need it and i a she what his and a recall on the started the rapper in the ',\n",
       " 'Coffee in the wishin something boot but your how it step a what it so hold i know what and and betted on back and the some here i feel the bottom in the see you know she started see and i gotta need the straide a ',\n",
       " 'Table that but i gotta word when you fam but i say do heart the somethe but the better and in the say shit all i wanna bout you started i hate and the ride i was and the some money now now what i aint fast star',\n",
       " 'Homies and runnin a real a can from best all the said the started to shout for the can something back we seat fake that and them see my nigga now nothing a living and the same the one and from the real for ',\n",
       " 'From the streets that and it a grave and fride a some a seating beat you and i wanna so dont dont the something im fake it who im the said a live i dont my man should see i wanna me back i around you head for but it ',\n",
       " 'Maserating and in they never for you wanna spend to you send everybody fift a lirtin this started a like and when i and i wanna seat it the money fucking a like a thing i startin over do to still the right yo',\n",
       " 'Air force one me start me had livin and i a shit all the ame it well mother firt the wanna was some say nigga got the stried for year a something i wanna be and it south a nigga shit in that live a real and how yo',\n",
       " 'President like of for my promine what i got no the back a niggas some a face in the sending on your from the shotion four unders like and you anout no what im on the real a cause the shit to shit me of my hit ',\n",
       " 'Trump get my fall should bitch feel i time the cread you hate i call live i need the compton a never say fuck i on all my still my cam a the wanna coome my real aint ready never you aint all the was some s']"
      ]
     },
     "execution_count": 58,
     "metadata": {},
     "output_type": "execute_result"
    }
   ],
   "source": [
    "prompts = ['I miss you girl come back ', 'To be or not to be: ', \"Started from the bottom\", \"I'm the realest rapper alive\",\n",
    "           \"Smoke a lot of weed\", \"Baby come\", 'Date a scientist', 'Butter my biscuit', 'Scramble my ', 'I sleep ',\n",
    "           'Green eggs and ', 'Rollin in my', 'Drop top', 'Math is fun', 'Sentences', 'Coffee in the', 'Table that',\n",
    "           'Homies', 'From the streets', 'Maserati', 'Air force one', 'President', 'Trump']\n",
    "\n",
    "all_rappers_rnn_verses = []\n",
    "\n",
    "for i in range(len(prompts)):\n",
    "    all_rappers_rnn_verses.append(evaluate(model, prompts[i], predict_len=200, temperature=0.5))\n",
    "    \n",
    "    \n",
    "all_rappers_rnn_verses"
   ]
  },
  {
   "cell_type": "code",
   "execution_count": 59,
   "metadata": {
    "ExecuteTime": {
     "end_time": "2018-08-24T02:02:33.626753Z",
     "start_time": "2018-08-24T02:02:33.622982Z"
    }
   },
   "outputs": [],
   "source": [
    "columns = ['generated_verses']\n",
    "\n",
    "all_rappers_generated_df = pd.DataFrame(all_rappers_rnn_verses, columns=columns)"
   ]
  },
  {
   "cell_type": "code",
   "execution_count": 60,
   "metadata": {
    "ExecuteTime": {
     "end_time": "2018-08-24T02:02:52.303622Z",
     "start_time": "2018-08-24T02:02:52.294021Z"
    }
   },
   "outputs": [
    {
     "data": {
      "text/html": [
       "<div>\n",
       "<style scoped>\n",
       "    .dataframe tbody tr th:only-of-type {\n",
       "        vertical-align: middle;\n",
       "    }\n",
       "\n",
       "    .dataframe tbody tr th {\n",
       "        vertical-align: top;\n",
       "    }\n",
       "\n",
       "    .dataframe thead th {\n",
       "        text-align: right;\n",
       "    }\n",
       "</style>\n",
       "<table border=\"1\" class=\"dataframe\">\n",
       "  <thead>\n",
       "    <tr style=\"text-align: right;\">\n",
       "      <th></th>\n",
       "      <th>generated_verses</th>\n",
       "      <th>artist</th>\n",
       "    </tr>\n",
       "  </thead>\n",
       "  <tbody>\n",
       "    <tr>\n",
       "      <th>0</th>\n",
       "      <td>I miss you girl come back like the teal here a...</td>\n",
       "      <td>Combined</td>\n",
       "    </tr>\n",
       "    <tr>\n",
       "      <th>1</th>\n",
       "      <td>To be or not to be: in the can some what that ...</td>\n",
       "      <td>Combined</td>\n",
       "    </tr>\n",
       "    <tr>\n",
       "      <th>2</th>\n",
       "      <td>Started from the bottom a fall nigga never sid...</td>\n",
       "      <td>Combined</td>\n",
       "    </tr>\n",
       "    <tr>\n",
       "      <th>3</th>\n",
       "      <td>I'm the realest rapper alive and she and hold ...</td>\n",
       "      <td>Combined</td>\n",
       "    </tr>\n",
       "    <tr>\n",
       "      <th>4</th>\n",
       "      <td>Smoke a lot of weed of for the wrove that fall...</td>\n",
       "      <td>Combined</td>\n",
       "    </tr>\n",
       "    <tr>\n",
       "      <th>5</th>\n",
       "      <td>Baby come it though a like i dont the come tha...</td>\n",
       "      <td>Combined</td>\n",
       "    </tr>\n",
       "    <tr>\n",
       "      <th>6</th>\n",
       "      <td>Date a scientisten some real and of misters ma...</td>\n",
       "      <td>Combined</td>\n",
       "    </tr>\n",
       "    <tr>\n",
       "      <th>7</th>\n",
       "      <td>Butter my biscuit to the rap im in a money the...</td>\n",
       "      <td>Combined</td>\n",
       "    </tr>\n",
       "    <tr>\n",
       "      <th>8</th>\n",
       "      <td>Scramble my real from the way the weard for i ...</td>\n",
       "      <td>Combined</td>\n",
       "    </tr>\n",
       "    <tr>\n",
       "      <th>9</th>\n",
       "      <td>I sleep west be could the wanna fall in the sh...</td>\n",
       "      <td>Combined</td>\n",
       "    </tr>\n",
       "    <tr>\n",
       "      <th>10</th>\n",
       "      <td>Green eggs and i said i said that got a on the...</td>\n",
       "      <td>Combined</td>\n",
       "    </tr>\n",
       "    <tr>\n",
       "      <th>11</th>\n",
       "      <td>Rollin in my what now she went real in the can...</td>\n",
       "      <td>Combined</td>\n",
       "    </tr>\n",
       "    <tr>\n",
       "      <th>12</th>\n",
       "      <td>Drop top it all that shit wanna boy here a peo...</td>\n",
       "      <td>Combined</td>\n",
       "    </tr>\n",
       "    <tr>\n",
       "      <th>13</th>\n",
       "      <td>Math is funnin in the world and the fuck i don...</td>\n",
       "      <td>Combined</td>\n",
       "    </tr>\n",
       "    <tr>\n",
       "      <th>14</th>\n",
       "      <td>Sentences i how i never the resed for heart he...</td>\n",
       "      <td>Combined</td>\n",
       "    </tr>\n",
       "    <tr>\n",
       "      <th>15</th>\n",
       "      <td>Coffee in the wishin something boot but your h...</td>\n",
       "      <td>Combined</td>\n",
       "    </tr>\n",
       "    <tr>\n",
       "      <th>16</th>\n",
       "      <td>Table that but i gotta word when you fam but i...</td>\n",
       "      <td>Combined</td>\n",
       "    </tr>\n",
       "    <tr>\n",
       "      <th>17</th>\n",
       "      <td>Homies and runnin a real a can from best all t...</td>\n",
       "      <td>Combined</td>\n",
       "    </tr>\n",
       "    <tr>\n",
       "      <th>18</th>\n",
       "      <td>From the streets that and it a grave and fride...</td>\n",
       "      <td>Combined</td>\n",
       "    </tr>\n",
       "    <tr>\n",
       "      <th>19</th>\n",
       "      <td>Maserating and in they never for you wanna spe...</td>\n",
       "      <td>Combined</td>\n",
       "    </tr>\n",
       "    <tr>\n",
       "      <th>20</th>\n",
       "      <td>Air force one me start me had livin and i a sh...</td>\n",
       "      <td>Combined</td>\n",
       "    </tr>\n",
       "    <tr>\n",
       "      <th>21</th>\n",
       "      <td>President like of for my promine what i got no...</td>\n",
       "      <td>Combined</td>\n",
       "    </tr>\n",
       "    <tr>\n",
       "      <th>22</th>\n",
       "      <td>Trump get my fall should bitch feel i time the...</td>\n",
       "      <td>Combined</td>\n",
       "    </tr>\n",
       "  </tbody>\n",
       "</table>\n",
       "</div>"
      ],
      "text/plain": [
       "                                     generated_verses    artist\n",
       "0   I miss you girl come back like the teal here a...  Combined\n",
       "1   To be or not to be: in the can some what that ...  Combined\n",
       "2   Started from the bottom a fall nigga never sid...  Combined\n",
       "3   I'm the realest rapper alive and she and hold ...  Combined\n",
       "4   Smoke a lot of weed of for the wrove that fall...  Combined\n",
       "5   Baby come it though a like i dont the come tha...  Combined\n",
       "6   Date a scientisten some real and of misters ma...  Combined\n",
       "7   Butter my biscuit to the rap im in a money the...  Combined\n",
       "8   Scramble my real from the way the weard for i ...  Combined\n",
       "9   I sleep west be could the wanna fall in the sh...  Combined\n",
       "10  Green eggs and i said i said that got a on the...  Combined\n",
       "11  Rollin in my what now she went real in the can...  Combined\n",
       "12  Drop top it all that shit wanna boy here a peo...  Combined\n",
       "13  Math is funnin in the world and the fuck i don...  Combined\n",
       "14  Sentences i how i never the resed for heart he...  Combined\n",
       "15  Coffee in the wishin something boot but your h...  Combined\n",
       "16  Table that but i gotta word when you fam but i...  Combined\n",
       "17  Homies and runnin a real a can from best all t...  Combined\n",
       "18  From the streets that and it a grave and fride...  Combined\n",
       "19  Maserating and in they never for you wanna spe...  Combined\n",
       "20  Air force one me start me had livin and i a sh...  Combined\n",
       "21  President like of for my promine what i got no...  Combined\n",
       "22  Trump get my fall should bitch feel i time the...  Combined"
      ]
     },
     "execution_count": 60,
     "metadata": {},
     "output_type": "execute_result"
    }
   ],
   "source": [
    "all_rappers_generated_df['artist'] = 'Combined'\n",
    "\n",
    "all_rappers_generated_df"
   ]
  },
  {
   "cell_type": "code",
   "execution_count": 61,
   "metadata": {
    "ExecuteTime": {
     "end_time": "2018-08-24T02:06:40.432007Z",
     "start_time": "2018-08-24T02:06:40.427906Z"
    }
   },
   "outputs": [],
   "source": [
    "with open('data/all_rappers_generated_raps.pkl', 'wb') as picklefile:\n",
    "    pickle.dump(all_rappers_generated_df, picklefile)"
   ]
  },
  {
   "cell_type": "code",
   "execution_count": null,
   "metadata": {},
   "outputs": [],
   "source": []
  }
 ],
 "metadata": {
  "kernelspec": {
   "display_name": "Python 3",
   "language": "python",
   "name": "python3"
  },
  "language_info": {
   "codemirror_mode": {
    "name": "ipython",
    "version": 3
   },
   "file_extension": ".py",
   "mimetype": "text/x-python",
   "name": "python",
   "nbconvert_exporter": "python",
   "pygments_lexer": "ipython3",
   "version": "3.6.6"
  },
  "varInspector": {
   "cols": {
    "lenName": 16,
    "lenType": 16,
    "lenVar": 40
   },
   "kernels_config": {
    "python": {
     "delete_cmd_postfix": "",
     "delete_cmd_prefix": "del ",
     "library": "var_list.py",
     "varRefreshCmd": "print(var_dic_list())"
    },
    "r": {
     "delete_cmd_postfix": ") ",
     "delete_cmd_prefix": "rm(",
     "library": "var_list.r",
     "varRefreshCmd": "cat(var_dic_list()) "
    }
   },
   "types_to_exclude": [
    "module",
    "function",
    "builtin_function_or_method",
    "instance",
    "_Feature"
   ],
   "window_display": false
  }
 },
 "nbformat": 4,
 "nbformat_minor": 2
}
