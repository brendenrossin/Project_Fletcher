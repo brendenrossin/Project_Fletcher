{
 "cells": [
  {
   "cell_type": "code",
   "execution_count": 31,
   "metadata": {
    "ExecuteTime": {
     "end_time": "2018-08-24T01:57:46.764354Z",
     "start_time": "2018-08-24T01:57:46.737387Z"
    }
   },
   "outputs": [],
   "source": [
    "import pandas as pd\n",
    "import random\n",
    "from time import sleep\n",
    "import warnings\n",
    "warnings.filterwarnings(\"ignore\",category=DeprecationWarning)\n",
    "import numpy as np\n",
    "import nltk\n",
    "import os\n",
    "from sklearn import datasets\n",
    "import pickle\n",
    "from nltk.tokenize import word_tokenize\n",
    "from sklearn.decomposition import NMF, TruncatedSVD\n",
    "import matplotlib.pyplot as plt\n",
    "import seaborn as sns\n",
    "from sklearn.decomposition import LatentDirichletAllocation\n",
    "from sklearn.neighbors import NearestNeighbors\n",
    "from sklearn.cross_validation import train_test_split, cross_val_score\n",
    "from sklearn.linear_model import RidgeCV\n",
    "from sklearn.pipeline import make_pipeline, Pipeline\n",
    "from sklearn.preprocessing import PolynomialFeatures, StandardScaler\n",
    "from sklearn.neighbors import KNeighborsClassifier\n",
    "from sklearn.linear_model import LogisticRegression\n",
    "from sklearn.metrics import accuracy_score, recall_score, precision_score, f1_score, roc_auc_score, roc_curve, auc, fbeta_score\n",
    "from sklearn.model_selection import learning_curve, KFold, GridSearchCV, cross_val_score\n",
    "from sklearn.naive_bayes import GaussianNB, MultinomialNB\n",
    "from sklearn.svm import SVC\n",
    "from sklearn.tree import DecisionTreeClassifier\n",
    "from sklearn.ensemble import RandomForestClassifier, GradientBoostingClassifier\n",
    "from sklearn.dummy import DummyClassifier\n",
    "from collections import Counter\n",
    "from sklearn.feature_extraction.text import TfidfTransformer, CountVectorizer, TfidfVectorizer\n",
    "from sklearn.feature_extraction import text\n",
    "from sklearn.preprocessing import normalize\n",
    "import re\n",
    "from unidecode import unidecode\n",
    "\n",
    "import matplotlib.style as style\n",
    "%matplotlib inline\n",
    "plt.style.use('ggplot')"
   ]
  },
  {
   "cell_type": "code",
   "execution_count": 32,
   "metadata": {
    "ExecuteTime": {
     "end_time": "2018-08-24T01:57:46.784746Z",
     "start_time": "2018-08-24T01:57:46.766862Z"
    }
   },
   "outputs": [],
   "source": [
    "with open('data/cleaned_df.pkl', 'rb') as picklefile:\n",
    "    df = pickle.load(picklefile)"
   ]
  },
  {
   "cell_type": "code",
   "execution_count": 33,
   "metadata": {
    "ExecuteTime": {
     "end_time": "2018-08-24T01:57:46.798706Z",
     "start_time": "2018-08-24T01:57:46.787313Z"
    }
   },
   "outputs": [
    {
     "data": {
      "text/html": [
       "<div>\n",
       "<style scoped>\n",
       "    .dataframe tbody tr th:only-of-type {\n",
       "        vertical-align: middle;\n",
       "    }\n",
       "\n",
       "    .dataframe tbody tr th {\n",
       "        vertical-align: top;\n",
       "    }\n",
       "\n",
       "    .dataframe thead th {\n",
       "        text-align: right;\n",
       "    }\n",
       "</style>\n",
       "<table border=\"1\" class=\"dataframe\">\n",
       "  <thead>\n",
       "    <tr style=\"text-align: right;\">\n",
       "      <th></th>\n",
       "      <th>song_owner</th>\n",
       "      <th>song_title</th>\n",
       "      <th>song_element</th>\n",
       "      <th>verse</th>\n",
       "      <th>artist</th>\n",
       "    </tr>\n",
       "  </thead>\n",
       "  <tbody>\n",
       "    <tr>\n",
       "      <th>0</th>\n",
       "      <td>Childish Gambino</td>\n",
       "      <td>This Is America</td>\n",
       "      <td>[Bridge: Childish Gambino &amp; Young Thug]</td>\n",
       "      <td>We just wanna party, Party just for you, We ju...</td>\n",
       "      <td>Childish Gambino</td>\n",
       "    </tr>\n",
       "    <tr>\n",
       "      <th>1</th>\n",
       "      <td>Childish Gambino</td>\n",
       "      <td>This Is America</td>\n",
       "      <td>[Chorus: Childish Gambino]</td>\n",
       "      <td>This is America, Don't catch you slippin' now,...</td>\n",
       "      <td>Childish Gambino</td>\n",
       "    </tr>\n",
       "    <tr>\n",
       "      <th>2</th>\n",
       "      <td>Childish Gambino</td>\n",
       "      <td>This Is America</td>\n",
       "      <td>[Verse 1: Childish Gambino, Blocboy JB, Slim J...</td>\n",
       "      <td>This is America (skrrt, skrrt, woo), Don't cat...</td>\n",
       "      <td>Childish Gambino</td>\n",
       "    </tr>\n",
       "    <tr>\n",
       "      <th>3</th>\n",
       "      <td>Childish Gambino</td>\n",
       "      <td>This Is America</td>\n",
       "      <td>[Refrain: Choir &amp; Childish Gambino]</td>\n",
       "      <td>Ooh-ooh-ooh-ooh-ooh, tell somebody, You go tel...</td>\n",
       "      <td>Childish Gambino</td>\n",
       "    </tr>\n",
       "    <tr>\n",
       "      <th>4</th>\n",
       "      <td>Childish Gambino</td>\n",
       "      <td>This Is America</td>\n",
       "      <td>[Chorus: Childish Gambino, Slim Jxmmi &amp; Young ...</td>\n",
       "      <td>This is America (woo, ayy), Don't catch you sl...</td>\n",
       "      <td>Childish Gambino</td>\n",
       "    </tr>\n",
       "  </tbody>\n",
       "</table>\n",
       "</div>"
      ],
      "text/plain": [
       "         song_owner       song_title  \\\n",
       "0  Childish Gambino  This Is America   \n",
       "1  Childish Gambino  This Is America   \n",
       "2  Childish Gambino  This Is America   \n",
       "3  Childish Gambino  This Is America   \n",
       "4  Childish Gambino  This Is America   \n",
       "\n",
       "                                        song_element  \\\n",
       "0            [Bridge: Childish Gambino & Young Thug]   \n",
       "1                         [Chorus: Childish Gambino]   \n",
       "2  [Verse 1: Childish Gambino, Blocboy JB, Slim J...   \n",
       "3                [Refrain: Choir & Childish Gambino]   \n",
       "4  [Chorus: Childish Gambino, Slim Jxmmi & Young ...   \n",
       "\n",
       "                                               verse            artist  \n",
       "0  We just wanna party, Party just for you, We ju...  Childish Gambino  \n",
       "1  This is America, Don't catch you slippin' now,...  Childish Gambino  \n",
       "2  This is America (skrrt, skrrt, woo), Don't cat...  Childish Gambino  \n",
       "3  Ooh-ooh-ooh-ooh-ooh, tell somebody, You go tel...  Childish Gambino  \n",
       "4  This is America (woo, ayy), Don't catch you sl...  Childish Gambino  "
      ]
     },
     "execution_count": 33,
     "metadata": {},
     "output_type": "execute_result"
    }
   ],
   "source": [
    "df.head()"
   ]
  },
  {
   "cell_type": "code",
   "execution_count": 34,
   "metadata": {
    "ExecuteTime": {
     "end_time": "2018-08-24T01:57:46.808776Z",
     "start_time": "2018-08-24T01:57:46.801032Z"
    }
   },
   "outputs": [],
   "source": [
    "model_df = df.copy()\n",
    "\n",
    "model_df = model_df[model_df['artist'] == 'Drake']"
   ]
  },
  {
   "cell_type": "code",
   "execution_count": 35,
   "metadata": {
    "ExecuteTime": {
     "end_time": "2018-08-24T01:57:46.924900Z",
     "start_time": "2018-08-24T01:57:46.811463Z"
    }
   },
   "outputs": [],
   "source": [
    "model_df['verse_words'] = model_df['verse'].copy()\n",
    "model_df['verse_words'] = model_df['verse_words'].str.lower()\n",
    "model_df['verse_words'] = model_df['verse_words'].apply(lambda x: x.replace(',',''))\n",
    "model_df['verse_words'] = model_df['verse_words'].apply(lambda x: x.split(' '))"
   ]
  },
  {
   "cell_type": "code",
   "execution_count": 36,
   "metadata": {
    "ExecuteTime": {
     "end_time": "2018-08-24T01:57:46.948773Z",
     "start_time": "2018-08-24T01:57:46.928001Z"
    }
   },
   "outputs": [
    {
     "data": {
      "text/html": [
       "<div>\n",
       "<style scoped>\n",
       "    .dataframe tbody tr th:only-of-type {\n",
       "        vertical-align: middle;\n",
       "    }\n",
       "\n",
       "    .dataframe tbody tr th {\n",
       "        vertical-align: top;\n",
       "    }\n",
       "\n",
       "    .dataframe thead th {\n",
       "        text-align: right;\n",
       "    }\n",
       "</style>\n",
       "<table border=\"1\" class=\"dataframe\">\n",
       "  <thead>\n",
       "    <tr style=\"text-align: right;\">\n",
       "      <th></th>\n",
       "      <th>song_owner</th>\n",
       "      <th>song_title</th>\n",
       "      <th>song_element</th>\n",
       "      <th>verse</th>\n",
       "      <th>artist</th>\n",
       "      <th>verse_words</th>\n",
       "    </tr>\n",
       "  </thead>\n",
       "  <tbody>\n",
       "    <tr>\n",
       "      <th>1282</th>\n",
       "      <td>Drake</td>\n",
       "      <td>Buried Alive (Interlude)</td>\n",
       "      <td>[Intro]</td>\n",
       "      <td>If you was in a pine box, I would surely break...</td>\n",
       "      <td>Drake</td>\n",
       "      <td>[if, you, was, in, a, pine, box, i, would, sur...</td>\n",
       "    </tr>\n",
       "    <tr>\n",
       "      <th>1284</th>\n",
       "      <td>Drake</td>\n",
       "      <td>God's Plan</td>\n",
       "      <td>[Intro]</td>\n",
       "      <td>Yeah, they wishin' and wishin' and wishin' and...</td>\n",
       "      <td>Drake</td>\n",
       "      <td>[yeah, they, wishin', and, wishin', and, wishi...</td>\n",
       "    </tr>\n",
       "    <tr>\n",
       "      <th>1285</th>\n",
       "      <td>Drake</td>\n",
       "      <td>God's Plan</td>\n",
       "      <td>[Verse 1]</td>\n",
       "      <td>I been movin' calm, don't start no trouble wit...</td>\n",
       "      <td>Drake</td>\n",
       "      <td>[i, been, movin', calm, don't, start, no, trou...</td>\n",
       "    </tr>\n",
       "    <tr>\n",
       "      <th>1286</th>\n",
       "      <td>Drake</td>\n",
       "      <td>God's Plan</td>\n",
       "      <td>[Chorus 1]</td>\n",
       "      <td>God's plan, God's plan, I hold back, sometimes...</td>\n",
       "      <td>Drake</td>\n",
       "      <td>[god's, plan, god's, plan, i, hold, back, some...</td>\n",
       "    </tr>\n",
       "    <tr>\n",
       "      <th>1287</th>\n",
       "      <td>Drake</td>\n",
       "      <td>God's Plan</td>\n",
       "      <td>[Post-Chorus]</td>\n",
       "      <td>And still, bad things, It's a lot of bad thing...</td>\n",
       "      <td>Drake</td>\n",
       "      <td>[and, still, bad, things, it's, a, lot, of, ba...</td>\n",
       "    </tr>\n",
       "  </tbody>\n",
       "</table>\n",
       "</div>"
      ],
      "text/plain": [
       "     song_owner                song_title   song_element  \\\n",
       "1282      Drake  Buried Alive (Interlude)        [Intro]   \n",
       "1284      Drake                God's Plan        [Intro]   \n",
       "1285      Drake                God's Plan      [Verse 1]   \n",
       "1286      Drake                God's Plan     [Chorus 1]   \n",
       "1287      Drake                God's Plan  [Post-Chorus]   \n",
       "\n",
       "                                                  verse artist  \\\n",
       "1282  If you was in a pine box, I would surely break...  Drake   \n",
       "1284  Yeah, they wishin' and wishin' and wishin' and...  Drake   \n",
       "1285  I been movin' calm, don't start no trouble wit...  Drake   \n",
       "1286  God's plan, God's plan, I hold back, sometimes...  Drake   \n",
       "1287  And still, bad things, It's a lot of bad thing...  Drake   \n",
       "\n",
       "                                            verse_words  \n",
       "1282  [if, you, was, in, a, pine, box, i, would, sur...  \n",
       "1284  [yeah, they, wishin', and, wishin', and, wishi...  \n",
       "1285  [i, been, movin', calm, don't, start, no, trou...  \n",
       "1286  [god's, plan, god's, plan, i, hold, back, some...  \n",
       "1287  [and, still, bad, things, it's, a, lot, of, ba...  "
      ]
     },
     "execution_count": 36,
     "metadata": {},
     "output_type": "execute_result"
    }
   ],
   "source": [
    "model_df.head()"
   ]
  },
  {
   "cell_type": "code",
   "execution_count": 37,
   "metadata": {
    "ExecuteTime": {
     "end_time": "2018-08-24T01:57:47.872397Z",
     "start_time": "2018-08-24T01:57:46.951002Z"
    }
   },
   "outputs": [],
   "source": [
    "from nltk.tokenize import word_tokenize\n",
    "model_df['tokenize_verse'] = model_df['verse'].copy()\n",
    "model_df['tokenize_verse'] = model_df['tokenize_verse'].str.lower()\n",
    "model_df['tokenize_verse'] = model_df['tokenize_verse'].apply(lambda x: word_tokenize(x))"
   ]
  },
  {
   "cell_type": "code",
   "execution_count": 38,
   "metadata": {
    "ExecuteTime": {
     "end_time": "2018-08-24T01:57:47.968617Z",
     "start_time": "2018-08-24T01:57:47.874383Z"
    }
   },
   "outputs": [],
   "source": [
    "model_df['verse'] = model_df['verse'].str.lower()\n",
    "model_df['verse'] = model_df['verse'].apply(lambda x: x.replace(\"'\",''))\n",
    "model_df['verse'] = model_df['verse'].apply(lambda x: \"\".join([c if c.isalnum() else \" \" for c in x ]))\n",
    "model_df['verse'] = model_df['verse'].apply(lambda x: x.replace('  ',' '))"
   ]
  },
  {
   "cell_type": "code",
   "execution_count": 39,
   "metadata": {
    "ExecuteTime": {
     "end_time": "2018-08-24T01:57:48.218677Z",
     "start_time": "2018-08-24T01:57:47.970262Z"
    }
   },
   "outputs": [
    {
     "data": {
      "text/plain": [
       "1282    if you was in a pine box i would surely break ...\n",
       "1284    they wishin and wishin and wishin and wishin t...\n",
       "1285    i been movin calm dont start no trouble with m...\n",
       "1286    gods plan gods plan i hold back sometimes i wo...\n",
       "1287    and still bad things its a lot of bad things t...\n",
       "Name: verse, dtype: object"
      ]
     },
     "execution_count": 39,
     "metadata": {},
     "output_type": "execute_result"
    }
   ],
   "source": [
    "stopwords = [\"yeah\", \"uh\", \"huh\", \"aw\", \"oh\", \"la\", \"ayy\",\n",
    "            \"na\", \"ha\", \"ay\", \"skrrt\",\n",
    "            \"em\", \"bla\", \"woo\", \"wu\", \"ya\", \"wala\", \"woop\", \"wrarrr\", \"ooh\",\n",
    "            \"ba\", \"duh\", \"du\", \"1\", \"2\", \"3\", \"4\" ,\"5\" ,\"6\", \"7\", \"8\", \"9\", \"0\"]\n",
    "\n",
    "for index, row in model_df.iterrows():\n",
    "    querywords = row['verse'].split()\n",
    "\n",
    "    resultwords  = [word for word in querywords if word.lower() not in stopwords]\n",
    "    row['verse'] = ' '.join(resultwords)\n",
    "\n",
    "model_df.verse[:5]"
   ]
  },
  {
   "cell_type": "code",
   "execution_count": 40,
   "metadata": {
    "ExecuteTime": {
     "end_time": "2018-08-24T01:57:48.223545Z",
     "start_time": "2018-08-24T01:57:48.220506Z"
    }
   },
   "outputs": [],
   "source": [
    "verses = list(model_df.verse.values)"
   ]
  },
  {
   "cell_type": "code",
   "execution_count": 41,
   "metadata": {
    "ExecuteTime": {
     "end_time": "2018-08-24T01:57:48.232673Z",
     "start_time": "2018-08-24T01:57:48.225254Z"
    }
   },
   "outputs": [
    {
     "data": {
      "text/plain": [
       "['if you was in a pine box i would surely break the lock id jump right in and fall asleep cause you are the death of me if you was in a pine box i would surely break the lock id jump right in and fall asleep cause you are the death of me',\n",
       " 'they wishin and wishin and wishin and wishin they wishin on me yuh',\n",
       " 'i been movin calm dont start no trouble with me tryna keep it peaceful is a struggle for me dont pull up at am to cuddle with me you know how i like it when you lovin on me i dont wanna die for them to miss me yes i see the things that they wishin on me hope i got some brothers that outlive me they gon tell the story shit was different with me',\n",
       " 'gods plan gods plan i hold back sometimes i wont yuh i feel good sometimes i dont dont i finessed down weston road nessed might go down a g o d wait i go hard on southside g yuh wait i make sure that north side eat',\n",
       " 'and still bad things its a lot of bad things that they wishin and wishin and wishin and wishin they wishin on me bad things its a lot of bad things that they wishin and wishin and wishin and wishin they wishin on me yuh',\n",
       " 'she said do you love me i tell her only partly i only love my bed and my mama im sorry fifty dub i even got it tatted on me 81 theyll bring the crashers to the party and you know me turn the o2 into the o3 dog without 40 oli there d be no me imagine if i never met the broskies',\n",
       " 'gods plan gods plan i cant do this on my own no someone watchin this shit close yep close ive been me since scarlett road road might go down as g o d wait i go hard on southside g wait i make sure that north side eat yuh',\n",
       " 'and still bad things its a lot of bad things that they wishin and wishin and wishin and wishin they wishin on me bad things its a lot of bad things that they wishin and wishin and wishin and wishin they wishin on me',\n",
       " 'you used to call me on my you used to you used to',\n",
       " 'you used to call me on my cell phone late night when you need my love call me on my cell phone late night when you need my love and i know when that hotline bling that can only mean one thing i know when that hotline bling that can only mean one thing']"
      ]
     },
     "execution_count": 41,
     "metadata": {},
     "output_type": "execute_result"
    }
   ],
   "source": [
    "verses[:10]"
   ]
  },
  {
   "cell_type": "code",
   "execution_count": 42,
   "metadata": {
    "ExecuteTime": {
     "end_time": "2018-08-24T01:57:48.239849Z",
     "start_time": "2018-08-24T01:57:48.235038Z"
    }
   },
   "outputs": [
    {
     "data": {
      "text/plain": [
       "'if you was in a pine box i would surely break the lock id jump right in and fall asleep cause you ar'"
      ]
     },
     "execution_count": 42,
     "metadata": {},
     "output_type": "execute_result"
    }
   ],
   "source": [
    "all_verses_all_rappers = ','.join(verses)\n",
    "\n",
    "all_verses_all_rappers[:100]"
   ]
  },
  {
   "cell_type": "code",
   "execution_count": 43,
   "metadata": {
    "ExecuteTime": {
     "end_time": "2018-08-24T01:57:48.244147Z",
     "start_time": "2018-08-24T01:57:48.241943Z"
    }
   },
   "outputs": [],
   "source": [
    "file = all_verses_all_rappers"
   ]
  },
  {
   "cell_type": "code",
   "execution_count": 44,
   "metadata": {
    "ExecuteTime": {
     "end_time": "2018-08-24T01:57:48.251212Z",
     "start_time": "2018-08-24T01:57:48.246542Z"
    }
   },
   "outputs": [
    {
     "name": "stdout",
     "output_type": "stream",
     "text": [
      "file_len = 718122\n"
     ]
    }
   ],
   "source": [
    "# Read in text and change unicode characters to ASCII\n",
    "import unidecode\n",
    "import string\n",
    "import random\n",
    "import re\n",
    "\n",
    "all_characters = string.printable\n",
    "n_characters = len(all_characters)\n",
    "\n",
    "file_len = len(file)\n",
    "print(f'file_len = {file_len}')"
   ]
  },
  {
   "cell_type": "code",
   "execution_count": 45,
   "metadata": {
    "ExecuteTime": {
     "end_time": "2018-08-24T01:57:48.258063Z",
     "start_time": "2018-08-24T01:57:48.253151Z"
    }
   },
   "outputs": [
    {
     "name": "stdout",
     "output_type": "stream",
     "text": [
      "e at them bitches hating on you with their friends girl you got it let know that everything big nails done hair done everything big and my girls let me see your hands wave at them bitches hating on you with their friends girl you got it let know everything big nails done hair done everything big and my to girls let me see your hands wave at them bitches hating on you with their friends girl you got\n"
     ]
    }
   ],
   "source": [
    "chunk_len = 400\n",
    "\n",
    "def random_chunk():\n",
    "    start_index = random.randint(0, file_len - chunk_len)\n",
    "    end_index = start_index + chunk_len + 1\n",
    "    return file[start_index:end_index]\n",
    "\n",
    "print(random_chunk())"
   ]
  },
  {
   "cell_type": "code",
   "execution_count": 46,
   "metadata": {
    "ExecuteTime": {
     "end_time": "2018-08-24T01:57:48.275022Z",
     "start_time": "2018-08-24T01:57:48.260374Z"
    }
   },
   "outputs": [],
   "source": [
    "import torch\n",
    "import torch.nn as nn\n",
    "from torch.autograd import Variable\n",
    "import torch.nn.functional as F\n",
    "\n",
    "class RNN(nn.Module):\n",
    "    def __init__(self, input_size, hidden_size, output_size, n_layers=1):\n",
    "        super(RNN, self).__init__()\n",
    "        self.input_size = input_size\n",
    "        self.hidden_size = hidden_size\n",
    "        self.output_size = output_size\n",
    "        self.n_layers = n_layers\n",
    "        \n",
    "        self.encoder = nn.Embedding(input_size, hidden_size)\n",
    "        self.gru = nn.GRU(hidden_size, hidden_size, n_layers)\n",
    "        self.decoder = nn.Linear(hidden_size, output_size)\n",
    "        \n",
    "    def forward(self, input, hidden):\n",
    "        output = self.encoder(input.view(1, -1))\n",
    "        output, hidden = self.gru(output.view(1, 1, -1), hidden)\n",
    "        output = self.decoder(output.view(1, -1))\n",
    "        \n",
    "        return output, hidden\n",
    "    \n",
    "    def init_hidden(self):\n",
    "        return Variable(torch.randn(self.n_layers, 1, self.hidden_size))"
   ]
  },
  {
   "cell_type": "code",
   "execution_count": 47,
   "metadata": {
    "ExecuteTime": {
     "end_time": "2018-08-24T01:57:48.283800Z",
     "start_time": "2018-08-24T01:57:48.277159Z"
    }
   },
   "outputs": [
    {
     "name": "stdout",
     "output_type": "stream",
     "text": [
      "tensor([48, 14, 29, 18, 28,  0,  1,  2,  3, 10, 11, 12, 35, 36, 37, 38])\n"
     ]
    }
   ],
   "source": [
    "def char2tensor(string):\n",
    "    tensor = torch.zeros(len(string)).long()\n",
    "    for char in range(len(string)):\n",
    "        if string[char] in all_characters:\n",
    "            tensor[char] = all_characters.index(string[char])\n",
    "        else:\n",
    "            tensor[char] = 94 #predict space if character unknown\n",
    "        \n",
    "    return Variable(tensor)\n",
    "\n",
    "# Let's see it in action.\n",
    "print(char2tensor('Metis0123abczABC'))"
   ]
  },
  {
   "cell_type": "code",
   "execution_count": 48,
   "metadata": {
    "ExecuteTime": {
     "end_time": "2018-08-24T01:57:48.289626Z",
     "start_time": "2018-08-24T01:57:48.285916Z"
    }
   },
   "outputs": [],
   "source": [
    "def random_training_set():\n",
    "    chunk = random_chunk()\n",
    "    inp = char2tensor(chunk[:-1])\n",
    "    target = char2tensor(chunk[1:])\n",
    "    return inp, target"
   ]
  },
  {
   "cell_type": "code",
   "execution_count": 49,
   "metadata": {
    "ExecuteTime": {
     "end_time": "2018-08-24T01:57:48.303573Z",
     "start_time": "2018-08-24T01:57:48.291514Z"
    }
   },
   "outputs": [],
   "source": [
    "def evaluate(model, prime_str='A', predict_len=100, temperature=0.8):\n",
    "    \n",
    "    hidden = model.init_hidden()\n",
    "    prime_input = char2tensor(prime_str)\n",
    "    predicted = prime_str\n",
    "    \n",
    "    # use priming string to build up hidden state\n",
    "    \n",
    "    for p in range(len(prime_str) - 1):\n",
    "        _, hidden = model(prime_input[p], hidden)\n",
    "    inp = prime_input[-1]\n",
    "    \n",
    "    for p in range(predict_len):\n",
    "        output, hidden = model(inp, hidden)\n",
    "        \n",
    "        # Sample from the network as a multinomial distribution\n",
    "        output_dist = output.data.view(-1).div(temperature).exp()\n",
    "        top_i = torch.multinomial(output_dist, 1)[0]\n",
    "        \n",
    "        # Add predicted character to string and use as next input\n",
    "        predicted_char = all_characters[top_i]\n",
    "        predicted += predicted_char\n",
    "        inp = char2tensor(predicted_char)\n",
    "        \n",
    "    return predicted"
   ]
  },
  {
   "cell_type": "code",
   "execution_count": 50,
   "metadata": {
    "ExecuteTime": {
     "end_time": "2018-08-24T01:57:48.310336Z",
     "start_time": "2018-08-24T01:57:48.305824Z"
    }
   },
   "outputs": [],
   "source": [
    "# helper function\n",
    "import time, math\n",
    "\n",
    "def time_since(since):\n",
    "    s = time.time() - since\n",
    "    m = math.floor(s/60)\n",
    "    s -= m*60\n",
    "    return '%dm %ds' % (m, s)"
   ]
  },
  {
   "cell_type": "code",
   "execution_count": 51,
   "metadata": {
    "ExecuteTime": {
     "end_time": "2018-08-24T01:57:48.319011Z",
     "start_time": "2018-08-24T01:57:48.312655Z"
    }
   },
   "outputs": [],
   "source": [
    "# The actual training part\n",
    "def train(inp, target):\n",
    "    hidden = model.init_hidden()\n",
    "    model.zero_grad()\n",
    "    loss = 0\n",
    "\n",
    "    for char in range(chunk_len):\n",
    "        output, hidden = model(inp[char], hidden)\n",
    "        loss += criterion(output, target[char].unsqueeze(0))\n",
    "\n",
    "    loss.backward()\n",
    "    model_optimizer.step()\n",
    "\n",
    "    return loss.data.item() / chunk_len"
   ]
  },
  {
   "cell_type": "code",
   "execution_count": 52,
   "metadata": {
    "ExecuteTime": {
     "end_time": "2018-08-24T01:57:48.326218Z",
     "start_time": "2018-08-24T01:57:48.321327Z"
    }
   },
   "outputs": [],
   "source": [
    "# parameters\n",
    "# n_epochs = 1000\n",
    "# print_every = 100\n",
    "# plot_every = 10\n",
    "# hidden_size = 256\n",
    "# n_layers = 2\n",
    "# learning_rate = 0.001\n",
    "\n",
    "# # model declaration\n",
    "# model = RNN(n_characters, hidden_size, n_characters, n_layers)\n",
    "# model_optimizer = torch.optim.Adam(model.parameters(), lr=learning_rate)\n",
    "# criterion = nn.CrossEntropyLoss()\n",
    "\n",
    "# start = time.time()\n",
    "# all_losses = []\n",
    "# loss_avg = 0\n",
    "\n",
    "# for epoch in range(1, n_epochs + 1):\n",
    "#     loss = train(*random_training_set())       \n",
    "#     loss_avg += loss\n",
    "\n",
    "#     if epoch % print_every == 0:\n",
    "#         print('[%s (%d %d%%) %.4f]' % (time_since(start), epoch, epoch / n_epochs * 100, loss))\n",
    "#         print(evaluate(model, 'A ', 100), '\\n')\n",
    "\n",
    "#     if epoch % plot_every == 0:\n",
    "#         all_losses.append(loss_avg / plot_every)\n",
    "#         loss_avg = 0"
   ]
  },
  {
   "cell_type": "code",
   "execution_count": 53,
   "metadata": {
    "ExecuteTime": {
     "end_time": "2018-08-24T01:57:48.331591Z",
     "start_time": "2018-08-24T01:57:48.328871Z"
    }
   },
   "outputs": [],
   "source": [
    "# import matplotlib.pyplot as plt\n",
    "# import matplotlib.ticker as ticker\n",
    "# %matplotlib inline\n",
    "\n",
    "# plt.figure()\n",
    "# plt.plot(all_losses)"
   ]
  },
  {
   "cell_type": "code",
   "execution_count": 54,
   "metadata": {
    "ExecuteTime": {
     "end_time": "2018-08-24T01:57:48.336741Z",
     "start_time": "2018-08-24T01:57:48.334052Z"
    }
   },
   "outputs": [],
   "source": [
    "# with open('models/drake_rnn_generator.pkl', 'wb') as picklefile:\n",
    "#     pickle.dump(model, picklefile)"
   ]
  },
  {
   "cell_type": "code",
   "execution_count": 55,
   "metadata": {
    "ExecuteTime": {
     "end_time": "2018-08-24T01:57:48.494656Z",
     "start_time": "2018-08-24T01:57:48.338842Z"
    }
   },
   "outputs": [
    {
     "name": "stdout",
     "output_type": "stream",
     "text": [
      "To be or not to be: sound to like should on me schoole me one its up the back you got all goin and that your see of to not me run i dont im try started just both a for the bottom been started the bottom not me back both \n"
     ]
    }
   ],
   "source": [
    "# Evaluate model from this notebook\n",
    "print(evaluate(model, 'To be or not to be: ', predict_len=200, temperature=0.5))"
   ]
  },
  {
   "cell_type": "code",
   "execution_count": 56,
   "metadata": {
    "ExecuteTime": {
     "end_time": "2018-08-24T01:57:48.643165Z",
     "start_time": "2018-08-24T01:57:48.497355Z"
    }
   },
   "outputs": [
    {
     "name": "stdout",
     "output_type": "stream",
     "text": [
      "I miss you girl come back from the sure when your sweepin on everything on though the stried they feelens got on to shit i say the still on the better been im the motime and do the fines so the city nothing and got the real i \n"
     ]
    }
   ],
   "source": [
    "# Evaluate model from this notebook\n",
    "print(evaluate(model, 'I miss you girl come back ', predict_len=200, temperature=0.5))"
   ]
  },
  {
   "cell_type": "code",
   "execution_count": 57,
   "metadata": {
    "ExecuteTime": {
     "end_time": "2018-08-24T01:57:48.790603Z",
     "start_time": "2018-08-24T01:57:48.645852Z"
    }
   },
   "outputs": [
    {
     "name": "stdout",
     "output_type": "stream",
     "text": [
      "Started from the bottom the game when i dont so for the had that not on me for shout back and so the come that your better not the both im the stay for you want they for sturn im the star started on to me get the contert an\n"
     ]
    }
   ],
   "source": [
    "# Evaluate model from this notebook\n",
    "print(evaluate(model, \"Started from the bottom\", predict_len=200, temperature=0.4))"
   ]
  },
  {
   "cell_type": "code",
   "execution_count": 58,
   "metadata": {
    "ExecuteTime": {
     "end_time": "2018-08-24T01:57:48.914380Z",
     "start_time": "2018-08-24T01:57:48.792533Z"
    }
   },
   "outputs": [
    {
     "name": "stdout",
     "output_type": "stream",
     "text": [
      "I'm the realest rapper alive you stay i dont just started the could to the right the stressin it on the mornet the talkin of like a still of the grand they still be its my got the were you started the feeling im the really down \n"
     ]
    }
   ],
   "source": [
    "# Evaluate model from this notebook\n",
    "print(evaluate(model, \"I'm the realest rapper alive\", predict_len=200, temperature=0.4))"
   ]
  },
  {
   "cell_type": "code",
   "execution_count": 59,
   "metadata": {
    "ExecuteTime": {
     "end_time": "2018-08-24T01:57:49.032305Z",
     "start_time": "2018-08-24T01:57:48.916341Z"
    }
   },
   "outputs": [
    {
     "name": "stdout",
     "output_type": "stream",
     "text": [
      "Smoke a lot of weed thats its for me do the stried remix all be the fuck the fuck its for you want to the really mistake the fuckin playing i dont not got and i gotta started the star a man and the still and on the stil\n"
     ]
    }
   ],
   "source": [
    "# Evaluate model from this notebook\n",
    "print(evaluate(model, \"Smoke a lot of weed\", predict_len=200, temperature=0.4))"
   ]
  },
  {
   "cell_type": "code",
   "execution_count": 60,
   "metadata": {
    "ExecuteTime": {
     "end_time": "2018-08-24T01:57:49.160745Z",
     "start_time": "2018-08-24T01:57:49.034439Z"
    }
   },
   "outputs": [
    {
     "name": "stdout",
     "output_type": "stream",
     "text": [
      "Baby come i dont started its on the fuckin be should i like my fuckin on your part like the same and they stalf you still of the strist not still on my look and its all got and it im got the remix back on you \n"
     ]
    }
   ],
   "source": [
    "# Evaluate model from this notebook\n",
    "print(evaluate(model, \"Baby come\", predict_len=200, temperature=0.4))"
   ]
  },
  {
   "cell_type": "code",
   "execution_count": 61,
   "metadata": {
    "ExecuteTime": {
     "end_time": "2018-08-24T01:57:52.027725Z",
     "start_time": "2018-08-24T01:57:49.162742Z"
    }
   },
   "outputs": [
    {
     "data": {
      "text/plain": [
       "['I miss you girl come back me the slide in the gotta stery dont sention the both a lot thats the say you want the fucking got they see that yours i made am of the deates at thats shit i got for you know what yours this in my im',\n",
       " 'To be or not to be: i take the romis it it how your off it see i dont night the strying the fay we got the days the fine you really for you got the striend not girl on the should i cant on the but the light all be the go',\n",
       " 'Started from the bottom now its you got mind it they fither got starty the faction be been it so here so i like the how ive seever the got not not dont sound of my spit the like your be on list im side from now so stop i st',\n",
       " \"I'm the realest rapper alivers and im to sure and should one to stay for a look all the got remember back its been yours like its of im the remix but i see the girl that i dont sound the put they not always i so what if the stil\",\n",
       " 'Smoke a lot of weed the for me how i real my for im not of my really send the still i stay i got the storthing the blast still here a yours days like i dont started for not when i never started to me the seen the care l',\n",
       " 'Baby come on of the really say you cant really all from that stunt on me niggas all been sure should be i got be around on a never real seen i dont next to way in the bottom not the time about this shit for me',\n",
       " 'Date a scientistic im dont stop i would do its out the club from the see and for the but they go be your string not right fight it out should not im stop shit still for for all the still a life its started to do that',\n",
       " 'Butter my biscuition could to man yours this she see the tried young this shit that yours and i cant started and im not not see in how yours im all forging the started i m on so come on my hate the real shit beavound ',\n",
       " 'Scramble my every the got of and do the one now i dont stuntion the bitch and spitch of the started if you thats finish going started to let they one i should not so i like the sturn a lot on my mill you want to ',\n",
       " 'I sleep im not me on the bottom just sto stop shit so one the cant remit all i dont been im to drop nobody on my man you know it look for the fucking been my nigga started to get she need the world the really',\n",
       " 'Green eggs and im because it on shated for i gon them is got the mition that that i dont want the same it bitches on on the still a lot the lot the realin like i m the scar so its we would to girl now now nothing ri',\n",
       " 'Rollin in my got on to tryna story stop a lot me need i got to the time the dont know when i have for everythin that if you the mothing stay here a miss its is shit to have that in me on me on the fairs like i te',\n",
       " 'Drop top but i dont starts and now stop started on talkin and like is now been a should do world they dont startion that in all the bottom the real i just have my like you been this so drink its we got the bo',\n",
       " 'Math is fun im dont to do loke and like in to the girl for you the worth the mother and do you just let the had the family from they star you never shit i should not the bottoo man in the fall so it of for you t',\n",
       " 'Sentences and for the strip i stay the still have for the far the you know yours wanna see doing to got you for they still on me dresting on me a mition the fuck im still both back when it i dont see they want',\n",
       " 'Coffee in the still what i still on at the man i got the trying all of the see for you never got the dont want the crease here see it on the same on my money started for then you sintion aint be should prost and t',\n",
       " 'Table that she feel yours it on like it you neverstand it all get not star should now say i dont like come in they for my eates for so a moving the strite i got the fine shit stay its gots that you said all be ',\n",
       " 'Homies the for me the clights thats more that your shit dont never made me and and they got better this so the switch me all is she say im got the sturn it when i aint have the still been the rection on not',\n",
       " 'From the streets of and they still off and it better what it do the most the same got for you and nothin i like the stret if you having nothertion say i got on the fuckin be have thats for im say im the fuckin of in ',\n",
       " 'Maseration to playing something the break it sees someone what i start for so im now the still be thats show is nothin nothing the gosta since and like girl say it been on the both i got on they said it shit ',\n",
       " 'Air force one drake should people got a fuckin my clait a real me not still they wanted me i cant like i got the hand the fling stay is still be and you think i dont not say im be the time the flace i m got my fuc',\n",
       " 'President like a little does better and that she say i we do the bottom back the mothing like i like man enemissing in you cant some shit so you the niggas who im see not do i got to the thats remix startions ',\n",
       " 'Trump got be what not to got to dont gettin to the got the faity can and in the moth the stay the had the still do and here i dont really rap the got and the damn i feel shit the modin the son me this she ']"
      ]
     },
     "execution_count": 61,
     "metadata": {},
     "output_type": "execute_result"
    }
   ],
   "source": [
    "prompts = ['I miss you girl come back ', 'To be or not to be: ', \"Started from the bottom\", \"I'm the realest rapper alive\",\n",
    "           \"Smoke a lot of weed\", \"Baby come\", 'Date a scientist', 'Butter my biscuit', 'Scramble my ', 'I sleep ',\n",
    "           'Green eggs and ', 'Rollin in my', 'Drop top', 'Math is fun', 'Sentences', 'Coffee in the', 'Table that',\n",
    "           'Homies', 'From the streets', 'Maserati', 'Air force one', 'President', 'Trump']\n",
    "\n",
    "drake_rnn_verses = []\n",
    "\n",
    "for i in range(len(prompts)):\n",
    "    drake_rnn_verses.append(evaluate(model, prompts[i], predict_len=200, temperature=0.5))\n",
    "    \n",
    "    \n",
    "drake_rnn_verses"
   ]
  },
  {
   "cell_type": "code",
   "execution_count": 62,
   "metadata": {
    "ExecuteTime": {
     "end_time": "2018-08-24T02:05:05.439896Z",
     "start_time": "2018-08-24T02:05:05.436180Z"
    }
   },
   "outputs": [],
   "source": [
    "columns = ['generated_verses']\n",
    "\n",
    "drake_generated_df = pd.DataFrame(drake_rnn_verses, columns=columns)"
   ]
  },
  {
   "cell_type": "code",
   "execution_count": 66,
   "metadata": {
    "ExecuteTime": {
     "end_time": "2018-08-24T03:24:58.810134Z",
     "start_time": "2018-08-24T03:24:58.799912Z"
    }
   },
   "outputs": [
    {
     "data": {
      "text/html": [
       "<div>\n",
       "<style scoped>\n",
       "    .dataframe tbody tr th:only-of-type {\n",
       "        vertical-align: middle;\n",
       "    }\n",
       "\n",
       "    .dataframe tbody tr th {\n",
       "        vertical-align: top;\n",
       "    }\n",
       "\n",
       "    .dataframe thead th {\n",
       "        text-align: right;\n",
       "    }\n",
       "</style>\n",
       "<table border=\"1\" class=\"dataframe\">\n",
       "  <thead>\n",
       "    <tr style=\"text-align: right;\">\n",
       "      <th></th>\n",
       "      <th>generated_verses</th>\n",
       "      <th>artist</th>\n",
       "    </tr>\n",
       "  </thead>\n",
       "  <tbody>\n",
       "    <tr>\n",
       "      <th>0</th>\n",
       "      <td>I miss you girl come back me the slide in the ...</td>\n",
       "      <td>Drake</td>\n",
       "    </tr>\n",
       "    <tr>\n",
       "      <th>1</th>\n",
       "      <td>To be or not to be: i take the romis it it how...</td>\n",
       "      <td>Drake</td>\n",
       "    </tr>\n",
       "    <tr>\n",
       "      <th>2</th>\n",
       "      <td>Started from the bottom now its you got mind i...</td>\n",
       "      <td>Drake</td>\n",
       "    </tr>\n",
       "    <tr>\n",
       "      <th>3</th>\n",
       "      <td>I'm the realest rapper alivers and im to sure ...</td>\n",
       "      <td>Drake</td>\n",
       "    </tr>\n",
       "    <tr>\n",
       "      <th>4</th>\n",
       "      <td>Smoke a lot of weed the for me how i real my f...</td>\n",
       "      <td>Drake</td>\n",
       "    </tr>\n",
       "    <tr>\n",
       "      <th>5</th>\n",
       "      <td>Baby come on of the really say you cant really...</td>\n",
       "      <td>Drake</td>\n",
       "    </tr>\n",
       "    <tr>\n",
       "      <th>6</th>\n",
       "      <td>Date a scientistic im dont stop i would do its...</td>\n",
       "      <td>Drake</td>\n",
       "    </tr>\n",
       "    <tr>\n",
       "      <th>7</th>\n",
       "      <td>Butter my biscuition could to man yours this s...</td>\n",
       "      <td>Drake</td>\n",
       "    </tr>\n",
       "    <tr>\n",
       "      <th>8</th>\n",
       "      <td>Scramble my every the got of and do the one no...</td>\n",
       "      <td>Drake</td>\n",
       "    </tr>\n",
       "    <tr>\n",
       "      <th>9</th>\n",
       "      <td>I sleep im not me on the bottom just sto stop ...</td>\n",
       "      <td>Drake</td>\n",
       "    </tr>\n",
       "    <tr>\n",
       "      <th>10</th>\n",
       "      <td>Green eggs and im because it on shated for i g...</td>\n",
       "      <td>Drake</td>\n",
       "    </tr>\n",
       "    <tr>\n",
       "      <th>11</th>\n",
       "      <td>Rollin in my got on to tryna story stop a lot ...</td>\n",
       "      <td>Drake</td>\n",
       "    </tr>\n",
       "    <tr>\n",
       "      <th>12</th>\n",
       "      <td>Drop top but i dont starts and now stop starte...</td>\n",
       "      <td>Drake</td>\n",
       "    </tr>\n",
       "    <tr>\n",
       "      <th>13</th>\n",
       "      <td>Math is fun im dont to do loke and like in to ...</td>\n",
       "      <td>Drake</td>\n",
       "    </tr>\n",
       "    <tr>\n",
       "      <th>14</th>\n",
       "      <td>Sentences and for the strip i stay the still h...</td>\n",
       "      <td>Drake</td>\n",
       "    </tr>\n",
       "    <tr>\n",
       "      <th>15</th>\n",
       "      <td>Coffee in the still what i still on at the man...</td>\n",
       "      <td>Drake</td>\n",
       "    </tr>\n",
       "    <tr>\n",
       "      <th>16</th>\n",
       "      <td>Table that she feel yours it on like it you ne...</td>\n",
       "      <td>Drake</td>\n",
       "    </tr>\n",
       "    <tr>\n",
       "      <th>17</th>\n",
       "      <td>Homies the for me the clights thats more that ...</td>\n",
       "      <td>Drake</td>\n",
       "    </tr>\n",
       "    <tr>\n",
       "      <th>18</th>\n",
       "      <td>From the streets of and they still off and it ...</td>\n",
       "      <td>Drake</td>\n",
       "    </tr>\n",
       "    <tr>\n",
       "      <th>19</th>\n",
       "      <td>Maseration to playing something the break it s...</td>\n",
       "      <td>Drake</td>\n",
       "    </tr>\n",
       "    <tr>\n",
       "      <th>20</th>\n",
       "      <td>Air force one drake should people got a fuckin...</td>\n",
       "      <td>Drake</td>\n",
       "    </tr>\n",
       "    <tr>\n",
       "      <th>21</th>\n",
       "      <td>President like a little does better and that s...</td>\n",
       "      <td>Drake</td>\n",
       "    </tr>\n",
       "    <tr>\n",
       "      <th>22</th>\n",
       "      <td>Trump got be what not to got to dont gettin to...</td>\n",
       "      <td>Drake</td>\n",
       "    </tr>\n",
       "  </tbody>\n",
       "</table>\n",
       "</div>"
      ],
      "text/plain": [
       "                                     generated_verses artist\n",
       "0   I miss you girl come back me the slide in the ...  Drake\n",
       "1   To be or not to be: i take the romis it it how...  Drake\n",
       "2   Started from the bottom now its you got mind i...  Drake\n",
       "3   I'm the realest rapper alivers and im to sure ...  Drake\n",
       "4   Smoke a lot of weed the for me how i real my f...  Drake\n",
       "5   Baby come on of the really say you cant really...  Drake\n",
       "6   Date a scientistic im dont stop i would do its...  Drake\n",
       "7   Butter my biscuition could to man yours this s...  Drake\n",
       "8   Scramble my every the got of and do the one no...  Drake\n",
       "9   I sleep im not me on the bottom just sto stop ...  Drake\n",
       "10  Green eggs and im because it on shated for i g...  Drake\n",
       "11  Rollin in my got on to tryna story stop a lot ...  Drake\n",
       "12  Drop top but i dont starts and now stop starte...  Drake\n",
       "13  Math is fun im dont to do loke and like in to ...  Drake\n",
       "14  Sentences and for the strip i stay the still h...  Drake\n",
       "15  Coffee in the still what i still on at the man...  Drake\n",
       "16  Table that she feel yours it on like it you ne...  Drake\n",
       "17  Homies the for me the clights thats more that ...  Drake\n",
       "18  From the streets of and they still off and it ...  Drake\n",
       "19  Maseration to playing something the break it s...  Drake\n",
       "20  Air force one drake should people got a fuckin...  Drake\n",
       "21  President like a little does better and that s...  Drake\n",
       "22  Trump got be what not to got to dont gettin to...  Drake"
      ]
     },
     "execution_count": 66,
     "metadata": {},
     "output_type": "execute_result"
    }
   ],
   "source": [
    "drake_generated_df['artist'] = 'Drake'\n",
    "\n",
    "drake_generated_df"
   ]
  },
  {
   "cell_type": "code",
   "execution_count": 67,
   "metadata": {
    "ExecuteTime": {
     "end_time": "2018-08-24T03:25:35.573682Z",
     "start_time": "2018-08-24T03:25:35.564119Z"
    }
   },
   "outputs": [],
   "source": [
    "with open('data/drake_generated_raps.pkl', 'wb') as picklefile:\n",
    "    pickle.dump(drake_generated_df, picklefile)"
   ]
  },
  {
   "cell_type": "code",
   "execution_count": null,
   "metadata": {},
   "outputs": [],
   "source": []
  }
 ],
 "metadata": {
  "kernelspec": {
   "display_name": "Python 3",
   "language": "python",
   "name": "python3"
  },
  "language_info": {
   "codemirror_mode": {
    "name": "ipython",
    "version": 3
   },
   "file_extension": ".py",
   "mimetype": "text/x-python",
   "name": "python",
   "nbconvert_exporter": "python",
   "pygments_lexer": "ipython3",
   "version": "3.6.6"
  },
  "varInspector": {
   "cols": {
    "lenName": 16,
    "lenType": 16,
    "lenVar": 40
   },
   "kernels_config": {
    "python": {
     "delete_cmd_postfix": "",
     "delete_cmd_prefix": "del ",
     "library": "var_list.py",
     "varRefreshCmd": "print(var_dic_list())"
    },
    "r": {
     "delete_cmd_postfix": ") ",
     "delete_cmd_prefix": "rm(",
     "library": "var_list.r",
     "varRefreshCmd": "cat(var_dic_list()) "
    }
   },
   "types_to_exclude": [
    "module",
    "function",
    "builtin_function_or_method",
    "instance",
    "_Feature"
   ],
   "window_display": false
  }
 },
 "nbformat": 4,
 "nbformat_minor": 2
}
