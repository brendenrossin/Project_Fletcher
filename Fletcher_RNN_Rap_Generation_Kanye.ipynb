{
 "cells": [
  {
   "cell_type": "code",
   "execution_count": 31,
   "metadata": {
    "ExecuteTime": {
     "end_time": "2018-08-24T01:57:57.700699Z",
     "start_time": "2018-08-24T01:57:57.672754Z"
    }
   },
   "outputs": [],
   "source": [
    "import pandas as pd\n",
    "import random\n",
    "from time import sleep\n",
    "import warnings\n",
    "warnings.filterwarnings(\"ignore\",category=DeprecationWarning)\n",
    "import numpy as np\n",
    "import nltk\n",
    "import os\n",
    "from sklearn import datasets\n",
    "import pickle\n",
    "from nltk.tokenize import word_tokenize\n",
    "from sklearn.decomposition import NMF, TruncatedSVD\n",
    "import matplotlib.pyplot as plt\n",
    "import seaborn as sns\n",
    "from sklearn.decomposition import LatentDirichletAllocation\n",
    "from sklearn.neighbors import NearestNeighbors\n",
    "from sklearn.cross_validation import train_test_split, cross_val_score\n",
    "from sklearn.linear_model import RidgeCV\n",
    "from sklearn.pipeline import make_pipeline, Pipeline\n",
    "from sklearn.preprocessing import PolynomialFeatures, StandardScaler\n",
    "from sklearn.neighbors import KNeighborsClassifier\n",
    "from sklearn.linear_model import LogisticRegression\n",
    "from sklearn.metrics import accuracy_score, recall_score, precision_score, f1_score, roc_auc_score, roc_curve, auc, fbeta_score\n",
    "from sklearn.model_selection import learning_curve, KFold, GridSearchCV, cross_val_score\n",
    "from sklearn.naive_bayes import GaussianNB, MultinomialNB\n",
    "from sklearn.svm import SVC\n",
    "from sklearn.tree import DecisionTreeClassifier\n",
    "from sklearn.ensemble import RandomForestClassifier, GradientBoostingClassifier\n",
    "from sklearn.dummy import DummyClassifier\n",
    "from collections import Counter\n",
    "from sklearn.feature_extraction.text import TfidfTransformer, CountVectorizer, TfidfVectorizer\n",
    "from sklearn.feature_extraction import text\n",
    "from sklearn.preprocessing import normalize\n",
    "import re\n",
    "from unidecode import unidecode\n",
    "\n",
    "import matplotlib.style as style\n",
    "%matplotlib inline\n",
    "plt.style.use('ggplot')"
   ]
  },
  {
   "cell_type": "code",
   "execution_count": 32,
   "metadata": {
    "ExecuteTime": {
     "end_time": "2018-08-24T01:57:57.718350Z",
     "start_time": "2018-08-24T01:57:57.702818Z"
    }
   },
   "outputs": [],
   "source": [
    "with open('data/cleaned_df.pkl', 'rb') as picklefile:\n",
    "    df = pickle.load(picklefile)"
   ]
  },
  {
   "cell_type": "code",
   "execution_count": 33,
   "metadata": {
    "ExecuteTime": {
     "end_time": "2018-08-24T01:57:57.734526Z",
     "start_time": "2018-08-24T01:57:57.721419Z"
    }
   },
   "outputs": [
    {
     "data": {
      "text/html": [
       "<div>\n",
       "<style scoped>\n",
       "    .dataframe tbody tr th:only-of-type {\n",
       "        vertical-align: middle;\n",
       "    }\n",
       "\n",
       "    .dataframe tbody tr th {\n",
       "        vertical-align: top;\n",
       "    }\n",
       "\n",
       "    .dataframe thead th {\n",
       "        text-align: right;\n",
       "    }\n",
       "</style>\n",
       "<table border=\"1\" class=\"dataframe\">\n",
       "  <thead>\n",
       "    <tr style=\"text-align: right;\">\n",
       "      <th></th>\n",
       "      <th>song_owner</th>\n",
       "      <th>song_title</th>\n",
       "      <th>song_element</th>\n",
       "      <th>verse</th>\n",
       "      <th>artist</th>\n",
       "    </tr>\n",
       "  </thead>\n",
       "  <tbody>\n",
       "    <tr>\n",
       "      <th>0</th>\n",
       "      <td>Childish Gambino</td>\n",
       "      <td>This Is America</td>\n",
       "      <td>[Bridge: Childish Gambino &amp; Young Thug]</td>\n",
       "      <td>We just wanna party, Party just for you, We ju...</td>\n",
       "      <td>Childish Gambino</td>\n",
       "    </tr>\n",
       "    <tr>\n",
       "      <th>1</th>\n",
       "      <td>Childish Gambino</td>\n",
       "      <td>This Is America</td>\n",
       "      <td>[Chorus: Childish Gambino]</td>\n",
       "      <td>This is America, Don't catch you slippin' now,...</td>\n",
       "      <td>Childish Gambino</td>\n",
       "    </tr>\n",
       "    <tr>\n",
       "      <th>2</th>\n",
       "      <td>Childish Gambino</td>\n",
       "      <td>This Is America</td>\n",
       "      <td>[Verse 1: Childish Gambino, Blocboy JB, Slim J...</td>\n",
       "      <td>This is America (skrrt, skrrt, woo), Don't cat...</td>\n",
       "      <td>Childish Gambino</td>\n",
       "    </tr>\n",
       "    <tr>\n",
       "      <th>3</th>\n",
       "      <td>Childish Gambino</td>\n",
       "      <td>This Is America</td>\n",
       "      <td>[Refrain: Choir &amp; Childish Gambino]</td>\n",
       "      <td>Ooh-ooh-ooh-ooh-ooh, tell somebody, You go tel...</td>\n",
       "      <td>Childish Gambino</td>\n",
       "    </tr>\n",
       "    <tr>\n",
       "      <th>4</th>\n",
       "      <td>Childish Gambino</td>\n",
       "      <td>This Is America</td>\n",
       "      <td>[Chorus: Childish Gambino, Slim Jxmmi &amp; Young ...</td>\n",
       "      <td>This is America (woo, ayy), Don't catch you sl...</td>\n",
       "      <td>Childish Gambino</td>\n",
       "    </tr>\n",
       "  </tbody>\n",
       "</table>\n",
       "</div>"
      ],
      "text/plain": [
       "         song_owner       song_title  \\\n",
       "0  Childish Gambino  This Is America   \n",
       "1  Childish Gambino  This Is America   \n",
       "2  Childish Gambino  This Is America   \n",
       "3  Childish Gambino  This Is America   \n",
       "4  Childish Gambino  This Is America   \n",
       "\n",
       "                                        song_element  \\\n",
       "0            [Bridge: Childish Gambino & Young Thug]   \n",
       "1                         [Chorus: Childish Gambino]   \n",
       "2  [Verse 1: Childish Gambino, Blocboy JB, Slim J...   \n",
       "3                [Refrain: Choir & Childish Gambino]   \n",
       "4  [Chorus: Childish Gambino, Slim Jxmmi & Young ...   \n",
       "\n",
       "                                               verse            artist  \n",
       "0  We just wanna party, Party just for you, We ju...  Childish Gambino  \n",
       "1  This is America, Don't catch you slippin' now,...  Childish Gambino  \n",
       "2  This is America (skrrt, skrrt, woo), Don't cat...  Childish Gambino  \n",
       "3  Ooh-ooh-ooh-ooh-ooh, tell somebody, You go tel...  Childish Gambino  \n",
       "4  This is America (woo, ayy), Don't catch you sl...  Childish Gambino  "
      ]
     },
     "execution_count": 33,
     "metadata": {},
     "output_type": "execute_result"
    }
   ],
   "source": [
    "df.head()"
   ]
  },
  {
   "cell_type": "code",
   "execution_count": 34,
   "metadata": {
    "ExecuteTime": {
     "end_time": "2018-08-24T01:57:57.743955Z",
     "start_time": "2018-08-24T01:57:57.736810Z"
    }
   },
   "outputs": [],
   "source": [
    "model_df = df.copy()\n",
    "\n",
    "model_df = model_df[model_df['artist'] == 'Kanye West']"
   ]
  },
  {
   "cell_type": "code",
   "execution_count": 35,
   "metadata": {
    "ExecuteTime": {
     "end_time": "2018-08-24T01:57:57.865648Z",
     "start_time": "2018-08-24T01:57:57.746149Z"
    }
   },
   "outputs": [],
   "source": [
    "model_df['verse_words'] = model_df['verse'].copy()\n",
    "model_df['verse_words'] = model_df['verse_words'].str.lower()\n",
    "model_df['verse_words'] = model_df['verse_words'].apply(lambda x: x.replace(',',''))\n",
    "model_df['verse_words'] = model_df['verse_words'].apply(lambda x: x.split(' '))"
   ]
  },
  {
   "cell_type": "code",
   "execution_count": 36,
   "metadata": {
    "ExecuteTime": {
     "end_time": "2018-08-24T01:57:57.893684Z",
     "start_time": "2018-08-24T01:57:57.869540Z"
    }
   },
   "outputs": [
    {
     "data": {
      "text/html": [
       "<div>\n",
       "<style scoped>\n",
       "    .dataframe tbody tr th:only-of-type {\n",
       "        vertical-align: middle;\n",
       "    }\n",
       "\n",
       "    .dataframe tbody tr th {\n",
       "        vertical-align: top;\n",
       "    }\n",
       "\n",
       "    .dataframe thead th {\n",
       "        text-align: right;\n",
       "    }\n",
       "</style>\n",
       "<table border=\"1\" class=\"dataframe\">\n",
       "  <thead>\n",
       "    <tr style=\"text-align: right;\">\n",
       "      <th></th>\n",
       "      <th>song_owner</th>\n",
       "      <th>song_title</th>\n",
       "      <th>song_element</th>\n",
       "      <th>verse</th>\n",
       "      <th>artist</th>\n",
       "      <th>verse_words</th>\n",
       "    </tr>\n",
       "  </thead>\n",
       "  <tbody>\n",
       "    <tr>\n",
       "      <th>913</th>\n",
       "      <td>Chance The Rapper</td>\n",
       "      <td>All We Got</td>\n",
       "      <td>[Outro: Kanye West &amp; Chicago Children's Choir]</td>\n",
       "      <td>We know, we know we got it, We know, we know w...</td>\n",
       "      <td>Kanye West</td>\n",
       "      <td>[we, know, we, know, we, got, it, we, know, we...</td>\n",
       "    </tr>\n",
       "    <tr>\n",
       "      <th>1281</th>\n",
       "      <td>Chance The Rapper</td>\n",
       "      <td>All We Got</td>\n",
       "      <td>[Outro: Kanye West &amp; Chicago Children's Choir]</td>\n",
       "      <td>We know, we know we got it, We know, we know w...</td>\n",
       "      <td>Kanye West</td>\n",
       "      <td>[we, know, we, know, we, got, it, we, know, we...</td>\n",
       "    </tr>\n",
       "    <tr>\n",
       "      <th>1746</th>\n",
       "      <td>Drake</td>\n",
       "      <td>Pop Style (Single Version)</td>\n",
       "      <td>[Verse 2: Kanye West]</td>\n",
       "      <td>They like, \"Pablo—\", \"Why are all the windows ...</td>\n",
       "      <td>Kanye West</td>\n",
       "      <td>[they, like, \"pablo—\", \"why, are, all, the, wi...</td>\n",
       "    </tr>\n",
       "    <tr>\n",
       "      <th>1931</th>\n",
       "      <td>Drake</td>\n",
       "      <td>Glow</td>\n",
       "      <td>[Chorus: Kanye West]</td>\n",
       "      <td>Watch out for me, I'm bound to glow, You bette...</td>\n",
       "      <td>Kanye West</td>\n",
       "      <td>[watch, out, for, me, i'm, bound, to, glow, yo...</td>\n",
       "    </tr>\n",
       "    <tr>\n",
       "      <th>1932</th>\n",
       "      <td>Drake</td>\n",
       "      <td>Glow</td>\n",
       "      <td>[Verse 1: Kanye West]</td>\n",
       "      <td>Your boy all glowed up, Every time we touch do...</td>\n",
       "      <td>Kanye West</td>\n",
       "      <td>[your, boy, all, glowed, up, every, time, we, ...</td>\n",
       "    </tr>\n",
       "  </tbody>\n",
       "</table>\n",
       "</div>"
      ],
      "text/plain": [
       "             song_owner                  song_title  \\\n",
       "913   Chance The Rapper                  All We Got   \n",
       "1281  Chance The Rapper                  All We Got   \n",
       "1746              Drake  Pop Style (Single Version)   \n",
       "1931              Drake                        Glow   \n",
       "1932              Drake                        Glow   \n",
       "\n",
       "                                        song_element  \\\n",
       "913   [Outro: Kanye West & Chicago Children's Choir]   \n",
       "1281  [Outro: Kanye West & Chicago Children's Choir]   \n",
       "1746                           [Verse 2: Kanye West]   \n",
       "1931                            [Chorus: Kanye West]   \n",
       "1932                           [Verse 1: Kanye West]   \n",
       "\n",
       "                                                  verse      artist  \\\n",
       "913   We know, we know we got it, We know, we know w...  Kanye West   \n",
       "1281  We know, we know we got it, We know, we know w...  Kanye West   \n",
       "1746  They like, \"Pablo—\", \"Why are all the windows ...  Kanye West   \n",
       "1931  Watch out for me, I'm bound to glow, You bette...  Kanye West   \n",
       "1932  Your boy all glowed up, Every time we touch do...  Kanye West   \n",
       "\n",
       "                                            verse_words  \n",
       "913   [we, know, we, know, we, got, it, we, know, we...  \n",
       "1281  [we, know, we, know, we, got, it, we, know, we...  \n",
       "1746  [they, like, \"pablo—\", \"why, are, all, the, wi...  \n",
       "1931  [watch, out, for, me, i'm, bound, to, glow, yo...  \n",
       "1932  [your, boy, all, glowed, up, every, time, we, ...  "
      ]
     },
     "execution_count": 36,
     "metadata": {},
     "output_type": "execute_result"
    }
   ],
   "source": [
    "model_df.head()"
   ]
  },
  {
   "cell_type": "code",
   "execution_count": 37,
   "metadata": {
    "ExecuteTime": {
     "end_time": "2018-08-24T01:57:58.845939Z",
     "start_time": "2018-08-24T01:57:57.896396Z"
    }
   },
   "outputs": [],
   "source": [
    "from nltk.tokenize import word_tokenize\n",
    "model_df['tokenize_verse'] = model_df['verse'].copy()\n",
    "model_df['tokenize_verse'] = model_df['tokenize_verse'].str.lower()\n",
    "model_df['tokenize_verse'] = model_df['tokenize_verse'].apply(lambda x: word_tokenize(x))"
   ]
  },
  {
   "cell_type": "code",
   "execution_count": 38,
   "metadata": {
    "ExecuteTime": {
     "end_time": "2018-08-24T01:57:58.949790Z",
     "start_time": "2018-08-24T01:57:58.847920Z"
    }
   },
   "outputs": [],
   "source": [
    "model_df['verse'] = model_df['verse'].str.lower()\n",
    "model_df['verse'] = model_df['verse'].apply(lambda x: x.replace(\"'\",''))\n",
    "model_df['verse'] = model_df['verse'].apply(lambda x: \"\".join([c if c.isalnum() else \" \" for c in x ]))\n",
    "model_df['verse'] = model_df['verse'].apply(lambda x: x.replace('  ',' '))"
   ]
  },
  {
   "cell_type": "code",
   "execution_count": 39,
   "metadata": {
    "ExecuteTime": {
     "end_time": "2018-08-24T01:57:59.222777Z",
     "start_time": "2018-08-24T01:57:58.952030Z"
    }
   },
   "outputs": [
    {
     "data": {
      "text/plain": [
       "913     we know we know we got it we know we know we g...\n",
       "1281    we know we know we got it we know we know we g...\n",
       "1746    they like pablo why are all the windows tinted...\n",
       "1931    watch out for me im bound to glow you better w...\n",
       "1932    your boy all glowed up every time we touch dow...\n",
       "Name: verse, dtype: object"
      ]
     },
     "execution_count": 39,
     "metadata": {},
     "output_type": "execute_result"
    }
   ],
   "source": [
    "stopwords = [\"yeah\", \"uh\", \"huh\", \"aw\", \"oh\", \"la\", \"ayy\",\n",
    "            \"na\", \"ha\", \"ay\", \"skrrt\",\n",
    "            \"em\", \"bla\", \"woo\", \"wu\", \"ya\", \"wala\", \"woop\", \"wrarrr\", \"ooh\",\n",
    "            \"ba\", \"duh\", \"du\", \"1\", \"2\", \"3\", \"4\" ,\"5\" ,\"6\", \"7\", \"8\", \"9\", \"0\"]\n",
    "\n",
    "for index, row in model_df.iterrows():\n",
    "    querywords = row['verse'].split()\n",
    "\n",
    "    resultwords  = [word for word in querywords if word.lower() not in stopwords]\n",
    "    row['verse'] = ' '.join(resultwords)\n",
    "\n",
    "model_df.verse[:5]"
   ]
  },
  {
   "cell_type": "code",
   "execution_count": 40,
   "metadata": {
    "ExecuteTime": {
     "end_time": "2018-08-24T01:57:59.227262Z",
     "start_time": "2018-08-24T01:57:59.224385Z"
    }
   },
   "outputs": [],
   "source": [
    "verses = list(model_df.verse.values)"
   ]
  },
  {
   "cell_type": "code",
   "execution_count": 41,
   "metadata": {
    "ExecuteTime": {
     "end_time": "2018-08-24T01:57:59.236155Z",
     "start_time": "2018-08-24T01:57:59.229171Z"
    }
   },
   "outputs": [
    {
     "data": {
      "text/plain": [
       "['we know we know we got it we know we know we got it we know we know we got it we know we know we got it music we know we know we got it we know we know we got it we know we know we got it we know we know we got it music music is all we got',\n",
       " 'we know we know we got it we know we know we got it we know we know we got it we know we know we got it music we know we know we got it we know we know we got it we know we know we got it we know we know we got it music music is all we got',\n",
       " 'they like pablo why are all the windows tinted on your tahoe why do you know every single bitch that i know why cant you just shut your mouth and take the high road fuck if i know thats that chicago south south side thats the motto cop a crib and spend ten million on remodel take the devils out my life and preach the gospel cause i know we went way way past the line of scrimmage throne is back up in it in the field like emmitt yall get so offended i be blacking out i aint backing out jay about his business and ima let you finish but i i just i just i just i just wanna rock your body take you to the garage and do some karate chop it chop it chop it chop it sipping sake throw a thick bitch on a kawasaki perfect',\n",
       " 'watch out for me im bound to glow you better watch out for me im bound to glow',\n",
       " 'your boy all glowed up every time we touch down bet it go up member doin shows aint nobody show up pour your heart out aint nobody show love they used to laugh when my whip was on the tow truck til me and bein broke finally broke up',\n",
       " 'time to shake the dice time to change the li i ight no more to autopilot dri i ive used to work the fries now we supersi i ize we go suit and tie we gon touch the sky y y we so certified we so certifi i ied fuck you haters still thats an f y i i i they gon bang this here all summerti i ime',\n",
       " 'turn me way up my voice is really low okay',\n",
       " 'we about to get the whole nine the whole nine we just landed on a gold mine we the new abu dhabi this is our time',\n",
       " 'hope i deal with karma fore my son do cause i be drivin round this bih with no sunroof man the glow got me feelin like im gunproof',\n",
       " 'watch out for me im bound to glow']"
      ]
     },
     "execution_count": 41,
     "metadata": {},
     "output_type": "execute_result"
    }
   ],
   "source": [
    "verses[:10]"
   ]
  },
  {
   "cell_type": "code",
   "execution_count": 42,
   "metadata": {
    "ExecuteTime": {
     "end_time": "2018-08-24T01:57:59.242956Z",
     "start_time": "2018-08-24T01:57:59.238409Z"
    }
   },
   "outputs": [
    {
     "data": {
      "text/plain": [
       "'we know we know we got it we know we know we got it we know we know we got it we know we know we got'"
      ]
     },
     "execution_count": 42,
     "metadata": {},
     "output_type": "execute_result"
    }
   ],
   "source": [
    "all_verses_all_rappers = ','.join(verses)\n",
    "\n",
    "all_verses_all_rappers[:100]"
   ]
  },
  {
   "cell_type": "code",
   "execution_count": 43,
   "metadata": {
    "ExecuteTime": {
     "end_time": "2018-08-24T01:57:59.247546Z",
     "start_time": "2018-08-24T01:57:59.244955Z"
    }
   },
   "outputs": [],
   "source": [
    "file = all_verses_all_rappers"
   ]
  },
  {
   "cell_type": "code",
   "execution_count": 44,
   "metadata": {
    "ExecuteTime": {
     "end_time": "2018-08-24T01:57:59.254514Z",
     "start_time": "2018-08-24T01:57:59.249610Z"
    }
   },
   "outputs": [
    {
     "name": "stdout",
     "output_type": "stream",
     "text": [
      "file_len = 692640\n"
     ]
    }
   ],
   "source": [
    "# Read in text and change unicode characters to ASCII\n",
    "import unidecode\n",
    "import string\n",
    "import random\n",
    "import re\n",
    "\n",
    "all_characters = string.printable\n",
    "n_characters = len(all_characters)\n",
    "\n",
    "file_len = len(file)\n",
    "print(f'file_len = {file_len}')"
   ]
  },
  {
   "cell_type": "code",
   "execution_count": 45,
   "metadata": {
    "ExecuteTime": {
     "end_time": "2018-08-24T01:57:59.262483Z",
     "start_time": "2018-08-24T01:57:59.257199Z"
    }
   },
   "outputs": [
    {
     "name": "stdout",
     "output_type": "stream",
     "text": [
      "and like a picture in a frame put it against the wall said she had never been with a man before but she not a virgin she a lady lover i didnt know yall take each other out and date each other but thats a lady lover i aint even know that was baby mother,explain the outro man dont nobody never get to the outro i just take a whole record and just im not gonna talk about the producer shit right now i j\n"
     ]
    }
   ],
   "source": [
    "chunk_len = 400\n",
    "\n",
    "def random_chunk():\n",
    "    start_index = random.randint(0, file_len - chunk_len)\n",
    "    end_index = start_index + chunk_len + 1\n",
    "    return file[start_index:end_index]\n",
    "\n",
    "print(random_chunk())"
   ]
  },
  {
   "cell_type": "code",
   "execution_count": 46,
   "metadata": {
    "ExecuteTime": {
     "end_time": "2018-08-24T01:57:59.279411Z",
     "start_time": "2018-08-24T01:57:59.265075Z"
    }
   },
   "outputs": [],
   "source": [
    "import torch\n",
    "import torch.nn as nn\n",
    "from torch.autograd import Variable\n",
    "import torch.nn.functional as F\n",
    "\n",
    "class RNN(nn.Module):\n",
    "    def __init__(self, input_size, hidden_size, output_size, n_layers=1):\n",
    "        super(RNN, self).__init__()\n",
    "        self.input_size = input_size\n",
    "        self.hidden_size = hidden_size\n",
    "        self.output_size = output_size\n",
    "        self.n_layers = n_layers\n",
    "        \n",
    "        self.encoder = nn.Embedding(input_size, hidden_size)\n",
    "        self.gru = nn.GRU(hidden_size, hidden_size, n_layers)\n",
    "        self.decoder = nn.Linear(hidden_size, output_size)\n",
    "        \n",
    "    def forward(self, input, hidden):\n",
    "        output = self.encoder(input.view(1, -1))\n",
    "        output, hidden = self.gru(output.view(1, 1, -1), hidden)\n",
    "        output = self.decoder(output.view(1, -1))\n",
    "        \n",
    "        return output, hidden\n",
    "    \n",
    "    def init_hidden(self):\n",
    "        return Variable(torch.randn(self.n_layers, 1, self.hidden_size))"
   ]
  },
  {
   "cell_type": "code",
   "execution_count": 47,
   "metadata": {
    "ExecuteTime": {
     "end_time": "2018-08-24T01:57:59.292863Z",
     "start_time": "2018-08-24T01:57:59.282210Z"
    }
   },
   "outputs": [
    {
     "name": "stdout",
     "output_type": "stream",
     "text": [
      "tensor([48, 14, 29, 18, 28,  0,  1,  2,  3, 10, 11, 12, 35, 36, 37, 38])\n"
     ]
    }
   ],
   "source": [
    "def char2tensor(string):\n",
    "    tensor = torch.zeros(len(string)).long()\n",
    "    for char in range(len(string)):\n",
    "        if string[char] in all_characters:\n",
    "            tensor[char] = all_characters.index(string[char])\n",
    "        else:\n",
    "            tensor[char] = 94 #predict space if character unknown\n",
    "        \n",
    "    return Variable(tensor)\n",
    "\n",
    "# Let's see it in action.\n",
    "print(char2tensor('Metis0123abczABC'))"
   ]
  },
  {
   "cell_type": "code",
   "execution_count": 48,
   "metadata": {
    "ExecuteTime": {
     "end_time": "2018-08-24T01:57:59.300892Z",
     "start_time": "2018-08-24T01:57:59.295235Z"
    }
   },
   "outputs": [],
   "source": [
    "def random_training_set():\n",
    "    chunk = random_chunk()\n",
    "    inp = char2tensor(chunk[:-1])\n",
    "    target = char2tensor(chunk[1:])\n",
    "    return inp, target"
   ]
  },
  {
   "cell_type": "code",
   "execution_count": 49,
   "metadata": {
    "ExecuteTime": {
     "end_time": "2018-08-24T01:57:59.315153Z",
     "start_time": "2018-08-24T01:57:59.303301Z"
    }
   },
   "outputs": [],
   "source": [
    "def evaluate(model, prime_str='A', predict_len=100, temperature=0.8):\n",
    "    \n",
    "    hidden = model.init_hidden()\n",
    "    prime_input = char2tensor(prime_str)\n",
    "    predicted = prime_str\n",
    "    \n",
    "    # use priming string to build up hidden state\n",
    "    \n",
    "    for p in range(len(prime_str) - 1):\n",
    "        _, hidden = model(prime_input[p], hidden)\n",
    "    inp = prime_input[-1]\n",
    "    \n",
    "    for p in range(predict_len):\n",
    "        output, hidden = model(inp, hidden)\n",
    "        \n",
    "        # Sample from the network as a multinomial distribution\n",
    "        output_dist = output.data.view(-1).div(temperature).exp()\n",
    "        top_i = torch.multinomial(output_dist, 1)[0]\n",
    "        \n",
    "        # Add predicted character to string and use as next input\n",
    "        predicted_char = all_characters[top_i]\n",
    "        predicted += predicted_char\n",
    "        inp = char2tensor(predicted_char)\n",
    "        \n",
    "    return predicted"
   ]
  },
  {
   "cell_type": "code",
   "execution_count": 50,
   "metadata": {
    "ExecuteTime": {
     "end_time": "2018-08-24T01:57:59.322386Z",
     "start_time": "2018-08-24T01:57:59.318233Z"
    }
   },
   "outputs": [],
   "source": [
    "# helper function\n",
    "import time, math\n",
    "\n",
    "def time_since(since):\n",
    "    s = time.time() - since\n",
    "    m = math.floor(s/60)\n",
    "    s -= m*60\n",
    "    return '%dm %ds' % (m, s)"
   ]
  },
  {
   "cell_type": "code",
   "execution_count": 51,
   "metadata": {
    "ExecuteTime": {
     "end_time": "2018-08-24T01:57:59.331549Z",
     "start_time": "2018-08-24T01:57:59.324914Z"
    }
   },
   "outputs": [],
   "source": [
    "# The actual training part\n",
    "def train(inp, target):\n",
    "    hidden = model.init_hidden()\n",
    "    model.zero_grad()\n",
    "    loss = 0\n",
    "\n",
    "    for char in range(chunk_len):\n",
    "        output, hidden = model(inp[char], hidden)\n",
    "        loss += criterion(output, target[char].unsqueeze(0))\n",
    "\n",
    "    loss.backward()\n",
    "    model_optimizer.step()\n",
    "\n",
    "    return loss.data.item() / chunk_len"
   ]
  },
  {
   "cell_type": "code",
   "execution_count": 52,
   "metadata": {
    "ExecuteTime": {
     "end_time": "2018-08-24T01:57:59.339254Z",
     "start_time": "2018-08-24T01:57:59.334322Z"
    }
   },
   "outputs": [],
   "source": [
    "# parameters\n",
    "# n_epochs = 1000\n",
    "# print_every = 100\n",
    "# plot_every = 10\n",
    "# hidden_size = 256\n",
    "# n_layers = 2\n",
    "# learning_rate = 0.001\n",
    "\n",
    "# # model declaration\n",
    "# model = RNN(n_characters, hidden_size, n_characters, n_layers)\n",
    "# model_optimizer = torch.optim.Adam(model.parameters(), lr=learning_rate)\n",
    "# criterion = nn.CrossEntropyLoss()\n",
    "\n",
    "# start = time.time()\n",
    "# all_losses = []\n",
    "# loss_avg = 0\n",
    "\n",
    "# for epoch in range(1, n_epochs + 1):\n",
    "#     loss = train(*random_training_set())       \n",
    "#     loss_avg += loss\n",
    "\n",
    "#     if epoch % print_every == 0:\n",
    "#         print('[%s (%d %d%%) %.4f]' % (time_since(start), epoch, epoch / n_epochs * 100, loss))\n",
    "#         print(evaluate(model, 'A ', 100), '\\n')\n",
    "\n",
    "#     if epoch % plot_every == 0:\n",
    "#         all_losses.append(loss_avg / plot_every)\n",
    "#         loss_avg = 0"
   ]
  },
  {
   "cell_type": "code",
   "execution_count": 53,
   "metadata": {
    "ExecuteTime": {
     "end_time": "2018-08-24T01:57:59.344830Z",
     "start_time": "2018-08-24T01:57:59.341952Z"
    }
   },
   "outputs": [],
   "source": [
    "# import matplotlib.pyplot as plt\n",
    "# import matplotlib.ticker as ticker\n",
    "# %matplotlib inline\n",
    "\n",
    "# plt.figure()\n",
    "# plt.plot(all_losses)"
   ]
  },
  {
   "cell_type": "code",
   "execution_count": 54,
   "metadata": {
    "ExecuteTime": {
     "end_time": "2018-08-24T01:57:59.349791Z",
     "start_time": "2018-08-24T01:57:59.347234Z"
    }
   },
   "outputs": [],
   "source": [
    "# with open('models/kanye_rnn_generator.pkl', 'wb') as picklefile:\n",
    "#     pickle.dump(model, picklefile)"
   ]
  },
  {
   "cell_type": "code",
   "execution_count": 55,
   "metadata": {
    "ExecuteTime": {
     "end_time": "2018-08-24T01:57:59.516598Z",
     "start_time": "2018-08-24T01:57:59.352219Z"
    }
   },
   "outputs": [
    {
     "name": "stdout",
     "output_type": "stream",
     "text": [
      "To be or not to be: all the make i get a to me like the shit make min but the clothes and the game i want the cant get off the come is the mall tell you will i can the rain to parrother i could the talked the starter the\n"
     ]
    }
   ],
   "source": [
    "# Evaluate model from this notebook\n",
    "print(evaluate(model, 'To be or not to be: ', predict_len=200, temperature=0.5))"
   ]
  },
  {
   "cell_type": "code",
   "execution_count": 56,
   "metadata": {
    "ExecuteTime": {
     "end_time": "2018-08-24T01:57:59.695401Z",
     "start_time": "2018-08-24T01:57:59.519149Z"
    }
   },
   "outputs": [
    {
     "name": "stdout",
     "output_type": "stream",
     "text": [
      "I miss you girl come back and for the mother the craiches right the alright the game now i her the long the recame with is the chass and the something they can it off the life the life that you came the classic and it off the \n"
     ]
    }
   ],
   "source": [
    "# Evaluate model from this notebook\n",
    "print(evaluate(model, 'I miss you girl come back ', predict_len=200, temperature=0.5))"
   ]
  },
  {
   "cell_type": "code",
   "execution_count": 57,
   "metadata": {
    "ExecuteTime": {
     "end_time": "2018-08-24T01:57:59.873027Z",
     "start_time": "2018-08-24T01:57:59.697855Z"
    }
   },
   "outputs": [
    {
     "name": "stdout",
     "output_type": "stream",
     "text": [
      "Started from the bottom the start the back the never the champany a cray nigga that i m get that you so he down and i all the comple in the vomie i dont tell you could so i aint to get the prother the have that the could an\n"
     ]
    }
   ],
   "source": [
    "# Evaluate model from this notebook\n",
    "print(evaluate(model, \"Started from the bottom\", predict_len=200, temperature=0.4))"
   ]
  },
  {
   "cell_type": "code",
   "execution_count": 58,
   "metadata": {
    "ExecuteTime": {
     "end_time": "2018-08-24T01:58:00.074517Z",
     "start_time": "2018-08-24T01:57:59.875586Z"
    }
   },
   "outputs": [
    {
     "name": "stdout",
     "output_type": "stream",
     "text": [
      "I'm the realest rapper alive a champany that the say like that what i can me all the more they say the cant that the look the because i cant this the cant and the runnin the like the do it a call you do the chi and this it the c\n"
     ]
    }
   ],
   "source": [
    "# Evaluate model from this notebook\n",
    "print(evaluate(model, \"I'm the realest rapper alive\", predict_len=200, temperature=0.4))"
   ]
  },
  {
   "cell_type": "code",
   "execution_count": 59,
   "metadata": {
    "ExecuteTime": {
     "end_time": "2018-08-24T01:58:00.263283Z",
     "start_time": "2018-08-24T01:58:00.076914Z"
    }
   },
   "outputs": [
    {
     "name": "stdout",
     "output_type": "stream",
     "text": [
      "Smoke a lot of weed to the probe this that why i aint off the like that the real that its that that the the chool to they dont get a but i aint the mother that shit off these with the dont get that i want the come where\n"
     ]
    }
   ],
   "source": [
    "# Evaluate model from this notebook\n",
    "print(evaluate(model, \"Smoke a lot of weed\", predict_len=200, temperature=0.4))"
   ]
  },
  {
   "cell_type": "code",
   "execution_count": 60,
   "metadata": {
    "ExecuteTime": {
     "end_time": "2018-08-24T01:58:00.457312Z",
     "start_time": "2018-08-24T01:58:00.265967Z"
    }
   },
   "outputs": [
    {
     "name": "stdout",
     "output_type": "stream",
     "text": [
      "Baby come into the way nigga get the corner that i start that i get that im the say i got that i m cant get the compan i got the storth and that you alright i want the real back i got the pay i get a compan th\n"
     ]
    }
   ],
   "source": [
    "# Evaluate model from this notebook\n",
    "print(evaluate(model, \"Baby come\", predict_len=200, temperature=0.4))"
   ]
  },
  {
   "cell_type": "code",
   "execution_count": 61,
   "metadata": {
    "ExecuteTime": {
     "end_time": "2018-08-24T01:58:03.434976Z",
     "start_time": "2018-08-24T01:58:00.460252Z"
    }
   },
   "outputs": [
    {
     "data": {
      "text/plain": [
       "['I miss you girl come back that i to the wrock the reat to be me that to the the clubs right and that she want the light if the way in i dont let thats the alright the roc this so her the corse on the pother to be i cant when i',\n",
       " 'To be or not to be: and to the class like off make it to to the rom something we cause off you aint get to make the crazy that im off you like that the light what it off that the rick it the comp i parer the chance on i ',\n",
       " 'Started from the bottom the round that you got why it to me nigga and it off this just get that i was the recite i got the prain est but that the like what the she comin a for that it they back shit the star that the craid ',\n",
       " \"I'm the realest rapper alive the be im the look a clife to be all the cont the way i pass you know you and what you ever day not hill the way we want what that the cont p something that i can this the way that the time minate go\",\n",
       " 'Smoke a lot of weed the be in the doubted that the say i dont and it the rings i m roc up the put it that off her get a part everything off the back the champ that me the running the cant i want time that she back i kno',\n",
       " 'Baby come i got that that how you could me off the to just like the roc all that hard that a tire that i m all the real that you look the chance and that if i will off chant the round i be it start up to the c',\n",
       " 'Date a scientistant im go do i m screation we be i want this i got the like that in the somether that i like the say my shit heard off the chance and start the crazy it to the runnic a cant a can a look a the stop i ',\n",
       " 'Butter my biscuit me they want my stop i m day i be that the bout a compan that i dont like the pop to the poty the roc that to get think you what the pace to that the way the like that i start everybody all the mich ',\n",
       " 'Scramble my cant off that that the bent i was the come in the come i the start the classic a be what i was in all do parent start thats the say if you the gon the dont be fuck in the play you be and that it i got',\n",
       " 'I sleep the way i know now the lost the please off that it a too it to be if i just with the told thats the roc that shit the roc off that like a classin as this to me the alrow me if i was man i aint what i ',\n",
       " 'Green eggs and the clother was to get that to the forgation this get it time it light that who look that in the better off change when the prence you and i m chance to please be me the make the contal this like the ',\n",
       " 'Rollin in my contion the start and if i like a mack they dont get a be why it i want the because when i dont compont i was thats it i m go the right the back im and that i want a this i m this what shit the grab ',\n",
       " 'Drop top to me i play with the club it that straid i could to the back the runnin a chicta you cant like the rest off the say me the like day now it that it that i want the roc a like the chart that that the ',\n",
       " 'Math is funny they know that the come and a pothing if you do that the in that that the round i the raple i was good but off the hold you know i hat you come to me back to back this the do i m everybody be shit ',\n",
       " 'Sentences it all in when the parain to get that in the way the roc the still the money say i talk i act like a time i want in this that the pace the perfect to get to the chant off the like the posit i want th',\n",
       " 'Coffee in the plast the got that to go what i do it a to off the shit i know with a million a like that a paich they cant that i company are it the game a come that the look the please that say you still no that i',\n",
       " 'Table that my crack if off the she what to it think i want the criam a grands but i hat the chance that i need the classic and her the forgive the dont my girl the cant say i was so hit a couple to me the kids ',\n",
       " 'Homies the way the house i got when i tide that stand that and there on the chant say if the she get to the say that im man i got a know i want the least in the should chance im got a like something make th',\n",
       " 'From the streets and for that i that i want so you to me i love the could so compin the lobt the something to get the rippe recause the look i get cause the so me til you dont talk i m stars and the lows to so i talk',\n",
       " 'Maserating the still give get the runnin it and the like the classic get think that i look differer the like and get and the roc at like the class her to get to get to see they aint that the partion the talki',\n",
       " 'Air force one you know the start be i get cause you will get off she got that i get to get you cant rain a classic i got off that me make so i like off the real i get a dont want that me we want the dont clothin t',\n",
       " 'President til the for that now she cant real the whole it a classic tryin and in the real that back do that me that the homie the play i cant thats to get it to that you be out i got that me the sche bout shit',\n",
       " 'Trumpont to me i off that think the runnin nigga cant so me in the chocant the like that i talkin the criend the clive me and the crain me and we be to the do im ant the come a off the cant say when the gr']"
      ]
     },
     "execution_count": 61,
     "metadata": {},
     "output_type": "execute_result"
    }
   ],
   "source": [
    "prompts = ['I miss you girl come back ', 'To be or not to be: ', \"Started from the bottom\", \"I'm the realest rapper alive\",\n",
    "           \"Smoke a lot of weed\", \"Baby come\", 'Date a scientist', 'Butter my biscuit', 'Scramble my ', 'I sleep ',\n",
    "           'Green eggs and ', 'Rollin in my', 'Drop top', 'Math is fun', 'Sentences', 'Coffee in the', 'Table that',\n",
    "           'Homies', 'From the streets', 'Maserati', 'Air force one', 'President', 'Trump']\n",
    "\n",
    "kanye_rnn_verses = []\n",
    "\n",
    "for i in range(len(prompts)):\n",
    "    kanye_rnn_verses.append(evaluate(model, prompts[i], predict_len=200, temperature=0.5))\n",
    "    \n",
    "    \n",
    "kanye_rnn_verses"
   ]
  },
  {
   "cell_type": "code",
   "execution_count": 62,
   "metadata": {
    "ExecuteTime": {
     "end_time": "2018-08-24T02:05:31.295391Z",
     "start_time": "2018-08-24T02:05:31.291209Z"
    }
   },
   "outputs": [],
   "source": [
    "columns = ['generated_verses']\n",
    "\n",
    "kanye_generated_df = pd.DataFrame(kanye_rnn_verses, columns=columns)"
   ]
  },
  {
   "cell_type": "code",
   "execution_count": 65,
   "metadata": {
    "ExecuteTime": {
     "end_time": "2018-08-24T03:25:07.962215Z",
     "start_time": "2018-08-24T03:25:07.952749Z"
    }
   },
   "outputs": [
    {
     "data": {
      "text/html": [
       "<div>\n",
       "<style scoped>\n",
       "    .dataframe tbody tr th:only-of-type {\n",
       "        vertical-align: middle;\n",
       "    }\n",
       "\n",
       "    .dataframe tbody tr th {\n",
       "        vertical-align: top;\n",
       "    }\n",
       "\n",
       "    .dataframe thead th {\n",
       "        text-align: right;\n",
       "    }\n",
       "</style>\n",
       "<table border=\"1\" class=\"dataframe\">\n",
       "  <thead>\n",
       "    <tr style=\"text-align: right;\">\n",
       "      <th></th>\n",
       "      <th>generated_verses</th>\n",
       "      <th>artist</th>\n",
       "    </tr>\n",
       "  </thead>\n",
       "  <tbody>\n",
       "    <tr>\n",
       "      <th>0</th>\n",
       "      <td>I miss you girl come back that i to the wrock ...</td>\n",
       "      <td>Kanye West</td>\n",
       "    </tr>\n",
       "    <tr>\n",
       "      <th>1</th>\n",
       "      <td>To be or not to be: and to the class like off ...</td>\n",
       "      <td>Kanye West</td>\n",
       "    </tr>\n",
       "    <tr>\n",
       "      <th>2</th>\n",
       "      <td>Started from the bottom the round that you got...</td>\n",
       "      <td>Kanye West</td>\n",
       "    </tr>\n",
       "    <tr>\n",
       "      <th>3</th>\n",
       "      <td>I'm the realest rapper alive the be im the loo...</td>\n",
       "      <td>Kanye West</td>\n",
       "    </tr>\n",
       "    <tr>\n",
       "      <th>4</th>\n",
       "      <td>Smoke a lot of weed the be in the doubted that...</td>\n",
       "      <td>Kanye West</td>\n",
       "    </tr>\n",
       "    <tr>\n",
       "      <th>5</th>\n",
       "      <td>Baby come i got that that how you could me off...</td>\n",
       "      <td>Kanye West</td>\n",
       "    </tr>\n",
       "    <tr>\n",
       "      <th>6</th>\n",
       "      <td>Date a scientistant im go do i m screation we ...</td>\n",
       "      <td>Kanye West</td>\n",
       "    </tr>\n",
       "    <tr>\n",
       "      <th>7</th>\n",
       "      <td>Butter my biscuit me they want my stop i m day...</td>\n",
       "      <td>Kanye West</td>\n",
       "    </tr>\n",
       "    <tr>\n",
       "      <th>8</th>\n",
       "      <td>Scramble my cant off that that the bent i was ...</td>\n",
       "      <td>Kanye West</td>\n",
       "    </tr>\n",
       "    <tr>\n",
       "      <th>9</th>\n",
       "      <td>I sleep the way i know now the lost the please...</td>\n",
       "      <td>Kanye West</td>\n",
       "    </tr>\n",
       "    <tr>\n",
       "      <th>10</th>\n",
       "      <td>Green eggs and the clother was to get that to ...</td>\n",
       "      <td>Kanye West</td>\n",
       "    </tr>\n",
       "    <tr>\n",
       "      <th>11</th>\n",
       "      <td>Rollin in my contion the start and if i like a...</td>\n",
       "      <td>Kanye West</td>\n",
       "    </tr>\n",
       "    <tr>\n",
       "      <th>12</th>\n",
       "      <td>Drop top to me i play with the club it that st...</td>\n",
       "      <td>Kanye West</td>\n",
       "    </tr>\n",
       "    <tr>\n",
       "      <th>13</th>\n",
       "      <td>Math is funny they know that the come and a po...</td>\n",
       "      <td>Kanye West</td>\n",
       "    </tr>\n",
       "    <tr>\n",
       "      <th>14</th>\n",
       "      <td>Sentences it all in when the parain to get tha...</td>\n",
       "      <td>Kanye West</td>\n",
       "    </tr>\n",
       "    <tr>\n",
       "      <th>15</th>\n",
       "      <td>Coffee in the plast the got that to go what i ...</td>\n",
       "      <td>Kanye West</td>\n",
       "    </tr>\n",
       "    <tr>\n",
       "      <th>16</th>\n",
       "      <td>Table that my crack if off the she what to it ...</td>\n",
       "      <td>Kanye West</td>\n",
       "    </tr>\n",
       "    <tr>\n",
       "      <th>17</th>\n",
       "      <td>Homies the way the house i got when i tide tha...</td>\n",
       "      <td>Kanye West</td>\n",
       "    </tr>\n",
       "    <tr>\n",
       "      <th>18</th>\n",
       "      <td>From the streets and for that i that i want so...</td>\n",
       "      <td>Kanye West</td>\n",
       "    </tr>\n",
       "    <tr>\n",
       "      <th>19</th>\n",
       "      <td>Maserating the still give get the runnin it an...</td>\n",
       "      <td>Kanye West</td>\n",
       "    </tr>\n",
       "    <tr>\n",
       "      <th>20</th>\n",
       "      <td>Air force one you know the start be i get caus...</td>\n",
       "      <td>Kanye West</td>\n",
       "    </tr>\n",
       "    <tr>\n",
       "      <th>21</th>\n",
       "      <td>President til the for that now she cant real t...</td>\n",
       "      <td>Kanye West</td>\n",
       "    </tr>\n",
       "    <tr>\n",
       "      <th>22</th>\n",
       "      <td>Trumpont to me i off that think the runnin nig...</td>\n",
       "      <td>Kanye West</td>\n",
       "    </tr>\n",
       "  </tbody>\n",
       "</table>\n",
       "</div>"
      ],
      "text/plain": [
       "                                     generated_verses      artist\n",
       "0   I miss you girl come back that i to the wrock ...  Kanye West\n",
       "1   To be or not to be: and to the class like off ...  Kanye West\n",
       "2   Started from the bottom the round that you got...  Kanye West\n",
       "3   I'm the realest rapper alive the be im the loo...  Kanye West\n",
       "4   Smoke a lot of weed the be in the doubted that...  Kanye West\n",
       "5   Baby come i got that that how you could me off...  Kanye West\n",
       "6   Date a scientistant im go do i m screation we ...  Kanye West\n",
       "7   Butter my biscuit me they want my stop i m day...  Kanye West\n",
       "8   Scramble my cant off that that the bent i was ...  Kanye West\n",
       "9   I sleep the way i know now the lost the please...  Kanye West\n",
       "10  Green eggs and the clother was to get that to ...  Kanye West\n",
       "11  Rollin in my contion the start and if i like a...  Kanye West\n",
       "12  Drop top to me i play with the club it that st...  Kanye West\n",
       "13  Math is funny they know that the come and a po...  Kanye West\n",
       "14  Sentences it all in when the parain to get tha...  Kanye West\n",
       "15  Coffee in the plast the got that to go what i ...  Kanye West\n",
       "16  Table that my crack if off the she what to it ...  Kanye West\n",
       "17  Homies the way the house i got when i tide tha...  Kanye West\n",
       "18  From the streets and for that i that i want so...  Kanye West\n",
       "19  Maserating the still give get the runnin it an...  Kanye West\n",
       "20  Air force one you know the start be i get caus...  Kanye West\n",
       "21  President til the for that now she cant real t...  Kanye West\n",
       "22  Trumpont to me i off that think the runnin nig...  Kanye West"
      ]
     },
     "execution_count": 65,
     "metadata": {},
     "output_type": "execute_result"
    }
   ],
   "source": [
    "kanye_generated_df['artist'] = 'Kanye West'\n",
    "\n",
    "kanye_generated_df"
   ]
  },
  {
   "cell_type": "code",
   "execution_count": 66,
   "metadata": {
    "ExecuteTime": {
     "end_time": "2018-08-24T03:25:10.364753Z",
     "start_time": "2018-08-24T03:25:10.355786Z"
    }
   },
   "outputs": [],
   "source": [
    "with open('data/kanye_generated_raps.pkl', 'wb') as picklefile:\n",
    "    pickle.dump(kanye_generated_df, picklefile)"
   ]
  },
  {
   "cell_type": "code",
   "execution_count": null,
   "metadata": {},
   "outputs": [],
   "source": []
  }
 ],
 "metadata": {
  "kernelspec": {
   "display_name": "Python 3",
   "language": "python",
   "name": "python3"
  },
  "language_info": {
   "codemirror_mode": {
    "name": "ipython",
    "version": 3
   },
   "file_extension": ".py",
   "mimetype": "text/x-python",
   "name": "python",
   "nbconvert_exporter": "python",
   "pygments_lexer": "ipython3",
   "version": "3.6.6"
  },
  "varInspector": {
   "cols": {
    "lenName": 16,
    "lenType": 16,
    "lenVar": 40
   },
   "kernels_config": {
    "python": {
     "delete_cmd_postfix": "",
     "delete_cmd_prefix": "del ",
     "library": "var_list.py",
     "varRefreshCmd": "print(var_dic_list())"
    },
    "r": {
     "delete_cmd_postfix": ") ",
     "delete_cmd_prefix": "rm(",
     "library": "var_list.r",
     "varRefreshCmd": "cat(var_dic_list()) "
    }
   },
   "types_to_exclude": [
    "module",
    "function",
    "builtin_function_or_method",
    "instance",
    "_Feature"
   ],
   "window_display": false
  }
 },
 "nbformat": 4,
 "nbformat_minor": 2
}
