{
 "cells": [
  {
   "cell_type": "code",
   "execution_count": 1,
   "metadata": {
    "ExecuteTime": {
     "end_time": "2018-08-24T00:52:28.990771Z",
     "start_time": "2018-08-24T00:52:27.203044Z"
    }
   },
   "outputs": [
    {
     "name": "stderr",
     "output_type": "stream",
     "text": [
      "/Users/brendenrossin/anaconda3/lib/python3.6/site-packages/sklearn/cross_validation.py:41: DeprecationWarning: This module was deprecated in version 0.18 in favor of the model_selection module into which all the refactored classes and functions are moved. Also note that the interface of the new CV iterators are different from that of this module. This module will be removed in 0.20.\n",
      "  \"This module will be removed in 0.20.\", DeprecationWarning)\n"
     ]
    }
   ],
   "source": [
    "import pandas as pd\n",
    "import random\n",
    "from time import sleep\n",
    "import warnings\n",
    "warnings.filterwarnings(\"ignore\",category=DeprecationWarning)\n",
    "import numpy as np\n",
    "import nltk\n",
    "import os\n",
    "from sklearn import datasets\n",
    "import pickle\n",
    "from nltk.tokenize import word_tokenize\n",
    "from sklearn.decomposition import NMF, TruncatedSVD\n",
    "import matplotlib.pyplot as plt\n",
    "import seaborn as sns\n",
    "from sklearn.decomposition import LatentDirichletAllocation\n",
    "from sklearn.neighbors import NearestNeighbors\n",
    "from sklearn.cross_validation import train_test_split, cross_val_score\n",
    "from sklearn.linear_model import RidgeCV\n",
    "from sklearn.pipeline import make_pipeline, Pipeline\n",
    "from sklearn.preprocessing import PolynomialFeatures, StandardScaler\n",
    "from sklearn.neighbors import KNeighborsClassifier\n",
    "from sklearn.linear_model import LogisticRegression\n",
    "from sklearn.metrics import accuracy_score, recall_score, precision_score, f1_score, roc_auc_score, roc_curve, auc, fbeta_score\n",
    "from sklearn.model_selection import learning_curve, KFold, GridSearchCV, cross_val_score\n",
    "from sklearn.naive_bayes import GaussianNB, MultinomialNB\n",
    "from sklearn.svm import SVC\n",
    "from sklearn.tree import DecisionTreeClassifier\n",
    "from sklearn.ensemble import RandomForestClassifier, GradientBoostingClassifier\n",
    "from sklearn.dummy import DummyClassifier\n",
    "from collections import Counter\n",
    "from sklearn.feature_extraction.text import TfidfTransformer, CountVectorizer, TfidfVectorizer\n",
    "from sklearn.feature_extraction import text\n",
    "from sklearn.preprocessing import normalize\n",
    "import re\n",
    "from unidecode import unidecode\n",
    "\n",
    "import matplotlib.style as style\n",
    "%matplotlib inline\n",
    "plt.style.use('ggplot')"
   ]
  },
  {
   "cell_type": "code",
   "execution_count": 2,
   "metadata": {
    "ExecuteTime": {
     "end_time": "2018-08-24T00:52:29.014371Z",
     "start_time": "2018-08-24T00:52:28.992825Z"
    }
   },
   "outputs": [],
   "source": [
    "with open('data/cleaned_df.pkl', 'rb') as picklefile:\n",
    "    df = pickle.load(picklefile)"
   ]
  },
  {
   "cell_type": "code",
   "execution_count": 3,
   "metadata": {
    "ExecuteTime": {
     "end_time": "2018-08-24T00:52:29.089150Z",
     "start_time": "2018-08-24T00:52:29.016566Z"
    }
   },
   "outputs": [
    {
     "data": {
      "text/html": [
       "<div>\n",
       "<style scoped>\n",
       "    .dataframe tbody tr th:only-of-type {\n",
       "        vertical-align: middle;\n",
       "    }\n",
       "\n",
       "    .dataframe tbody tr th {\n",
       "        vertical-align: top;\n",
       "    }\n",
       "\n",
       "    .dataframe thead th {\n",
       "        text-align: right;\n",
       "    }\n",
       "</style>\n",
       "<table border=\"1\" class=\"dataframe\">\n",
       "  <thead>\n",
       "    <tr style=\"text-align: right;\">\n",
       "      <th></th>\n",
       "      <th>song_owner</th>\n",
       "      <th>song_title</th>\n",
       "      <th>song_element</th>\n",
       "      <th>verse</th>\n",
       "      <th>artist</th>\n",
       "    </tr>\n",
       "  </thead>\n",
       "  <tbody>\n",
       "    <tr>\n",
       "      <th>0</th>\n",
       "      <td>Childish Gambino</td>\n",
       "      <td>This Is America</td>\n",
       "      <td>[Bridge: Childish Gambino &amp; Young Thug]</td>\n",
       "      <td>We just wanna party, Party just for you, We ju...</td>\n",
       "      <td>Childish Gambino</td>\n",
       "    </tr>\n",
       "    <tr>\n",
       "      <th>1</th>\n",
       "      <td>Childish Gambino</td>\n",
       "      <td>This Is America</td>\n",
       "      <td>[Chorus: Childish Gambino]</td>\n",
       "      <td>This is America, Don't catch you slippin' now,...</td>\n",
       "      <td>Childish Gambino</td>\n",
       "    </tr>\n",
       "    <tr>\n",
       "      <th>2</th>\n",
       "      <td>Childish Gambino</td>\n",
       "      <td>This Is America</td>\n",
       "      <td>[Verse 1: Childish Gambino, Blocboy JB, Slim J...</td>\n",
       "      <td>This is America (skrrt, skrrt, woo), Don't cat...</td>\n",
       "      <td>Childish Gambino</td>\n",
       "    </tr>\n",
       "    <tr>\n",
       "      <th>3</th>\n",
       "      <td>Childish Gambino</td>\n",
       "      <td>This Is America</td>\n",
       "      <td>[Refrain: Choir &amp; Childish Gambino]</td>\n",
       "      <td>Ooh-ooh-ooh-ooh-ooh, tell somebody, You go tel...</td>\n",
       "      <td>Childish Gambino</td>\n",
       "    </tr>\n",
       "    <tr>\n",
       "      <th>4</th>\n",
       "      <td>Childish Gambino</td>\n",
       "      <td>This Is America</td>\n",
       "      <td>[Chorus: Childish Gambino, Slim Jxmmi &amp; Young ...</td>\n",
       "      <td>This is America (woo, ayy), Don't catch you sl...</td>\n",
       "      <td>Childish Gambino</td>\n",
       "    </tr>\n",
       "  </tbody>\n",
       "</table>\n",
       "</div>"
      ],
      "text/plain": [
       "         song_owner       song_title  \\\n",
       "0  Childish Gambino  This Is America   \n",
       "1  Childish Gambino  This Is America   \n",
       "2  Childish Gambino  This Is America   \n",
       "3  Childish Gambino  This Is America   \n",
       "4  Childish Gambino  This Is America   \n",
       "\n",
       "                                        song_element  \\\n",
       "0            [Bridge: Childish Gambino & Young Thug]   \n",
       "1                         [Chorus: Childish Gambino]   \n",
       "2  [Verse 1: Childish Gambino, Blocboy JB, Slim J...   \n",
       "3                [Refrain: Choir & Childish Gambino]   \n",
       "4  [Chorus: Childish Gambino, Slim Jxmmi & Young ...   \n",
       "\n",
       "                                               verse            artist  \n",
       "0  We just wanna party, Party just for you, We ju...  Childish Gambino  \n",
       "1  This is America, Don't catch you slippin' now,...  Childish Gambino  \n",
       "2  This is America (skrrt, skrrt, woo), Don't cat...  Childish Gambino  \n",
       "3  Ooh-ooh-ooh-ooh-ooh, tell somebody, You go tel...  Childish Gambino  \n",
       "4  This is America (woo, ayy), Don't catch you sl...  Childish Gambino  "
      ]
     },
     "execution_count": 3,
     "metadata": {},
     "output_type": "execute_result"
    }
   ],
   "source": [
    "df.head()"
   ]
  },
  {
   "cell_type": "code",
   "execution_count": 4,
   "metadata": {
    "ExecuteTime": {
     "end_time": "2018-08-24T00:52:29.097738Z",
     "start_time": "2018-08-24T00:52:29.091044Z"
    }
   },
   "outputs": [],
   "source": [
    "model_df = df.copy()\n",
    "\n",
    "model_df = model_df[model_df['artist'] == 'Kanye West']"
   ]
  },
  {
   "cell_type": "code",
   "execution_count": 5,
   "metadata": {
    "ExecuteTime": {
     "end_time": "2018-08-24T00:52:29.177923Z",
     "start_time": "2018-08-24T00:52:29.099953Z"
    }
   },
   "outputs": [],
   "source": [
    "model_df['verse_words'] = model_df['verse'].copy()\n",
    "model_df['verse_words'] = model_df['verse_words'].str.lower()\n",
    "model_df['verse_words'] = model_df['verse_words'].apply(lambda x: x.replace(',',''))\n",
    "model_df['verse_words'] = model_df['verse_words'].apply(lambda x: x.split(' '))"
   ]
  },
  {
   "cell_type": "code",
   "execution_count": 6,
   "metadata": {
    "ExecuteTime": {
     "end_time": "2018-08-24T00:52:29.199734Z",
     "start_time": "2018-08-24T00:52:29.180170Z"
    }
   },
   "outputs": [
    {
     "data": {
      "text/html": [
       "<div>\n",
       "<style scoped>\n",
       "    .dataframe tbody tr th:only-of-type {\n",
       "        vertical-align: middle;\n",
       "    }\n",
       "\n",
       "    .dataframe tbody tr th {\n",
       "        vertical-align: top;\n",
       "    }\n",
       "\n",
       "    .dataframe thead th {\n",
       "        text-align: right;\n",
       "    }\n",
       "</style>\n",
       "<table border=\"1\" class=\"dataframe\">\n",
       "  <thead>\n",
       "    <tr style=\"text-align: right;\">\n",
       "      <th></th>\n",
       "      <th>song_owner</th>\n",
       "      <th>song_title</th>\n",
       "      <th>song_element</th>\n",
       "      <th>verse</th>\n",
       "      <th>artist</th>\n",
       "      <th>verse_words</th>\n",
       "    </tr>\n",
       "  </thead>\n",
       "  <tbody>\n",
       "    <tr>\n",
       "      <th>913</th>\n",
       "      <td>Chance The Rapper</td>\n",
       "      <td>All We Got</td>\n",
       "      <td>[Outro: Kanye West &amp; Chicago Children's Choir]</td>\n",
       "      <td>We know, we know we got it, We know, we know w...</td>\n",
       "      <td>Kanye West</td>\n",
       "      <td>[we, know, we, know, we, got, it, we, know, we...</td>\n",
       "    </tr>\n",
       "    <tr>\n",
       "      <th>1281</th>\n",
       "      <td>Chance The Rapper</td>\n",
       "      <td>All We Got</td>\n",
       "      <td>[Outro: Kanye West &amp; Chicago Children's Choir]</td>\n",
       "      <td>We know, we know we got it, We know, we know w...</td>\n",
       "      <td>Kanye West</td>\n",
       "      <td>[we, know, we, know, we, got, it, we, know, we...</td>\n",
       "    </tr>\n",
       "    <tr>\n",
       "      <th>1746</th>\n",
       "      <td>Drake</td>\n",
       "      <td>Pop Style (Single Version)</td>\n",
       "      <td>[Verse 2: Kanye West]</td>\n",
       "      <td>They like, \"Pablo—\", \"Why are all the windows ...</td>\n",
       "      <td>Kanye West</td>\n",
       "      <td>[they, like, \"pablo—\", \"why, are, all, the, wi...</td>\n",
       "    </tr>\n",
       "    <tr>\n",
       "      <th>1931</th>\n",
       "      <td>Drake</td>\n",
       "      <td>Glow</td>\n",
       "      <td>[Chorus: Kanye West]</td>\n",
       "      <td>Watch out for me, I'm bound to glow, You bette...</td>\n",
       "      <td>Kanye West</td>\n",
       "      <td>[watch, out, for, me, i'm, bound, to, glow, yo...</td>\n",
       "    </tr>\n",
       "    <tr>\n",
       "      <th>1932</th>\n",
       "      <td>Drake</td>\n",
       "      <td>Glow</td>\n",
       "      <td>[Verse 1: Kanye West]</td>\n",
       "      <td>Your boy all glowed up, Every time we touch do...</td>\n",
       "      <td>Kanye West</td>\n",
       "      <td>[your, boy, all, glowed, up, every, time, we, ...</td>\n",
       "    </tr>\n",
       "  </tbody>\n",
       "</table>\n",
       "</div>"
      ],
      "text/plain": [
       "             song_owner                  song_title  \\\n",
       "913   Chance The Rapper                  All We Got   \n",
       "1281  Chance The Rapper                  All We Got   \n",
       "1746              Drake  Pop Style (Single Version)   \n",
       "1931              Drake                        Glow   \n",
       "1932              Drake                        Glow   \n",
       "\n",
       "                                        song_element  \\\n",
       "913   [Outro: Kanye West & Chicago Children's Choir]   \n",
       "1281  [Outro: Kanye West & Chicago Children's Choir]   \n",
       "1746                           [Verse 2: Kanye West]   \n",
       "1931                            [Chorus: Kanye West]   \n",
       "1932                           [Verse 1: Kanye West]   \n",
       "\n",
       "                                                  verse      artist  \\\n",
       "913   We know, we know we got it, We know, we know w...  Kanye West   \n",
       "1281  We know, we know we got it, We know, we know w...  Kanye West   \n",
       "1746  They like, \"Pablo—\", \"Why are all the windows ...  Kanye West   \n",
       "1931  Watch out for me, I'm bound to glow, You bette...  Kanye West   \n",
       "1932  Your boy all glowed up, Every time we touch do...  Kanye West   \n",
       "\n",
       "                                            verse_words  \n",
       "913   [we, know, we, know, we, got, it, we, know, we...  \n",
       "1281  [we, know, we, know, we, got, it, we, know, we...  \n",
       "1746  [they, like, \"pablo—\", \"why, are, all, the, wi...  \n",
       "1931  [watch, out, for, me, i'm, bound, to, glow, yo...  \n",
       "1932  [your, boy, all, glowed, up, every, time, we, ...  "
      ]
     },
     "execution_count": 6,
     "metadata": {},
     "output_type": "execute_result"
    }
   ],
   "source": [
    "model_df.head()"
   ]
  },
  {
   "cell_type": "code",
   "execution_count": 7,
   "metadata": {
    "ExecuteTime": {
     "end_time": "2018-08-24T00:52:30.024860Z",
     "start_time": "2018-08-24T00:52:29.202111Z"
    }
   },
   "outputs": [],
   "source": [
    "from nltk.tokenize import word_tokenize\n",
    "model_df['tokenize_verse'] = model_df['verse'].copy()\n",
    "model_df['tokenize_verse'] = model_df['tokenize_verse'].str.lower()\n",
    "model_df['tokenize_verse'] = model_df['tokenize_verse'].apply(lambda x: word_tokenize(x))"
   ]
  },
  {
   "cell_type": "code",
   "execution_count": 8,
   "metadata": {
    "ExecuteTime": {
     "end_time": "2018-08-24T00:52:30.129053Z",
     "start_time": "2018-08-24T00:52:30.026908Z"
    }
   },
   "outputs": [],
   "source": [
    "model_df['verse'] = model_df['verse'].str.lower()\n",
    "model_df['verse'] = model_df['verse'].apply(lambda x: x.replace(\"'\",''))\n",
    "model_df['verse'] = model_df['verse'].apply(lambda x: \"\".join([c if c.isalnum() else \" \" for c in x ]))\n",
    "model_df['verse'] = model_df['verse'].apply(lambda x: x.replace('  ',' '))"
   ]
  },
  {
   "cell_type": "code",
   "execution_count": 9,
   "metadata": {
    "ExecuteTime": {
     "end_time": "2018-08-24T00:52:30.399595Z",
     "start_time": "2018-08-24T00:52:30.130987Z"
    }
   },
   "outputs": [
    {
     "data": {
      "text/plain": [
       "913     we know we know we got it we know we know we g...\n",
       "1281    we know we know we got it we know we know we g...\n",
       "1746    they like pablo why are all the windows tinted...\n",
       "1931    watch out for me im bound to glow you better w...\n",
       "1932    your boy all glowed up every time we touch dow...\n",
       "Name: verse, dtype: object"
      ]
     },
     "execution_count": 9,
     "metadata": {},
     "output_type": "execute_result"
    }
   ],
   "source": [
    "stopwords = [\"yeah\", \"uh\", \"huh\", \"aw\", \"oh\", \"la\", \"ayy\",\n",
    "            \"na\", \"ha\", \"ay\", \"skrrt\",\n",
    "            \"em\", \"bla\", \"woo\", \"wu\", \"ya\", \"wala\", \"woop\", \"wrarrr\", \"ooh\",\n",
    "            \"ba\", \"duh\", \"du\", \"1\", \"2\", \"3\", \"4\" ,\"5\" ,\"6\", \"7\", \"8\", \"9\", \"0\"]\n",
    "\n",
    "for index, row in model_df.iterrows():\n",
    "    querywords = row['verse'].split()\n",
    "\n",
    "    resultwords  = [word for word in querywords if word.lower() not in stopwords]\n",
    "    row['verse'] = ' '.join(resultwords)\n",
    "\n",
    "model_df.verse[:5]"
   ]
  },
  {
   "cell_type": "code",
   "execution_count": 10,
   "metadata": {
    "ExecuteTime": {
     "end_time": "2018-08-24T00:52:30.404132Z",
     "start_time": "2018-08-24T00:52:30.401358Z"
    }
   },
   "outputs": [],
   "source": [
    "verses = list(model_df.verse.values)"
   ]
  },
  {
   "cell_type": "code",
   "execution_count": 11,
   "metadata": {
    "ExecuteTime": {
     "end_time": "2018-08-24T00:52:30.413015Z",
     "start_time": "2018-08-24T00:52:30.405977Z"
    }
   },
   "outputs": [
    {
     "data": {
      "text/plain": [
       "['we know we know we got it we know we know we got it we know we know we got it we know we know we got it music we know we know we got it we know we know we got it we know we know we got it we know we know we got it music music is all we got',\n",
       " 'we know we know we got it we know we know we got it we know we know we got it we know we know we got it music we know we know we got it we know we know we got it we know we know we got it we know we know we got it music music is all we got',\n",
       " 'they like pablo why are all the windows tinted on your tahoe why do you know every single bitch that i know why cant you just shut your mouth and take the high road fuck if i know thats that chicago south south side thats the motto cop a crib and spend ten million on remodel take the devils out my life and preach the gospel cause i know we went way way past the line of scrimmage throne is back up in it in the field like emmitt yall get so offended i be blacking out i aint backing out jay about his business and ima let you finish but i i just i just i just i just wanna rock your body take you to the garage and do some karate chop it chop it chop it chop it sipping sake throw a thick bitch on a kawasaki perfect',\n",
       " 'watch out for me im bound to glow you better watch out for me im bound to glow',\n",
       " 'your boy all glowed up every time we touch down bet it go up member doin shows aint nobody show up pour your heart out aint nobody show love they used to laugh when my whip was on the tow truck til me and bein broke finally broke up',\n",
       " 'time to shake the dice time to change the li i ight no more to autopilot dri i ive used to work the fries now we supersi i ize we go suit and tie we gon touch the sky y y we so certified we so certifi i ied fuck you haters still thats an f y i i i they gon bang this here all summerti i ime',\n",
       " 'turn me way up my voice is really low okay',\n",
       " 'we about to get the whole nine the whole nine we just landed on a gold mine we the new abu dhabi this is our time',\n",
       " 'hope i deal with karma fore my son do cause i be drivin round this bih with no sunroof man the glow got me feelin like im gunproof',\n",
       " 'watch out for me im bound to glow']"
      ]
     },
     "execution_count": 11,
     "metadata": {},
     "output_type": "execute_result"
    }
   ],
   "source": [
    "verses[:10]"
   ]
  },
  {
   "cell_type": "code",
   "execution_count": 12,
   "metadata": {
    "ExecuteTime": {
     "end_time": "2018-08-24T00:52:30.419636Z",
     "start_time": "2018-08-24T00:52:30.415231Z"
    }
   },
   "outputs": [
    {
     "data": {
      "text/plain": [
       "'we know we know we got it we know we know we got it we know we know we got it we know we know we got'"
      ]
     },
     "execution_count": 12,
     "metadata": {},
     "output_type": "execute_result"
    }
   ],
   "source": [
    "all_verses_all_rappers = ','.join(verses)\n",
    "\n",
    "all_verses_all_rappers[:100]"
   ]
  },
  {
   "cell_type": "code",
   "execution_count": 13,
   "metadata": {
    "ExecuteTime": {
     "end_time": "2018-08-24T00:52:30.423853Z",
     "start_time": "2018-08-24T00:52:30.421588Z"
    }
   },
   "outputs": [],
   "source": [
    "file = all_verses_all_rappers"
   ]
  },
  {
   "cell_type": "code",
   "execution_count": 14,
   "metadata": {
    "ExecuteTime": {
     "end_time": "2018-08-24T00:52:30.430974Z",
     "start_time": "2018-08-24T00:52:30.426156Z"
    }
   },
   "outputs": [
    {
     "name": "stdout",
     "output_type": "stream",
     "text": [
      "file_len = 692640\n"
     ]
    }
   ],
   "source": [
    "# Read in text and change unicode characters to ASCII\n",
    "import unidecode\n",
    "import string\n",
    "import random\n",
    "import re\n",
    "\n",
    "all_characters = string.printable\n",
    "n_characters = len(all_characters)\n",
    "\n",
    "file_len = len(file)\n",
    "print(f'file_len = {file_len}')"
   ]
  },
  {
   "cell_type": "code",
   "execution_count": 15,
   "metadata": {
    "ExecuteTime": {
     "end_time": "2018-08-24T00:52:30.437627Z",
     "start_time": "2018-08-24T00:52:30.433113Z"
    }
   },
   "outputs": [
    {
     "name": "stdout",
     "output_type": "stream",
     "text": [
      " name i know the game i know the game and i don t wanna hear all those excuses they all the same we should both be ashamed cause we know the game,i never go soft i always go raw like im tryna have six kids pablo love the kids pablo love his bitch pablo loved his mom i jus,she under the influence keep doin what you been doin keep doin what you been doin keep doin what you been doin she under the inf\n"
     ]
    }
   ],
   "source": [
    "chunk_len = 400\n",
    "\n",
    "def random_chunk():\n",
    "    start_index = random.randint(0, file_len - chunk_len)\n",
    "    end_index = start_index + chunk_len + 1\n",
    "    return file[start_index:end_index]\n",
    "\n",
    "print(random_chunk())"
   ]
  },
  {
   "cell_type": "code",
   "execution_count": 16,
   "metadata": {
    "ExecuteTime": {
     "end_time": "2018-08-24T00:52:30.696298Z",
     "start_time": "2018-08-24T00:52:30.439871Z"
    }
   },
   "outputs": [],
   "source": [
    "import torch\n",
    "import torch.nn as nn\n",
    "from torch.autograd import Variable\n",
    "import torch.nn.functional as F\n",
    "\n",
    "class RNN(nn.Module):\n",
    "    def __init__(self, input_size, hidden_size, output_size, n_layers=1):\n",
    "        super(RNN, self).__init__()\n",
    "        self.input_size = input_size\n",
    "        self.hidden_size = hidden_size\n",
    "        self.output_size = output_size\n",
    "        self.n_layers = n_layers\n",
    "        \n",
    "        self.encoder = nn.Embedding(input_size, hidden_size)\n",
    "        self.gru = nn.GRU(hidden_size, hidden_size, n_layers)\n",
    "        self.decoder = nn.Linear(hidden_size, output_size)\n",
    "        \n",
    "    def forward(self, input, hidden):\n",
    "        output = self.encoder(input.view(1, -1))\n",
    "        output, hidden = self.gru(output.view(1, 1, -1), hidden)\n",
    "        output = self.decoder(output.view(1, -1))\n",
    "        \n",
    "        return output, hidden\n",
    "    \n",
    "    def init_hidden(self):\n",
    "        return Variable(torch.randn(self.n_layers, 1, self.hidden_size))"
   ]
  },
  {
   "cell_type": "code",
   "execution_count": 17,
   "metadata": {
    "ExecuteTime": {
     "end_time": "2018-08-24T00:52:30.705636Z",
     "start_time": "2018-08-24T00:52:30.698658Z"
    }
   },
   "outputs": [
    {
     "name": "stdout",
     "output_type": "stream",
     "text": [
      "tensor([48, 14, 29, 18, 28,  0,  1,  2,  3, 10, 11, 12, 35, 36, 37, 38])\n"
     ]
    }
   ],
   "source": [
    "def char2tensor(string):\n",
    "    tensor = torch.zeros(len(string)).long()\n",
    "    for char in range(len(string)):\n",
    "        if string[char] in all_characters:\n",
    "            tensor[char] = all_characters.index(string[char])\n",
    "        else:\n",
    "            tensor[char] = 94 #predict space if character unknown\n",
    "        \n",
    "    return Variable(tensor)\n",
    "\n",
    "# Let's see it in action.\n",
    "print(char2tensor('Metis0123abczABC'))"
   ]
  },
  {
   "cell_type": "code",
   "execution_count": 18,
   "metadata": {
    "ExecuteTime": {
     "end_time": "2018-08-24T00:52:30.710621Z",
     "start_time": "2018-08-24T00:52:30.707427Z"
    }
   },
   "outputs": [],
   "source": [
    "def random_training_set():\n",
    "    chunk = random_chunk()\n",
    "    inp = char2tensor(chunk[:-1])\n",
    "    target = char2tensor(chunk[1:])\n",
    "    return inp, target"
   ]
  },
  {
   "cell_type": "code",
   "execution_count": 19,
   "metadata": {
    "ExecuteTime": {
     "end_time": "2018-08-24T00:52:30.723648Z",
     "start_time": "2018-08-24T00:52:30.712494Z"
    }
   },
   "outputs": [],
   "source": [
    "def evaluate(model, prime_str='A', predict_len=100, temperature=0.8):\n",
    "    \n",
    "    hidden = model.init_hidden()\n",
    "    prime_input = char2tensor(prime_str)\n",
    "    predicted = prime_str\n",
    "    \n",
    "    # use priming string to build up hidden state\n",
    "    \n",
    "    for p in range(len(prime_str) - 1):\n",
    "        _, hidden = model(prime_input[p], hidden)\n",
    "    inp = prime_input[-1]\n",
    "    \n",
    "    for p in range(predict_len):\n",
    "        output, hidden = model(inp, hidden)\n",
    "        \n",
    "        # Sample from the network as a multinomial distribution\n",
    "        output_dist = output.data.view(-1).div(temperature).exp()\n",
    "        top_i = torch.multinomial(output_dist, 1)[0]\n",
    "        \n",
    "        # Add predicted character to string and use as next input\n",
    "        predicted_char = all_characters[top_i]\n",
    "        predicted += predicted_char\n",
    "        inp = char2tensor(predicted_char)\n",
    "        \n",
    "    return predicted"
   ]
  },
  {
   "cell_type": "code",
   "execution_count": 20,
   "metadata": {
    "ExecuteTime": {
     "end_time": "2018-08-24T00:52:30.728782Z",
     "start_time": "2018-08-24T00:52:30.725479Z"
    }
   },
   "outputs": [],
   "source": [
    "# helper function\n",
    "import time, math\n",
    "\n",
    "def time_since(since):\n",
    "    s = time.time() - since\n",
    "    m = math.floor(s/60)\n",
    "    s -= m*60\n",
    "    return '%dm %ds' % (m, s)"
   ]
  },
  {
   "cell_type": "code",
   "execution_count": 21,
   "metadata": {
    "ExecuteTime": {
     "end_time": "2018-08-24T00:52:30.736272Z",
     "start_time": "2018-08-24T00:52:30.730599Z"
    }
   },
   "outputs": [],
   "source": [
    "# The actual training part\n",
    "def train(inp, target):\n",
    "    hidden = model.init_hidden()\n",
    "    model.zero_grad()\n",
    "    loss = 0\n",
    "\n",
    "    for char in range(chunk_len):\n",
    "        output, hidden = model(inp[char], hidden)\n",
    "        loss += criterion(output, target[char].unsqueeze(0))\n",
    "\n",
    "    loss.backward()\n",
    "    model_optimizer.step()\n",
    "\n",
    "    return loss.data.item() / chunk_len"
   ]
  },
  {
   "cell_type": "code",
   "execution_count": 22,
   "metadata": {
    "ExecuteTime": {
     "end_time": "2018-08-24T01:04:30.828775Z",
     "start_time": "2018-08-24T00:52:30.738090Z"
    }
   },
   "outputs": [
    {
     "name": "stdout",
     "output_type": "stream",
     "text": [
      "[1m 10s (100 10%) 2.1458]\n",
      "A the a site men gee it is fot your go dong set so dond to mse ow an ang amy you gowk a ok thle is bor \n",
      "\n",
      "[2m 24s (200 20%) 1.8109]\n",
      "A con like man the the wand the buta a ica mome at the you ligas stit olid you ryeen when sthe risis t \n",
      "\n",
      "[3m 38s (300 30%) 1.7677]\n",
      "A mack exep i had the remive cant go see me rundiy the way on the toblie me me im the you got the umli \n",
      "\n",
      "[4m 54s (400 40%) 1.6278]\n",
      "A i ill that mare gveres over the uses drout the bout will this and be houcking say is back whater you \n",
      "\n",
      "[6m 14s (500 50%) 1.7056]\n",
      "A why im as what that beat so ive nigga i krold thin int really in the ride and im i its i dont can he \n",
      "\n",
      "[7m 31s (600 60%) 1.5662]\n",
      "A the so at got man i see my compave tell releas and brout just on i got day like tije what want you k \n",
      "\n",
      "[8m 44s (700 70%) 1.7960]\n",
      "A times you she kids her micher at the modinfer thiss thies suple to to pool doum me the be all im got \n",
      "\n",
      "[9m 51s (800 80%) 1.6438]\n",
      "A ice amens on more off me this say this the pain to me in t get that bitgo bought,no kanyes stop i be \n",
      "\n",
      "[10m 54s (900 90%) 1.7563]\n",
      "A ned we sae but it to the fight i feel in the guess make everydander you wontiend somes yound really  \n",
      "\n",
      "[12m 0s (1000 100%) 1.6095]\n",
      "A i stand the blothic shit go the tout flacah it all a say im get is i wait up i contry want take time \n",
      "\n"
     ]
    }
   ],
   "source": [
    "# parameters\n",
    "n_epochs = 1000\n",
    "print_every = 100\n",
    "plot_every = 10\n",
    "hidden_size = 256\n",
    "n_layers = 2\n",
    "learning_rate = 0.001\n",
    "\n",
    "# model declaration\n",
    "model = RNN(n_characters, hidden_size, n_characters, n_layers)\n",
    "model_optimizer = torch.optim.Adam(model.parameters(), lr=learning_rate)\n",
    "criterion = nn.CrossEntropyLoss()\n",
    "\n",
    "start = time.time()\n",
    "all_losses = []\n",
    "loss_avg = 0\n",
    "\n",
    "for epoch in range(1, n_epochs + 1):\n",
    "    loss = train(*random_training_set())       \n",
    "    loss_avg += loss\n",
    "\n",
    "    if epoch % print_every == 0:\n",
    "        print('[%s (%d %d%%) %.4f]' % (time_since(start), epoch, epoch / n_epochs * 100, loss))\n",
    "        print(evaluate(model, 'A ', 100), '\\n')\n",
    "\n",
    "    if epoch % plot_every == 0:\n",
    "        all_losses.append(loss_avg / plot_every)\n",
    "        loss_avg = 0"
   ]
  },
  {
   "cell_type": "code",
   "execution_count": 23,
   "metadata": {
    "ExecuteTime": {
     "end_time": "2018-08-24T01:04:30.965376Z",
     "start_time": "2018-08-24T01:04:30.830864Z"
    }
   },
   "outputs": [
    {
     "data": {
      "text/plain": [
       "[<matplotlib.lines.Line2D at 0x1a20f8bf98>]"
      ]
     },
     "execution_count": 23,
     "metadata": {},
     "output_type": "execute_result"
    },
    {
     "data": {
      "image/png": "[encoded data removed]",
      "text/plain": [
       "<Figure size 432x288 with 1 Axes>"
      ]
     },
     "metadata": {},
     "output_type": "display_data"
    }
   ],
   "source": [
    "import matplotlib.pyplot as plt\n",
    "import matplotlib.ticker as ticker\n",
    "%matplotlib inline\n",
    "\n",
    "plt.figure()\n",
    "plt.plot(all_losses)"
   ]
  },
  {
   "cell_type": "code",
   "execution_count": 24,
   "metadata": {
    "ExecuteTime": {
     "end_time": "2018-08-24T01:04:30.984052Z",
     "start_time": "2018-08-24T01:04:30.967551Z"
    }
   },
   "outputs": [],
   "source": [
    "with open('models/kanye_rnn_generator.pkl', 'wb') as picklefile:\n",
    "    pickle.dump(model, picklefile)"
   ]
  },
  {
   "cell_type": "code",
   "execution_count": 25,
   "metadata": {
    "ExecuteTime": {
     "end_time": "2018-08-24T01:04:31.109753Z",
     "start_time": "2018-08-24T01:04:30.986074Z"
    }
   },
   "outputs": [
    {
     "name": "stdout",
     "output_type": "stream",
     "text": [
      "To be or not to be: a part the pict all a best the but the promin with the like and the runnin the fight i all the way and to get a ticked to the like the real the coutt the whole girl that the trine the the right cant i\n"
     ]
    }
   ],
   "source": [
    "# Evaluate model from this notebook\n",
    "print(evaluate(model, 'To be or not to be: ', predict_len=200, temperature=0.5))"
   ]
  },
  {
   "cell_type": "code",
   "execution_count": 26,
   "metadata": {
    "ExecuteTime": {
     "end_time": "2018-08-24T01:04:31.253292Z",
     "start_time": "2018-08-24T01:04:31.112097Z"
    }
   },
   "outputs": [
    {
     "name": "stdout",
     "output_type": "stream",
     "text": [
      "I miss you girl come back that no i get me off my in the crack i got the reming i do more i m me the clus i got the rack i was to what me that i got the crack when it that it that in that i want the money that when the man the\n"
     ]
    }
   ],
   "source": [
    "# Evaluate model from this notebook\n",
    "print(evaluate(model, 'I miss you girl come back ', predict_len=200, temperature=0.5))"
   ]
  },
  {
   "cell_type": "code",
   "execution_count": 27,
   "metadata": {
    "ExecuteTime": {
     "end_time": "2018-08-24T01:04:31.386183Z",
     "start_time": "2018-08-24T01:04:31.255566Z"
    }
   },
   "outputs": [
    {
     "name": "stdout",
     "output_type": "stream",
     "text": [
      "Started from the bottom the recause to me i know it my could off the dont to make that the face the like the company what you got a compan the man the chance the fan that it in the real the ord that that i get so him off th\n"
     ]
    }
   ],
   "source": [
    "# Evaluate model from this notebook\n",
    "print(evaluate(model, \"Started from the bottom\", predict_len=200, temperature=0.4))"
   ]
  },
  {
   "cell_type": "code",
   "execution_count": 28,
   "metadata": {
    "ExecuteTime": {
     "end_time": "2018-08-24T01:04:31.505948Z",
     "start_time": "2018-08-24T01:04:31.388182Z"
    }
   },
   "outputs": [
    {
     "name": "stdout",
     "output_type": "stream",
     "text": [
      "I'm the realest rapper alive that i want the channa like the compan you to get a here the rap roc that in the come that i want the race and she can this the rait this her cant right the cray i want the dont not hard a beat the c\n"
     ]
    }
   ],
   "source": [
    "# Evaluate model from this notebook\n",
    "print(evaluate(model, \"I'm the realest rapper alive\", predict_len=200, temperature=0.4))"
   ]
  },
  {
   "cell_type": "code",
   "execution_count": 29,
   "metadata": {
    "ExecuteTime": {
     "end_time": "2018-08-24T01:04:31.624869Z",
     "start_time": "2018-08-24T01:04:31.507708Z"
    }
   },
   "outputs": [
    {
     "name": "stdout",
     "output_type": "stream",
     "text": [
      "Smoke a lot of weed to the roc a off the contion the chance the said that the race i all that the cray nigga that i want a fine she down that to the classin with the part the chance the race the should off the chance sh\n"
     ]
    }
   ],
   "source": [
    "# Evaluate model from this notebook\n",
    "print(evaluate(model, \"Smoke a lot of weed\", predict_len=200, temperature=0.4))"
   ]
  },
  {
   "cell_type": "code",
   "execution_count": 30,
   "metadata": {
    "ExecuteTime": {
     "end_time": "2018-08-24T01:04:31.749538Z",
     "start_time": "2018-08-24T01:04:31.626684Z"
    }
   },
   "outputs": [
    {
     "name": "stdout",
     "output_type": "stream",
     "text": [
      "Baby come the still like the something im something something me gon to get off you to her the stop that i want the said that i was i say what the ordiat the start they cant to say with off you that that the w\n"
     ]
    }
   ],
   "source": [
    "# Evaluate model from this notebook\n",
    "print(evaluate(model, \"Baby come\", predict_len=200, temperature=0.4))"
   ]
  },
  {
   "cell_type": "code",
   "execution_count": null,
   "metadata": {},
   "outputs": [],
   "source": []
  }
 ],
 "metadata": {
  "kernelspec": {
   "display_name": "Python 3",
   "language": "python",
   "name": "python3"
  },
  "language_info": {
   "codemirror_mode": {
    "name": "ipython",
    "version": 3
   },
   "file_extension": ".py",
   "mimetype": "text/x-python",
   "name": "python",
   "nbconvert_exporter": "python",
   "pygments_lexer": "ipython3",
   "version": "3.6.6"
  },
  "varInspector": {
   "cols": {
    "lenName": 16,
    "lenType": 16,
    "lenVar": 40
   },
   "kernels_config": {
    "python": {
     "delete_cmd_postfix": "",
     "delete_cmd_prefix": "del ",
     "library": "var_list.py",
     "varRefreshCmd": "print(var_dic_list())"
    },
    "r": {
     "delete_cmd_postfix": ") ",
     "delete_cmd_prefix": "rm(",
     "library": "var_list.r",
     "varRefreshCmd": "cat(var_dic_list()) "
    }
   },
   "types_to_exclude": [
    "module",
    "function",
    "builtin_function_or_method",
    "instance",
    "_Feature"
   ],
   "window_display": false
  }
 },
 "nbformat": 4,
 "nbformat_minor": 2
}
