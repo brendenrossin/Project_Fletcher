{
 "cells": [
  {
   "cell_type": "code",
   "execution_count": 31,
   "metadata": {
    "ExecuteTime": {
     "end_time": "2018-08-24T01:50:30.521903Z",
     "start_time": "2018-08-24T01:50:30.493681Z"
    }
   },
   "outputs": [],
   "source": [
    "import pandas as pd\n",
    "import random\n",
    "from time import sleep\n",
    "import warnings\n",
    "warnings.filterwarnings(\"ignore\",category=DeprecationWarning)\n",
    "import numpy as np\n",
    "import nltk\n",
    "import os\n",
    "from sklearn import datasets\n",
    "import pickle\n",
    "from nltk.tokenize import word_tokenize\n",
    "from sklearn.decomposition import NMF, TruncatedSVD\n",
    "import matplotlib.pyplot as plt\n",
    "import seaborn as sns\n",
    "from sklearn.decomposition import LatentDirichletAllocation\n",
    "from sklearn.neighbors import NearestNeighbors\n",
    "from sklearn.cross_validation import train_test_split, cross_val_score\n",
    "from sklearn.linear_model import RidgeCV\n",
    "from sklearn.pipeline import make_pipeline, Pipeline\n",
    "from sklearn.preprocessing import PolynomialFeatures, StandardScaler\n",
    "from sklearn.neighbors import KNeighborsClassifier\n",
    "from sklearn.linear_model import LogisticRegression\n",
    "from sklearn.metrics import accuracy_score, recall_score, precision_score, f1_score, roc_auc_score, roc_curve, auc, fbeta_score\n",
    "from sklearn.model_selection import learning_curve, KFold, GridSearchCV, cross_val_score\n",
    "from sklearn.naive_bayes import GaussianNB, MultinomialNB\n",
    "from sklearn.svm import SVC\n",
    "from sklearn.tree import DecisionTreeClassifier\n",
    "from sklearn.ensemble import RandomForestClassifier, GradientBoostingClassifier\n",
    "from sklearn.dummy import DummyClassifier\n",
    "from collections import Counter\n",
    "from sklearn.feature_extraction.text import TfidfTransformer, CountVectorizer, TfidfVectorizer\n",
    "from sklearn.feature_extraction import text\n",
    "from sklearn.preprocessing import normalize\n",
    "import re\n",
    "from unidecode import unidecode\n",
    "\n",
    "import matplotlib.style as style\n",
    "%matplotlib inline\n",
    "plt.style.use('ggplot')"
   ]
  },
  {
   "cell_type": "code",
   "execution_count": 32,
   "metadata": {
    "ExecuteTime": {
     "end_time": "2018-08-24T01:50:30.539819Z",
     "start_time": "2018-08-24T01:50:30.523823Z"
    }
   },
   "outputs": [],
   "source": [
    "with open('data/cleaned_df.pkl', 'rb') as picklefile:\n",
    "    df = pickle.load(picklefile)"
   ]
  },
  {
   "cell_type": "code",
   "execution_count": 33,
   "metadata": {
    "ExecuteTime": {
     "end_time": "2018-08-24T01:50:30.553512Z",
     "start_time": "2018-08-24T01:50:30.541917Z"
    }
   },
   "outputs": [
    {
     "data": {
      "text/html": [
       "<div>\n",
       "<style scoped>\n",
       "    .dataframe tbody tr th:only-of-type {\n",
       "        vertical-align: middle;\n",
       "    }\n",
       "\n",
       "    .dataframe tbody tr th {\n",
       "        vertical-align: top;\n",
       "    }\n",
       "\n",
       "    .dataframe thead th {\n",
       "        text-align: right;\n",
       "    }\n",
       "</style>\n",
       "<table border=\"1\" class=\"dataframe\">\n",
       "  <thead>\n",
       "    <tr style=\"text-align: right;\">\n",
       "      <th></th>\n",
       "      <th>song_owner</th>\n",
       "      <th>song_title</th>\n",
       "      <th>song_element</th>\n",
       "      <th>verse</th>\n",
       "      <th>artist</th>\n",
       "    </tr>\n",
       "  </thead>\n",
       "  <tbody>\n",
       "    <tr>\n",
       "      <th>0</th>\n",
       "      <td>Childish Gambino</td>\n",
       "      <td>This Is America</td>\n",
       "      <td>[Bridge: Childish Gambino &amp; Young Thug]</td>\n",
       "      <td>We just wanna party, Party just for you, We ju...</td>\n",
       "      <td>Childish Gambino</td>\n",
       "    </tr>\n",
       "    <tr>\n",
       "      <th>1</th>\n",
       "      <td>Childish Gambino</td>\n",
       "      <td>This Is America</td>\n",
       "      <td>[Chorus: Childish Gambino]</td>\n",
       "      <td>This is America, Don't catch you slippin' now,...</td>\n",
       "      <td>Childish Gambino</td>\n",
       "    </tr>\n",
       "    <tr>\n",
       "      <th>2</th>\n",
       "      <td>Childish Gambino</td>\n",
       "      <td>This Is America</td>\n",
       "      <td>[Verse 1: Childish Gambino, Blocboy JB, Slim J...</td>\n",
       "      <td>This is America (skrrt, skrrt, woo), Don't cat...</td>\n",
       "      <td>Childish Gambino</td>\n",
       "    </tr>\n",
       "    <tr>\n",
       "      <th>3</th>\n",
       "      <td>Childish Gambino</td>\n",
       "      <td>This Is America</td>\n",
       "      <td>[Refrain: Choir &amp; Childish Gambino]</td>\n",
       "      <td>Ooh-ooh-ooh-ooh-ooh, tell somebody, You go tel...</td>\n",
       "      <td>Childish Gambino</td>\n",
       "    </tr>\n",
       "    <tr>\n",
       "      <th>4</th>\n",
       "      <td>Childish Gambino</td>\n",
       "      <td>This Is America</td>\n",
       "      <td>[Chorus: Childish Gambino, Slim Jxmmi &amp; Young ...</td>\n",
       "      <td>This is America (woo, ayy), Don't catch you sl...</td>\n",
       "      <td>Childish Gambino</td>\n",
       "    </tr>\n",
       "  </tbody>\n",
       "</table>\n",
       "</div>"
      ],
      "text/plain": [
       "         song_owner       song_title  \\\n",
       "0  Childish Gambino  This Is America   \n",
       "1  Childish Gambino  This Is America   \n",
       "2  Childish Gambino  This Is America   \n",
       "3  Childish Gambino  This Is America   \n",
       "4  Childish Gambino  This Is America   \n",
       "\n",
       "                                        song_element  \\\n",
       "0            [Bridge: Childish Gambino & Young Thug]   \n",
       "1                         [Chorus: Childish Gambino]   \n",
       "2  [Verse 1: Childish Gambino, Blocboy JB, Slim J...   \n",
       "3                [Refrain: Choir & Childish Gambino]   \n",
       "4  [Chorus: Childish Gambino, Slim Jxmmi & Young ...   \n",
       "\n",
       "                                               verse            artist  \n",
       "0  We just wanna party, Party just for you, We ju...  Childish Gambino  \n",
       "1  This is America, Don't catch you slippin' now,...  Childish Gambino  \n",
       "2  This is America (skrrt, skrrt, woo), Don't cat...  Childish Gambino  \n",
       "3  Ooh-ooh-ooh-ooh-ooh, tell somebody, You go tel...  Childish Gambino  \n",
       "4  This is America (woo, ayy), Don't catch you sl...  Childish Gambino  "
      ]
     },
     "execution_count": 33,
     "metadata": {},
     "output_type": "execute_result"
    }
   ],
   "source": [
    "df.head()"
   ]
  },
  {
   "cell_type": "code",
   "execution_count": 34,
   "metadata": {
    "ExecuteTime": {
     "end_time": "2018-08-24T01:50:30.563173Z",
     "start_time": "2018-08-24T01:50:30.555837Z"
    }
   },
   "outputs": [],
   "source": [
    "model_df = df.copy()\n",
    "\n",
    "model_df = model_df[model_df['artist'] == 'Kendrick Lamar']"
   ]
  },
  {
   "cell_type": "code",
   "execution_count": 35,
   "metadata": {
    "ExecuteTime": {
     "end_time": "2018-08-24T01:50:30.809156Z",
     "start_time": "2018-08-24T01:50:30.565712Z"
    }
   },
   "outputs": [],
   "source": [
    "model_df['verse_words'] = model_df['verse'].copy()\n",
    "model_df['verse_words'] = model_df['verse_words'].str.lower()\n",
    "model_df['verse_words'] = model_df['verse_words'].apply(lambda x: x.replace(',',''))\n",
    "model_df['verse_words'] = model_df['verse_words'].apply(lambda x: x.split(' '))"
   ]
  },
  {
   "cell_type": "code",
   "execution_count": 36,
   "metadata": {
    "ExecuteTime": {
     "end_time": "2018-08-24T01:50:30.830214Z",
     "start_time": "2018-08-24T01:50:30.811156Z"
    }
   },
   "outputs": [
    {
     "data": {
      "text/html": [
       "<div>\n",
       "<style scoped>\n",
       "    .dataframe tbody tr th:only-of-type {\n",
       "        vertical-align: middle;\n",
       "    }\n",
       "\n",
       "    .dataframe tbody tr th {\n",
       "        vertical-align: top;\n",
       "    }\n",
       "\n",
       "    .dataframe thead th {\n",
       "        text-align: right;\n",
       "    }\n",
       "</style>\n",
       "<table border=\"1\" class=\"dataframe\">\n",
       "  <thead>\n",
       "    <tr style=\"text-align: right;\">\n",
       "      <th></th>\n",
       "      <th>song_owner</th>\n",
       "      <th>song_title</th>\n",
       "      <th>song_element</th>\n",
       "      <th>verse</th>\n",
       "      <th>artist</th>\n",
       "      <th>verse_words</th>\n",
       "    </tr>\n",
       "  </thead>\n",
       "  <tbody>\n",
       "    <tr>\n",
       "      <th>1283</th>\n",
       "      <td>Drake</td>\n",
       "      <td>Buried Alive (Interlude)</td>\n",
       "      <td>[Verse 1: Kendrick Lamar]</td>\n",
       "      <td>Lookin' in the mirror, I'm embarrassed, I'm fe...</td>\n",
       "      <td>Kendrick Lamar</td>\n",
       "      <td>[lookin', in, the, mirror, i'm, embarrassed, i...</td>\n",
       "    </tr>\n",
       "    <tr>\n",
       "      <th>1806</th>\n",
       "      <td>Drake</td>\n",
       "      <td>Buried Alive (Interlude)</td>\n",
       "      <td>[Verse 1: Kendrick Lamar]</td>\n",
       "      <td>Lookin' in the mirror, I'm embarrassed, I'm fe...</td>\n",
       "      <td>Kendrick Lamar</td>\n",
       "      <td>[lookin', in, the, mirror, i'm, embarrassed, i...</td>\n",
       "    </tr>\n",
       "    <tr>\n",
       "      <th>2890</th>\n",
       "      <td>Kendrick Lamar</td>\n",
       "      <td>Look Out For Detox</td>\n",
       "      <td>[Intro]</td>\n",
       "      <td>Uh, shoutout to ScHoolboy Q, He uglier than a ...</td>\n",
       "      <td>Kendrick Lamar</td>\n",
       "      <td>[uh, shoutout, to, schoolboy, q, he, uglier, t...</td>\n",
       "    </tr>\n",
       "    <tr>\n",
       "      <th>2891</th>\n",
       "      <td>Kendrick Lamar</td>\n",
       "      <td>Look Out For Detox</td>\n",
       "      <td>[Verse]</td>\n",
       "      <td>Tire marks, tire marks, Finish line with the t...</td>\n",
       "      <td>Kendrick Lamar</td>\n",
       "      <td>[tire, marks, tire, marks, finish, line, with,...</td>\n",
       "    </tr>\n",
       "    <tr>\n",
       "      <th>2892</th>\n",
       "      <td>Kendrick Lamar</td>\n",
       "      <td>HUMBLE.</td>\n",
       "      <td>[Intro]</td>\n",
       "      <td>Nobody pray for me, It's been that day for me,...</td>\n",
       "      <td>Kendrick Lamar</td>\n",
       "      <td>[nobody, pray, for, me, it's, been, that, day,...</td>\n",
       "    </tr>\n",
       "  </tbody>\n",
       "</table>\n",
       "</div>"
      ],
      "text/plain": [
       "          song_owner                song_title               song_element  \\\n",
       "1283           Drake  Buried Alive (Interlude)  [Verse 1: Kendrick Lamar]   \n",
       "1806           Drake  Buried Alive (Interlude)  [Verse 1: Kendrick Lamar]   \n",
       "2890  Kendrick Lamar        Look Out For Detox                    [Intro]   \n",
       "2891  Kendrick Lamar        Look Out For Detox                    [Verse]   \n",
       "2892  Kendrick Lamar                   HUMBLE.                    [Intro]   \n",
       "\n",
       "                                                  verse          artist  \\\n",
       "1283  Lookin' in the mirror, I'm embarrassed, I'm fe...  Kendrick Lamar   \n",
       "1806  Lookin' in the mirror, I'm embarrassed, I'm fe...  Kendrick Lamar   \n",
       "2890  Uh, shoutout to ScHoolboy Q, He uglier than a ...  Kendrick Lamar   \n",
       "2891  Tire marks, tire marks, Finish line with the t...  Kendrick Lamar   \n",
       "2892  Nobody pray for me, It's been that day for me,...  Kendrick Lamar   \n",
       "\n",
       "                                            verse_words  \n",
       "1283  [lookin', in, the, mirror, i'm, embarrassed, i...  \n",
       "1806  [lookin', in, the, mirror, i'm, embarrassed, i...  \n",
       "2890  [uh, shoutout, to, schoolboy, q, he, uglier, t...  \n",
       "2891  [tire, marks, tire, marks, finish, line, with,...  \n",
       "2892  [nobody, pray, for, me, it's, been, that, day,...  "
      ]
     },
     "execution_count": 36,
     "metadata": {},
     "output_type": "execute_result"
    }
   ],
   "source": [
    "model_df.head()"
   ]
  },
  {
   "cell_type": "code",
   "execution_count": 37,
   "metadata": {
    "ExecuteTime": {
     "end_time": "2018-08-24T01:50:31.691728Z",
     "start_time": "2018-08-24T01:50:30.832312Z"
    }
   },
   "outputs": [],
   "source": [
    "from nltk.tokenize import word_tokenize\n",
    "model_df['tokenize_verse'] = model_df['verse'].copy()\n",
    "model_df['tokenize_verse'] = model_df['tokenize_verse'].str.lower()\n",
    "model_df['tokenize_verse'] = model_df['tokenize_verse'].apply(lambda x: word_tokenize(x))"
   ]
  },
  {
   "cell_type": "code",
   "execution_count": 38,
   "metadata": {
    "ExecuteTime": {
     "end_time": "2018-08-24T01:50:31.790558Z",
     "start_time": "2018-08-24T01:50:31.693574Z"
    }
   },
   "outputs": [],
   "source": [
    "model_df['verse'] = model_df['verse'].str.lower()\n",
    "model_df['verse'] = model_df['verse'].apply(lambda x: x.replace(\"'\",''))\n",
    "model_df['verse'] = model_df['verse'].apply(lambda x: \"\".join([c if c.isalnum() else \" \" for c in x ]))\n",
    "model_df['verse'] = model_df['verse'].apply(lambda x: x.replace('  ',' '))"
   ]
  },
  {
   "cell_type": "code",
   "execution_count": 39,
   "metadata": {
    "ExecuteTime": {
     "end_time": "2018-08-24T01:50:32.024248Z",
     "start_time": "2018-08-24T01:50:31.792550Z"
    }
   },
   "outputs": [
    {
     "data": {
      "text/plain": [
       "1283    lookin in the mirror im embarrassed im feelin ...\n",
       "1806    lookin in the mirror im embarrassed im feelin ...\n",
       "2890    shoutout to schoolboy q he uglier than a mothe...\n",
       "2891    tire marks tire marks finish line with the tir...\n",
       "2892    nobody pray for me its been that day for me wa...\n",
       "Name: verse, dtype: object"
      ]
     },
     "execution_count": 39,
     "metadata": {},
     "output_type": "execute_result"
    }
   ],
   "source": [
    "stopwords = [\"yeah\", \"uh\", \"huh\", \"aw\", \"oh\", \"la\", \"ayy\",\n",
    "            \"na\", \"ha\", \"ay\", \"skrrt\",\n",
    "            \"em\", \"bla\", \"woo\", \"wu\", \"ya\", \"wala\", \"woop\", \"wrarrr\", \"ooh\",\n",
    "            \"ba\", \"duh\", \"du\", \"1\", \"2\", \"3\", \"4\" ,\"5\" ,\"6\", \"7\", \"8\", \"9\", \"0\"]\n",
    "\n",
    "for index, row in model_df.iterrows():\n",
    "    querywords = row['verse'].split()\n",
    "\n",
    "    resultwords  = [word for word in querywords if word.lower() not in stopwords]\n",
    "    row['verse'] = ' '.join(resultwords)\n",
    "\n",
    "model_df.verse[:5]"
   ]
  },
  {
   "cell_type": "code",
   "execution_count": 40,
   "metadata": {
    "ExecuteTime": {
     "end_time": "2018-08-24T01:50:32.029265Z",
     "start_time": "2018-08-24T01:50:32.026103Z"
    }
   },
   "outputs": [],
   "source": [
    "verses = list(model_df.verse.values)"
   ]
  },
  {
   "cell_type": "code",
   "execution_count": 41,
   "metadata": {
    "ExecuteTime": {
     "end_time": "2018-08-24T01:50:32.038542Z",
     "start_time": "2018-08-24T01:50:32.031063Z"
    }
   },
   "outputs": [
    {
     "data": {
      "text/plain": [
       "['lookin in the mirror im embarrassed im feelin like a suicidal terrorist react like an infant whenever you are mentioned mind over matter never worked for my nemesis im in the matter of man arm wrestlin hands i was dealt when i said the music business was all i needed when i got it i was greeted by an alien that said last year that she slept with a canadian that gave him an addiction thatd keep him in mercedes benz bright lights and rihanna as a lady friend my vice is similar women love when youre my type and youre winnin from everything that your palm write put her in the palms hotel sin city devil in a dress platinum chanel live the ambiance all cause the audience one day said i would do it so instead of a verse bein read ima go and get some head off the strength of my music i tell a bad bitch yo ass too fat capitalize that and your weave look good with the indian tracks trackin device on your used series i dont call back just blame it on your canadian the same day we say were in the area cruisin in toronto hit me on the cellular thought he was gonna sell me a false word like the rappers i know sat down with a few drinks located where you cant see us a white waitress on standby when we need her a black maybach 40 pulled up jeep no doors all that nigga was missin was aaliyah felt like the initiation a reality livin in the matrix we talk casually about the industry and how the women be the taste makers for the shit we makin then he said that he was the same age as myself and it didnt help cause it made me even more rude and impatient so blame it on mr ovoxo the reason why im breathin all the vanity i know the reason why my best friend said she love me more than life but i live a double life and need to let her go the reason why the highlight was when he said you belong to the people when youre outside so dig a shovel full of money full of power full of pussy full of fame and bury yourself alive then i died',\n",
       " 'lookin in the mirror im embarrassed im feelin like a suicidal terrorist react like an infant whenever you are mentioned mind over matter never worked for my nemesis im in the matter of man arm wrestlin hands i was dealt when i said the music business was all i needed when i got it i was greeted by an alien that said last year that she slept with a canadian that gave him an addiction thatd keep him in mercedes benz bright lights and rihanna as a lady friend my vice is similar women love when youre my type and youre winnin from everything that your palm write put her in the palms hotel sin city devil in a dress platinum chanel live the ambiance all cause the audience one day said i would do it so instead of a verse bein read ima go and get some head off the strength of my music i tell a bad bitch yo ass too fat capitalize that and your weave look good with the indian tracks trackin device on your used series i dont call back just blame it on your canadian the same day we say were in the area cruisin in toronto hit me on the cellular thought he was gonna sell me a false word like the rappers i know sat down with a few drinks located where you cant see us a white waitress on standby when we need her a black maybach 40 pulled up jeep no doors all that nigga was missin was aaliyah felt like the initiation a reality livin in the matrix we talk casually about the industry and how the women be the taste makers for the shit we makin then he said that he was the same age as myself and it didnt help cause it made me even more rude and impatient so blame it on mr ovoxo the reason why im breathin all the vanity i know the reason why my best friend said she love me more than life but i live a double life and need to let her go the reason why the highlight was when he said you belong to the people when youre outside so dig a shovel full of money full of power full of pussy full of fame and bury yourself alive then i died',\n",
       " 'shoutout to schoolboy q he uglier than a motherfucker laughs',\n",
       " 'tire marks tire marks finish line with the tire marks when the relay starts i m a runaway slave ugh walking on water and running on waves god mc my god you gotta see there s never no is in me of an odyssey i m a block away fire marshals moving in marshmallows inside my pen sweet sixteens got a sweet sixteen and they deadlier than sin i m so appalled with the prototype with a godly protocol you an amateur they wanna pro to call i damage on camera in compton in canada i don t care where are just blink twice and i m there where you are like a shadow in the dark you a paddle in the boat in an ocean full of sharks bout to come up short water in the pot flow crack rock like bam bam nigga have two grams nigga pay up or blam blam nigga had a black camry bumpin dipset killa cam nigga i had been around niggas killas pimps you ain t been around shit but your momma and your bitch shoved off the porch when i was like six uncle bobby got the house raided back in kick in the door k9s all in the kitchen way before i even heard of mike vick momma in the bathroom poppa at work happened on sunday we shoulda went to church look at my shirt polo on it it s gon sell if my logo on it i fear no opponent a demon come near and i might throw a spear at the omen you looking at the 2010 romans empire hiiipower hp in face like hd and i spit like a hk i mma shot like a h3 h u b c i t y a b and y g problem and hootie nigga tell the government come shoot me nigga cause i m going out with a fist raised and a fist full of money give it to a fifth grade drink a fifth of hennessy and then take another fade with a democratic politician from ca they don t wanna see a b l a c k making some scratch like a hall of fame dj give us some free j s put us in pjs now we in the county jail calling for a three way god damn yall cold mark of the beast wear your god damn bar code stuck in the street where its dark like harpo black man tell me where your god damn heart go although i m in the land of milk and honey nobody never gave me shit when i got my first chain all the niggas tried to take it from me i had to fight back and shit get it back and shit and you rap niggas looking funny tryna talk back and shit like he back that shit acting like you real or something nigga aint popped no steel aint popped no collar go pop some pills or something you trying real hard to appeal to someone i m being myself my bff is a bm dub with your bm in it and your stash box glove and the medicine a doctor gave a nigga wont help i m at the limit where i be amazing myself i bet i finish on a level with a black belt i bet i hit it where every rapper get killed like where the knife at cut cut cut where your life at your careers over he s slumped over and if im off beat know i m un sober thats a new flow pl plus q gave me some kush and some nuvo new dough for the new year and i sumo on a rap peer not a rapper i m a raptor thats a t rex in a v neck for the rapture i m a factor and your facial i will fracture to a fraction no one half and i hate math pastor s like eddie long fucking maricon took me mighty long to get here nigga fuck',\n",
       " 'nobody pray for me its been that day for me waaaaay',\n",
       " 'i remember syrup sandwiches and crime allowances finesse a nigga with some counterfeits but now i m countin this parmesan where my accountant lives in fact im downin this dussé with my boo bae tastes like kool aid for the analysts girl i can buy yo ass the world with my paystub that pussy good wont you sit it on my taste bloods i get way too petty once you let me do the extras pull up on your block then break it down we playin tetris a m to the p m p m to the a m funk piss out your per diem you just gotta hate funk if i quit your bm i still ride mercedes funk if i quit this season i still be the greatest funk my left stroke just went viral right stroke put lil baby in a spiral soprano c we like to keep it on a high note its levels to it you and i know',\n",
       " 'bitch be humble hol up bitch sit down hol up lil hol up lil bitch be humble hol up bitch sit down hol up sit down lil sit down lil bitch be humble hol up hol up bitch sit down hol up hol up lil bitch be humble lil bitch hol up bitch sit down hol up hol up hol up hol up be humble hol up hol up sit down hol up hol up lil hol up lil bitch be humble hol up bitch sit down hol up sit down lil sit down lil bitch be humble hol up hol up bitch sit down hol up hol up lil bitch be humble lil bitch hol up bitch sit down hol up hol up hol up hol up',\n",
       " 'who dat nigga thinkin that he frontin on man man man man get the fuck off my stage im the sandman sandman get the fuck off my dick that aint right i make a play fucking up your whole life im so fuckin sick and tired of the photoshop show me somethin natural like afro on richard pryor show me somethin natural like ass with some stretch marks still will take you down right on your mamas couch in polo socks this shit way too crazy you do not amaze me i blew cool from ac obama just paged me i dont fabricate it most of yall be fakin i stay modest bout it she elaborate it this that grey poupon that evian that ted talk watch my soul speak you let the meds talk if i kill a nigga it wont be the alcohol im the realest nigga after all',\n",
       " 'bitch be humble hol up bitch sit down hol up lil hol up lil bitch be humble hol up bitch sit down hol up sit down lil sit down lil bitch be humble hol up hol up bitch sit down hol up hol up lil bitch be humble lil bitch hol up bitch sit down hol up hol up hol up hol up be humble hol up hol up sit down hol up hol up lil hol up lil bitch be humble hol up bitch sit down hol up sit down lil sit down lil bitch be humble hol up hol up bitch sit down hol up hol up lil bitch be humble lil bitch hol up bitch sit down hol up hol up hol up hol up',\n",
       " 'if pirus and crips all got along theyd probably gun me down by the end of this song seem like the whole city go against me every time im in the street i hear yawk yawk yawk yawk']"
      ]
     },
     "execution_count": 41,
     "metadata": {},
     "output_type": "execute_result"
    }
   ],
   "source": [
    "verses[:10]"
   ]
  },
  {
   "cell_type": "code",
   "execution_count": 42,
   "metadata": {
    "ExecuteTime": {
     "end_time": "2018-08-24T01:50:32.045361Z",
     "start_time": "2018-08-24T01:50:32.040425Z"
    }
   },
   "outputs": [
    {
     "data": {
      "text/plain": [
       "'lookin in the mirror im embarrassed im feelin like a suicidal terrorist react like an infant wheneve'"
      ]
     },
     "execution_count": 42,
     "metadata": {},
     "output_type": "execute_result"
    }
   ],
   "source": [
    "all_verses_all_rappers = ','.join(verses)\n",
    "\n",
    "all_verses_all_rappers[:100]"
   ]
  },
  {
   "cell_type": "code",
   "execution_count": 43,
   "metadata": {
    "ExecuteTime": {
     "end_time": "2018-08-24T01:50:32.049951Z",
     "start_time": "2018-08-24T01:50:32.047372Z"
    }
   },
   "outputs": [],
   "source": [
    "file = all_verses_all_rappers"
   ]
  },
  {
   "cell_type": "code",
   "execution_count": 44,
   "metadata": {
    "ExecuteTime": {
     "end_time": "2018-08-24T01:50:32.057175Z",
     "start_time": "2018-08-24T01:50:32.052025Z"
    }
   },
   "outputs": [
    {
     "name": "stdout",
     "output_type": "stream",
     "text": [
      "file_len = 712344\n"
     ]
    }
   ],
   "source": [
    "# Read in text and change unicode characters to ASCII\n",
    "import unidecode\n",
    "import string\n",
    "import random\n",
    "import re\n",
    "\n",
    "all_characters = string.printable\n",
    "n_characters = len(all_characters)\n",
    "\n",
    "file_len = len(file)\n",
    "print(f'file_len = {file_len}')"
   ]
  },
  {
   "cell_type": "code",
   "execution_count": 45,
   "metadata": {
    "ExecuteTime": {
     "end_time": "2018-08-24T01:50:32.063742Z",
     "start_time": "2018-08-24T01:50:32.059271Z"
    }
   },
   "outputs": [
    {
     "name": "stdout",
     "output_type": "stream",
     "text": [
      " a hindrance surrenduring ninja turtles pizza and sega genesis heard it over my bunk bed ear hustling something my papa said that caught my attention his eyes red hes smoking on marijuana mixing the two eleven he said im seven going on sixty seven the day i turned seventeen is the day that a lesson inside my lifetime come across a clothes line every stick is a co sign everything in the streets got \n"
     ]
    }
   ],
   "source": [
    "chunk_len = 400\n",
    "\n",
    "def random_chunk():\n",
    "    start_index = random.randint(0, file_len - chunk_len)\n",
    "    end_index = start_index + chunk_len + 1\n",
    "    return file[start_index:end_index]\n",
    "\n",
    "print(random_chunk())"
   ]
  },
  {
   "cell_type": "code",
   "execution_count": 46,
   "metadata": {
    "ExecuteTime": {
     "end_time": "2018-08-24T01:50:32.080660Z",
     "start_time": "2018-08-24T01:50:32.065679Z"
    }
   },
   "outputs": [],
   "source": [
    "import torch\n",
    "import torch.nn as nn\n",
    "from torch.autograd import Variable\n",
    "import torch.nn.functional as F\n",
    "\n",
    "class RNN(nn.Module):\n",
    "    def __init__(self, input_size, hidden_size, output_size, n_layers=1):\n",
    "        super(RNN, self).__init__()\n",
    "        self.input_size = input_size\n",
    "        self.hidden_size = hidden_size\n",
    "        self.output_size = output_size\n",
    "        self.n_layers = n_layers\n",
    "        \n",
    "        self.encoder = nn.Embedding(input_size, hidden_size)\n",
    "        self.gru = nn.GRU(hidden_size, hidden_size, n_layers)\n",
    "        self.decoder = nn.Linear(hidden_size, output_size)\n",
    "        \n",
    "    def forward(self, input, hidden):\n",
    "        output = self.encoder(input.view(1, -1))\n",
    "        output, hidden = self.gru(output.view(1, 1, -1), hidden)\n",
    "        output = self.decoder(output.view(1, -1))\n",
    "        \n",
    "        return output, hidden\n",
    "    \n",
    "    def init_hidden(self):\n",
    "        return Variable(torch.randn(self.n_layers, 1, self.hidden_size))"
   ]
  },
  {
   "cell_type": "code",
   "execution_count": 47,
   "metadata": {
    "ExecuteTime": {
     "end_time": "2018-08-24T01:50:32.093014Z",
     "start_time": "2018-08-24T01:50:32.083347Z"
    }
   },
   "outputs": [
    {
     "name": "stdout",
     "output_type": "stream",
     "text": [
      "tensor([48, 14, 29, 18, 28,  0,  1,  2,  3, 10, 11, 12, 35, 36, 37, 38])\n"
     ]
    }
   ],
   "source": [
    "def char2tensor(string):\n",
    "    tensor = torch.zeros(len(string)).long()\n",
    "    for char in range(len(string)):\n",
    "        if string[char] in all_characters:\n",
    "            tensor[char] = all_characters.index(string[char])\n",
    "        else:\n",
    "            tensor[char] = 94 #predict space if character unknown\n",
    "        \n",
    "    return Variable(tensor)\n",
    "\n",
    "# Let's see it in action.\n",
    "print(char2tensor('Metis0123abczABC'))"
   ]
  },
  {
   "cell_type": "code",
   "execution_count": 48,
   "metadata": {
    "ExecuteTime": {
     "end_time": "2018-08-24T01:50:32.099068Z",
     "start_time": "2018-08-24T01:50:32.095141Z"
    }
   },
   "outputs": [],
   "source": [
    "def random_training_set():\n",
    "    chunk = random_chunk()\n",
    "    inp = char2tensor(chunk[:-1])\n",
    "    target = char2tensor(chunk[1:])\n",
    "    return inp, target"
   ]
  },
  {
   "cell_type": "code",
   "execution_count": 49,
   "metadata": {
    "ExecuteTime": {
     "end_time": "2018-08-24T01:50:32.113059Z",
     "start_time": "2018-08-24T01:50:32.101530Z"
    }
   },
   "outputs": [],
   "source": [
    "def evaluate(model, prime_str='A', predict_len=100, temperature=0.8):\n",
    "    \n",
    "    hidden = model.init_hidden()\n",
    "    prime_input = char2tensor(prime_str)\n",
    "    predicted = prime_str\n",
    "    \n",
    "    # use priming string to build up hidden state\n",
    "    \n",
    "    for p in range(len(prime_str) - 1):\n",
    "        _, hidden = model(prime_input[p], hidden)\n",
    "    inp = prime_input[-1]\n",
    "    \n",
    "    for p in range(predict_len):\n",
    "        output, hidden = model(inp, hidden)\n",
    "        \n",
    "        # Sample from the network as a multinomial distribution\n",
    "        output_dist = output.data.view(-1).div(temperature).exp()\n",
    "        top_i = torch.multinomial(output_dist, 1)[0]\n",
    "        \n",
    "        # Add predicted character to string and use as next input\n",
    "        predicted_char = all_characters[top_i]\n",
    "        predicted += predicted_char\n",
    "        inp = char2tensor(predicted_char)\n",
    "        \n",
    "    return predicted"
   ]
  },
  {
   "cell_type": "code",
   "execution_count": 50,
   "metadata": {
    "ExecuteTime": {
     "end_time": "2018-08-24T01:50:32.119716Z",
     "start_time": "2018-08-24T01:50:32.115376Z"
    }
   },
   "outputs": [],
   "source": [
    "# helper function\n",
    "import time, math\n",
    "\n",
    "def time_since(since):\n",
    "    s = time.time() - since\n",
    "    m = math.floor(s/60)\n",
    "    s -= m*60\n",
    "    return '%dm %ds' % (m, s)"
   ]
  },
  {
   "cell_type": "code",
   "execution_count": 51,
   "metadata": {
    "ExecuteTime": {
     "end_time": "2018-08-24T01:50:32.129158Z",
     "start_time": "2018-08-24T01:50:32.121973Z"
    }
   },
   "outputs": [],
   "source": [
    "# The actual training part\n",
    "def train(inp, target):\n",
    "    hidden = model.init_hidden()\n",
    "    model.zero_grad()\n",
    "    loss = 0\n",
    "\n",
    "    for char in range(chunk_len):\n",
    "        output, hidden = model(inp[char], hidden)\n",
    "        loss += criterion(output, target[char].unsqueeze(0))\n",
    "\n",
    "    loss.backward()\n",
    "    model_optimizer.step()\n",
    "\n",
    "    return loss.data.item() / chunk_len"
   ]
  },
  {
   "cell_type": "code",
   "execution_count": 52,
   "metadata": {
    "ExecuteTime": {
     "end_time": "2018-08-24T01:50:32.136218Z",
     "start_time": "2018-08-24T01:50:32.131753Z"
    }
   },
   "outputs": [],
   "source": [
    "# parameters\n",
    "# n_epochs = 1000\n",
    "# print_every = 100\n",
    "# plot_every = 10\n",
    "# hidden_size = 256\n",
    "# n_layers = 2\n",
    "# learning_rate = 0.001\n",
    "\n",
    "# # model declaration\n",
    "# model = RNN(n_characters, hidden_size, n_characters, n_layers)\n",
    "# model_optimizer = torch.optim.Adam(model.parameters(), lr=learning_rate)\n",
    "# criterion = nn.CrossEntropyLoss()\n",
    "\n",
    "# start = time.time()\n",
    "# all_losses = []\n",
    "# loss_avg = 0\n",
    "\n",
    "# for epoch in range(1, n_epochs + 1):\n",
    "#     loss = train(*random_training_set())       \n",
    "#     loss_avg += loss\n",
    "\n",
    "#     if epoch % print_every == 0:\n",
    "#         print('[%s (%d %d%%) %.4f]' % (time_since(start), epoch, epoch / n_epochs * 100, loss))\n",
    "#         print(evaluate(model, 'A ', 100), '\\n')\n",
    "\n",
    "#     if epoch % plot_every == 0:\n",
    "#         all_losses.append(loss_avg / plot_every)\n",
    "#         loss_avg = 0"
   ]
  },
  {
   "cell_type": "code",
   "execution_count": 53,
   "metadata": {
    "ExecuteTime": {
     "end_time": "2018-08-24T01:50:32.141712Z",
     "start_time": "2018-08-24T01:50:32.139035Z"
    }
   },
   "outputs": [],
   "source": [
    "# with open('models/kendrick_rnn_generator.pkl', 'wb') as picklefile:\n",
    "#     pickle.dump(model, picklefile)"
   ]
  },
  {
   "cell_type": "code",
   "execution_count": 54,
   "metadata": {
    "ExecuteTime": {
     "end_time": "2018-08-24T01:50:32.147122Z",
     "start_time": "2018-08-24T01:50:32.143971Z"
    }
   },
   "outputs": [],
   "source": [
    "# import matplotlib.pyplot as plt\n",
    "# import matplotlib.ticker as ticker\n",
    "# %matplotlib inline\n",
    "\n",
    "# plt.figure()\n",
    "# plt.plot(all_losses)"
   ]
  },
  {
   "cell_type": "code",
   "execution_count": 55,
   "metadata": {
    "ExecuteTime": {
     "end_time": "2018-08-24T01:50:32.348036Z",
     "start_time": "2018-08-24T01:50:32.149290Z"
    }
   },
   "outputs": [
    {
     "name": "stdout",
     "output_type": "stream",
     "text": [
      "To be or not to be: of a boo he motherfuck dont lovin i know and the polication it ass and the song bless all all i compless and you know when the cong my song compton when i dont key bout hall and i problessin of my bea\n"
     ]
    }
   ],
   "source": [
    "# Evaluate model from this notebook\n",
    "print(evaluate(model, 'To be or not to be: ', predict_len=200, temperature=0.5))"
   ]
  },
  {
   "cell_type": "code",
   "execution_count": 56,
   "metadata": {
    "ExecuteTime": {
     "end_time": "2018-08-24T01:50:32.550295Z",
     "start_time": "2018-08-24T01:50:32.351043Z"
    }
   },
   "outputs": [
    {
     "name": "stdout",
     "output_type": "stream",
     "text": [
      "I miss you girl come back i bank i got then high dont king you got a back accever that with made i know the cont and on my see what a bitch on heart some when i dont dont dont back me when you know with down when you at to the\n"
     ]
    }
   ],
   "source": [
    "# Evaluate model from this notebook\n",
    "print(evaluate(model, 'I miss you girl come back ', predict_len=200, temperature=0.5))"
   ]
  },
  {
   "cell_type": "code",
   "execution_count": 57,
   "metadata": {
    "ExecuteTime": {
     "end_time": "2018-08-24T01:50:32.678949Z",
     "start_time": "2018-08-24T01:50:32.552743Z"
    }
   },
   "outputs": [
    {
     "name": "stdout",
     "output_type": "stream",
     "text": [
      "Started from the bottom thats i was pay and compton the copper i how a can dont dont band i can my pint king me all the song me a boy for the say the can be and the she some day in the song i know what i know when i dont so\n"
     ]
    }
   ],
   "source": [
    "# Evaluate model from this notebook\n",
    "print(evaluate(model, \"Started from the bottom\", predict_len=200, temperature=0.4))"
   ]
  },
  {
   "cell_type": "code",
   "execution_count": 58,
   "metadata": {
    "ExecuteTime": {
     "end_time": "2018-08-24T01:50:32.864731Z",
     "start_time": "2018-08-24T01:50:32.680909Z"
    }
   },
   "outputs": [
    {
     "name": "stdout",
     "output_type": "stream",
     "text": [
      "I'm the realest rapper alive me be of my can be and the compless boy i got the dont dont can head i see and the and dont dont dont know it and you dont dont i song man dont king i can in the complicated i real i can down poppere\n"
     ]
    }
   ],
   "source": [
    "# Evaluate model from this notebook\n",
    "print(evaluate(model, \"I'm the realest rapper alive\", predict_len=200, temperature=0.4))"
   ]
  },
  {
   "cell_type": "code",
   "execution_count": 59,
   "metadata": {
    "ExecuteTime": {
     "end_time": "2018-08-24T01:50:33.049287Z",
     "start_time": "2018-08-24T01:50:32.867215Z"
    }
   },
   "outputs": [
    {
     "name": "stdout",
     "output_type": "stream",
     "text": [
      "Smoke a lot of weed he dont sing i was the song a band you sing you know when you song me the dont got the bard a song it back and the can a king my song you and be song bout i can a cond the song me i cong me i dont be\n"
     ]
    }
   ],
   "source": [
    "# Evaluate model from this notebook\n",
    "print(evaluate(model, \"Smoke a lot of weed\", predict_len=200, temperature=0.4))"
   ]
  },
  {
   "cell_type": "code",
   "execution_count": 60,
   "metadata": {
    "ExecuteTime": {
     "end_time": "2018-08-24T01:50:33.228447Z",
     "start_time": "2018-08-24T01:50:33.052154Z"
    }
   },
   "outputs": [
    {
     "name": "stdout",
     "output_type": "stream",
     "text": [
      "Baby come i can be the king the see when i know when i can a can good a bear the back all what you see i was all and back and that i know you sing a know what you a black i was to be sing the seen the king i d\n"
     ]
    }
   ],
   "source": [
    "# Evaluate model from this notebook\n",
    "print(evaluate(model, \"Baby come\", predict_len=200, temperature=0.4))"
   ]
  },
  {
   "cell_type": "code",
   "execution_count": 61,
   "metadata": {
    "ExecuteTime": {
     "end_time": "2018-08-24T01:50:33.244205Z",
     "start_time": "2018-08-24T01:50:33.230837Z"
    }
   },
   "outputs": [],
   "source": [
    "with open('models/kendrick_rnn_generator.pkl', 'rb') as picklefile:\n",
    "    kendrick_rnn = pickle.load(picklefile)"
   ]
  },
  {
   "cell_type": "code",
   "execution_count": 66,
   "metadata": {
    "ExecuteTime": {
     "end_time": "2018-08-24T01:51:21.866532Z",
     "start_time": "2018-08-24T01:51:19.369856Z"
    }
   },
   "outputs": [
    {
     "data": {
      "text/plain": [
       "['I miss you girl come back to make you know you was know she all i can hear complicating the for my put the point i was the say who and the bang you dont complin a find the pornice the hood dont i see for that where you a see a',\n",
       " 'To be or not to be: and my song of my from the so you sing the cause the care on his dont know you want my song i sing you said a be song all broke when my walk you power the could dont dont mine when i can and you and h',\n",
       " 'Started from the bottom a tist be for king and that so care the people with the song to can doo and be i see and i can and back to my know i am when you sing and be i cong be actin a complice the martin who on my child want',\n",
       " \"I'm the realest rapper alive i sing my dont the antion i can bitch for me that my dont all me a king and my care to can and i can day you know i know when the world the street to problead i dont good a call me that want was bout\",\n",
       " 'Smoke a lot of weed have back a had the can bullest and you king a bout the for the pose the come on complies the seen her king this i mean you shit make i face head a right you a be be and me i dont king you dont shang',\n",
       " 'Baby come on the can had bout the parce the see it dont dont be a that the compton my didnt with a person to the song the from the king the complead song i call dont my dont come he a condone i got to compton ',\n",
       " 'Date a scientist and the song not and the borging all a condon bang kill me on heart i tell my nigga bitch bout he wee i know you dont dont me i wont the pool that for me a bitch me i m dont are the fuck you conder m',\n",
       " 'Butter my biscuition the and how a sin coorder the make and my see this here so hopin i can dont got me now the see on bout hod i she dont king i adnt you know it he sing make you know you dont and the good i dont you',\n",
       " 'Scramble my sing so the flow me so who a compressin who dont with the game i cont by the was head dont so see be like the song you dont so complead and you can girl dont dont as make i was compton you know i was ',\n",
       " 'I sleep a wait of king i m the she nigga it motherfuck and song my care when i was doo sing all i was to two the you dont talk i know you dont and you king dont the wee his and where i know you cant a boy say',\n",
       " 'Green eggs and i compling what i be and to the for you dont dont of how bitch that we some when it have bitch when i got my cant wee cont compton bring it you beat be want my punded bout the cond the life my sing bi',\n",
       " 'Rollin in my sing my song i was dont me on my bang the soot with a high i know when the fuck is the condont to compton i can that to the compleation for what the son make the good a can blessing you ass in then m',\n",
       " 'Drop top a mink a song in the nigga i king i dont come i can a know is a me nigga and the world on the compin make i dont my say nigga i got my can dont and bout you a be i can i dont to be and you know you c',\n",
       " 'Math is funk the pock that its me with the home and i how i don time that you dick and the really poppin my hand dont you and to hit that the fuck wee i know had down bout the grought and pool my sing my back of',\n",
       " 'Sentencest i can can didnt know you king you wont can i know you dont hands i can broke life for the song on my making to me i wall you act then you he was and me a hang i dont can dont know you bitch a can be',\n",
       " 'Coffee in the world king complead and i was and women you can and the sing and the ponder its and a cond be and the both a mean i wee the late make you dont know you a bot me on the come and laint he die i was tha',\n",
       " 'Table that can some it some a before that i got a compton a no poing my can dont with the parted a song i know you dont talk more that chain the song bare that so spit bout you know what he was dont king we boo',\n",
       " 'Homies my song i know what i the all get my scare bring my dont dont no go the was comporth the bool come i but my band a hol the song of king a dont all i m the truth you home my and shour back dont dont d',\n",
       " 'From the streets to the contron when you dont and the good and kendrick and the compton give around i know im dont k dont and you dont dont dont to got the say popperatin i to dont some the compton king the complice ',\n",
       " 'Maseratin that compton i can me of the world sing with the screess you want a nigga you he and my played for the peole pop can and you can so stention i dont dont i so i m the pop i to song bard you diong bit',\n",
       " 'Air force one me i want compton how you dont dont you a sing and back and that you dont dont comple a back the so i know i hol be song head do with me a right you dont dont no play can a hoes on my condon the seen',\n",
       " 'President i veart and of that we bout on my sing one you song me dont dont my face to compton i can body perself a black i can better head and back king you a bout a money song watch i can back my condart i co',\n",
       " 'Trump dont dont i can but holled you can the sing i can condont you a cut i bare and dont king you know i she and the hoot the come i was to be are the come it be the antion the s day a say the second you ']"
      ]
     },
     "execution_count": 66,
     "metadata": {},
     "output_type": "execute_result"
    }
   ],
   "source": [
    "prompts = ['I miss you girl come back ', 'To be or not to be: ', \"Started from the bottom\", \"I'm the realest rapper alive\",\n",
    "           \"Smoke a lot of weed\", \"Baby come\", 'Date a scientist', 'Butter my biscuit', 'Scramble my ', 'I sleep ',\n",
    "           'Green eggs and ', 'Rollin in my', 'Drop top', 'Math is fun', 'Sentences', 'Coffee in the', 'Table that',\n",
    "           'Homies', 'From the streets', 'Maserati', 'Air force one', 'President', 'Trump']\n",
    "\n",
    "kendrick_rnn_verses = []\n",
    "\n",
    "for i in range(len(prompts)):\n",
    "    kendrick_rnn_verses.append(evaluate(model, prompts[i], predict_len=200, temperature=0.5))\n",
    "    \n",
    "    \n",
    "kendrick_rnn_verses"
   ]
  },
  {
   "cell_type": "code",
   "execution_count": 70,
   "metadata": {
    "ExecuteTime": {
     "end_time": "2018-08-24T02:01:39.347608Z",
     "start_time": "2018-08-24T02:01:39.343773Z"
    }
   },
   "outputs": [],
   "source": [
    "columns = ['generated_verses']\n",
    "\n",
    "kendrick_generated_df = pd.DataFrame(kendrick_rnn_verses, columns=columns)"
   ]
  },
  {
   "cell_type": "code",
   "execution_count": 72,
   "metadata": {
    "ExecuteTime": {
     "end_time": "2018-08-24T02:01:59.808736Z",
     "start_time": "2018-08-24T02:01:59.798438Z"
    }
   },
   "outputs": [
    {
     "data": {
      "text/html": [
       "<div>\n",
       "<style scoped>\n",
       "    .dataframe tbody tr th:only-of-type {\n",
       "        vertical-align: middle;\n",
       "    }\n",
       "\n",
       "    .dataframe tbody tr th {\n",
       "        vertical-align: top;\n",
       "    }\n",
       "\n",
       "    .dataframe thead th {\n",
       "        text-align: right;\n",
       "    }\n",
       "</style>\n",
       "<table border=\"1\" class=\"dataframe\">\n",
       "  <thead>\n",
       "    <tr style=\"text-align: right;\">\n",
       "      <th></th>\n",
       "      <th>generated_verses</th>\n",
       "      <th>artist</th>\n",
       "    </tr>\n",
       "  </thead>\n",
       "  <tbody>\n",
       "    <tr>\n",
       "      <th>0</th>\n",
       "      <td>I miss you girl come back to make you know you...</td>\n",
       "      <td>Kendrick Lamar</td>\n",
       "    </tr>\n",
       "    <tr>\n",
       "      <th>1</th>\n",
       "      <td>To be or not to be: and my song of my from the...</td>\n",
       "      <td>Kendrick Lamar</td>\n",
       "    </tr>\n",
       "    <tr>\n",
       "      <th>2</th>\n",
       "      <td>Started from the bottom a tist be for king and...</td>\n",
       "      <td>Kendrick Lamar</td>\n",
       "    </tr>\n",
       "    <tr>\n",
       "      <th>3</th>\n",
       "      <td>I'm the realest rapper alive i sing my dont th...</td>\n",
       "      <td>Kendrick Lamar</td>\n",
       "    </tr>\n",
       "    <tr>\n",
       "      <th>4</th>\n",
       "      <td>Smoke a lot of weed have back a had the can bu...</td>\n",
       "      <td>Kendrick Lamar</td>\n",
       "    </tr>\n",
       "    <tr>\n",
       "      <th>5</th>\n",
       "      <td>Baby come on the can had bout the parce the se...</td>\n",
       "      <td>Kendrick Lamar</td>\n",
       "    </tr>\n",
       "    <tr>\n",
       "      <th>6</th>\n",
       "      <td>Date a scientist and the song not and the borg...</td>\n",
       "      <td>Kendrick Lamar</td>\n",
       "    </tr>\n",
       "    <tr>\n",
       "      <th>7</th>\n",
       "      <td>Butter my biscuition the and how a sin coorder...</td>\n",
       "      <td>Kendrick Lamar</td>\n",
       "    </tr>\n",
       "    <tr>\n",
       "      <th>8</th>\n",
       "      <td>Scramble my sing so the flow me so who a compr...</td>\n",
       "      <td>Kendrick Lamar</td>\n",
       "    </tr>\n",
       "    <tr>\n",
       "      <th>9</th>\n",
       "      <td>I sleep a wait of king i m the she nigga it mo...</td>\n",
       "      <td>Kendrick Lamar</td>\n",
       "    </tr>\n",
       "    <tr>\n",
       "      <th>10</th>\n",
       "      <td>Green eggs and i compling what i be and to the...</td>\n",
       "      <td>Kendrick Lamar</td>\n",
       "    </tr>\n",
       "    <tr>\n",
       "      <th>11</th>\n",
       "      <td>Rollin in my sing my song i was dont me on my ...</td>\n",
       "      <td>Kendrick Lamar</td>\n",
       "    </tr>\n",
       "    <tr>\n",
       "      <th>12</th>\n",
       "      <td>Drop top a mink a song in the nigga i king i d...</td>\n",
       "      <td>Kendrick Lamar</td>\n",
       "    </tr>\n",
       "    <tr>\n",
       "      <th>13</th>\n",
       "      <td>Math is funk the pock that its me with the hom...</td>\n",
       "      <td>Kendrick Lamar</td>\n",
       "    </tr>\n",
       "    <tr>\n",
       "      <th>14</th>\n",
       "      <td>Sentencest i can can didnt know you king you w...</td>\n",
       "      <td>Kendrick Lamar</td>\n",
       "    </tr>\n",
       "    <tr>\n",
       "      <th>15</th>\n",
       "      <td>Coffee in the world king complead and i was an...</td>\n",
       "      <td>Kendrick Lamar</td>\n",
       "    </tr>\n",
       "    <tr>\n",
       "      <th>16</th>\n",
       "      <td>Table that can some it some a before that i go...</td>\n",
       "      <td>Kendrick Lamar</td>\n",
       "    </tr>\n",
       "    <tr>\n",
       "      <th>17</th>\n",
       "      <td>Homies my song i know what i the all get my sc...</td>\n",
       "      <td>Kendrick Lamar</td>\n",
       "    </tr>\n",
       "    <tr>\n",
       "      <th>18</th>\n",
       "      <td>From the streets to the contron when you dont ...</td>\n",
       "      <td>Kendrick Lamar</td>\n",
       "    </tr>\n",
       "    <tr>\n",
       "      <th>19</th>\n",
       "      <td>Maseratin that compton i can me of the world s...</td>\n",
       "      <td>Kendrick Lamar</td>\n",
       "    </tr>\n",
       "    <tr>\n",
       "      <th>20</th>\n",
       "      <td>Air force one me i want compton how you dont d...</td>\n",
       "      <td>Kendrick Lamar</td>\n",
       "    </tr>\n",
       "    <tr>\n",
       "      <th>21</th>\n",
       "      <td>President i veart and of that we bout on my si...</td>\n",
       "      <td>Kendrick Lamar</td>\n",
       "    </tr>\n",
       "    <tr>\n",
       "      <th>22</th>\n",
       "      <td>Trump dont dont i can but holled you can the s...</td>\n",
       "      <td>Kendrick Lamar</td>\n",
       "    </tr>\n",
       "  </tbody>\n",
       "</table>\n",
       "</div>"
      ],
      "text/plain": [
       "                                     generated_verses          artist\n",
       "0   I miss you girl come back to make you know you...  Kendrick Lamar\n",
       "1   To be or not to be: and my song of my from the...  Kendrick Lamar\n",
       "2   Started from the bottom a tist be for king and...  Kendrick Lamar\n",
       "3   I'm the realest rapper alive i sing my dont th...  Kendrick Lamar\n",
       "4   Smoke a lot of weed have back a had the can bu...  Kendrick Lamar\n",
       "5   Baby come on the can had bout the parce the se...  Kendrick Lamar\n",
       "6   Date a scientist and the song not and the borg...  Kendrick Lamar\n",
       "7   Butter my biscuition the and how a sin coorder...  Kendrick Lamar\n",
       "8   Scramble my sing so the flow me so who a compr...  Kendrick Lamar\n",
       "9   I sleep a wait of king i m the she nigga it mo...  Kendrick Lamar\n",
       "10  Green eggs and i compling what i be and to the...  Kendrick Lamar\n",
       "11  Rollin in my sing my song i was dont me on my ...  Kendrick Lamar\n",
       "12  Drop top a mink a song in the nigga i king i d...  Kendrick Lamar\n",
       "13  Math is funk the pock that its me with the hom...  Kendrick Lamar\n",
       "14  Sentencest i can can didnt know you king you w...  Kendrick Lamar\n",
       "15  Coffee in the world king complead and i was an...  Kendrick Lamar\n",
       "16  Table that can some it some a before that i go...  Kendrick Lamar\n",
       "17  Homies my song i know what i the all get my sc...  Kendrick Lamar\n",
       "18  From the streets to the contron when you dont ...  Kendrick Lamar\n",
       "19  Maseratin that compton i can me of the world s...  Kendrick Lamar\n",
       "20  Air force one me i want compton how you dont d...  Kendrick Lamar\n",
       "21  President i veart and of that we bout on my si...  Kendrick Lamar\n",
       "22  Trump dont dont i can but holled you can the s...  Kendrick Lamar"
      ]
     },
     "execution_count": 72,
     "metadata": {},
     "output_type": "execute_result"
    }
   ],
   "source": [
    "kendrick_generated_df['artist'] = 'Kendrick Lamar'\n",
    "\n",
    "kendrick_generated_df"
   ]
  },
  {
   "cell_type": "code",
   "execution_count": 73,
   "metadata": {
    "ExecuteTime": {
     "end_time": "2018-08-24T02:06:24.490583Z",
     "start_time": "2018-08-24T02:06:24.481390Z"
    }
   },
   "outputs": [],
   "source": [
    "with open('data/kendrick_generated_raps.pkl', 'wb') as picklefile:\n",
    "    pickle.dump(kendrick_generated_df, picklefile)"
   ]
  },
  {
   "cell_type": "code",
   "execution_count": null,
   "metadata": {},
   "outputs": [],
   "source": []
  }
 ],
 "metadata": {
  "kernelspec": {
   "display_name": "Python 3",
   "language": "python",
   "name": "python3"
  },
  "language_info": {
   "codemirror_mode": {
    "name": "ipython",
    "version": 3
   },
   "file_extension": ".py",
   "mimetype": "text/x-python",
   "name": "python",
   "nbconvert_exporter": "python",
   "pygments_lexer": "ipython3",
   "version": "3.6.6"
  },
  "varInspector": {
   "cols": {
    "lenName": 16,
    "lenType": 16,
    "lenVar": 40
   },
   "kernels_config": {
    "python": {
     "delete_cmd_postfix": "",
     "delete_cmd_prefix": "del ",
     "library": "var_list.py",
     "varRefreshCmd": "print(var_dic_list())"
    },
    "r": {
     "delete_cmd_postfix": ") ",
     "delete_cmd_prefix": "rm(",
     "library": "var_list.r",
     "varRefreshCmd": "cat(var_dic_list()) "
    }
   },
   "types_to_exclude": [
    "module",
    "function",
    "builtin_function_or_method",
    "instance",
    "_Feature"
   ],
   "window_display": false
  }
 },
 "nbformat": 4,
 "nbformat_minor": 2
}
