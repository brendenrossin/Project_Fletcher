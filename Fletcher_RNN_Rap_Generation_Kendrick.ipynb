{
 "cells": [
  {
   "cell_type": "code",
   "execution_count": 1,
   "metadata": {
    "ExecuteTime": {
     "end_time": "2018-08-24T01:18:07.534844Z",
     "start_time": "2018-08-24T01:18:05.673235Z"
    }
   },
   "outputs": [
    {
     "name": "stderr",
     "output_type": "stream",
     "text": [
      "/Users/brendenrossin/anaconda3/lib/python3.6/site-packages/sklearn/cross_validation.py:41: DeprecationWarning: This module was deprecated in version 0.18 in favor of the model_selection module into which all the refactored classes and functions are moved. Also note that the interface of the new CV iterators are different from that of this module. This module will be removed in 0.20.\n",
      "  \"This module will be removed in 0.20.\", DeprecationWarning)\n"
     ]
    }
   ],
   "source": [
    "import pandas as pd\n",
    "import random\n",
    "from time import sleep\n",
    "import warnings\n",
    "warnings.filterwarnings(\"ignore\",category=DeprecationWarning)\n",
    "import numpy as np\n",
    "import nltk\n",
    "import os\n",
    "from sklearn import datasets\n",
    "import pickle\n",
    "from nltk.tokenize import word_tokenize\n",
    "from sklearn.decomposition import NMF, TruncatedSVD\n",
    "import matplotlib.pyplot as plt\n",
    "import seaborn as sns\n",
    "from sklearn.decomposition import LatentDirichletAllocation\n",
    "from sklearn.neighbors import NearestNeighbors\n",
    "from sklearn.cross_validation import train_test_split, cross_val_score\n",
    "from sklearn.linear_model import RidgeCV\n",
    "from sklearn.pipeline import make_pipeline, Pipeline\n",
    "from sklearn.preprocessing import PolynomialFeatures, StandardScaler\n",
    "from sklearn.neighbors import KNeighborsClassifier\n",
    "from sklearn.linear_model import LogisticRegression\n",
    "from sklearn.metrics import accuracy_score, recall_score, precision_score, f1_score, roc_auc_score, roc_curve, auc, fbeta_score\n",
    "from sklearn.model_selection import learning_curve, KFold, GridSearchCV, cross_val_score\n",
    "from sklearn.naive_bayes import GaussianNB, MultinomialNB\n",
    "from sklearn.svm import SVC\n",
    "from sklearn.tree import DecisionTreeClassifier\n",
    "from sklearn.ensemble import RandomForestClassifier, GradientBoostingClassifier\n",
    "from sklearn.dummy import DummyClassifier\n",
    "from collections import Counter\n",
    "from sklearn.feature_extraction.text import TfidfTransformer, CountVectorizer, TfidfVectorizer\n",
    "from sklearn.feature_extraction import text\n",
    "from sklearn.preprocessing import normalize\n",
    "import re\n",
    "from unidecode import unidecode\n",
    "\n",
    "import matplotlib.style as style\n",
    "%matplotlib inline\n",
    "plt.style.use('ggplot')"
   ]
  },
  {
   "cell_type": "code",
   "execution_count": 2,
   "metadata": {
    "ExecuteTime": {
     "end_time": "2018-08-24T01:18:07.555065Z",
     "start_time": "2018-08-24T01:18:07.536505Z"
    }
   },
   "outputs": [],
   "source": [
    "with open('data/cleaned_df.pkl', 'rb') as picklefile:\n",
    "    df = pickle.load(picklefile)"
   ]
  },
  {
   "cell_type": "code",
   "execution_count": 3,
   "metadata": {
    "ExecuteTime": {
     "end_time": "2018-08-24T01:18:07.637975Z",
     "start_time": "2018-08-24T01:18:07.556727Z"
    }
   },
   "outputs": [
    {
     "data": {
      "text/html": [
       "<div>\n",
       "<style scoped>\n",
       "    .dataframe tbody tr th:only-of-type {\n",
       "        vertical-align: middle;\n",
       "    }\n",
       "\n",
       "    .dataframe tbody tr th {\n",
       "        vertical-align: top;\n",
       "    }\n",
       "\n",
       "    .dataframe thead th {\n",
       "        text-align: right;\n",
       "    }\n",
       "</style>\n",
       "<table border=\"1\" class=\"dataframe\">\n",
       "  <thead>\n",
       "    <tr style=\"text-align: right;\">\n",
       "      <th></th>\n",
       "      <th>song_owner</th>\n",
       "      <th>song_title</th>\n",
       "      <th>song_element</th>\n",
       "      <th>verse</th>\n",
       "      <th>artist</th>\n",
       "    </tr>\n",
       "  </thead>\n",
       "  <tbody>\n",
       "    <tr>\n",
       "      <th>0</th>\n",
       "      <td>Childish Gambino</td>\n",
       "      <td>This Is America</td>\n",
       "      <td>[Bridge: Childish Gambino &amp; Young Thug]</td>\n",
       "      <td>We just wanna party, Party just for you, We ju...</td>\n",
       "      <td>Childish Gambino</td>\n",
       "    </tr>\n",
       "    <tr>\n",
       "      <th>1</th>\n",
       "      <td>Childish Gambino</td>\n",
       "      <td>This Is America</td>\n",
       "      <td>[Chorus: Childish Gambino]</td>\n",
       "      <td>This is America, Don't catch you slippin' now,...</td>\n",
       "      <td>Childish Gambino</td>\n",
       "    </tr>\n",
       "    <tr>\n",
       "      <th>2</th>\n",
       "      <td>Childish Gambino</td>\n",
       "      <td>This Is America</td>\n",
       "      <td>[Verse 1: Childish Gambino, Blocboy JB, Slim J...</td>\n",
       "      <td>This is America (skrrt, skrrt, woo), Don't cat...</td>\n",
       "      <td>Childish Gambino</td>\n",
       "    </tr>\n",
       "    <tr>\n",
       "      <th>3</th>\n",
       "      <td>Childish Gambino</td>\n",
       "      <td>This Is America</td>\n",
       "      <td>[Refrain: Choir &amp; Childish Gambino]</td>\n",
       "      <td>Ooh-ooh-ooh-ooh-ooh, tell somebody, You go tel...</td>\n",
       "      <td>Childish Gambino</td>\n",
       "    </tr>\n",
       "    <tr>\n",
       "      <th>4</th>\n",
       "      <td>Childish Gambino</td>\n",
       "      <td>This Is America</td>\n",
       "      <td>[Chorus: Childish Gambino, Slim Jxmmi &amp; Young ...</td>\n",
       "      <td>This is America (woo, ayy), Don't catch you sl...</td>\n",
       "      <td>Childish Gambino</td>\n",
       "    </tr>\n",
       "  </tbody>\n",
       "</table>\n",
       "</div>"
      ],
      "text/plain": [
       "         song_owner       song_title  \\\n",
       "0  Childish Gambino  This Is America   \n",
       "1  Childish Gambino  This Is America   \n",
       "2  Childish Gambino  This Is America   \n",
       "3  Childish Gambino  This Is America   \n",
       "4  Childish Gambino  This Is America   \n",
       "\n",
       "                                        song_element  \\\n",
       "0            [Bridge: Childish Gambino & Young Thug]   \n",
       "1                         [Chorus: Childish Gambino]   \n",
       "2  [Verse 1: Childish Gambino, Blocboy JB, Slim J...   \n",
       "3                [Refrain: Choir & Childish Gambino]   \n",
       "4  [Chorus: Childish Gambino, Slim Jxmmi & Young ...   \n",
       "\n",
       "                                               verse            artist  \n",
       "0  We just wanna party, Party just for you, We ju...  Childish Gambino  \n",
       "1  This is America, Don't catch you slippin' now,...  Childish Gambino  \n",
       "2  This is America (skrrt, skrrt, woo), Don't cat...  Childish Gambino  \n",
       "3  Ooh-ooh-ooh-ooh-ooh, tell somebody, You go tel...  Childish Gambino  \n",
       "4  This is America (woo, ayy), Don't catch you sl...  Childish Gambino  "
      ]
     },
     "execution_count": 3,
     "metadata": {},
     "output_type": "execute_result"
    }
   ],
   "source": [
    "df.head()"
   ]
  },
  {
   "cell_type": "code",
   "execution_count": 4,
   "metadata": {
    "ExecuteTime": {
     "end_time": "2018-08-24T01:18:07.648681Z",
     "start_time": "2018-08-24T01:18:07.641473Z"
    }
   },
   "outputs": [],
   "source": [
    "model_df = df.copy()\n",
    "\n",
    "model_df = model_df[model_df['artist'] == 'Kendrick Lamar']"
   ]
  },
  {
   "cell_type": "code",
   "execution_count": 5,
   "metadata": {
    "ExecuteTime": {
     "end_time": "2018-08-24T01:18:07.734461Z",
     "start_time": "2018-08-24T01:18:07.650896Z"
    }
   },
   "outputs": [],
   "source": [
    "model_df['verse_words'] = model_df['verse'].copy()\n",
    "model_df['verse_words'] = model_df['verse_words'].str.lower()\n",
    "model_df['verse_words'] = model_df['verse_words'].apply(lambda x: x.replace(',',''))\n",
    "model_df['verse_words'] = model_df['verse_words'].apply(lambda x: x.split(' '))"
   ]
  },
  {
   "cell_type": "code",
   "execution_count": 6,
   "metadata": {
    "ExecuteTime": {
     "end_time": "2018-08-24T01:18:07.752705Z",
     "start_time": "2018-08-24T01:18:07.736892Z"
    }
   },
   "outputs": [
    {
     "data": {
      "text/html": [
       "<div>\n",
       "<style scoped>\n",
       "    .dataframe tbody tr th:only-of-type {\n",
       "        vertical-align: middle;\n",
       "    }\n",
       "\n",
       "    .dataframe tbody tr th {\n",
       "        vertical-align: top;\n",
       "    }\n",
       "\n",
       "    .dataframe thead th {\n",
       "        text-align: right;\n",
       "    }\n",
       "</style>\n",
       "<table border=\"1\" class=\"dataframe\">\n",
       "  <thead>\n",
       "    <tr style=\"text-align: right;\">\n",
       "      <th></th>\n",
       "      <th>song_owner</th>\n",
       "      <th>song_title</th>\n",
       "      <th>song_element</th>\n",
       "      <th>verse</th>\n",
       "      <th>artist</th>\n",
       "      <th>verse_words</th>\n",
       "    </tr>\n",
       "  </thead>\n",
       "  <tbody>\n",
       "    <tr>\n",
       "      <th>1283</th>\n",
       "      <td>Drake</td>\n",
       "      <td>Buried Alive (Interlude)</td>\n",
       "      <td>[Verse 1: Kendrick Lamar]</td>\n",
       "      <td>Lookin' in the mirror, I'm embarrassed, I'm fe...</td>\n",
       "      <td>Kendrick Lamar</td>\n",
       "      <td>[lookin', in, the, mirror, i'm, embarrassed, i...</td>\n",
       "    </tr>\n",
       "    <tr>\n",
       "      <th>1806</th>\n",
       "      <td>Drake</td>\n",
       "      <td>Buried Alive (Interlude)</td>\n",
       "      <td>[Verse 1: Kendrick Lamar]</td>\n",
       "      <td>Lookin' in the mirror, I'm embarrassed, I'm fe...</td>\n",
       "      <td>Kendrick Lamar</td>\n",
       "      <td>[lookin', in, the, mirror, i'm, embarrassed, i...</td>\n",
       "    </tr>\n",
       "    <tr>\n",
       "      <th>2890</th>\n",
       "      <td>Kendrick Lamar</td>\n",
       "      <td>Look Out For Detox</td>\n",
       "      <td>[Intro]</td>\n",
       "      <td>Uh, shoutout to ScHoolboy Q, He uglier than a ...</td>\n",
       "      <td>Kendrick Lamar</td>\n",
       "      <td>[uh, shoutout, to, schoolboy, q, he, uglier, t...</td>\n",
       "    </tr>\n",
       "    <tr>\n",
       "      <th>2891</th>\n",
       "      <td>Kendrick Lamar</td>\n",
       "      <td>Look Out For Detox</td>\n",
       "      <td>[Verse]</td>\n",
       "      <td>Tire marks, tire marks, Finish line with the t...</td>\n",
       "      <td>Kendrick Lamar</td>\n",
       "      <td>[tire, marks, tire, marks, finish, line, with,...</td>\n",
       "    </tr>\n",
       "    <tr>\n",
       "      <th>2892</th>\n",
       "      <td>Kendrick Lamar</td>\n",
       "      <td>HUMBLE.</td>\n",
       "      <td>[Intro]</td>\n",
       "      <td>Nobody pray for me, It's been that day for me,...</td>\n",
       "      <td>Kendrick Lamar</td>\n",
       "      <td>[nobody, pray, for, me, it's, been, that, day,...</td>\n",
       "    </tr>\n",
       "  </tbody>\n",
       "</table>\n",
       "</div>"
      ],
      "text/plain": [
       "          song_owner                song_title               song_element  \\\n",
       "1283           Drake  Buried Alive (Interlude)  [Verse 1: Kendrick Lamar]   \n",
       "1806           Drake  Buried Alive (Interlude)  [Verse 1: Kendrick Lamar]   \n",
       "2890  Kendrick Lamar        Look Out For Detox                    [Intro]   \n",
       "2891  Kendrick Lamar        Look Out For Detox                    [Verse]   \n",
       "2892  Kendrick Lamar                   HUMBLE.                    [Intro]   \n",
       "\n",
       "                                                  verse          artist  \\\n",
       "1283  Lookin' in the mirror, I'm embarrassed, I'm fe...  Kendrick Lamar   \n",
       "1806  Lookin' in the mirror, I'm embarrassed, I'm fe...  Kendrick Lamar   \n",
       "2890  Uh, shoutout to ScHoolboy Q, He uglier than a ...  Kendrick Lamar   \n",
       "2891  Tire marks, tire marks, Finish line with the t...  Kendrick Lamar   \n",
       "2892  Nobody pray for me, It's been that day for me,...  Kendrick Lamar   \n",
       "\n",
       "                                            verse_words  \n",
       "1283  [lookin', in, the, mirror, i'm, embarrassed, i...  \n",
       "1806  [lookin', in, the, mirror, i'm, embarrassed, i...  \n",
       "2890  [uh, shoutout, to, schoolboy, q, he, uglier, t...  \n",
       "2891  [tire, marks, tire, marks, finish, line, with,...  \n",
       "2892  [nobody, pray, for, me, it's, been, that, day,...  "
      ]
     },
     "execution_count": 6,
     "metadata": {},
     "output_type": "execute_result"
    }
   ],
   "source": [
    "model_df.head()"
   ]
  },
  {
   "cell_type": "code",
   "execution_count": 7,
   "metadata": {
    "ExecuteTime": {
     "end_time": "2018-08-24T01:18:08.611682Z",
     "start_time": "2018-08-24T01:18:07.754815Z"
    }
   },
   "outputs": [],
   "source": [
    "from nltk.tokenize import word_tokenize\n",
    "model_df['tokenize_verse'] = model_df['verse'].copy()\n",
    "model_df['tokenize_verse'] = model_df['tokenize_verse'].str.lower()\n",
    "model_df['tokenize_verse'] = model_df['tokenize_verse'].apply(lambda x: word_tokenize(x))"
   ]
  },
  {
   "cell_type": "code",
   "execution_count": 8,
   "metadata": {
    "ExecuteTime": {
     "end_time": "2018-08-24T01:18:08.732073Z",
     "start_time": "2018-08-24T01:18:08.613452Z"
    }
   },
   "outputs": [],
   "source": [
    "model_df['verse'] = model_df['verse'].str.lower()\n",
    "model_df['verse'] = model_df['verse'].apply(lambda x: x.replace(\"'\",''))\n",
    "model_df['verse'] = model_df['verse'].apply(lambda x: \"\".join([c if c.isalnum() else \" \" for c in x ]))\n",
    "model_df['verse'] = model_df['verse'].apply(lambda x: x.replace('  ',' '))"
   ]
  },
  {
   "cell_type": "code",
   "execution_count": 9,
   "metadata": {
    "ExecuteTime": {
     "end_time": "2018-08-24T01:18:08.996953Z",
     "start_time": "2018-08-24T01:18:08.734545Z"
    }
   },
   "outputs": [
    {
     "data": {
      "text/plain": [
       "1283    lookin in the mirror im embarrassed im feelin ...\n",
       "1806    lookin in the mirror im embarrassed im feelin ...\n",
       "2890    shoutout to schoolboy q he uglier than a mothe...\n",
       "2891    tire marks tire marks finish line with the tir...\n",
       "2892    nobody pray for me its been that day for me wa...\n",
       "Name: verse, dtype: object"
      ]
     },
     "execution_count": 9,
     "metadata": {},
     "output_type": "execute_result"
    }
   ],
   "source": [
    "stopwords = [\"yeah\", \"uh\", \"huh\", \"aw\", \"oh\", \"la\", \"ayy\",\n",
    "            \"na\", \"ha\", \"ay\", \"skrrt\",\n",
    "            \"em\", \"bla\", \"woo\", \"wu\", \"ya\", \"wala\", \"woop\", \"wrarrr\", \"ooh\",\n",
    "            \"ba\", \"duh\", \"du\", \"1\", \"2\", \"3\", \"4\" ,\"5\" ,\"6\", \"7\", \"8\", \"9\", \"0\"]\n",
    "\n",
    "for index, row in model_df.iterrows():\n",
    "    querywords = row['verse'].split()\n",
    "\n",
    "    resultwords  = [word for word in querywords if word.lower() not in stopwords]\n",
    "    row['verse'] = ' '.join(resultwords)\n",
    "\n",
    "model_df.verse[:5]"
   ]
  },
  {
   "cell_type": "code",
   "execution_count": 10,
   "metadata": {
    "ExecuteTime": {
     "end_time": "2018-08-24T01:18:09.001817Z",
     "start_time": "2018-08-24T01:18:08.998746Z"
    }
   },
   "outputs": [],
   "source": [
    "verses = list(model_df.verse.values)"
   ]
  },
  {
   "cell_type": "code",
   "execution_count": 11,
   "metadata": {
    "ExecuteTime": {
     "end_time": "2018-08-24T01:18:09.011195Z",
     "start_time": "2018-08-24T01:18:09.003805Z"
    }
   },
   "outputs": [
    {
     "data": {
      "text/plain": [
       "['lookin in the mirror im embarrassed im feelin like a suicidal terrorist react like an infant whenever you are mentioned mind over matter never worked for my nemesis im in the matter of man arm wrestlin hands i was dealt when i said the music business was all i needed when i got it i was greeted by an alien that said last year that she slept with a canadian that gave him an addiction thatd keep him in mercedes benz bright lights and rihanna as a lady friend my vice is similar women love when youre my type and youre winnin from everything that your palm write put her in the palms hotel sin city devil in a dress platinum chanel live the ambiance all cause the audience one day said i would do it so instead of a verse bein read ima go and get some head off the strength of my music i tell a bad bitch yo ass too fat capitalize that and your weave look good with the indian tracks trackin device on your used series i dont call back just blame it on your canadian the same day we say were in the area cruisin in toronto hit me on the cellular thought he was gonna sell me a false word like the rappers i know sat down with a few drinks located where you cant see us a white waitress on standby when we need her a black maybach 40 pulled up jeep no doors all that nigga was missin was aaliyah felt like the initiation a reality livin in the matrix we talk casually about the industry and how the women be the taste makers for the shit we makin then he said that he was the same age as myself and it didnt help cause it made me even more rude and impatient so blame it on mr ovoxo the reason why im breathin all the vanity i know the reason why my best friend said she love me more than life but i live a double life and need to let her go the reason why the highlight was when he said you belong to the people when youre outside so dig a shovel full of money full of power full of pussy full of fame and bury yourself alive then i died',\n",
       " 'lookin in the mirror im embarrassed im feelin like a suicidal terrorist react like an infant whenever you are mentioned mind over matter never worked for my nemesis im in the matter of man arm wrestlin hands i was dealt when i said the music business was all i needed when i got it i was greeted by an alien that said last year that she slept with a canadian that gave him an addiction thatd keep him in mercedes benz bright lights and rihanna as a lady friend my vice is similar women love when youre my type and youre winnin from everything that your palm write put her in the palms hotel sin city devil in a dress platinum chanel live the ambiance all cause the audience one day said i would do it so instead of a verse bein read ima go and get some head off the strength of my music i tell a bad bitch yo ass too fat capitalize that and your weave look good with the indian tracks trackin device on your used series i dont call back just blame it on your canadian the same day we say were in the area cruisin in toronto hit me on the cellular thought he was gonna sell me a false word like the rappers i know sat down with a few drinks located where you cant see us a white waitress on standby when we need her a black maybach 40 pulled up jeep no doors all that nigga was missin was aaliyah felt like the initiation a reality livin in the matrix we talk casually about the industry and how the women be the taste makers for the shit we makin then he said that he was the same age as myself and it didnt help cause it made me even more rude and impatient so blame it on mr ovoxo the reason why im breathin all the vanity i know the reason why my best friend said she love me more than life but i live a double life and need to let her go the reason why the highlight was when he said you belong to the people when youre outside so dig a shovel full of money full of power full of pussy full of fame and bury yourself alive then i died',\n",
       " 'shoutout to schoolboy q he uglier than a motherfucker laughs',\n",
       " 'tire marks tire marks finish line with the tire marks when the relay starts i m a runaway slave ugh walking on water and running on waves god mc my god you gotta see there s never no is in me of an odyssey i m a block away fire marshals moving in marshmallows inside my pen sweet sixteens got a sweet sixteen and they deadlier than sin i m so appalled with the prototype with a godly protocol you an amateur they wanna pro to call i damage on camera in compton in canada i don t care where are just blink twice and i m there where you are like a shadow in the dark you a paddle in the boat in an ocean full of sharks bout to come up short water in the pot flow crack rock like bam bam nigga have two grams nigga pay up or blam blam nigga had a black camry bumpin dipset killa cam nigga i had been around niggas killas pimps you ain t been around shit but your momma and your bitch shoved off the porch when i was like six uncle bobby got the house raided back in kick in the door k9s all in the kitchen way before i even heard of mike vick momma in the bathroom poppa at work happened on sunday we shoulda went to church look at my shirt polo on it it s gon sell if my logo on it i fear no opponent a demon come near and i might throw a spear at the omen you looking at the 2010 romans empire hiiipower hp in face like hd and i spit like a hk i mma shot like a h3 h u b c i t y a b and y g problem and hootie nigga tell the government come shoot me nigga cause i m going out with a fist raised and a fist full of money give it to a fifth grade drink a fifth of hennessy and then take another fade with a democratic politician from ca they don t wanna see a b l a c k making some scratch like a hall of fame dj give us some free j s put us in pjs now we in the county jail calling for a three way god damn yall cold mark of the beast wear your god damn bar code stuck in the street where its dark like harpo black man tell me where your god damn heart go although i m in the land of milk and honey nobody never gave me shit when i got my first chain all the niggas tried to take it from me i had to fight back and shit get it back and shit and you rap niggas looking funny tryna talk back and shit like he back that shit acting like you real or something nigga aint popped no steel aint popped no collar go pop some pills or something you trying real hard to appeal to someone i m being myself my bff is a bm dub with your bm in it and your stash box glove and the medicine a doctor gave a nigga wont help i m at the limit where i be amazing myself i bet i finish on a level with a black belt i bet i hit it where every rapper get killed like where the knife at cut cut cut where your life at your careers over he s slumped over and if im off beat know i m un sober thats a new flow pl plus q gave me some kush and some nuvo new dough for the new year and i sumo on a rap peer not a rapper i m a raptor thats a t rex in a v neck for the rapture i m a factor and your facial i will fracture to a fraction no one half and i hate math pastor s like eddie long fucking maricon took me mighty long to get here nigga fuck',\n",
       " 'nobody pray for me its been that day for me waaaaay',\n",
       " 'i remember syrup sandwiches and crime allowances finesse a nigga with some counterfeits but now i m countin this parmesan where my accountant lives in fact im downin this dussé with my boo bae tastes like kool aid for the analysts girl i can buy yo ass the world with my paystub that pussy good wont you sit it on my taste bloods i get way too petty once you let me do the extras pull up on your block then break it down we playin tetris a m to the p m p m to the a m funk piss out your per diem you just gotta hate funk if i quit your bm i still ride mercedes funk if i quit this season i still be the greatest funk my left stroke just went viral right stroke put lil baby in a spiral soprano c we like to keep it on a high note its levels to it you and i know',\n",
       " 'bitch be humble hol up bitch sit down hol up lil hol up lil bitch be humble hol up bitch sit down hol up sit down lil sit down lil bitch be humble hol up hol up bitch sit down hol up hol up lil bitch be humble lil bitch hol up bitch sit down hol up hol up hol up hol up be humble hol up hol up sit down hol up hol up lil hol up lil bitch be humble hol up bitch sit down hol up sit down lil sit down lil bitch be humble hol up hol up bitch sit down hol up hol up lil bitch be humble lil bitch hol up bitch sit down hol up hol up hol up hol up',\n",
       " 'who dat nigga thinkin that he frontin on man man man man get the fuck off my stage im the sandman sandman get the fuck off my dick that aint right i make a play fucking up your whole life im so fuckin sick and tired of the photoshop show me somethin natural like afro on richard pryor show me somethin natural like ass with some stretch marks still will take you down right on your mamas couch in polo socks this shit way too crazy you do not amaze me i blew cool from ac obama just paged me i dont fabricate it most of yall be fakin i stay modest bout it she elaborate it this that grey poupon that evian that ted talk watch my soul speak you let the meds talk if i kill a nigga it wont be the alcohol im the realest nigga after all',\n",
       " 'bitch be humble hol up bitch sit down hol up lil hol up lil bitch be humble hol up bitch sit down hol up sit down lil sit down lil bitch be humble hol up hol up bitch sit down hol up hol up lil bitch be humble lil bitch hol up bitch sit down hol up hol up hol up hol up be humble hol up hol up sit down hol up hol up lil hol up lil bitch be humble hol up bitch sit down hol up sit down lil sit down lil bitch be humble hol up hol up bitch sit down hol up hol up lil bitch be humble lil bitch hol up bitch sit down hol up hol up hol up hol up',\n",
       " 'if pirus and crips all got along theyd probably gun me down by the end of this song seem like the whole city go against me every time im in the street i hear yawk yawk yawk yawk']"
      ]
     },
     "execution_count": 11,
     "metadata": {},
     "output_type": "execute_result"
    }
   ],
   "source": [
    "verses[:10]"
   ]
  },
  {
   "cell_type": "code",
   "execution_count": 12,
   "metadata": {
    "ExecuteTime": {
     "end_time": "2018-08-24T01:18:09.019390Z",
     "start_time": "2018-08-24T01:18:09.013336Z"
    }
   },
   "outputs": [
    {
     "data": {
      "text/plain": [
       "'lookin in the mirror im embarrassed im feelin like a suicidal terrorist react like an infant wheneve'"
      ]
     },
     "execution_count": 12,
     "metadata": {},
     "output_type": "execute_result"
    }
   ],
   "source": [
    "all_verses_all_rappers = ','.join(verses)\n",
    "\n",
    "all_verses_all_rappers[:100]"
   ]
  },
  {
   "cell_type": "code",
   "execution_count": 13,
   "metadata": {
    "ExecuteTime": {
     "end_time": "2018-08-24T01:18:09.024141Z",
     "start_time": "2018-08-24T01:18:09.021505Z"
    }
   },
   "outputs": [],
   "source": [
    "file = all_verses_all_rappers"
   ]
  },
  {
   "cell_type": "code",
   "execution_count": 14,
   "metadata": {
    "ExecuteTime": {
     "end_time": "2018-08-24T01:18:09.032589Z",
     "start_time": "2018-08-24T01:18:09.026850Z"
    }
   },
   "outputs": [
    {
     "name": "stdout",
     "output_type": "stream",
     "text": [
      "file_len = 712344\n"
     ]
    }
   ],
   "source": [
    "# Read in text and change unicode characters to ASCII\n",
    "import unidecode\n",
    "import string\n",
    "import random\n",
    "import re\n",
    "\n",
    "all_characters = string.printable\n",
    "n_characters = len(all_characters)\n",
    "\n",
    "file_len = len(file)\n",
    "print(f'file_len = {file_len}')"
   ]
  },
  {
   "cell_type": "code",
   "execution_count": 15,
   "metadata": {
    "ExecuteTime": {
     "end_time": "2018-08-24T01:18:09.040074Z",
     "start_time": "2018-08-24T01:18:09.035156Z"
    }
   },
   "outputs": [
    {
     "name": "stdout",
     "output_type": "stream",
     "text": [
      "w im like i fuckin hate it bad and so we holler fuck what you heard see we been down for too long fuck what you heard we been tired of doin wrong if you got the nerve to man up and kill a man then man up double time and shake that adversarys hand bang,ah this for the hatred in you this is for that place of darkness they have placed into you this is for the early coffins of those discriminated or ra\n"
     ]
    }
   ],
   "source": [
    "chunk_len = 400\n",
    "\n",
    "def random_chunk():\n",
    "    start_index = random.randint(0, file_len - chunk_len)\n",
    "    end_index = start_index + chunk_len + 1\n",
    "    return file[start_index:end_index]\n",
    "\n",
    "print(random_chunk())"
   ]
  },
  {
   "cell_type": "code",
   "execution_count": 16,
   "metadata": {
    "ExecuteTime": {
     "end_time": "2018-08-24T01:18:09.292096Z",
     "start_time": "2018-08-24T01:18:09.042663Z"
    }
   },
   "outputs": [],
   "source": [
    "import torch\n",
    "import torch.nn as nn\n",
    "from torch.autograd import Variable\n",
    "import torch.nn.functional as F\n",
    "\n",
    "class RNN(nn.Module):\n",
    "    def __init__(self, input_size, hidden_size, output_size, n_layers=1):\n",
    "        super(RNN, self).__init__()\n",
    "        self.input_size = input_size\n",
    "        self.hidden_size = hidden_size\n",
    "        self.output_size = output_size\n",
    "        self.n_layers = n_layers\n",
    "        \n",
    "        self.encoder = nn.Embedding(input_size, hidden_size)\n",
    "        self.gru = nn.GRU(hidden_size, hidden_size, n_layers)\n",
    "        self.decoder = nn.Linear(hidden_size, output_size)\n",
    "        \n",
    "    def forward(self, input, hidden):\n",
    "        output = self.encoder(input.view(1, -1))\n",
    "        output, hidden = self.gru(output.view(1, 1, -1), hidden)\n",
    "        output = self.decoder(output.view(1, -1))\n",
    "        \n",
    "        return output, hidden\n",
    "    \n",
    "    def init_hidden(self):\n",
    "        return Variable(torch.randn(self.n_layers, 1, self.hidden_size))"
   ]
  },
  {
   "cell_type": "code",
   "execution_count": 17,
   "metadata": {
    "ExecuteTime": {
     "end_time": "2018-08-24T01:18:09.301544Z",
     "start_time": "2018-08-24T01:18:09.294759Z"
    }
   },
   "outputs": [
    {
     "name": "stdout",
     "output_type": "stream",
     "text": [
      "tensor([48, 14, 29, 18, 28,  0,  1,  2,  3, 10, 11, 12, 35, 36, 37, 38])\n"
     ]
    }
   ],
   "source": [
    "def char2tensor(string):\n",
    "    tensor = torch.zeros(len(string)).long()\n",
    "    for char in range(len(string)):\n",
    "        if string[char] in all_characters:\n",
    "            tensor[char] = all_characters.index(string[char])\n",
    "        else:\n",
    "            tensor[char] = 94 #predict space if character unknown\n",
    "        \n",
    "    return Variable(tensor)\n",
    "\n",
    "# Let's see it in action.\n",
    "print(char2tensor('Metis0123abczABC'))"
   ]
  },
  {
   "cell_type": "code",
   "execution_count": 18,
   "metadata": {
    "ExecuteTime": {
     "end_time": "2018-08-24T01:18:09.306810Z",
     "start_time": "2018-08-24T01:18:09.303467Z"
    }
   },
   "outputs": [],
   "source": [
    "def random_training_set():\n",
    "    chunk = random_chunk()\n",
    "    inp = char2tensor(chunk[:-1])\n",
    "    target = char2tensor(chunk[1:])\n",
    "    return inp, target"
   ]
  },
  {
   "cell_type": "code",
   "execution_count": 19,
   "metadata": {
    "ExecuteTime": {
     "end_time": "2018-08-24T01:18:09.320552Z",
     "start_time": "2018-08-24T01:18:09.309415Z"
    }
   },
   "outputs": [],
   "source": [
    "def evaluate(model, prime_str='A', predict_len=100, temperature=0.8):\n",
    "    \n",
    "    hidden = model.init_hidden()\n",
    "    prime_input = char2tensor(prime_str)\n",
    "    predicted = prime_str\n",
    "    \n",
    "    # use priming string to build up hidden state\n",
    "    \n",
    "    for p in range(len(prime_str) - 1):\n",
    "        _, hidden = model(prime_input[p], hidden)\n",
    "    inp = prime_input[-1]\n",
    "    \n",
    "    for p in range(predict_len):\n",
    "        output, hidden = model(inp, hidden)\n",
    "        \n",
    "        # Sample from the network as a multinomial distribution\n",
    "        output_dist = output.data.view(-1).div(temperature).exp()\n",
    "        top_i = torch.multinomial(output_dist, 1)[0]\n",
    "        \n",
    "        # Add predicted character to string and use as next input\n",
    "        predicted_char = all_characters[top_i]\n",
    "        predicted += predicted_char\n",
    "        inp = char2tensor(predicted_char)\n",
    "        \n",
    "    return predicted"
   ]
  },
  {
   "cell_type": "code",
   "execution_count": 20,
   "metadata": {
    "ExecuteTime": {
     "end_time": "2018-08-24T01:18:09.326295Z",
     "start_time": "2018-08-24T01:18:09.322262Z"
    }
   },
   "outputs": [],
   "source": [
    "# helper function\n",
    "import time, math\n",
    "\n",
    "def time_since(since):\n",
    "    s = time.time() - since\n",
    "    m = math.floor(s/60)\n",
    "    s -= m*60\n",
    "    return '%dm %ds' % (m, s)"
   ]
  },
  {
   "cell_type": "code",
   "execution_count": 21,
   "metadata": {
    "ExecuteTime": {
     "end_time": "2018-08-24T01:18:09.333883Z",
     "start_time": "2018-08-24T01:18:09.328487Z"
    }
   },
   "outputs": [],
   "source": [
    "# The actual training part\n",
    "def train(inp, target):\n",
    "    hidden = model.init_hidden()\n",
    "    model.zero_grad()\n",
    "    loss = 0\n",
    "\n",
    "    for char in range(chunk_len):\n",
    "        output, hidden = model(inp[char], hidden)\n",
    "        loss += criterion(output, target[char].unsqueeze(0))\n",
    "\n",
    "    loss.backward()\n",
    "    model_optimizer.step()\n",
    "\n",
    "    return loss.data.item() / chunk_len"
   ]
  },
  {
   "cell_type": "code",
   "execution_count": 22,
   "metadata": {
    "ExecuteTime": {
     "end_time": "2018-08-24T01:29:44.585892Z",
     "start_time": "2018-08-24T01:18:09.335748Z"
    }
   },
   "outputs": [
    {
     "name": "stdout",
     "output_type": "stream",
     "text": [
      "[1m 11s (100 10%) 2.0635]\n",
      "A bean ang spon the nonend you it can bat enod a thes 0usry qere oth my lut cyop an as mnin or a cilin \n",
      "\n",
      "[2m 20s (200 20%) 1.8516]\n",
      "A west a frow that you a the blyther up dont whtery im the im wand tury do that bitch the upin is and  \n",
      "\n",
      "[3m 26s (300 30%) 1.8731]\n",
      "A i put belets hitze stroshe ime should for droy five a wang that me i with lot the comp in lipes is k \n",
      "\n",
      "[4m 36s (400 40%) 1.8033]\n",
      "A rick when a my like mare fister creed the baby can s this rickith bad give be me plat the kones i kn \n",
      "\n",
      "[5m 46s (500 50%) 1.8109]\n",
      "A jufle you by by heam for the world you can under say the got and i riqhangy floos in at the the is a \n",
      "\n",
      "[6m 57s (600 60%) 1.7576]\n",
      "A withing tomed that she seebus im lose you look told i been what launtel up it here up and themor my  \n",
      "\n",
      "[8m 9s (700 70%) 1.5804]\n",
      "A lace i fadedy be she homie i praybody wanna my be lying tryna baby firsted i makin at that see look  \n",
      "\n",
      "[9m 17s (800 80%) 1.6214]\n",
      "A 10 walk can gotta let leot you hate i know got my hate is the his next my thinkern of the crack a sm \n",
      "\n",
      "[10m 26s (900 90%) 1.7034]\n",
      "A notta boothern in the havin time not stay this what motherfy shorted have posect i got to drown i go \n",
      "\n",
      "[11m 35s (1000 100%) 1.5012]\n",
      "A dont dont romma troing don cash a come my was is a bring your or dont her for my tank jo sing dont j \n",
      "\n"
     ]
    }
   ],
   "source": [
    "# parameters\n",
    "n_epochs = 1000\n",
    "print_every = 100\n",
    "plot_every = 10\n",
    "hidden_size = 256\n",
    "n_layers = 2\n",
    "learning_rate = 0.001\n",
    "\n",
    "# model declaration\n",
    "model = RNN(n_characters, hidden_size, n_characters, n_layers)\n",
    "model_optimizer = torch.optim.Adam(model.parameters(), lr=learning_rate)\n",
    "criterion = nn.CrossEntropyLoss()\n",
    "\n",
    "start = time.time()\n",
    "all_losses = []\n",
    "loss_avg = 0\n",
    "\n",
    "for epoch in range(1, n_epochs + 1):\n",
    "    loss = train(*random_training_set())       \n",
    "    loss_avg += loss\n",
    "\n",
    "    if epoch % print_every == 0:\n",
    "        print('[%s (%d %d%%) %.4f]' % (time_since(start), epoch, epoch / n_epochs * 100, loss))\n",
    "        print(evaluate(model, 'A ', 100), '\\n')\n",
    "\n",
    "    if epoch % plot_every == 0:\n",
    "        all_losses.append(loss_avg / plot_every)\n",
    "        loss_avg = 0"
   ]
  },
  {
   "cell_type": "code",
   "execution_count": 23,
   "metadata": {
    "ExecuteTime": {
     "end_time": "2018-08-24T01:29:44.607151Z",
     "start_time": "2018-08-24T01:29:44.588042Z"
    }
   },
   "outputs": [],
   "source": [
    "with open('models/kendrick_rnn_generator.pkl', 'wb') as picklefile:\n",
    "    pickle.dump(model, picklefile)"
   ]
  },
  {
   "cell_type": "code",
   "execution_count": 24,
   "metadata": {
    "ExecuteTime": {
     "end_time": "2018-08-24T01:29:44.778682Z",
     "start_time": "2018-08-24T01:29:44.609328Z"
    }
   },
   "outputs": [
    {
     "data": {
      "text/plain": [
       "[<matplotlib.lines.Line2D at 0x10c307588>]"
      ]
     },
     "execution_count": 24,
     "metadata": {},
     "output_type": "execute_result"
    },
    {
     "data": {
      "image/png": "[encoded data removed]",
      "text/plain": [
       "<Figure size 432x288 with 1 Axes>"
      ]
     },
     "metadata": {},
     "output_type": "display_data"
    }
   ],
   "source": [
    "import matplotlib.pyplot as plt\n",
    "import matplotlib.ticker as ticker\n",
    "%matplotlib inline\n",
    "\n",
    "plt.figure()\n",
    "plt.plot(all_losses)"
   ]
  },
  {
   "cell_type": "code",
   "execution_count": 25,
   "metadata": {
    "ExecuteTime": {
     "end_time": "2018-08-24T01:29:44.970790Z",
     "start_time": "2018-08-24T01:29:44.781434Z"
    }
   },
   "outputs": [
    {
     "name": "stdout",
     "output_type": "stream",
     "text": [
      "To be or not to be: i m man that to the did bought nigga was heart all my niggas a can boy dont dont to king me comple a second the mecond i dont and dont dont dont sin no when i was hoes i want i got a to so didnt dont \n"
     ]
    }
   ],
   "source": [
    "# Evaluate model from this notebook\n",
    "print(evaluate(model, 'To be or not to be: ', predict_len=200, temperature=0.5))"
   ]
  },
  {
   "cell_type": "code",
   "execution_count": 26,
   "metadata": {
    "ExecuteTime": {
     "end_time": "2018-08-24T01:29:45.157959Z",
     "start_time": "2018-08-24T01:29:44.973306Z"
    }
   },
   "outputs": [
    {
     "name": "stdout",
     "output_type": "stream",
     "text": [
      "I miss you girl come back big be i and and the motherfuck the back all that the was bout i to back i dont everything i see a kendrick can the cound i can dont to that you can bitch i back all go and the and dont come i know th\n"
     ]
    }
   ],
   "source": [
    "# Evaluate model from this notebook\n",
    "print(evaluate(model, 'I miss you girl come back ', predict_len=200, temperature=0.5))"
   ]
  },
  {
   "cell_type": "code",
   "execution_count": 27,
   "metadata": {
    "ExecuteTime": {
     "end_time": "2018-08-24T01:29:45.357088Z",
     "start_time": "2018-08-24T01:29:45.160271Z"
    }
   },
   "outputs": [
    {
     "name": "stdout",
     "output_type": "stream",
     "text": [
      "Started from the bottom the song you dont dont bout you know i was that you king thats i can controne i back a dont boy and dont new bout you dont come i can had bang i dont be and the for my can the can dont compton back i\n"
     ]
    }
   ],
   "source": [
    "# Evaluate model from this notebook\n",
    "print(evaluate(model, \"Started from the bottom\", predict_len=200, temperature=0.4))"
   ]
  },
  {
   "cell_type": "code",
   "execution_count": 28,
   "metadata": {
    "ExecuteTime": {
     "end_time": "2018-08-24T01:29:45.541444Z",
     "start_time": "2018-08-24T01:29:45.360767Z"
    }
   },
   "outputs": [
    {
     "name": "stdout",
     "output_type": "stream",
     "text": [
      "I'm the realest rapper alive i complets i know when you can be and the condical be and that i can a boo bout and dont dont king my song and that for the compton i sing my hole i m the come one i can back i love i can controck th\n"
     ]
    }
   ],
   "source": [
    "# Evaluate model from this notebook\n",
    "print(evaluate(model, \"I'm the realest rapper alive\", predict_len=200, temperature=0.4))"
   ]
  },
  {
   "cell_type": "code",
   "execution_count": 29,
   "metadata": {
    "ExecuteTime": {
     "end_time": "2018-08-24T01:29:45.693742Z",
     "start_time": "2018-08-24T01:29:45.543960Z"
    }
   },
   "outputs": [
    {
     "name": "stdout",
     "output_type": "stream",
     "text": [
      "Smoke a lot of weed and the compton i dont song to the song i dont and you was and the for a compling a dont i was a see my dont come i dont complead be his dont i sing you at i cont be and propent you be what i can was\n"
     ]
    }
   ],
   "source": [
    "# Evaluate model from this notebook\n",
    "print(evaluate(model, \"Smoke a lot of weed\", predict_len=200, temperature=0.4))"
   ]
  },
  {
   "cell_type": "code",
   "execution_count": 30,
   "metadata": {
    "ExecuteTime": {
     "end_time": "2018-08-24T01:29:45.848435Z",
     "start_time": "2018-08-24T01:29:45.696252Z"
    }
   },
   "outputs": [
    {
     "name": "stdout",
     "output_type": "stream",
     "text": [
      "Baby come i was dont you aint around you a been my send me i was and you know when me be and the come me the song my nigga for i cont king you know when i dont can complication i can be dont to condo compton m\n"
     ]
    }
   ],
   "source": [
    "# Evaluate model from this notebook\n",
    "print(evaluate(model, \"Baby come\", predict_len=200, temperature=0.4))"
   ]
  },
  {
   "cell_type": "code",
   "execution_count": null,
   "metadata": {},
   "outputs": [],
   "source": []
  }
 ],
 "metadata": {
  "kernelspec": {
   "display_name": "Python 3",
   "language": "python",
   "name": "python3"
  },
  "language_info": {
   "codemirror_mode": {
    "name": "ipython",
    "version": 3
   },
   "file_extension": ".py",
   "mimetype": "text/x-python",
   "name": "python",
   "nbconvert_exporter": "python",
   "pygments_lexer": "ipython3",
   "version": "3.6.6"
  },
  "varInspector": {
   "cols": {
    "lenName": 16,
    "lenType": 16,
    "lenVar": 40
   },
   "kernels_config": {
    "python": {
     "delete_cmd_postfix": "",
     "delete_cmd_prefix": "del ",
     "library": "var_list.py",
     "varRefreshCmd": "print(var_dic_list())"
    },
    "r": {
     "delete_cmd_postfix": ") ",
     "delete_cmd_prefix": "rm(",
     "library": "var_list.r",
     "varRefreshCmd": "cat(var_dic_list()) "
    }
   },
   "types_to_exclude": [
    "module",
    "function",
    "builtin_function_or_method",
    "instance",
    "_Feature"
   ],
   "window_display": false
  }
 },
 "nbformat": 4,
 "nbformat_minor": 2
}
