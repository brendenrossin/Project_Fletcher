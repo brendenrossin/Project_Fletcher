{
 "cells": [
  {
   "cell_type": "code",
   "execution_count": 1,
   "metadata": {
    "ExecuteTime": {
     "end_time": "2018-08-23T23:49:41.368582Z",
     "start_time": "2018-08-23T23:49:40.109746Z"
    }
   },
   "outputs": [
    {
     "name": "stderr",
     "output_type": "stream",
     "text": [
      "/Users/brendenrossin/anaconda3/lib/python3.6/site-packages/sklearn/cross_validation.py:41: DeprecationWarning: This module was deprecated in version 0.18 in favor of the model_selection module into which all the refactored classes and functions are moved. Also note that the interface of the new CV iterators are different from that of this module. This module will be removed in 0.20.\n",
      "  \"This module will be removed in 0.20.\", DeprecationWarning)\n"
     ]
    }
   ],
   "source": [
    "import pandas as pd\n",
    "import random\n",
    "from time import sleep\n",
    "import warnings\n",
    "warnings.filterwarnings(\"ignore\",category=DeprecationWarning)\n",
    "import numpy as np\n",
    "import nltk\n",
    "import os\n",
    "from sklearn import datasets\n",
    "import pickle\n",
    "from nltk.tokenize import word_tokenize\n",
    "from sklearn.decomposition import NMF, TruncatedSVD\n",
    "import matplotlib.pyplot as plt\n",
    "import seaborn as sns\n",
    "from sklearn.decomposition import LatentDirichletAllocation\n",
    "from sklearn.neighbors import NearestNeighbors\n",
    "from sklearn.cross_validation import train_test_split, cross_val_score\n",
    "from sklearn.linear_model import RidgeCV\n",
    "from sklearn.pipeline import make_pipeline, Pipeline\n",
    "from sklearn.preprocessing import PolynomialFeatures, StandardScaler\n",
    "from sklearn.neighbors import KNeighborsClassifier\n",
    "from sklearn.linear_model import LogisticRegression\n",
    "from sklearn.metrics import accuracy_score, recall_score, precision_score, f1_score, roc_auc_score, roc_curve, auc, fbeta_score\n",
    "from sklearn.model_selection import learning_curve, KFold, GridSearchCV, cross_val_score\n",
    "from sklearn.naive_bayes import GaussianNB, MultinomialNB\n",
    "from sklearn.svm import SVC\n",
    "from sklearn.tree import DecisionTreeClassifier\n",
    "from sklearn.ensemble import RandomForestClassifier, GradientBoostingClassifier\n",
    "from sklearn.dummy import DummyClassifier\n",
    "from collections import Counter\n",
    "from sklearn.feature_extraction.text import TfidfTransformer, CountVectorizer, TfidfVectorizer\n",
    "from sklearn.feature_extraction import text\n",
    "from sklearn.preprocessing import normalize\n",
    "import re\n",
    "from unidecode import unidecode\n",
    "\n",
    "import matplotlib.style as style\n",
    "%matplotlib inline\n",
    "plt.style.use('ggplot')"
   ]
  },
  {
   "cell_type": "code",
   "execution_count": 2,
   "metadata": {
    "ExecuteTime": {
     "end_time": "2018-08-23T23:49:41.389960Z",
     "start_time": "2018-08-23T23:49:41.370822Z"
    }
   },
   "outputs": [],
   "source": [
    "with open('data/cleaned_df.pkl', 'rb') as picklefile:\n",
    "    df = pickle.load(picklefile)"
   ]
  },
  {
   "cell_type": "code",
   "execution_count": 3,
   "metadata": {
    "ExecuteTime": {
     "end_time": "2018-08-23T23:49:41.470719Z",
     "start_time": "2018-08-23T23:49:41.391604Z"
    }
   },
   "outputs": [
    {
     "data": {
      "text/html": [
       "<div>\n",
       "<style scoped>\n",
       "    .dataframe tbody tr th:only-of-type {\n",
       "        vertical-align: middle;\n",
       "    }\n",
       "\n",
       "    .dataframe tbody tr th {\n",
       "        vertical-align: top;\n",
       "    }\n",
       "\n",
       "    .dataframe thead th {\n",
       "        text-align: right;\n",
       "    }\n",
       "</style>\n",
       "<table border=\"1\" class=\"dataframe\">\n",
       "  <thead>\n",
       "    <tr style=\"text-align: right;\">\n",
       "      <th></th>\n",
       "      <th>song_owner</th>\n",
       "      <th>song_title</th>\n",
       "      <th>song_element</th>\n",
       "      <th>verse</th>\n",
       "      <th>artist</th>\n",
       "    </tr>\n",
       "  </thead>\n",
       "  <tbody>\n",
       "    <tr>\n",
       "      <th>0</th>\n",
       "      <td>Childish Gambino</td>\n",
       "      <td>This Is America</td>\n",
       "      <td>[Bridge: Childish Gambino &amp; Young Thug]</td>\n",
       "      <td>We just wanna party, Party just for you, We ju...</td>\n",
       "      <td>Childish Gambino</td>\n",
       "    </tr>\n",
       "    <tr>\n",
       "      <th>1</th>\n",
       "      <td>Childish Gambino</td>\n",
       "      <td>This Is America</td>\n",
       "      <td>[Chorus: Childish Gambino]</td>\n",
       "      <td>This is America, Don't catch you slippin' now,...</td>\n",
       "      <td>Childish Gambino</td>\n",
       "    </tr>\n",
       "    <tr>\n",
       "      <th>2</th>\n",
       "      <td>Childish Gambino</td>\n",
       "      <td>This Is America</td>\n",
       "      <td>[Verse 1: Childish Gambino, Blocboy JB, Slim J...</td>\n",
       "      <td>This is America (skrrt, skrrt, woo), Don't cat...</td>\n",
       "      <td>Childish Gambino</td>\n",
       "    </tr>\n",
       "    <tr>\n",
       "      <th>3</th>\n",
       "      <td>Childish Gambino</td>\n",
       "      <td>This Is America</td>\n",
       "      <td>[Refrain: Choir &amp; Childish Gambino]</td>\n",
       "      <td>Ooh-ooh-ooh-ooh-ooh, tell somebody, You go tel...</td>\n",
       "      <td>Childish Gambino</td>\n",
       "    </tr>\n",
       "    <tr>\n",
       "      <th>4</th>\n",
       "      <td>Childish Gambino</td>\n",
       "      <td>This Is America</td>\n",
       "      <td>[Chorus: Childish Gambino, Slim Jxmmi &amp; Young ...</td>\n",
       "      <td>This is America (woo, ayy), Don't catch you sl...</td>\n",
       "      <td>Childish Gambino</td>\n",
       "    </tr>\n",
       "  </tbody>\n",
       "</table>\n",
       "</div>"
      ],
      "text/plain": [
       "         song_owner       song_title  \\\n",
       "0  Childish Gambino  This Is America   \n",
       "1  Childish Gambino  This Is America   \n",
       "2  Childish Gambino  This Is America   \n",
       "3  Childish Gambino  This Is America   \n",
       "4  Childish Gambino  This Is America   \n",
       "\n",
       "                                        song_element  \\\n",
       "0            [Bridge: Childish Gambino & Young Thug]   \n",
       "1                         [Chorus: Childish Gambino]   \n",
       "2  [Verse 1: Childish Gambino, Blocboy JB, Slim J...   \n",
       "3                [Refrain: Choir & Childish Gambino]   \n",
       "4  [Chorus: Childish Gambino, Slim Jxmmi & Young ...   \n",
       "\n",
       "                                               verse            artist  \n",
       "0  We just wanna party, Party just for you, We ju...  Childish Gambino  \n",
       "1  This is America, Don't catch you slippin' now,...  Childish Gambino  \n",
       "2  This is America (skrrt, skrrt, woo), Don't cat...  Childish Gambino  \n",
       "3  Ooh-ooh-ooh-ooh-ooh, tell somebody, You go tel...  Childish Gambino  \n",
       "4  This is America (woo, ayy), Don't catch you sl...  Childish Gambino  "
      ]
     },
     "execution_count": 3,
     "metadata": {},
     "output_type": "execute_result"
    }
   ],
   "source": [
    "df.head()"
   ]
  },
  {
   "cell_type": "code",
   "execution_count": 4,
   "metadata": {
    "ExecuteTime": {
     "end_time": "2018-08-23T23:49:41.482258Z",
     "start_time": "2018-08-23T23:49:41.474278Z"
    }
   },
   "outputs": [],
   "source": [
    "model_df = df.copy()\n",
    "\n",
    "model_df = model_df[model_df['artist'] == 'Chance the Rapper']"
   ]
  },
  {
   "cell_type": "code",
   "execution_count": 5,
   "metadata": {
    "ExecuteTime": {
     "end_time": "2018-08-23T23:49:41.548938Z",
     "start_time": "2018-08-23T23:49:41.486387Z"
    }
   },
   "outputs": [],
   "source": [
    "model_df['verse_words'] = model_df['verse'].copy()\n",
    "model_df['verse_words'] = model_df['verse_words'].str.lower()\n",
    "model_df['verse_words'] = model_df['verse_words'].apply(lambda x: x.replace(',',''))\n",
    "model_df['verse_words'] = model_df['verse_words'].apply(lambda x: x.split(' '))"
   ]
  },
  {
   "cell_type": "code",
   "execution_count": 6,
   "metadata": {
    "ExecuteTime": {
     "end_time": "2018-08-23T23:49:41.566763Z",
     "start_time": "2018-08-23T23:49:41.550792Z"
    }
   },
   "outputs": [
    {
     "data": {
      "text/html": [
       "<div>\n",
       "<style scoped>\n",
       "    .dataframe tbody tr th:only-of-type {\n",
       "        vertical-align: middle;\n",
       "    }\n",
       "\n",
       "    .dataframe tbody tr th {\n",
       "        vertical-align: top;\n",
       "    }\n",
       "\n",
       "    .dataframe thead th {\n",
       "        text-align: right;\n",
       "    }\n",
       "</style>\n",
       "<table border=\"1\" class=\"dataframe\">\n",
       "  <thead>\n",
       "    <tr style=\"text-align: right;\">\n",
       "      <th></th>\n",
       "      <th>song_owner</th>\n",
       "      <th>song_title</th>\n",
       "      <th>song_element</th>\n",
       "      <th>verse</th>\n",
       "      <th>artist</th>\n",
       "      <th>verse_words</th>\n",
       "    </tr>\n",
       "  </thead>\n",
       "  <tbody>\n",
       "    <tr>\n",
       "      <th>316</th>\n",
       "      <td>Childish Gambino</td>\n",
       "      <td>They Don't Like Me</td>\n",
       "      <td>[Verse 1: Chance The Rapper]</td>\n",
       "      <td>Eddy Scissorhands is workin' on my linin', Get...</td>\n",
       "      <td>Chance the Rapper</td>\n",
       "      <td>[eddy, scissorhands, is, workin', on, my, lini...</td>\n",
       "    </tr>\n",
       "    <tr>\n",
       "      <th>793</th>\n",
       "      <td>Childish Gambino</td>\n",
       "      <td>The Worst Guys (Live at Governor’s Ball)</td>\n",
       "      <td>[Verse 2: Chance The Rapper]</td>\n",
       "      <td>You are the prototype, I love you like you lov...</td>\n",
       "      <td>Chance the Rapper</td>\n",
       "      <td>[you, are, the, prototype, i, love, you, like,...</td>\n",
       "    </tr>\n",
       "    <tr>\n",
       "      <th>824</th>\n",
       "      <td>Chance The Rapper</td>\n",
       "      <td>Favorite Song</td>\n",
       "      <td>[Verse 1: Chance The Rapper]</td>\n",
       "      <td>Chance, acid rapper, soccer, hacky sacker, Coc...</td>\n",
       "      <td>Chance the Rapper</td>\n",
       "      <td>[chance, acid, rapper, soccer, hacky, sacker, ...</td>\n",
       "    </tr>\n",
       "    <tr>\n",
       "      <th>825</th>\n",
       "      <td>Chance The Rapper</td>\n",
       "      <td>Favorite Song</td>\n",
       "      <td>[Chorus: Chance The Rapper]</td>\n",
       "      <td>This shit my favorite song, you just don't kno...</td>\n",
       "      <td>Chance the Rapper</td>\n",
       "      <td>[this, shit, my, favorite, song, you, just, do...</td>\n",
       "    </tr>\n",
       "    <tr>\n",
       "      <th>826</th>\n",
       "      <td>Chance The Rapper</td>\n",
       "      <td>Favorite Song</td>\n",
       "      <td>[Verse 2: Chance The Rapper]</td>\n",
       "      <td>Young Rascal Flatts - young ass kid ass could ...</td>\n",
       "      <td>Chance the Rapper</td>\n",
       "      <td>[young, rascal, flatts, -, young, ass, kid, as...</td>\n",
       "    </tr>\n",
       "  </tbody>\n",
       "</table>\n",
       "</div>"
      ],
      "text/plain": [
       "            song_owner                                song_title  \\\n",
       "316   Childish Gambino                        They Don't Like Me   \n",
       "793   Childish Gambino  The Worst Guys (Live at Governor’s Ball)   \n",
       "824  Chance The Rapper                             Favorite Song   \n",
       "825  Chance The Rapper                             Favorite Song   \n",
       "826  Chance The Rapper                             Favorite Song   \n",
       "\n",
       "                     song_element  \\\n",
       "316  [Verse 1: Chance The Rapper]   \n",
       "793  [Verse 2: Chance The Rapper]   \n",
       "824  [Verse 1: Chance The Rapper]   \n",
       "825   [Chorus: Chance The Rapper]   \n",
       "826  [Verse 2: Chance The Rapper]   \n",
       "\n",
       "                                                 verse             artist  \\\n",
       "316  Eddy Scissorhands is workin' on my linin', Get...  Chance the Rapper   \n",
       "793  You are the prototype, I love you like you lov...  Chance the Rapper   \n",
       "824  Chance, acid rapper, soccer, hacky sacker, Coc...  Chance the Rapper   \n",
       "825  This shit my favorite song, you just don't kno...  Chance the Rapper   \n",
       "826  Young Rascal Flatts - young ass kid ass could ...  Chance the Rapper   \n",
       "\n",
       "                                           verse_words  \n",
       "316  [eddy, scissorhands, is, workin', on, my, lini...  \n",
       "793  [you, are, the, prototype, i, love, you, like,...  \n",
       "824  [chance, acid, rapper, soccer, hacky, sacker, ...  \n",
       "825  [this, shit, my, favorite, song, you, just, do...  \n",
       "826  [young, rascal, flatts, -, young, ass, kid, as...  "
      ]
     },
     "execution_count": 6,
     "metadata": {},
     "output_type": "execute_result"
    }
   ],
   "source": [
    "model_df.head()"
   ]
  },
  {
   "cell_type": "code",
   "execution_count": 7,
   "metadata": {
    "ExecuteTime": {
     "end_time": "2018-08-23T23:49:41.789185Z",
     "start_time": "2018-08-23T23:49:41.568788Z"
    }
   },
   "outputs": [],
   "source": [
    "from nltk.tokenize import word_tokenize\n",
    "model_df['tokenize_verse'] = model_df['verse'].copy()\n",
    "model_df['tokenize_verse'] = model_df['tokenize_verse'].str.lower()\n",
    "model_df['tokenize_verse'] = model_df['tokenize_verse'].apply(lambda x: word_tokenize(x))"
   ]
  },
  {
   "cell_type": "code",
   "execution_count": 8,
   "metadata": {
    "ExecuteTime": {
     "end_time": "2018-08-23T23:49:41.818931Z",
     "start_time": "2018-08-23T23:49:41.790910Z"
    }
   },
   "outputs": [],
   "source": [
    "model_df['verse'] = model_df['verse'].str.lower()\n",
    "model_df['verse'] = model_df['verse'].apply(lambda x: x.replace(\"'\",''))\n",
    "model_df['verse'] = model_df['verse'].apply(lambda x: \"\".join([c if c.isalnum() else \" \" for c in x ]))\n",
    "model_df['verse'] = model_df['verse'].apply(lambda x: x.replace('  ',' '))"
   ]
  },
  {
   "cell_type": "code",
   "execution_count": 9,
   "metadata": {
    "ExecuteTime": {
     "end_time": "2018-08-23T23:49:41.891982Z",
     "start_time": "2018-08-23T23:49:41.821079Z"
    }
   },
   "outputs": [
    {
     "data": {
      "text/plain": [
       "316    eddy scissorhands is workin on my linin gettin...\n",
       "793    you are the prototype i love you like you love...\n",
       "824    chance acid rapper soccer hacky sacker cocky k...\n",
       "825    this shit my favorite song you just dont know ...\n",
       "826    young rascal flatts young ass kid ass could ra...\n",
       "Name: verse, dtype: object"
      ]
     },
     "execution_count": 9,
     "metadata": {},
     "output_type": "execute_result"
    }
   ],
   "source": [
    "stopwords = [\"yeah\", \"uh\", \"huh\", \"aw\", \"oh\", \"la\", \"ayy\",\n",
    "            \"na\", \"ha\", \"ay\", \"skrrt\",\n",
    "            \"em\", \"bla\", \"woo\", \"wu\", \"ya\", \"wala\", \"woop\", \"wrarrr\", \"ooh\",\n",
    "            \"ba\", \"duh\", \"du\", \"1\", \"2\", \"3\", \"4\" ,\"5\" ,\"6\", \"7\", \"8\", \"9\", \"0\"]\n",
    "\n",
    "for index, row in model_df.iterrows():\n",
    "    querywords = row['verse'].split()\n",
    "\n",
    "    resultwords  = [word for word in querywords if word.lower() not in stopwords]\n",
    "    row['verse'] = ' '.join(resultwords)\n",
    "\n",
    "model_df.verse[:5]"
   ]
  },
  {
   "cell_type": "code",
   "execution_count": 10,
   "metadata": {
    "ExecuteTime": {
     "end_time": "2018-08-23T23:49:41.896015Z",
     "start_time": "2018-08-23T23:49:41.893622Z"
    }
   },
   "outputs": [],
   "source": [
    "verses = list(model_df.verse.values)"
   ]
  },
  {
   "cell_type": "code",
   "execution_count": 11,
   "metadata": {
    "ExecuteTime": {
     "end_time": "2018-08-23T23:49:41.902204Z",
     "start_time": "2018-08-23T23:49:41.898065Z"
    }
   },
   "outputs": [
    {
     "data": {
      "text/plain": [
       "['eddy scissorhands is workin on my linin gettin spiffy for these bitches i be eyeing fredward mercury was playin while im ridin down the ryan in a scion and im flyin but its cool i got insurance on the run because i got warrants but its cool i got endurance in school i got suspended but in turn i got some earnings couldve spent it all on thursday but i saved it for my parents but i spent a bit on friday in the night i hang with donald im tired of mcdonalds want a chick that cook chicano that cant speak a lick of english and pronounce my name like chano she say something something spanish i look back like bitch i know tonight imma make decisions for life take some lucys boomers dark liq and light some might drive thats that shit right there that i dont like there that shit just had to say shouts to the niggas that passed away and shots for the niggas thats here right now and shots at the niggas that got away so sad to say but its all good niggas gon celebrate and wait for the day and wait for the day shit detonate with alize like live from the chi its saturday night',\n",
       " 'you are the prototype i love you like you love your photo likes when you post your life some of these hoes just wanna instagram me you out here trying to win you an instagrammy instant pancakes in the morning aunt jemima try to andre benjamin me im sorry ms jackson but your daughter do dicks wouldnt be my old bitch if you taught her new tricks but she do do the one thing with her tongue ring when she bust like a gun range i had a couple pics record her out her panties but thats just chump change she the type of bitch that loves to say shes mixed but when she say the roster she always say black last you know what it is and you know who it is i love you with your black ass everything that you did mean everything you my bitch did everything all you needed was some dick shorty',\n",
       " 'chance acid rapper soccer hacky sacker cocky khaki jacket jacker slap happy faggot slapper iraqi rocket launcher shake that laffy taffy jolly raunchy rapper dang dang dang skeet skeet skeet she do that thing for three retweets the album feel like 92 now take that ball fore he three peat chance ho acid cruising on that lsd asked joseph about my deal he looked back said hell lets eat',\n",
       " 'this shit my favorite song you just dont know the words but i still fuck with you you just aint never heard it go like count that stack pop that cap then down that jack all my niggas hit that zan and all my ladies bob that back this my jam this my jam this my jam this my jam im bout that jam im bout that jam im bout that jam im bout that jam this my jam this my jam this my jam this my jam im bout that jam im bout that jam im bout that jam im bout that jam',\n",
       " 'young rascal flatts young ass kid ass could rap fuck all the faculty tobacco packing acrobat back to back packin bags back and forth with fifths of jack and fourths of weed im back to pack on hands with young cletus to pat my back real nigga with a nose ring thats right just here to rap them songs rag on my hair wrap weed in vegas rockin vagabonds sang a song you dont know what well i still bang with you hang with you sip drank with you as long as i can sang with you like',\n",
       " 'this shit my favorite song you just dont know the words but i still fuck with you you just aint never heard it go like count that stack pop that cap then down that jack all my niggas hit that zan and all my ladies bob that back this my jam this my jam this my jam this my jam im bout that jam im bout that jam im bout that jam im bout that jam this my jam this my jam this my jam this my jam im bout that jam im bout that jam im bout that jam im bout that jam',\n",
       " 'this shit my favorite song you just dont know the words but i still fuck with you you just aint never heard it go like count that stack pop that cap then down that jack all my niggas hit that zan and all my ladies bob that back this my jam this my jam this my jam this my jam im bout that jam im bout that jam im bout that jam im bout that jam this my jam this my jam this my jam this my jam im bout that jam im bout that jam im bout that jam im bout that jam',\n",
       " '',\n",
       " 'whats better than tripping is falling in love whats better than letterman leno fallon and all the above whats better than popping bottles trying to ball in the club is the first caveman pops with his son ball and a club whats better than paper is ballin it up whats better than followers is actually fallin in love whats better than frolicking follies fallin in mud rolling in green pastures wanderin followin love whats better than eating is feeding your fam whats better than meetings is missing meetings to meet with your fam whats better than leaning and needing a xan is hitting your zan dreaming a dream could mean leaving the land whats better than yelling is hollerin love whats better than rhymes nickels dimes and dollars and dubs is dialing up your darling just for callin her up it aint nothing better than fallin in love igh',\n",
       " 'ive seen it come back back back and forth you hit the nail right on top of the head i know youve seen it all before but when it looks you in the eyes it aint nothin you could say but thats love thats love thats love thats love say thats love thats lo o ove thats love thats love thats love thats love i love you love you i love you lo o ove i love you love you i love you lo o ove i love you love you i love you lo o ove i love you love you i love you lo o ove i love you thats love thats loooo o o ove thats love say thats love thats love thats love thats love thats love thats love']"
      ]
     },
     "execution_count": 11,
     "metadata": {},
     "output_type": "execute_result"
    }
   ],
   "source": [
    "verses[:10]"
   ]
  },
  {
   "cell_type": "code",
   "execution_count": 12,
   "metadata": {
    "ExecuteTime": {
     "end_time": "2018-08-23T23:49:41.908269Z",
     "start_time": "2018-08-23T23:49:41.904080Z"
    }
   },
   "outputs": [
    {
     "data": {
      "text/plain": [
       "'eddy scissorhands is workin on my linin gettin spiffy for these bitches i be eyeing fredward mercury'"
      ]
     },
     "execution_count": 12,
     "metadata": {},
     "output_type": "execute_result"
    }
   ],
   "source": [
    "all_verses_all_rappers = ','.join(verses)\n",
    "\n",
    "all_verses_all_rappers[:100]"
   ]
  },
  {
   "cell_type": "code",
   "execution_count": 13,
   "metadata": {
    "ExecuteTime": {
     "end_time": "2018-08-23T23:49:41.912470Z",
     "start_time": "2018-08-23T23:49:41.909960Z"
    }
   },
   "outputs": [],
   "source": [
    "file = all_verses_all_rappers"
   ]
  },
  {
   "cell_type": "code",
   "execution_count": 14,
   "metadata": {
    "ExecuteTime": {
     "end_time": "2018-08-23T23:49:41.919583Z",
     "start_time": "2018-08-23T23:49:41.914422Z"
    }
   },
   "outputs": [
    {
     "name": "stdout",
     "output_type": "stream",
     "text": [
      "file_len = 186806\n"
     ]
    }
   ],
   "source": [
    "# Read in text and change unicode characters to ASCII\n",
    "import unidecode\n",
    "import string\n",
    "import random\n",
    "import re\n",
    "\n",
    "all_characters = string.printable\n",
    "n_characters = len(all_characters)\n",
    "\n",
    "file_len = len(file)\n",
    "print(f'file_len = {file_len}')"
   ]
  },
  {
   "cell_type": "code",
   "execution_count": 15,
   "metadata": {
    "ExecuteTime": {
     "end_time": "2018-08-23T23:49:41.925586Z",
     "start_time": "2018-08-23T23:49:41.921447Z"
    }
   },
   "outputs": [
    {
     "name": "stdout",
     "output_type": "stream",
     "text": [
      "nt be im getting artsy fartsy house full of some hebru brantleys you must ve missed the come up i must be all i can be call me mister mufasa i had to master stampedes,i made it through made it through made it through and everything i gave to you i gave to you i gave to you you got it you got it you got it its coming coming coming coming so are you ready are you ready,are you ready for your blessing\n"
     ]
    }
   ],
   "source": [
    "chunk_len = 400\n",
    "\n",
    "def random_chunk():\n",
    "    start_index = random.randint(0, file_len - chunk_len)\n",
    "    end_index = start_index + chunk_len + 1\n",
    "    return file[start_index:end_index]\n",
    "\n",
    "print(random_chunk())"
   ]
  },
  {
   "cell_type": "code",
   "execution_count": 16,
   "metadata": {
    "ExecuteTime": {
     "end_time": "2018-08-23T23:49:42.263635Z",
     "start_time": "2018-08-23T23:49:41.927364Z"
    }
   },
   "outputs": [],
   "source": [
    "import torch\n",
    "import torch.nn as nn\n",
    "from torch.autograd import Variable\n",
    "import torch.nn.functional as F\n",
    "\n",
    "class RNN(nn.Module):\n",
    "    def __init__(self, input_size, hidden_size, output_size, n_layers=1):\n",
    "        super(RNN, self).__init__()\n",
    "        self.input_size = input_size\n",
    "        self.hidden_size = hidden_size\n",
    "        self.output_size = output_size\n",
    "        self.n_layers = n_layers\n",
    "        \n",
    "        self.encoder = nn.Embedding(input_size, hidden_size)\n",
    "        self.gru = nn.GRU(hidden_size, hidden_size, n_layers)\n",
    "        self.decoder = nn.Linear(hidden_size, output_size)\n",
    "        \n",
    "    def forward(self, input, hidden):\n",
    "        output = self.encoder(input.view(1, -1))\n",
    "        output, hidden = self.gru(output.view(1, 1, -1), hidden)\n",
    "        output = self.decoder(output.view(1, -1))\n",
    "        \n",
    "        return output, hidden\n",
    "    \n",
    "    def init_hidden(self):\n",
    "        return Variable(torch.randn(self.n_layers, 1, self.hidden_size))"
   ]
  },
  {
   "cell_type": "code",
   "execution_count": 17,
   "metadata": {
    "ExecuteTime": {
     "end_time": "2018-08-23T23:49:42.281408Z",
     "start_time": "2018-08-23T23:49:42.265966Z"
    }
   },
   "outputs": [
    {
     "name": "stdout",
     "output_type": "stream",
     "text": [
      "tensor([48, 14, 29, 18, 28,  0,  1,  2,  3, 10, 11, 12, 35, 36, 37, 38])\n"
     ]
    }
   ],
   "source": [
    "def char2tensor(string):\n",
    "    tensor = torch.zeros(len(string)).long()\n",
    "    for char in range(len(string)):\n",
    "        if string[char] in all_characters:\n",
    "            tensor[char] = all_characters.index(string[char])\n",
    "        else:\n",
    "            tensor[char] = 94 #predict space if character unknown\n",
    "        \n",
    "    return Variable(tensor)\n",
    "\n",
    "# Let's see it in action.\n",
    "print(char2tensor('Metis0123abczABC'))"
   ]
  },
  {
   "cell_type": "code",
   "execution_count": 18,
   "metadata": {
    "ExecuteTime": {
     "end_time": "2018-08-23T23:49:42.287607Z",
     "start_time": "2018-08-23T23:49:42.283698Z"
    }
   },
   "outputs": [],
   "source": [
    "def random_training_set():\n",
    "    chunk = random_chunk()\n",
    "    inp = char2tensor(chunk[:-1])\n",
    "    target = char2tensor(chunk[1:])\n",
    "    return inp, target"
   ]
  },
  {
   "cell_type": "code",
   "execution_count": 19,
   "metadata": {
    "ExecuteTime": {
     "end_time": "2018-08-23T23:49:42.305743Z",
     "start_time": "2018-08-23T23:49:42.291534Z"
    }
   },
   "outputs": [],
   "source": [
    "def evaluate(model, prime_str='A', predict_len=100, temperature=0.8):\n",
    "    \n",
    "    hidden = model.init_hidden()\n",
    "    prime_input = char2tensor(prime_str)\n",
    "    predicted = prime_str\n",
    "    \n",
    "    # use priming string to build up hidden state\n",
    "    \n",
    "    for p in range(len(prime_str) - 1):\n",
    "        _, hidden = model(prime_input[p], hidden)\n",
    "    inp = prime_input[-1]\n",
    "    \n",
    "    for p in range(predict_len):\n",
    "        output, hidden = model(inp, hidden)\n",
    "        \n",
    "        # Sample from the network as a multinomial distribution\n",
    "        output_dist = output.data.view(-1).div(temperature).exp()\n",
    "        top_i = torch.multinomial(output_dist, 1)[0]\n",
    "        \n",
    "        # Add predicted character to string and use as next input\n",
    "        predicted_char = all_characters[top_i]\n",
    "        predicted += predicted_char\n",
    "        inp = char2tensor(predicted_char)\n",
    "        \n",
    "    return predicted"
   ]
  },
  {
   "cell_type": "code",
   "execution_count": 20,
   "metadata": {
    "ExecuteTime": {
     "end_time": "2018-08-23T23:49:42.313114Z",
     "start_time": "2018-08-23T23:49:42.308570Z"
    }
   },
   "outputs": [],
   "source": [
    "# helper function\n",
    "import time, math\n",
    "\n",
    "def time_since(since):\n",
    "    s = time.time() - since\n",
    "    m = math.floor(s/60)\n",
    "    s -= m*60\n",
    "    return '%dm %ds' % (m, s)"
   ]
  },
  {
   "cell_type": "code",
   "execution_count": 21,
   "metadata": {
    "ExecuteTime": {
     "end_time": "2018-08-23T23:49:42.324079Z",
     "start_time": "2018-08-23T23:49:42.315746Z"
    }
   },
   "outputs": [],
   "source": [
    "# The actual training part\n",
    "def train(inp, target):\n",
    "    hidden = model.init_hidden()\n",
    "    model.zero_grad()\n",
    "    loss = 0\n",
    "\n",
    "    for char in range(chunk_len):\n",
    "        output, hidden = model(inp[char], hidden)\n",
    "        loss += criterion(output, target[char].unsqueeze(0))\n",
    "\n",
    "    loss.backward()\n",
    "    model_optimizer.step()\n",
    "\n",
    "    return loss.data.item() / chunk_len"
   ]
  },
  {
   "cell_type": "code",
   "execution_count": 22,
   "metadata": {
    "ExecuteTime": {
     "end_time": "2018-08-24T00:02:58.809051Z",
     "start_time": "2018-08-23T23:49:42.327773Z"
    }
   },
   "outputs": [
    {
     "name": "stdout",
     "output_type": "stream",
     "text": [
      "[1m 12s (100 10%) 2.2498]\n",
      "A huthe kromy nots mons no th you sh i munt slou ond the hoas thorgato the mar the no a plis mim oll t \n",
      "\n",
      "[2m 27s (200 20%) 2.0760]\n",
      "A mnike i lint thees so minne up in veak s.in i giing yom bite for i a jusce i betk thace you mith i y \n",
      "\n",
      "[3m 43s (300 30%) 1.7567]\n",
      "A now in a i caus mupleis m stoum is in aid you god id herey the for a but bup whers my pave whing i g \n",
      "\n",
      "[5m 9s (400 40%) 1.8638]\n",
      "A stall your spights wondais ulleveed i llave thike thats there have cul a love you loke day whore a l \n",
      "\n",
      "[6m 33s (500 50%) 1.7541]\n",
      "A bere cown warties the pack the was im you rapper with you im im buckin the shoigh in jukee dant my d \n",
      "\n",
      "[7m 43s (600 60%) 1.6438]\n",
      "A i may in i rib shit to be slike or gott i she lope the folk it it you cell my girth little a let tro \n",
      "\n",
      "[9m 0s (700 70%) 1.4189]\n",
      "A know i got just mofying shoke dont bitch is up off her out pent preffour monhing toiler that its my  \n",
      "\n",
      "[10m 14s (800 80%) 1.8162]\n",
      "A its anothing fuck a got here the much i fuck you and anotha lammoke fuck yo styole reveryno i dont s \n",
      "\n",
      "[11m 53s (900 90%) 1.7623]\n",
      "A the harged ass go the niggas shake the lugs marydain the latche it aint got many can i and be e coul \n",
      "\n",
      "[13m 16s (1000 100%) 1.7269]\n",
      "A do the with all get you we money what chatch rin i do the rapping it roll a gun still said i should  \n",
      "\n"
     ]
    }
   ],
   "source": [
    "# parameters\n",
    "n_epochs = 1000\n",
    "print_every = 100\n",
    "plot_every = 10\n",
    "hidden_size = 256\n",
    "n_layers = 2\n",
    "learning_rate = 0.001\n",
    "\n",
    "# model declaration\n",
    "model = RNN(n_characters, hidden_size, n_characters, n_layers)\n",
    "model_optimizer = torch.optim.Adam(model.parameters(), lr=learning_rate)\n",
    "criterion = nn.CrossEntropyLoss()\n",
    "\n",
    "start = time.time()\n",
    "all_losses = []\n",
    "loss_avg = 0\n",
    "\n",
    "for epoch in range(1, n_epochs + 1):\n",
    "    loss = train(*random_training_set())       \n",
    "    loss_avg += loss\n",
    "\n",
    "    if epoch % print_every == 0:\n",
    "        print('[%s (%d %d%%) %.4f]' % (time_since(start), epoch, epoch / n_epochs * 100, loss))\n",
    "        print(evaluate(model, 'A ', 100), '\\n')\n",
    "\n",
    "    if epoch % plot_every == 0:\n",
    "        all_losses.append(loss_avg / plot_every)\n",
    "        loss_avg = 0"
   ]
  },
  {
   "cell_type": "code",
   "execution_count": 23,
   "metadata": {
    "ExecuteTime": {
     "end_time": "2018-08-24T00:02:58.972438Z",
     "start_time": "2018-08-24T00:02:58.811697Z"
    }
   },
   "outputs": [
    {
     "data": {
      "text/plain": [
       "[<matplotlib.lines.Line2D at 0x1a200c9dd8>]"
      ]
     },
     "execution_count": 23,
     "metadata": {},
     "output_type": "execute_result"
    },
    {
     "data": {
      "image/png": "[encoded data removed]",
      "text/plain": [
       "<Figure size 432x288 with 1 Axes>"
      ]
     },
     "metadata": {},
     "output_type": "display_data"
    }
   ],
   "source": [
    "import matplotlib.pyplot as plt\n",
    "import matplotlib.ticker as ticker\n",
    "%matplotlib inline\n",
    "\n",
    "plt.figure()\n",
    "plt.plot(all_losses)"
   ]
  },
  {
   "cell_type": "code",
   "execution_count": 30,
   "metadata": {
    "ExecuteTime": {
     "end_time": "2018-08-24T00:03:04.524927Z",
     "start_time": "2018-08-24T00:03:04.503759Z"
    }
   },
   "outputs": [],
   "source": [
    "with open('models/chance_rnn_generator.pkl', 'wb') as picklefile:\n",
    "    pickle.dump(model, picklefile)"
   ]
  },
  {
   "cell_type": "code",
   "execution_count": 24,
   "metadata": {
    "ExecuteTime": {
     "end_time": "2018-08-24T00:02:59.141092Z",
     "start_time": "2018-08-24T00:02:58.975047Z"
    }
   },
   "outputs": [
    {
     "name": "stdout",
     "output_type": "stream",
     "text": [
      "To be or not to be: to more the ready home we dont do the see daddy the dont the dont so so its ready and the same and the do the dont do the sunderse to the same dont do the orden me friend in the same do the same drugs\n"
     ]
    }
   ],
   "source": [
    "# Evaluate model from this notebook\n",
    "print(evaluate(model, 'To be or not to be: ', predict_len=200, temperature=0.5))"
   ]
  },
  {
   "cell_type": "code",
   "execution_count": 25,
   "metadata": {
    "ExecuteTime": {
     "end_time": "2018-08-24T00:02:59.315653Z",
     "start_time": "2018-08-24T00:02:59.143391Z"
    }
   },
   "outputs": [
    {
     "name": "stdout",
     "output_type": "stream",
     "text": [
      "I miss you girl come back of the ready say a some and the day day i can she dont dont need a scell drugs we dont no me a call ready it so miss all with a dont we dont dont do the more again i miss my man and the ware i need a \n"
     ]
    }
   ],
   "source": [
    "# Evaluate model from this notebook\n",
    "print(evaluate(model, 'I miss you girl come back ', predict_len=200, temperature=0.5))"
   ]
  },
  {
   "cell_type": "code",
   "execution_count": 26,
   "metadata": {
    "ExecuteTime": {
     "end_time": "2018-08-24T00:02:59.484930Z",
     "start_time": "2018-08-24T00:02:59.318232Z"
    }
   },
   "outputs": [
    {
     "name": "stdout",
     "output_type": "stream",
     "text": [
      "Started from the bottome you still and to the same that say in the fucked probably fuck you same dont do the past i dont do the dang what the same that say the got the gotta say in the for to be more to the same a miss do t\n"
     ]
    }
   ],
   "source": [
    "# Evaluate model from this notebook\n",
    "print(evaluate(model, \"Started from the bottom\", predict_len=200, temperature=0.4))"
   ]
  },
  {
   "cell_type": "code",
   "execution_count": 27,
   "metadata": {
    "ExecuteTime": {
     "end_time": "2018-08-24T00:02:59.649232Z",
     "start_time": "2018-08-24T00:02:59.487673Z"
    }
   },
   "outputs": [
    {
     "name": "stdout",
     "output_type": "stream",
     "text": [
      "I'm the realest rapper alive was to the same ready to the same and talk with me to the we do the day same a dont do the praise hit to the ring we dont do the same dont do the same the rest same we dont way she dont down the same\n"
     ]
    }
   ],
   "source": [
    "# Evaluate model from this notebook\n",
    "print(evaluate(model, \"I'm the realest rapper alive\", predict_len=200, temperature=0.4))"
   ]
  },
  {
   "cell_type": "code",
   "execution_count": 28,
   "metadata": {
    "ExecuteTime": {
     "end_time": "2018-08-24T00:02:59.826231Z",
     "start_time": "2018-08-24T00:02:59.651503Z"
    }
   },
   "outputs": [
    {
     "name": "stdout",
     "output_type": "stream",
     "text": [
      "Smoke a lot of weed and do the day in the round i dont do the dont wanna dont do the sade a way i dont no for a we dont do the same drugs do the same and was a christ no better the same a care to me and here fall i dont\n"
     ]
    }
   ],
   "source": [
    "# Evaluate model from this notebook\n",
    "print(evaluate(model, \"Smoke a lot of weed\", predict_len=200, temperature=0.4))"
   ]
  },
  {
   "cell_type": "code",
   "execution_count": 29,
   "metadata": {
    "ExecuteTime": {
     "end_time": "2018-08-24T00:02:59.992748Z",
     "start_time": "2018-08-24T00:02:59.828949Z"
    }
   },
   "outputs": [
    {
     "name": "stdout",
     "output_type": "stream",
     "text": [
      "Baby come i more whats no dont do the dont do the say the peal out my more my famo to the mire a came to the know the same and the said you same and the same to the blunt the same the got here fuck the past we\n"
     ]
    }
   ],
   "source": [
    "# Evaluate model from this notebook\n",
    "print(evaluate(model, \"Baby come\", predict_len=200, temperature=0.4))"
   ]
  },
  {
   "cell_type": "code",
   "execution_count": null,
   "metadata": {},
   "outputs": [],
   "source": []
  }
 ],
 "metadata": {
  "kernelspec": {
   "display_name": "Python 3",
   "language": "python",
   "name": "python3"
  },
  "language_info": {
   "codemirror_mode": {
    "name": "ipython",
    "version": 3
   },
   "file_extension": ".py",
   "mimetype": "text/x-python",
   "name": "python",
   "nbconvert_exporter": "python",
   "pygments_lexer": "ipython3",
   "version": "3.6.6"
  },
  "varInspector": {
   "cols": {
    "lenName": 16,
    "lenType": 16,
    "lenVar": 40
   },
   "kernels_config": {
    "python": {
     "delete_cmd_postfix": "",
     "delete_cmd_prefix": "del ",
     "library": "var_list.py",
     "varRefreshCmd": "print(var_dic_list())"
    },
    "r": {
     "delete_cmd_postfix": ") ",
     "delete_cmd_prefix": "rm(",
     "library": "var_list.r",
     "varRefreshCmd": "cat(var_dic_list()) "
    }
   },
   "types_to_exclude": [
    "module",
    "function",
    "builtin_function_or_method",
    "instance",
    "_Feature"
   ],
   "window_display": false
  }
 },
 "nbformat": 4,
 "nbformat_minor": 2
}
