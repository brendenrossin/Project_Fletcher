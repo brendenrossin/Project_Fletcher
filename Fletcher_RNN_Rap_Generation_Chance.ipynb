{
 "cells": [
  {
   "cell_type": "code",
   "execution_count": 31,
   "metadata": {
    "ExecuteTime": {
     "end_time": "2018-08-24T01:57:22.722708Z",
     "start_time": "2018-08-24T01:57:22.695137Z"
    }
   },
   "outputs": [],
   "source": [
    "import pandas as pd\n",
    "import random\n",
    "from time import sleep\n",
    "import warnings\n",
    "warnings.filterwarnings(\"ignore\",category=DeprecationWarning)\n",
    "import numpy as np\n",
    "import nltk\n",
    "import os\n",
    "from sklearn import datasets\n",
    "import pickle\n",
    "from nltk.tokenize import word_tokenize\n",
    "from sklearn.decomposition import NMF, TruncatedSVD\n",
    "import matplotlib.pyplot as plt\n",
    "import seaborn as sns\n",
    "from sklearn.decomposition import LatentDirichletAllocation\n",
    "from sklearn.neighbors import NearestNeighbors\n",
    "from sklearn.cross_validation import train_test_split, cross_val_score\n",
    "from sklearn.linear_model import RidgeCV\n",
    "from sklearn.pipeline import make_pipeline, Pipeline\n",
    "from sklearn.preprocessing import PolynomialFeatures, StandardScaler\n",
    "from sklearn.neighbors import KNeighborsClassifier\n",
    "from sklearn.linear_model import LogisticRegression\n",
    "from sklearn.metrics import accuracy_score, recall_score, precision_score, f1_score, roc_auc_score, roc_curve, auc, fbeta_score\n",
    "from sklearn.model_selection import learning_curve, KFold, GridSearchCV, cross_val_score\n",
    "from sklearn.naive_bayes import GaussianNB, MultinomialNB\n",
    "from sklearn.svm import SVC\n",
    "from sklearn.tree import DecisionTreeClassifier\n",
    "from sklearn.ensemble import RandomForestClassifier, GradientBoostingClassifier\n",
    "from sklearn.dummy import DummyClassifier\n",
    "from collections import Counter\n",
    "from sklearn.feature_extraction.text import TfidfTransformer, CountVectorizer, TfidfVectorizer\n",
    "from sklearn.feature_extraction import text\n",
    "from sklearn.preprocessing import normalize\n",
    "import re\n",
    "from unidecode import unidecode\n",
    "\n",
    "import matplotlib.style as style\n",
    "%matplotlib inline\n",
    "plt.style.use('ggplot')"
   ]
  },
  {
   "cell_type": "code",
   "execution_count": 32,
   "metadata": {
    "ExecuteTime": {
     "end_time": "2018-08-24T01:57:22.743620Z",
     "start_time": "2018-08-24T01:57:22.725209Z"
    }
   },
   "outputs": [],
   "source": [
    "with open('data/cleaned_df.pkl', 'rb') as picklefile:\n",
    "    df = pickle.load(picklefile)"
   ]
  },
  {
   "cell_type": "code",
   "execution_count": 33,
   "metadata": {
    "ExecuteTime": {
     "end_time": "2018-08-24T01:57:22.758262Z",
     "start_time": "2018-08-24T01:57:22.745504Z"
    }
   },
   "outputs": [
    {
     "data": {
      "text/html": [
       "<div>\n",
       "<style scoped>\n",
       "    .dataframe tbody tr th:only-of-type {\n",
       "        vertical-align: middle;\n",
       "    }\n",
       "\n",
       "    .dataframe tbody tr th {\n",
       "        vertical-align: top;\n",
       "    }\n",
       "\n",
       "    .dataframe thead th {\n",
       "        text-align: right;\n",
       "    }\n",
       "</style>\n",
       "<table border=\"1\" class=\"dataframe\">\n",
       "  <thead>\n",
       "    <tr style=\"text-align: right;\">\n",
       "      <th></th>\n",
       "      <th>song_owner</th>\n",
       "      <th>song_title</th>\n",
       "      <th>song_element</th>\n",
       "      <th>verse</th>\n",
       "      <th>artist</th>\n",
       "    </tr>\n",
       "  </thead>\n",
       "  <tbody>\n",
       "    <tr>\n",
       "      <th>0</th>\n",
       "      <td>Childish Gambino</td>\n",
       "      <td>This Is America</td>\n",
       "      <td>[Bridge: Childish Gambino &amp; Young Thug]</td>\n",
       "      <td>We just wanna party, Party just for you, We ju...</td>\n",
       "      <td>Childish Gambino</td>\n",
       "    </tr>\n",
       "    <tr>\n",
       "      <th>1</th>\n",
       "      <td>Childish Gambino</td>\n",
       "      <td>This Is America</td>\n",
       "      <td>[Chorus: Childish Gambino]</td>\n",
       "      <td>This is America, Don't catch you slippin' now,...</td>\n",
       "      <td>Childish Gambino</td>\n",
       "    </tr>\n",
       "    <tr>\n",
       "      <th>2</th>\n",
       "      <td>Childish Gambino</td>\n",
       "      <td>This Is America</td>\n",
       "      <td>[Verse 1: Childish Gambino, Blocboy JB, Slim J...</td>\n",
       "      <td>This is America (skrrt, skrrt, woo), Don't cat...</td>\n",
       "      <td>Childish Gambino</td>\n",
       "    </tr>\n",
       "    <tr>\n",
       "      <th>3</th>\n",
       "      <td>Childish Gambino</td>\n",
       "      <td>This Is America</td>\n",
       "      <td>[Refrain: Choir &amp; Childish Gambino]</td>\n",
       "      <td>Ooh-ooh-ooh-ooh-ooh, tell somebody, You go tel...</td>\n",
       "      <td>Childish Gambino</td>\n",
       "    </tr>\n",
       "    <tr>\n",
       "      <th>4</th>\n",
       "      <td>Childish Gambino</td>\n",
       "      <td>This Is America</td>\n",
       "      <td>[Chorus: Childish Gambino, Slim Jxmmi &amp; Young ...</td>\n",
       "      <td>This is America (woo, ayy), Don't catch you sl...</td>\n",
       "      <td>Childish Gambino</td>\n",
       "    </tr>\n",
       "  </tbody>\n",
       "</table>\n",
       "</div>"
      ],
      "text/plain": [
       "         song_owner       song_title  \\\n",
       "0  Childish Gambino  This Is America   \n",
       "1  Childish Gambino  This Is America   \n",
       "2  Childish Gambino  This Is America   \n",
       "3  Childish Gambino  This Is America   \n",
       "4  Childish Gambino  This Is America   \n",
       "\n",
       "                                        song_element  \\\n",
       "0            [Bridge: Childish Gambino & Young Thug]   \n",
       "1                         [Chorus: Childish Gambino]   \n",
       "2  [Verse 1: Childish Gambino, Blocboy JB, Slim J...   \n",
       "3                [Refrain: Choir & Childish Gambino]   \n",
       "4  [Chorus: Childish Gambino, Slim Jxmmi & Young ...   \n",
       "\n",
       "                                               verse            artist  \n",
       "0  We just wanna party, Party just for you, We ju...  Childish Gambino  \n",
       "1  This is America, Don't catch you slippin' now,...  Childish Gambino  \n",
       "2  This is America (skrrt, skrrt, woo), Don't cat...  Childish Gambino  \n",
       "3  Ooh-ooh-ooh-ooh-ooh, tell somebody, You go tel...  Childish Gambino  \n",
       "4  This is America (woo, ayy), Don't catch you sl...  Childish Gambino  "
      ]
     },
     "execution_count": 33,
     "metadata": {},
     "output_type": "execute_result"
    }
   ],
   "source": [
    "df.head()"
   ]
  },
  {
   "cell_type": "code",
   "execution_count": 34,
   "metadata": {
    "ExecuteTime": {
     "end_time": "2018-08-24T01:57:22.767885Z",
     "start_time": "2018-08-24T01:57:22.760497Z"
    }
   },
   "outputs": [],
   "source": [
    "model_df = df.copy()\n",
    "\n",
    "model_df = model_df[model_df['artist'] == 'Chance the Rapper']"
   ]
  },
  {
   "cell_type": "code",
   "execution_count": 35,
   "metadata": {
    "ExecuteTime": {
     "end_time": "2018-08-24T01:57:23.029827Z",
     "start_time": "2018-08-24T01:57:22.770439Z"
    }
   },
   "outputs": [],
   "source": [
    "model_df['verse_words'] = model_df['verse'].copy()\n",
    "model_df['verse_words'] = model_df['verse_words'].str.lower()\n",
    "model_df['verse_words'] = model_df['verse_words'].apply(lambda x: x.replace(',',''))\n",
    "model_df['verse_words'] = model_df['verse_words'].apply(lambda x: x.split(' '))"
   ]
  },
  {
   "cell_type": "code",
   "execution_count": 36,
   "metadata": {
    "ExecuteTime": {
     "end_time": "2018-08-24T01:57:23.051285Z",
     "start_time": "2018-08-24T01:57:23.032037Z"
    }
   },
   "outputs": [
    {
     "data": {
      "text/html": [
       "<div>\n",
       "<style scoped>\n",
       "    .dataframe tbody tr th:only-of-type {\n",
       "        vertical-align: middle;\n",
       "    }\n",
       "\n",
       "    .dataframe tbody tr th {\n",
       "        vertical-align: top;\n",
       "    }\n",
       "\n",
       "    .dataframe thead th {\n",
       "        text-align: right;\n",
       "    }\n",
       "</style>\n",
       "<table border=\"1\" class=\"dataframe\">\n",
       "  <thead>\n",
       "    <tr style=\"text-align: right;\">\n",
       "      <th></th>\n",
       "      <th>song_owner</th>\n",
       "      <th>song_title</th>\n",
       "      <th>song_element</th>\n",
       "      <th>verse</th>\n",
       "      <th>artist</th>\n",
       "      <th>verse_words</th>\n",
       "    </tr>\n",
       "  </thead>\n",
       "  <tbody>\n",
       "    <tr>\n",
       "      <th>316</th>\n",
       "      <td>Childish Gambino</td>\n",
       "      <td>They Don't Like Me</td>\n",
       "      <td>[Verse 1: Chance The Rapper]</td>\n",
       "      <td>Eddy Scissorhands is workin' on my linin', Get...</td>\n",
       "      <td>Chance the Rapper</td>\n",
       "      <td>[eddy, scissorhands, is, workin', on, my, lini...</td>\n",
       "    </tr>\n",
       "    <tr>\n",
       "      <th>793</th>\n",
       "      <td>Childish Gambino</td>\n",
       "      <td>The Worst Guys (Live at Governor’s Ball)</td>\n",
       "      <td>[Verse 2: Chance The Rapper]</td>\n",
       "      <td>You are the prototype, I love you like you lov...</td>\n",
       "      <td>Chance the Rapper</td>\n",
       "      <td>[you, are, the, prototype, i, love, you, like,...</td>\n",
       "    </tr>\n",
       "    <tr>\n",
       "      <th>824</th>\n",
       "      <td>Chance The Rapper</td>\n",
       "      <td>Favorite Song</td>\n",
       "      <td>[Verse 1: Chance The Rapper]</td>\n",
       "      <td>Chance, acid rapper, soccer, hacky sacker, Coc...</td>\n",
       "      <td>Chance the Rapper</td>\n",
       "      <td>[chance, acid, rapper, soccer, hacky, sacker, ...</td>\n",
       "    </tr>\n",
       "    <tr>\n",
       "      <th>825</th>\n",
       "      <td>Chance The Rapper</td>\n",
       "      <td>Favorite Song</td>\n",
       "      <td>[Chorus: Chance The Rapper]</td>\n",
       "      <td>This shit my favorite song, you just don't kno...</td>\n",
       "      <td>Chance the Rapper</td>\n",
       "      <td>[this, shit, my, favorite, song, you, just, do...</td>\n",
       "    </tr>\n",
       "    <tr>\n",
       "      <th>826</th>\n",
       "      <td>Chance The Rapper</td>\n",
       "      <td>Favorite Song</td>\n",
       "      <td>[Verse 2: Chance The Rapper]</td>\n",
       "      <td>Young Rascal Flatts - young ass kid ass could ...</td>\n",
       "      <td>Chance the Rapper</td>\n",
       "      <td>[young, rascal, flatts, -, young, ass, kid, as...</td>\n",
       "    </tr>\n",
       "  </tbody>\n",
       "</table>\n",
       "</div>"
      ],
      "text/plain": [
       "            song_owner                                song_title  \\\n",
       "316   Childish Gambino                        They Don't Like Me   \n",
       "793   Childish Gambino  The Worst Guys (Live at Governor’s Ball)   \n",
       "824  Chance The Rapper                             Favorite Song   \n",
       "825  Chance The Rapper                             Favorite Song   \n",
       "826  Chance The Rapper                             Favorite Song   \n",
       "\n",
       "                     song_element  \\\n",
       "316  [Verse 1: Chance The Rapper]   \n",
       "793  [Verse 2: Chance The Rapper]   \n",
       "824  [Verse 1: Chance The Rapper]   \n",
       "825   [Chorus: Chance The Rapper]   \n",
       "826  [Verse 2: Chance The Rapper]   \n",
       "\n",
       "                                                 verse             artist  \\\n",
       "316  Eddy Scissorhands is workin' on my linin', Get...  Chance the Rapper   \n",
       "793  You are the prototype, I love you like you lov...  Chance the Rapper   \n",
       "824  Chance, acid rapper, soccer, hacky sacker, Coc...  Chance the Rapper   \n",
       "825  This shit my favorite song, you just don't kno...  Chance the Rapper   \n",
       "826  Young Rascal Flatts - young ass kid ass could ...  Chance the Rapper   \n",
       "\n",
       "                                           verse_words  \n",
       "316  [eddy, scissorhands, is, workin', on, my, lini...  \n",
       "793  [you, are, the, prototype, i, love, you, like,...  \n",
       "824  [chance, acid, rapper, soccer, hacky, sacker, ...  \n",
       "825  [this, shit, my, favorite, song, you, just, do...  \n",
       "826  [young, rascal, flatts, -, young, ass, kid, as...  "
      ]
     },
     "execution_count": 36,
     "metadata": {},
     "output_type": "execute_result"
    }
   ],
   "source": [
    "model_df.head()"
   ]
  },
  {
   "cell_type": "code",
   "execution_count": 37,
   "metadata": {
    "ExecuteTime": {
     "end_time": "2018-08-24T01:57:23.322517Z",
     "start_time": "2018-08-24T01:57:23.053636Z"
    }
   },
   "outputs": [],
   "source": [
    "from nltk.tokenize import word_tokenize\n",
    "model_df['tokenize_verse'] = model_df['verse'].copy()\n",
    "model_df['tokenize_verse'] = model_df['tokenize_verse'].str.lower()\n",
    "model_df['tokenize_verse'] = model_df['tokenize_verse'].apply(lambda x: word_tokenize(x))"
   ]
  },
  {
   "cell_type": "code",
   "execution_count": 38,
   "metadata": {
    "ExecuteTime": {
     "end_time": "2018-08-24T01:57:23.362546Z",
     "start_time": "2018-08-24T01:57:23.324957Z"
    }
   },
   "outputs": [],
   "source": [
    "model_df['verse'] = model_df['verse'].str.lower()\n",
    "model_df['verse'] = model_df['verse'].apply(lambda x: x.replace(\"'\",''))\n",
    "model_df['verse'] = model_df['verse'].apply(lambda x: \"\".join([c if c.isalnum() else \" \" for c in x ]))\n",
    "model_df['verse'] = model_df['verse'].apply(lambda x: x.replace('  ',' '))"
   ]
  },
  {
   "cell_type": "code",
   "execution_count": 39,
   "metadata": {
    "ExecuteTime": {
     "end_time": "2018-08-24T01:57:23.475417Z",
     "start_time": "2018-08-24T01:57:23.365373Z"
    }
   },
   "outputs": [
    {
     "data": {
      "text/plain": [
       "316    eddy scissorhands is workin on my linin gettin...\n",
       "793    you are the prototype i love you like you love...\n",
       "824    chance acid rapper soccer hacky sacker cocky k...\n",
       "825    this shit my favorite song you just dont know ...\n",
       "826    young rascal flatts young ass kid ass could ra...\n",
       "Name: verse, dtype: object"
      ]
     },
     "execution_count": 39,
     "metadata": {},
     "output_type": "execute_result"
    }
   ],
   "source": [
    "stopwords = [\"yeah\", \"uh\", \"huh\", \"aw\", \"oh\", \"la\", \"ayy\",\n",
    "            \"na\", \"ha\", \"ay\", \"skrrt\",\n",
    "            \"em\", \"bla\", \"woo\", \"wu\", \"ya\", \"wala\", \"woop\", \"wrarrr\", \"ooh\",\n",
    "            \"ba\", \"duh\", \"du\", \"1\", \"2\", \"3\", \"4\" ,\"5\" ,\"6\", \"7\", \"8\", \"9\", \"0\"]\n",
    "\n",
    "for index, row in model_df.iterrows():\n",
    "    querywords = row['verse'].split()\n",
    "\n",
    "    resultwords  = [word for word in querywords if word.lower() not in stopwords]\n",
    "    row['verse'] = ' '.join(resultwords)\n",
    "\n",
    "model_df.verse[:5]"
   ]
  },
  {
   "cell_type": "code",
   "execution_count": 40,
   "metadata": {
    "ExecuteTime": {
     "end_time": "2018-08-24T01:57:23.481613Z",
     "start_time": "2018-08-24T01:57:23.478056Z"
    }
   },
   "outputs": [],
   "source": [
    "verses = list(model_df.verse.values)"
   ]
  },
  {
   "cell_type": "code",
   "execution_count": 41,
   "metadata": {
    "ExecuteTime": {
     "end_time": "2018-08-24T01:57:23.491160Z",
     "start_time": "2018-08-24T01:57:23.485421Z"
    }
   },
   "outputs": [
    {
     "data": {
      "text/plain": [
       "['eddy scissorhands is workin on my linin gettin spiffy for these bitches i be eyeing fredward mercury was playin while im ridin down the ryan in a scion and im flyin but its cool i got insurance on the run because i got warrants but its cool i got endurance in school i got suspended but in turn i got some earnings couldve spent it all on thursday but i saved it for my parents but i spent a bit on friday in the night i hang with donald im tired of mcdonalds want a chick that cook chicano that cant speak a lick of english and pronounce my name like chano she say something something spanish i look back like bitch i know tonight imma make decisions for life take some lucys boomers dark liq and light some might drive thats that shit right there that i dont like there that shit just had to say shouts to the niggas that passed away and shots for the niggas thats here right now and shots at the niggas that got away so sad to say but its all good niggas gon celebrate and wait for the day and wait for the day shit detonate with alize like live from the chi its saturday night',\n",
       " 'you are the prototype i love you like you love your photo likes when you post your life some of these hoes just wanna instagram me you out here trying to win you an instagrammy instant pancakes in the morning aunt jemima try to andre benjamin me im sorry ms jackson but your daughter do dicks wouldnt be my old bitch if you taught her new tricks but she do do the one thing with her tongue ring when she bust like a gun range i had a couple pics record her out her panties but thats just chump change she the type of bitch that loves to say shes mixed but when she say the roster she always say black last you know what it is and you know who it is i love you with your black ass everything that you did mean everything you my bitch did everything all you needed was some dick shorty',\n",
       " 'chance acid rapper soccer hacky sacker cocky khaki jacket jacker slap happy faggot slapper iraqi rocket launcher shake that laffy taffy jolly raunchy rapper dang dang dang skeet skeet skeet she do that thing for three retweets the album feel like 92 now take that ball fore he three peat chance ho acid cruising on that lsd asked joseph about my deal he looked back said hell lets eat',\n",
       " 'this shit my favorite song you just dont know the words but i still fuck with you you just aint never heard it go like count that stack pop that cap then down that jack all my niggas hit that zan and all my ladies bob that back this my jam this my jam this my jam this my jam im bout that jam im bout that jam im bout that jam im bout that jam this my jam this my jam this my jam this my jam im bout that jam im bout that jam im bout that jam im bout that jam',\n",
       " 'young rascal flatts young ass kid ass could rap fuck all the faculty tobacco packing acrobat back to back packin bags back and forth with fifths of jack and fourths of weed im back to pack on hands with young cletus to pat my back real nigga with a nose ring thats right just here to rap them songs rag on my hair wrap weed in vegas rockin vagabonds sang a song you dont know what well i still bang with you hang with you sip drank with you as long as i can sang with you like',\n",
       " 'this shit my favorite song you just dont know the words but i still fuck with you you just aint never heard it go like count that stack pop that cap then down that jack all my niggas hit that zan and all my ladies bob that back this my jam this my jam this my jam this my jam im bout that jam im bout that jam im bout that jam im bout that jam this my jam this my jam this my jam this my jam im bout that jam im bout that jam im bout that jam im bout that jam',\n",
       " 'this shit my favorite song you just dont know the words but i still fuck with you you just aint never heard it go like count that stack pop that cap then down that jack all my niggas hit that zan and all my ladies bob that back this my jam this my jam this my jam this my jam im bout that jam im bout that jam im bout that jam im bout that jam this my jam this my jam this my jam this my jam im bout that jam im bout that jam im bout that jam im bout that jam',\n",
       " '',\n",
       " 'whats better than tripping is falling in love whats better than letterman leno fallon and all the above whats better than popping bottles trying to ball in the club is the first caveman pops with his son ball and a club whats better than paper is ballin it up whats better than followers is actually fallin in love whats better than frolicking follies fallin in mud rolling in green pastures wanderin followin love whats better than eating is feeding your fam whats better than meetings is missing meetings to meet with your fam whats better than leaning and needing a xan is hitting your zan dreaming a dream could mean leaving the land whats better than yelling is hollerin love whats better than rhymes nickels dimes and dollars and dubs is dialing up your darling just for callin her up it aint nothing better than fallin in love igh',\n",
       " 'ive seen it come back back back and forth you hit the nail right on top of the head i know youve seen it all before but when it looks you in the eyes it aint nothin you could say but thats love thats love thats love thats love say thats love thats lo o ove thats love thats love thats love thats love i love you love you i love you lo o ove i love you love you i love you lo o ove i love you love you i love you lo o ove i love you love you i love you lo o ove i love you thats love thats loooo o o ove thats love say thats love thats love thats love thats love thats love thats love']"
      ]
     },
     "execution_count": 41,
     "metadata": {},
     "output_type": "execute_result"
    }
   ],
   "source": [
    "verses[:10]"
   ]
  },
  {
   "cell_type": "code",
   "execution_count": 42,
   "metadata": {
    "ExecuteTime": {
     "end_time": "2018-08-24T01:57:23.500703Z",
     "start_time": "2018-08-24T01:57:23.494017Z"
    }
   },
   "outputs": [
    {
     "data": {
      "text/plain": [
       "'eddy scissorhands is workin on my linin gettin spiffy for these bitches i be eyeing fredward mercury'"
      ]
     },
     "execution_count": 42,
     "metadata": {},
     "output_type": "execute_result"
    }
   ],
   "source": [
    "all_verses_all_rappers = ','.join(verses)\n",
    "\n",
    "all_verses_all_rappers[:100]"
   ]
  },
  {
   "cell_type": "code",
   "execution_count": 43,
   "metadata": {
    "ExecuteTime": {
     "end_time": "2018-08-24T01:57:23.506431Z",
     "start_time": "2018-08-24T01:57:23.503533Z"
    }
   },
   "outputs": [],
   "source": [
    "file = all_verses_all_rappers"
   ]
  },
  {
   "cell_type": "code",
   "execution_count": 44,
   "metadata": {
    "ExecuteTime": {
     "end_time": "2018-08-24T01:57:23.514653Z",
     "start_time": "2018-08-24T01:57:23.509380Z"
    }
   },
   "outputs": [
    {
     "name": "stdout",
     "output_type": "stream",
     "text": [
      "file_len = 186806\n"
     ]
    }
   ],
   "source": [
    "# Read in text and change unicode characters to ASCII\n",
    "import unidecode\n",
    "import string\n",
    "import random\n",
    "import re\n",
    "\n",
    "all_characters = string.printable\n",
    "n_characters = len(all_characters)\n",
    "\n",
    "file_len = len(file)\n",
    "print(f'file_len = {file_len}')"
   ]
  },
  {
   "cell_type": "code",
   "execution_count": 45,
   "metadata": {
    "ExecuteTime": {
     "end_time": "2018-08-24T01:57:23.525439Z",
     "start_time": "2018-08-24T01:57:23.518412Z"
    }
   },
   "outputs": [
    {
     "name": "stdout",
     "output_type": "stream",
     "text": [
      "anding still i wont be moved how used to do when,i was a rock i was a rock and roller back in my day back in my day but now im just a rock i was a rock i was a rock i was a rock and roller back in my day back in my day but now im just a rock i was a rock i was a rock i was a rock and roller back in my day back in my day but now im just a rock i was a rock i was a rock and roller back in my day back\n"
     ]
    }
   ],
   "source": [
    "chunk_len = 400\n",
    "\n",
    "def random_chunk():\n",
    "    start_index = random.randint(0, file_len - chunk_len)\n",
    "    end_index = start_index + chunk_len + 1\n",
    "    return file[start_index:end_index]\n",
    "\n",
    "print(random_chunk())"
   ]
  },
  {
   "cell_type": "code",
   "execution_count": 46,
   "metadata": {
    "ExecuteTime": {
     "end_time": "2018-08-24T01:57:23.547388Z",
     "start_time": "2018-08-24T01:57:23.529341Z"
    }
   },
   "outputs": [],
   "source": [
    "import torch\n",
    "import torch.nn as nn\n",
    "from torch.autograd import Variable\n",
    "import torch.nn.functional as F\n",
    "\n",
    "class RNN(nn.Module):\n",
    "    def __init__(self, input_size, hidden_size, output_size, n_layers=1):\n",
    "        super(RNN, self).__init__()\n",
    "        self.input_size = input_size\n",
    "        self.hidden_size = hidden_size\n",
    "        self.output_size = output_size\n",
    "        self.n_layers = n_layers\n",
    "        \n",
    "        self.encoder = nn.Embedding(input_size, hidden_size)\n",
    "        self.gru = nn.GRU(hidden_size, hidden_size, n_layers)\n",
    "        self.decoder = nn.Linear(hidden_size, output_size)\n",
    "        \n",
    "    def forward(self, input, hidden):\n",
    "        output = self.encoder(input.view(1, -1))\n",
    "        output, hidden = self.gru(output.view(1, 1, -1), hidden)\n",
    "        output = self.decoder(output.view(1, -1))\n",
    "        \n",
    "        return output, hidden\n",
    "    \n",
    "    def init_hidden(self):\n",
    "        return Variable(torch.randn(self.n_layers, 1, self.hidden_size))"
   ]
  },
  {
   "cell_type": "code",
   "execution_count": 47,
   "metadata": {
    "ExecuteTime": {
     "end_time": "2018-08-24T01:57:23.559173Z",
     "start_time": "2018-08-24T01:57:23.550259Z"
    }
   },
   "outputs": [
    {
     "name": "stdout",
     "output_type": "stream",
     "text": [
      "tensor([48, 14, 29, 18, 28,  0,  1,  2,  3, 10, 11, 12, 35, 36, 37, 38])\n"
     ]
    }
   ],
   "source": [
    "def char2tensor(string):\n",
    "    tensor = torch.zeros(len(string)).long()\n",
    "    for char in range(len(string)):\n",
    "        if string[char] in all_characters:\n",
    "            tensor[char] = all_characters.index(string[char])\n",
    "        else:\n",
    "            tensor[char] = 94 #predict space if character unknown\n",
    "        \n",
    "    return Variable(tensor)\n",
    "\n",
    "# Let's see it in action.\n",
    "print(char2tensor('Metis0123abczABC'))"
   ]
  },
  {
   "cell_type": "code",
   "execution_count": 48,
   "metadata": {
    "ExecuteTime": {
     "end_time": "2018-08-24T01:57:23.565568Z",
     "start_time": "2018-08-24T01:57:23.561779Z"
    }
   },
   "outputs": [],
   "source": [
    "def random_training_set():\n",
    "    chunk = random_chunk()\n",
    "    inp = char2tensor(chunk[:-1])\n",
    "    target = char2tensor(chunk[1:])\n",
    "    return inp, target"
   ]
  },
  {
   "cell_type": "code",
   "execution_count": 49,
   "metadata": {
    "ExecuteTime": {
     "end_time": "2018-08-24T01:57:23.581810Z",
     "start_time": "2018-08-24T01:57:23.568177Z"
    }
   },
   "outputs": [],
   "source": [
    "def evaluate(model, prime_str='A', predict_len=100, temperature=0.8):\n",
    "    \n",
    "    hidden = model.init_hidden()\n",
    "    prime_input = char2tensor(prime_str)\n",
    "    predicted = prime_str\n",
    "    \n",
    "    # use priming string to build up hidden state\n",
    "    \n",
    "    for p in range(len(prime_str) - 1):\n",
    "        _, hidden = model(prime_input[p], hidden)\n",
    "    inp = prime_input[-1]\n",
    "    \n",
    "    for p in range(predict_len):\n",
    "        output, hidden = model(inp, hidden)\n",
    "        \n",
    "        # Sample from the network as a multinomial distribution\n",
    "        output_dist = output.data.view(-1).div(temperature).exp()\n",
    "        top_i = torch.multinomial(output_dist, 1)[0]\n",
    "        \n",
    "        # Add predicted character to string and use as next input\n",
    "        predicted_char = all_characters[top_i]\n",
    "        predicted += predicted_char\n",
    "        inp = char2tensor(predicted_char)\n",
    "        \n",
    "    return predicted"
   ]
  },
  {
   "cell_type": "code",
   "execution_count": 50,
   "metadata": {
    "ExecuteTime": {
     "end_time": "2018-08-24T01:57:23.589387Z",
     "start_time": "2018-08-24T01:57:23.584433Z"
    }
   },
   "outputs": [],
   "source": [
    "# helper function\n",
    "import time, math\n",
    "\n",
    "def time_since(since):\n",
    "    s = time.time() - since\n",
    "    m = math.floor(s/60)\n",
    "    s -= m*60\n",
    "    return '%dm %ds' % (m, s)"
   ]
  },
  {
   "cell_type": "code",
   "execution_count": 51,
   "metadata": {
    "ExecuteTime": {
     "end_time": "2018-08-24T01:57:23.599693Z",
     "start_time": "2018-08-24T01:57:23.592093Z"
    }
   },
   "outputs": [],
   "source": [
    "# The actual training part\n",
    "def train(inp, target):\n",
    "    hidden = model.init_hidden()\n",
    "    model.zero_grad()\n",
    "    loss = 0\n",
    "\n",
    "    for char in range(chunk_len):\n",
    "        output, hidden = model(inp[char], hidden)\n",
    "        loss += criterion(output, target[char].unsqueeze(0))\n",
    "\n",
    "    loss.backward()\n",
    "    model_optimizer.step()\n",
    "\n",
    "    return loss.data.item() / chunk_len"
   ]
  },
  {
   "cell_type": "code",
   "execution_count": 52,
   "metadata": {
    "ExecuteTime": {
     "end_time": "2018-08-24T01:57:23.607149Z",
     "start_time": "2018-08-24T01:57:23.602320Z"
    }
   },
   "outputs": [],
   "source": [
    "# # parameters\n",
    "# n_epochs = 1000\n",
    "# print_every = 100\n",
    "# plot_every = 10\n",
    "# hidden_size = 256\n",
    "# n_layers = 2\n",
    "# learning_rate = 0.001\n",
    "\n",
    "# # model declaration\n",
    "# model = RNN(n_characters, hidden_size, n_characters, n_layers)\n",
    "# model_optimizer = torch.optim.Adam(model.parameters(), lr=learning_rate)\n",
    "# criterion = nn.CrossEntropyLoss()\n",
    "\n",
    "# start = time.time()\n",
    "# all_losses = []\n",
    "# loss_avg = 0\n",
    "\n",
    "# for epoch in range(1, n_epochs + 1):\n",
    "#     loss = train(*random_training_set())       \n",
    "#     loss_avg += loss\n",
    "\n",
    "#     if epoch % print_every == 0:\n",
    "#         print('[%s (%d %d%%) %.4f]' % (time_since(start), epoch, epoch / n_epochs * 100, loss))\n",
    "#         print(evaluate(model, 'A ', 100), '\\n')\n",
    "\n",
    "#     if epoch % plot_every == 0:\n",
    "#         all_losses.append(loss_avg / plot_every)\n",
    "#         loss_avg = 0"
   ]
  },
  {
   "cell_type": "code",
   "execution_count": 53,
   "metadata": {
    "ExecuteTime": {
     "end_time": "2018-08-24T01:57:23.612958Z",
     "start_time": "2018-08-24T01:57:23.609769Z"
    }
   },
   "outputs": [],
   "source": [
    "# import matplotlib.pyplot as plt\n",
    "# import matplotlib.ticker as ticker\n",
    "# %matplotlib inline\n",
    "\n",
    "# plt.figure()\n",
    "# plt.plot(all_losses)"
   ]
  },
  {
   "cell_type": "code",
   "execution_count": 54,
   "metadata": {
    "ExecuteTime": {
     "end_time": "2018-08-24T01:57:23.619080Z",
     "start_time": "2018-08-24T01:57:23.616314Z"
    }
   },
   "outputs": [],
   "source": [
    "# with open('models/chance_rnn_generator.pkl', 'wb') as picklefile:\n",
    "#     pickle.dump(model, picklefile)"
   ]
  },
  {
   "cell_type": "code",
   "execution_count": 55,
   "metadata": {
    "ExecuteTime": {
     "end_time": "2018-08-24T01:57:23.760966Z",
     "start_time": "2018-08-24T01:57:23.621595Z"
    }
   },
   "outputs": [
    {
     "name": "stdout",
     "output_type": "stream",
     "text": [
      "To be or not to be: a love him the praise a good the same drugs good i fucked no bout wanna the kids even in the ready the better to the way the all your more a dream i dont do the gotta same a cresse i come and we dont \n"
     ]
    }
   ],
   "source": [
    "# Evaluate model from this notebook\n",
    "print(evaluate(model, 'To be or not to be: ', predict_len=200, temperature=0.5))"
   ]
  },
  {
   "cell_type": "code",
   "execution_count": 56,
   "metadata": {
    "ExecuteTime": {
     "end_time": "2018-08-24T01:57:23.899282Z",
     "start_time": "2018-08-24T01:57:23.763417Z"
    }
   },
   "outputs": [
    {
     "name": "stdout",
     "output_type": "stream",
     "text": [
      "I miss you girl come back i dont on the passings to the ready save to me summer came the dont do the dont so work in the same we dont do the same you to stay and the same drugs dont do the all a cready a fucking with the care \n"
     ]
    }
   ],
   "source": [
    "# Evaluate model from this notebook\n",
    "print(evaluate(model, 'I miss you girl come back ', predict_len=200, temperature=0.5))"
   ]
  },
  {
   "cell_type": "code",
   "execution_count": 57,
   "metadata": {
    "ExecuteTime": {
     "end_time": "2018-08-24T01:57:24.077480Z",
     "start_time": "2018-08-24T01:57:23.901972Z"
    }
   },
   "outputs": [
    {
     "name": "stdout",
     "output_type": "stream",
     "text": [
      "Started from the bottom on the niggas of the same and you say the dont do the same drugs dont all we dont do what here the got the was the say dont do the day the praise you ready to the sade you got stay the for the same a\n"
     ]
    }
   ],
   "source": [
    "# Evaluate model from this notebook\n",
    "print(evaluate(model, \"Started from the bottom\", predict_len=200, temperature=0.4))"
   ]
  },
  {
   "cell_type": "code",
   "execution_count": 58,
   "metadata": {
    "ExecuteTime": {
     "end_time": "2018-08-24T01:57:24.208504Z",
     "start_time": "2018-08-24T01:57:24.080173Z"
    }
   },
   "outputs": [
    {
     "name": "stdout",
     "output_type": "stream",
     "text": [
      "I'm the realest rapper alive math i way no more the more to the same the same you and in the rain cells dont do the better with the same for the blessings on the same drugs on the fuck you good i dont the way the ready a call th\n"
     ]
    }
   ],
   "source": [
    "# Evaluate model from this notebook\n",
    "print(evaluate(model, \"I'm the realest rapper alive\", predict_len=200, temperature=0.4))"
   ]
  },
  {
   "cell_type": "code",
   "execution_count": 59,
   "metadata": {
    "ExecuteTime": {
     "end_time": "2018-08-24T01:57:24.365918Z",
     "start_time": "2018-08-24T01:57:24.210456Z"
    }
   },
   "outputs": [
    {
     "name": "stdout",
     "output_type": "stream",
     "text": [
      "Smoke a lot of weed in the ready so the same did the same you could the same with of miss the got she got the dont do the same drugs no more we dont do the fam to the we dont do the dont say she dont to the dont need a \n"
     ]
    }
   ],
   "source": [
    "# Evaluate model from this notebook\n",
    "print(evaluate(model, \"Smoke a lot of weed\", predict_len=200, temperature=0.4))"
   ]
  },
  {
   "cell_type": "code",
   "execution_count": 60,
   "metadata": {
    "ExecuteTime": {
     "end_time": "2018-08-24T01:57:24.517835Z",
     "start_time": "2018-08-24T01:57:24.368096Z"
    }
   },
   "outputs": [
    {
     "name": "stdout",
     "output_type": "stream",
     "text": [
      "Baby come for you scare and in the hate house a with you tone wait no do the dont do the same drugs to the am the same to the round the ready than i got we dont do the got the rapper to the more you same you a\n"
     ]
    }
   ],
   "source": [
    "# Evaluate model from this notebook\n",
    "print(evaluate(model, \"Baby come\", predict_len=200, temperature=0.4))"
   ]
  },
  {
   "cell_type": "code",
   "execution_count": 61,
   "metadata": {
    "ExecuteTime": {
     "end_time": "2018-08-24T01:57:27.358330Z",
     "start_time": "2018-08-24T01:57:24.520372Z"
    }
   },
   "outputs": [
    {
     "data": {
      "text/plain": [
       "['I miss you girl come back i dont we dont do the fucked a i dont we dont need a same dont do the same the dont get so do the same the hate do the same my niggas a call of the back we dont do the curse with the so got no birth h',\n",
       " 'To be or not to be: it do the same drugs so mama ring to i aint wend i wape to the ready on the back do the say no bent you same a christ you care to the be dont do the same drugs dont a dont do the part ready i say dont',\n",
       " 'Started from the bottome the had funny way i dont do the do the same than the got the ass and i got more i dont do the same your for i more and you really say it dont do the same drug my for you talk out i all the ready on ',\n",
       " \"I'm the realest rapper alive with you and i got i burned in the ready to smoke and the ready same a care to the dont do the same drugs to the gon see of the grown ring ready with your pet to so we dont do the we dont do the do t\",\n",
       " 'Smoke a lot of weed the praying a dont do the ring a burned to the care take you got no bom more way the baby all ready the wait me so mama call do the same i aint when in the perest i dont gon the trugs the for at a al',\n",
       " 'Baby come i need lice and a but the feel a like a way and the same do the red with your feel the same the dont got a same a drugs no dont do the we do the more and in a call hole and the with im a plast my fal',\n",
       " 'Date a scientist on the same what the for my faving porth the more a fucked of the same i need a still we dont need i dont do the got that do the same tryna aint need to do the say me the way in my for you i asa the ',\n",
       " 'Butter my biscuit may and fore i dont do the ready on the same dont wanna the dont dont a shit you say the same same a wait wanna do the dont do the same a care from bom more all to do the same a drinder fire and the ',\n",
       " 'Scramble my call the was a burned summer i wanne a do the more you dont dont dont we do the dont no way the same drugs do the perse come the we dont do the same a rought when the same and a for the say i more you',\n",
       " 'I sleep in the way i can a and im on the more i dont do the same same do the first we do the burned all to the say drought the on the got a gonna the problem we dont dont do the way the fuck you to the way it',\n",
       " 'Green eggs and and you dont do the hate you to the do the fuck the fall shit the dont do the day the watch i light with a stare so ready here you i dont we dont do the care a can miss im on the pen the sure a praise',\n",
       " 'Rollin in my dont do the are bom botter for for you dont do the same drugs for dont we dont we dont she dont the we dont do the same write the satin to be to the same with so me we drugs to his had the got do the',\n",
       " 'Drop top for me a mind i said your satin mama so good on the round a we dont do the same you take to the more drapper dresse i got more with my more you the say better ho rain cells do the rap come i dont do ',\n",
       " 'Math is fun in the same your we dont do the fall and do the wath you for she got i hate way it fan it could to me the talk so say let we dont do the part she dont of the sudden of mama so i to the dont good in i',\n",
       " 'Sentences we dont do to the problem with the all the same dide in the dont the same drugs to the way your when for the fame a drugs to the wame do the working dont we dont we know the back all be we dont do th',\n",
       " 'Coffee in the same a feels got the talking we dont get try and the mome we dont dont you gotta same this miss like the same dont do the same the same bof the day said when the im my trunt me and you thing do the r',\n",
       " 'Table that with a hanger say we dont no dont sing i dont wanna do the rain butty from on i dont i dont need a same a way in the same a watch in the part stay if you dont do the same direst dont no more the dont',\n",
       " 'Homies for the same ring to wait we dont do the prom for im on the drugs no the same you fuck i dont do the same dont way and i dont dont do when i got the say the dont do the same a hate my fack i more i d',\n",
       " 'From the streets to the same dryen the top the same the same do the face do the same do the do the same i actie it to the same through the dont do the same chance i and to the same the here do the same that no more m',\n",
       " 'Maseratin on the same dont for the day it we dont i got ove it do the and the same see me and a gon the same your more way do the dont do the was say do the ready i was me for the strue mama so the we dont do',\n",
       " 'Air force one more when we dont no more it all he some we dont the ready for she dont do but the cop to here like we dont do the way the same drought do the same we dont no be with your fall me for and the same al',\n",
       " 'President no more that so me of the same gotta say i miss so the same the dont we dont do the same here a vist to misses dont no verse drop the tone a came do the same a miss mama your bout the she dont to the',\n",
       " 'Trumper and time the am the we dont do the same in here that i dont do the with me rain i do the say to the miss im a like as to say i dont out what your say with do the same and you ready a dont dont do t']"
      ]
     },
     "execution_count": 61,
     "metadata": {},
     "output_type": "execute_result"
    }
   ],
   "source": [
    "prompts = ['I miss you girl come back ', 'To be or not to be: ', \"Started from the bottom\", \"I'm the realest rapper alive\",\n",
    "           \"Smoke a lot of weed\", \"Baby come\", 'Date a scientist', 'Butter my biscuit', 'Scramble my ', 'I sleep ',\n",
    "           'Green eggs and ', 'Rollin in my', 'Drop top', 'Math is fun', 'Sentences', 'Coffee in the', 'Table that',\n",
    "           'Homies', 'From the streets', 'Maserati', 'Air force one', 'President', 'Trump']\n",
    "\n",
    "chance_rnn_verses = []\n",
    "\n",
    "for i in range(len(prompts)):\n",
    "    chance_rnn_verses.append(evaluate(model, prompts[i], predict_len=200, temperature=0.5))\n",
    "    \n",
    "    \n",
    "chance_rnn_verses"
   ]
  },
  {
   "cell_type": "code",
   "execution_count": 62,
   "metadata": {
    "ExecuteTime": {
     "end_time": "2018-08-24T02:04:21.107551Z",
     "start_time": "2018-08-24T02:04:21.103854Z"
    }
   },
   "outputs": [],
   "source": [
    "columns = ['generated_verses']\n",
    "\n",
    "chance_generated_df = pd.DataFrame(chance_rnn_verses, columns=columns)"
   ]
  },
  {
   "cell_type": "code",
   "execution_count": 63,
   "metadata": {
    "ExecuteTime": {
     "end_time": "2018-08-24T02:04:21.442169Z",
     "start_time": "2018-08-24T02:04:21.430980Z"
    }
   },
   "outputs": [
    {
     "data": {
      "text/html": [
       "<div>\n",
       "<style scoped>\n",
       "    .dataframe tbody tr th:only-of-type {\n",
       "        vertical-align: middle;\n",
       "    }\n",
       "\n",
       "    .dataframe tbody tr th {\n",
       "        vertical-align: top;\n",
       "    }\n",
       "\n",
       "    .dataframe thead th {\n",
       "        text-align: right;\n",
       "    }\n",
       "</style>\n",
       "<table border=\"1\" class=\"dataframe\">\n",
       "  <thead>\n",
       "    <tr style=\"text-align: right;\">\n",
       "      <th></th>\n",
       "      <th>generated_verses</th>\n",
       "      <th>artist</th>\n",
       "    </tr>\n",
       "  </thead>\n",
       "  <tbody>\n",
       "    <tr>\n",
       "      <th>0</th>\n",
       "      <td>I miss you girl come back i dont we dont do th...</td>\n",
       "      <td>Chance the Rapper</td>\n",
       "    </tr>\n",
       "    <tr>\n",
       "      <th>1</th>\n",
       "      <td>To be or not to be: it do the same drugs so ma...</td>\n",
       "      <td>Chance the Rapper</td>\n",
       "    </tr>\n",
       "    <tr>\n",
       "      <th>2</th>\n",
       "      <td>Started from the bottome the had funny way i d...</td>\n",
       "      <td>Chance the Rapper</td>\n",
       "    </tr>\n",
       "    <tr>\n",
       "      <th>3</th>\n",
       "      <td>I'm the realest rapper alive with you and i go...</td>\n",
       "      <td>Chance the Rapper</td>\n",
       "    </tr>\n",
       "    <tr>\n",
       "      <th>4</th>\n",
       "      <td>Smoke a lot of weed the praying a dont do the ...</td>\n",
       "      <td>Chance the Rapper</td>\n",
       "    </tr>\n",
       "    <tr>\n",
       "      <th>5</th>\n",
       "      <td>Baby come i need lice and a but the feel a lik...</td>\n",
       "      <td>Chance the Rapper</td>\n",
       "    </tr>\n",
       "    <tr>\n",
       "      <th>6</th>\n",
       "      <td>Date a scientist on the same what the for my f...</td>\n",
       "      <td>Chance the Rapper</td>\n",
       "    </tr>\n",
       "    <tr>\n",
       "      <th>7</th>\n",
       "      <td>Butter my biscuit may and fore i dont do the r...</td>\n",
       "      <td>Chance the Rapper</td>\n",
       "    </tr>\n",
       "    <tr>\n",
       "      <th>8</th>\n",
       "      <td>Scramble my call the was a burned summer i wan...</td>\n",
       "      <td>Chance the Rapper</td>\n",
       "    </tr>\n",
       "    <tr>\n",
       "      <th>9</th>\n",
       "      <td>I sleep in the way i can a and im on the more ...</td>\n",
       "      <td>Chance the Rapper</td>\n",
       "    </tr>\n",
       "    <tr>\n",
       "      <th>10</th>\n",
       "      <td>Green eggs and and you dont do the hate you to...</td>\n",
       "      <td>Chance the Rapper</td>\n",
       "    </tr>\n",
       "    <tr>\n",
       "      <th>11</th>\n",
       "      <td>Rollin in my dont do the are bom botter for fo...</td>\n",
       "      <td>Chance the Rapper</td>\n",
       "    </tr>\n",
       "    <tr>\n",
       "      <th>12</th>\n",
       "      <td>Drop top for me a mind i said your satin mama ...</td>\n",
       "      <td>Chance the Rapper</td>\n",
       "    </tr>\n",
       "    <tr>\n",
       "      <th>13</th>\n",
       "      <td>Math is fun in the same your we dont do the fa...</td>\n",
       "      <td>Chance the Rapper</td>\n",
       "    </tr>\n",
       "    <tr>\n",
       "      <th>14</th>\n",
       "      <td>Sentences we dont do to the problem with the a...</td>\n",
       "      <td>Chance the Rapper</td>\n",
       "    </tr>\n",
       "    <tr>\n",
       "      <th>15</th>\n",
       "      <td>Coffee in the same a feels got the talking we ...</td>\n",
       "      <td>Chance the Rapper</td>\n",
       "    </tr>\n",
       "    <tr>\n",
       "      <th>16</th>\n",
       "      <td>Table that with a hanger say we dont no dont s...</td>\n",
       "      <td>Chance the Rapper</td>\n",
       "    </tr>\n",
       "    <tr>\n",
       "      <th>17</th>\n",
       "      <td>Homies for the same ring to wait we dont do th...</td>\n",
       "      <td>Chance the Rapper</td>\n",
       "    </tr>\n",
       "    <tr>\n",
       "      <th>18</th>\n",
       "      <td>From the streets to the same dryen the top the...</td>\n",
       "      <td>Chance the Rapper</td>\n",
       "    </tr>\n",
       "    <tr>\n",
       "      <th>19</th>\n",
       "      <td>Maseratin on the same dont for the day it we d...</td>\n",
       "      <td>Chance the Rapper</td>\n",
       "    </tr>\n",
       "    <tr>\n",
       "      <th>20</th>\n",
       "      <td>Air force one more when we dont no more it all...</td>\n",
       "      <td>Chance the Rapper</td>\n",
       "    </tr>\n",
       "    <tr>\n",
       "      <th>21</th>\n",
       "      <td>President no more that so me of the same gotta...</td>\n",
       "      <td>Chance the Rapper</td>\n",
       "    </tr>\n",
       "    <tr>\n",
       "      <th>22</th>\n",
       "      <td>Trumper and time the am the we dont do the sam...</td>\n",
       "      <td>Chance the Rapper</td>\n",
       "    </tr>\n",
       "  </tbody>\n",
       "</table>\n",
       "</div>"
      ],
      "text/plain": [
       "                                     generated_verses             artist\n",
       "0   I miss you girl come back i dont we dont do th...  Chance the Rapper\n",
       "1   To be or not to be: it do the same drugs so ma...  Chance the Rapper\n",
       "2   Started from the bottome the had funny way i d...  Chance the Rapper\n",
       "3   I'm the realest rapper alive with you and i go...  Chance the Rapper\n",
       "4   Smoke a lot of weed the praying a dont do the ...  Chance the Rapper\n",
       "5   Baby come i need lice and a but the feel a lik...  Chance the Rapper\n",
       "6   Date a scientist on the same what the for my f...  Chance the Rapper\n",
       "7   Butter my biscuit may and fore i dont do the r...  Chance the Rapper\n",
       "8   Scramble my call the was a burned summer i wan...  Chance the Rapper\n",
       "9   I sleep in the way i can a and im on the more ...  Chance the Rapper\n",
       "10  Green eggs and and you dont do the hate you to...  Chance the Rapper\n",
       "11  Rollin in my dont do the are bom botter for fo...  Chance the Rapper\n",
       "12  Drop top for me a mind i said your satin mama ...  Chance the Rapper\n",
       "13  Math is fun in the same your we dont do the fa...  Chance the Rapper\n",
       "14  Sentences we dont do to the problem with the a...  Chance the Rapper\n",
       "15  Coffee in the same a feels got the talking we ...  Chance the Rapper\n",
       "16  Table that with a hanger say we dont no dont s...  Chance the Rapper\n",
       "17  Homies for the same ring to wait we dont do th...  Chance the Rapper\n",
       "18  From the streets to the same dryen the top the...  Chance the Rapper\n",
       "19  Maseratin on the same dont for the day it we d...  Chance the Rapper\n",
       "20  Air force one more when we dont no more it all...  Chance the Rapper\n",
       "21  President no more that so me of the same gotta...  Chance the Rapper\n",
       "22  Trumper and time the am the we dont do the sam...  Chance the Rapper"
      ]
     },
     "execution_count": 63,
     "metadata": {},
     "output_type": "execute_result"
    }
   ],
   "source": [
    "chance_generated_df['artist'] = 'Chance the Rapper'\n",
    "\n",
    "chance_generated_df"
   ]
  },
  {
   "cell_type": "code",
   "execution_count": 64,
   "metadata": {
    "ExecuteTime": {
     "end_time": "2018-08-24T02:07:32.981897Z",
     "start_time": "2018-08-24T02:07:32.977833Z"
    }
   },
   "outputs": [],
   "source": [
    "with open('data/chance_generated_raps.pkl', 'wb') as picklefile:\n",
    "    pickle.dump(chance_generated_df, picklefile)"
   ]
  },
  {
   "cell_type": "code",
   "execution_count": null,
   "metadata": {},
   "outputs": [],
   "source": []
  }
 ],
 "metadata": {
  "kernelspec": {
   "display_name": "Python 3",
   "language": "python",
   "name": "python3"
  },
  "language_info": {
   "codemirror_mode": {
    "name": "ipython",
    "version": 3
   },
   "file_extension": ".py",
   "mimetype": "text/x-python",
   "name": "python",
   "nbconvert_exporter": "python",
   "pygments_lexer": "ipython3",
   "version": "3.6.6"
  },
  "varInspector": {
   "cols": {
    "lenName": 16,
    "lenType": 16,
    "lenVar": 40
   },
   "kernels_config": {
    "python": {
     "delete_cmd_postfix": "",
     "delete_cmd_prefix": "del ",
     "library": "var_list.py",
     "varRefreshCmd": "print(var_dic_list())"
    },
    "r": {
     "delete_cmd_postfix": ") ",
     "delete_cmd_prefix": "rm(",
     "library": "var_list.r",
     "varRefreshCmd": "cat(var_dic_list()) "
    }
   },
   "types_to_exclude": [
    "module",
    "function",
    "builtin_function_or_method",
    "instance",
    "_Feature"
   ],
   "window_display": false
  }
 },
 "nbformat": 4,
 "nbformat_minor": 2
}
